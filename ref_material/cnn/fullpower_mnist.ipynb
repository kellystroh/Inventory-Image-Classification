{
 "cells": [
  {
   "cell_type": "code",
   "execution_count": 1,
   "metadata": {},
   "outputs": [],
   "source": [
    "#!pip install scikit-image"
   ]
  },
  {
   "cell_type": "code",
   "execution_count": 2,
   "metadata": {},
   "outputs": [],
   "source": [
    "import tensorflow as tf\n",
    "import numpy as np\n",
    "from matplotlib import pyplot as plt\n",
    "\n",
    "from tensorflow.keras import datasets, layers, models, regularizers, initializers, activations\n",
    "from skimage.io import imshow\n",
    "from skimage.transform import rotate\n",
    "\n",
    "from skimage.io import imshow, imread\n",
    "from skimage.transform import resize\n",
    "from skimage.color import rgb2gray\n",
    "\n",
    "np.random.seed(42)"
   ]
  },
  {
   "cell_type": "code",
   "execution_count": 10,
   "metadata": {},
   "outputs": [],
   "source": [
    "(X_train, y_train), (X_test, y_test) = datasets.mnist.load_data()"
   ]
  },
  {
   "cell_type": "code",
   "execution_count": 11,
   "metadata": {},
   "outputs": [],
   "source": [
    "X_train = np.expand_dims(X_train,3)\n",
    "X_test = np.expand_dims(X_test,3)"
   ]
  },
  {
   "cell_type": "code",
   "execution_count": 14,
   "metadata": {},
   "outputs": [
    {
     "data": {
      "text/plain": [
       "(60000, 28, 28, 1)"
      ]
     },
     "execution_count": 14,
     "metadata": {},
     "output_type": "execute_result"
    }
   ],
   "source": [
    "X_train.shape #every image must have one channels, not no channels"
   ]
  },
  {
   "cell_type": "code",
   "execution_count": 20,
   "metadata": {},
   "outputs": [],
   "source": [
    "model = models.Sequential()\n",
    "model.add(layers.Conv2D(32, (3, 3), activation='relu', \n",
    "                        input_shape=(28, 28, 1)))\n",
    "model.add(layers.MaxPooling2D((2, 2)))\n",
    "model.add(layers.Conv2D(64, (3, 3), activation='relu'))\n",
    "model.add(layers.MaxPooling2D((2, 2)))\n",
    "model.add(layers.Conv2D(64, (3, 3), activation='relu'))"
   ]
  },
  {
   "cell_type": "code",
   "execution_count": 21,
   "metadata": {},
   "outputs": [
    {
     "name": "stdout",
     "output_type": "stream",
     "text": [
      "Model: \"sequential_1\"\n",
      "_________________________________________________________________\n",
      "Layer (type)                 Output Shape              Param #   \n",
      "=================================================================\n",
      "conv2d_3 (Conv2D)            (None, 26, 26, 32)        320       \n",
      "_________________________________________________________________\n",
      "max_pooling2d_2 (MaxPooling2 (None, 13, 13, 32)        0         \n",
      "_________________________________________________________________\n",
      "conv2d_4 (Conv2D)            (None, 11, 11, 64)        18496     \n",
      "_________________________________________________________________\n",
      "max_pooling2d_3 (MaxPooling2 (None, 5, 5, 64)          0         \n",
      "_________________________________________________________________\n",
      "conv2d_5 (Conv2D)            (None, 3, 3, 64)          36928     \n",
      "=================================================================\n",
      "Total params: 55,744\n",
      "Trainable params: 55,744\n",
      "Non-trainable params: 0\n",
      "_________________________________________________________________\n"
     ]
    }
   ],
   "source": [
    "model.summary()"
   ]
  },
  {
   "cell_type": "code",
   "execution_count": 22,
   "metadata": {},
   "outputs": [],
   "source": [
    "model.add(layers.Flatten())\n",
    "model.add(layers.Dense(64, activation='relu'))\n",
    "model.add(layers.Dense(10, activation='softmax'))"
   ]
  },
  {
   "cell_type": "code",
   "execution_count": 25,
   "metadata": {},
   "outputs": [
    {
     "name": "stdout",
     "output_type": "stream",
     "text": [
      "Train on 60000 samples, validate on 10000 samples\n",
      "Epoch 1/10\n",
      " 2848/60000 [>.............................] - ETA: 1:01 - loss: 0.0597 - accuracy: 0.9807"
     ]
    },
    {
     "ename": "KeyboardInterrupt",
     "evalue": "",
     "output_type": "error",
     "traceback": [
      "\u001b[0;31m---------------------------------------------------------------------------\u001b[0m",
      "\u001b[0;31mKeyboardInterrupt\u001b[0m                         Traceback (most recent call last)",
      "\u001b[0;32m<ipython-input-25-2257839f5ef3>\u001b[0m in \u001b[0;36m<module>\u001b[0;34m\u001b[0m\n\u001b[1;32m      3\u001b[0m               metrics=['accuracy'])\n\u001b[1;32m      4\u001b[0m \u001b[0;34m\u001b[0m\u001b[0m\n\u001b[0;32m----> 5\u001b[0;31m \u001b[0mmodel\u001b[0m\u001b[0;34m.\u001b[0m\u001b[0mfit\u001b[0m\u001b[0;34m(\u001b[0m\u001b[0mX_train\u001b[0m\u001b[0;34m,\u001b[0m \u001b[0my_train\u001b[0m\u001b[0;34m,\u001b[0m \u001b[0mepochs\u001b[0m\u001b[0;34m=\u001b[0m\u001b[0;36m10\u001b[0m\u001b[0;34m,\u001b[0m \u001b[0mvalidation_data\u001b[0m\u001b[0;34m=\u001b[0m\u001b[0;34m(\u001b[0m\u001b[0mX_test\u001b[0m\u001b[0;34m,\u001b[0m \u001b[0my_test\u001b[0m\u001b[0;34m)\u001b[0m\u001b[0;34m)\u001b[0m\u001b[0;34m\u001b[0m\u001b[0m\n\u001b[0m",
      "\u001b[0;32m/usr/local/lib/python3.5/dist-packages/tensorflow/python/keras/engine/training.py\u001b[0m in \u001b[0;36mfit\u001b[0;34m(self, x, y, batch_size, epochs, verbose, callbacks, validation_split, validation_data, shuffle, class_weight, sample_weight, initial_epoch, steps_per_epoch, validation_steps, validation_freq, max_queue_size, workers, use_multiprocessing, **kwargs)\u001b[0m\n\u001b[1;32m    871\u001b[0m           \u001b[0mvalidation_steps\u001b[0m\u001b[0;34m=\u001b[0m\u001b[0mvalidation_steps\u001b[0m\u001b[0;34m,\u001b[0m\u001b[0;34m\u001b[0m\u001b[0m\n\u001b[1;32m    872\u001b[0m           \u001b[0mvalidation_freq\u001b[0m\u001b[0;34m=\u001b[0m\u001b[0mvalidation_freq\u001b[0m\u001b[0;34m,\u001b[0m\u001b[0;34m\u001b[0m\u001b[0m\n\u001b[0;32m--> 873\u001b[0;31m           steps_name='steps_per_epoch')\n\u001b[0m\u001b[1;32m    874\u001b[0m \u001b[0;34m\u001b[0m\u001b[0m\n\u001b[1;32m    875\u001b[0m   def evaluate(self,\n",
      "\u001b[0;32m/usr/local/lib/python3.5/dist-packages/tensorflow/python/keras/engine/training_arrays.py\u001b[0m in \u001b[0;36mmodel_iteration\u001b[0;34m(model, inputs, targets, sample_weights, batch_size, epochs, verbose, callbacks, val_inputs, val_targets, val_sample_weights, shuffle, initial_epoch, steps_per_epoch, validation_steps, validation_freq, mode, validation_in_fit, prepared_feed_values_from_dataset, steps_name, **kwargs)\u001b[0m\n\u001b[1;32m    362\u001b[0m         \u001b[0mbatch_logs\u001b[0m \u001b[0;34m=\u001b[0m \u001b[0mcbks\u001b[0m\u001b[0;34m.\u001b[0m\u001b[0mmake_logs\u001b[0m\u001b[0;34m(\u001b[0m\u001b[0mmodel\u001b[0m\u001b[0;34m,\u001b[0m \u001b[0mbatch_logs\u001b[0m\u001b[0;34m,\u001b[0m \u001b[0mbatch_outs\u001b[0m\u001b[0;34m,\u001b[0m \u001b[0mmode\u001b[0m\u001b[0;34m)\u001b[0m\u001b[0;34m\u001b[0m\u001b[0m\n\u001b[1;32m    363\u001b[0m         \u001b[0mcallbacks\u001b[0m\u001b[0;34m.\u001b[0m\u001b[0m_call_batch_hook\u001b[0m\u001b[0;34m(\u001b[0m\u001b[0mmode\u001b[0m\u001b[0;34m,\u001b[0m \u001b[0;34m'end'\u001b[0m\u001b[0;34m,\u001b[0m \u001b[0mbatch_index\u001b[0m\u001b[0;34m,\u001b[0m \u001b[0mbatch_logs\u001b[0m\u001b[0;34m)\u001b[0m\u001b[0;34m\u001b[0m\u001b[0m\n\u001b[0;32m--> 364\u001b[0;31m         \u001b[0mprogbar\u001b[0m\u001b[0;34m.\u001b[0m\u001b[0mon_batch_end\u001b[0m\u001b[0;34m(\u001b[0m\u001b[0mbatch_index\u001b[0m\u001b[0;34m,\u001b[0m \u001b[0mbatch_logs\u001b[0m\u001b[0;34m)\u001b[0m\u001b[0;34m\u001b[0m\u001b[0m\n\u001b[0m\u001b[1;32m    365\u001b[0m \u001b[0;34m\u001b[0m\u001b[0m\n\u001b[1;32m    366\u001b[0m         \u001b[0;32mif\u001b[0m \u001b[0mcallbacks\u001b[0m\u001b[0;34m.\u001b[0m\u001b[0mmodel\u001b[0m\u001b[0;34m.\u001b[0m\u001b[0mstop_training\u001b[0m\u001b[0;34m:\u001b[0m\u001b[0;34m\u001b[0m\u001b[0m\n",
      "\u001b[0;32m/usr/local/lib/python3.5/dist-packages/tensorflow/python/keras/callbacks.py\u001b[0m in \u001b[0;36mon_batch_end\u001b[0;34m(self, batch, logs)\u001b[0m\n\u001b[1;32m    749\u001b[0m     \u001b[0;31m# will be handled by on_epoch_end.\u001b[0m\u001b[0;34m\u001b[0m\u001b[0;34m\u001b[0m\u001b[0m\n\u001b[1;32m    750\u001b[0m     \u001b[0;32mif\u001b[0m \u001b[0mself\u001b[0m\u001b[0;34m.\u001b[0m\u001b[0mverbose\u001b[0m \u001b[0;32mand\u001b[0m \u001b[0;34m(\u001b[0m\u001b[0mself\u001b[0m\u001b[0;34m.\u001b[0m\u001b[0mtarget\u001b[0m \u001b[0;32mis\u001b[0m \u001b[0;32mNone\u001b[0m \u001b[0;32mor\u001b[0m \u001b[0mself\u001b[0m\u001b[0;34m.\u001b[0m\u001b[0mseen\u001b[0m \u001b[0;34m<\u001b[0m \u001b[0mself\u001b[0m\u001b[0;34m.\u001b[0m\u001b[0mtarget\u001b[0m\u001b[0;34m)\u001b[0m\u001b[0;34m:\u001b[0m\u001b[0;34m\u001b[0m\u001b[0m\n\u001b[0;32m--> 751\u001b[0;31m       \u001b[0mself\u001b[0m\u001b[0;34m.\u001b[0m\u001b[0mprogbar\u001b[0m\u001b[0;34m.\u001b[0m\u001b[0mupdate\u001b[0m\u001b[0;34m(\u001b[0m\u001b[0mself\u001b[0m\u001b[0;34m.\u001b[0m\u001b[0mseen\u001b[0m\u001b[0;34m,\u001b[0m \u001b[0mself\u001b[0m\u001b[0;34m.\u001b[0m\u001b[0mlog_values\u001b[0m\u001b[0;34m)\u001b[0m\u001b[0;34m\u001b[0m\u001b[0m\n\u001b[0m\u001b[1;32m    752\u001b[0m \u001b[0;34m\u001b[0m\u001b[0m\n\u001b[1;32m    753\u001b[0m   \u001b[0;32mdef\u001b[0m \u001b[0mon_epoch_end\u001b[0m\u001b[0;34m(\u001b[0m\u001b[0mself\u001b[0m\u001b[0;34m,\u001b[0m \u001b[0mepoch\u001b[0m\u001b[0;34m,\u001b[0m \u001b[0mlogs\u001b[0m\u001b[0;34m=\u001b[0m\u001b[0;32mNone\u001b[0m\u001b[0;34m)\u001b[0m\u001b[0;34m:\u001b[0m\u001b[0;34m\u001b[0m\u001b[0m\n",
      "\u001b[0;32m/usr/local/lib/python3.5/dist-packages/tensorflow/python/keras/utils/generic_utils.py\u001b[0m in \u001b[0;36mupdate\u001b[0;34m(self, current, values)\u001b[0m\n\u001b[1;32m    453\u001b[0m \u001b[0;34m\u001b[0m\u001b[0m\n\u001b[1;32m    454\u001b[0m       \u001b[0msys\u001b[0m\u001b[0;34m.\u001b[0m\u001b[0mstdout\u001b[0m\u001b[0;34m.\u001b[0m\u001b[0mwrite\u001b[0m\u001b[0;34m(\u001b[0m\u001b[0minfo\u001b[0m\u001b[0;34m)\u001b[0m\u001b[0;34m\u001b[0m\u001b[0m\n\u001b[0;32m--> 455\u001b[0;31m       \u001b[0msys\u001b[0m\u001b[0;34m.\u001b[0m\u001b[0mstdout\u001b[0m\u001b[0;34m.\u001b[0m\u001b[0mflush\u001b[0m\u001b[0;34m(\u001b[0m\u001b[0;34m)\u001b[0m\u001b[0;34m\u001b[0m\u001b[0m\n\u001b[0m\u001b[1;32m    456\u001b[0m \u001b[0;34m\u001b[0m\u001b[0m\n\u001b[1;32m    457\u001b[0m     \u001b[0;32melif\u001b[0m \u001b[0mself\u001b[0m\u001b[0;34m.\u001b[0m\u001b[0mverbose\u001b[0m \u001b[0;34m==\u001b[0m \u001b[0;36m2\u001b[0m\u001b[0;34m:\u001b[0m\u001b[0;34m\u001b[0m\u001b[0m\n",
      "\u001b[0;32m/usr/local/lib/python3.5/dist-packages/ipykernel/iostream.py\u001b[0m in \u001b[0;36mflush\u001b[0;34m(self)\u001b[0m\n\u001b[1;32m    347\u001b[0m                 \u001b[0mself\u001b[0m\u001b[0;34m.\u001b[0m\u001b[0mpub_thread\u001b[0m\u001b[0;34m.\u001b[0m\u001b[0mschedule\u001b[0m\u001b[0;34m(\u001b[0m\u001b[0mevt\u001b[0m\u001b[0;34m.\u001b[0m\u001b[0mset\u001b[0m\u001b[0;34m)\u001b[0m\u001b[0;34m\u001b[0m\u001b[0m\n\u001b[1;32m    348\u001b[0m                 \u001b[0;31m# and give a timeout to avoid\u001b[0m\u001b[0;34m\u001b[0m\u001b[0;34m\u001b[0m\u001b[0m\n\u001b[0;32m--> 349\u001b[0;31m                 \u001b[0;32mif\u001b[0m \u001b[0;32mnot\u001b[0m \u001b[0mevt\u001b[0m\u001b[0;34m.\u001b[0m\u001b[0mwait\u001b[0m\u001b[0;34m(\u001b[0m\u001b[0mself\u001b[0m\u001b[0;34m.\u001b[0m\u001b[0mflush_timeout\u001b[0m\u001b[0;34m)\u001b[0m\u001b[0;34m:\u001b[0m\u001b[0;34m\u001b[0m\u001b[0m\n\u001b[0m\u001b[1;32m    350\u001b[0m                     \u001b[0;31m# write directly to __stderr__ instead of warning because\u001b[0m\u001b[0;34m\u001b[0m\u001b[0;34m\u001b[0m\u001b[0m\n\u001b[1;32m    351\u001b[0m                     \u001b[0;31m# if this is happening sys.stderr may be the problem.\u001b[0m\u001b[0;34m\u001b[0m\u001b[0;34m\u001b[0m\u001b[0m\n",
      "\u001b[0;32m/usr/lib/python3.5/threading.py\u001b[0m in \u001b[0;36mwait\u001b[0;34m(self, timeout)\u001b[0m\n\u001b[1;32m    547\u001b[0m             \u001b[0msignaled\u001b[0m \u001b[0;34m=\u001b[0m \u001b[0mself\u001b[0m\u001b[0;34m.\u001b[0m\u001b[0m_flag\u001b[0m\u001b[0;34m\u001b[0m\u001b[0m\n\u001b[1;32m    548\u001b[0m             \u001b[0;32mif\u001b[0m \u001b[0;32mnot\u001b[0m \u001b[0msignaled\u001b[0m\u001b[0;34m:\u001b[0m\u001b[0;34m\u001b[0m\u001b[0m\n\u001b[0;32m--> 549\u001b[0;31m                 \u001b[0msignaled\u001b[0m \u001b[0;34m=\u001b[0m \u001b[0mself\u001b[0m\u001b[0;34m.\u001b[0m\u001b[0m_cond\u001b[0m\u001b[0;34m.\u001b[0m\u001b[0mwait\u001b[0m\u001b[0;34m(\u001b[0m\u001b[0mtimeout\u001b[0m\u001b[0;34m)\u001b[0m\u001b[0;34m\u001b[0m\u001b[0m\n\u001b[0m\u001b[1;32m    550\u001b[0m             \u001b[0;32mreturn\u001b[0m \u001b[0msignaled\u001b[0m\u001b[0;34m\u001b[0m\u001b[0m\n\u001b[1;32m    551\u001b[0m \u001b[0;34m\u001b[0m\u001b[0m\n",
      "\u001b[0;32m/usr/lib/python3.5/threading.py\u001b[0m in \u001b[0;36mwait\u001b[0;34m(self, timeout)\u001b[0m\n\u001b[1;32m    295\u001b[0m             \u001b[0;32melse\u001b[0m\u001b[0;34m:\u001b[0m\u001b[0;34m\u001b[0m\u001b[0m\n\u001b[1;32m    296\u001b[0m                 \u001b[0;32mif\u001b[0m \u001b[0mtimeout\u001b[0m \u001b[0;34m>\u001b[0m \u001b[0;36m0\u001b[0m\u001b[0;34m:\u001b[0m\u001b[0;34m\u001b[0m\u001b[0m\n\u001b[0;32m--> 297\u001b[0;31m                     \u001b[0mgotit\u001b[0m \u001b[0;34m=\u001b[0m \u001b[0mwaiter\u001b[0m\u001b[0;34m.\u001b[0m\u001b[0macquire\u001b[0m\u001b[0;34m(\u001b[0m\u001b[0;32mTrue\u001b[0m\u001b[0;34m,\u001b[0m \u001b[0mtimeout\u001b[0m\u001b[0;34m)\u001b[0m\u001b[0;34m\u001b[0m\u001b[0m\n\u001b[0m\u001b[1;32m    298\u001b[0m                 \u001b[0;32melse\u001b[0m\u001b[0;34m:\u001b[0m\u001b[0;34m\u001b[0m\u001b[0m\n\u001b[1;32m    299\u001b[0m                     \u001b[0mgotit\u001b[0m \u001b[0;34m=\u001b[0m \u001b[0mwaiter\u001b[0m\u001b[0;34m.\u001b[0m\u001b[0macquire\u001b[0m\u001b[0;34m(\u001b[0m\u001b[0;32mFalse\u001b[0m\u001b[0;34m)\u001b[0m\u001b[0;34m\u001b[0m\u001b[0m\n",
      "\u001b[0;31mKeyboardInterrupt\u001b[0m: "
     ]
    }
   ],
   "source": [
    "model.compile(optimizer='adam',\n",
    "              loss='sparse_categorical_crossentropy',\n",
    "              metrics=['accuracy'])\n",
    "\n",
    "model.fit(X_train, y_train, epochs=10, validation_data=(X_test, y_test))"
   ]
  },
  {
   "cell_type": "markdown",
   "metadata": {},
   "source": [
    "## Explore the ouputs of each layer"
   ]
  },
  {
   "cell_type": "code",
   "execution_count": 27,
   "metadata": {},
   "outputs": [],
   "source": [
    "i = 0\n",
    "last_img = X_test[i:i+1]"
   ]
  },
  {
   "cell_type": "code",
   "execution_count": 28,
   "metadata": {},
   "outputs": [],
   "source": [
    "layer_output = [last_img.astype(np.float32)]"
   ]
  },
  {
   "cell_type": "code",
   "execution_count": 29,
   "metadata": {},
   "outputs": [],
   "source": [
    "for layer in model.layers:\n",
    "    output = layer(layer_output[-1])\n",
    "    layer_output.append( output )"
   ]
  },
  {
   "cell_type": "markdown",
   "metadata": {},
   "source": [
    "## Input\n",
    "\n",
    "A single image"
   ]
  },
  {
   "cell_type": "code",
   "execution_count": 30,
   "metadata": {},
   "outputs": [
    {
     "data": {
      "text/plain": [
       "(1, 28, 28, 1)"
      ]
     },
     "execution_count": 30,
     "metadata": {},
     "output_type": "execute_result"
    }
   ],
   "source": [
    "layer_output[0].shape"
   ]
  },
  {
   "cell_type": "code",
   "execution_count": 32,
   "metadata": {},
   "outputs": [
    {
     "data": {
      "text/plain": [
       "<matplotlib.image.AxesImage at 0x7fb6ed4bd630>"
      ]
     },
     "execution_count": 32,
     "metadata": {},
     "output_type": "execute_result"
    },
    {
     "data": {
      "image/png": "[encoded data removed]",
      "text/plain": [
       "<Figure size 432x288 with 2 Axes>"
      ]
     },
     "metadata": {
      "needs_background": "light"
     },
     "output_type": "display_data"
    }
   ],
   "source": [
    "imshow( layer_output[0][0,:,:,0] )"
   ]
  },
  {
   "cell_type": "markdown",
   "metadata": {},
   "source": [
    "## Layer 1: stack of convolutions\n",
    "\n",
    "32 3x3 convolutional kernals, resulting in 32 channels."
   ]
  },
  {
   "cell_type": "code",
   "execution_count": 33,
   "metadata": {},
   "outputs": [
    {
     "data": {
      "text/plain": [
       "TensorShape([1, 26, 26, 32])"
      ]
     },
     "execution_count": 33,
     "metadata": {},
     "output_type": "execute_result"
    }
   ],
   "source": [
    "layer_output[1].shape"
   ]
  },
  {
   "cell_type": "code",
   "execution_count": 34,
   "metadata": {},
   "outputs": [
    {
     "data": {
      "image/png": "[encoded data removed]",
      "text/plain": [
       "<Figure size 720x720 with 25 Axes>"
      ]
     },
     "metadata": {},
     "output_type": "display_data"
    }
   ],
   "source": [
    "nrows, ncols = 5,5\n",
    "fig, axs = plt.subplots(nrows,ncols,  figsize=(10,10))\n",
    "\n",
    "for i in range(nrows):\n",
    "    for j in range(ncols):\n",
    "        ax = axs[i][j]\n",
    "        ax.imshow( layer_output[1][0,:,:,i*ncols+j] )\n",
    "        ax.set_xticks([])\n",
    "        ax.set_yticks([])"
   ]
  },
  {
   "cell_type": "markdown",
   "metadata": {},
   "source": [
    "This layer has learned several 3x3 kernals. We can fetch them using the `get_weights` method of the layer:"
   ]
  },
  {
   "cell_type": "code",
   "execution_count": 35,
   "metadata": {},
   "outputs": [
    {
     "data": {
      "text/plain": [
       "(3, 3, 1, 32)"
      ]
     },
     "execution_count": 35,
     "metadata": {},
     "output_type": "execute_result"
    }
   ],
   "source": [
    "W, b = model.layers[0].get_weights()\n",
    "W.shape"
   ]
  },
  {
   "cell_type": "markdown",
   "metadata": {},
   "source": [
    "Note the shape of the kernal `ndarray` is `(kernal_width, kernal_height, input_channels, n_kernals)`. Because the input is a black-and-white image, the number of input channels is `1`."
   ]
  },
  {
   "cell_type": "markdown",
   "metadata": {},
   "source": [
    "## Layer 2: max pool"
   ]
  },
  {
   "cell_type": "code",
   "execution_count": 36,
   "metadata": {},
   "outputs": [
    {
     "data": {
      "text/plain": [
       "TensorShape([1, 13, 13, 32])"
      ]
     },
     "execution_count": 36,
     "metadata": {},
     "output_type": "execute_result"
    }
   ],
   "source": [
    "layer_output[2].shape"
   ]
  },
  {
   "cell_type": "code",
   "execution_count": 37,
   "metadata": {},
   "outputs": [
    {
     "data": {
      "image/png": "[encoded data removed]",
      "text/plain": [
       "<Figure size 720x720 with 25 Axes>"
      ]
     },
     "metadata": {},
     "output_type": "display_data"
    }
   ],
   "source": [
    "nrows, ncols = 5,5\n",
    "fig, axs = plt.subplots(nrows,ncols,  figsize=(10,10))\n",
    "\n",
    "for i in range(nrows):\n",
    "    for j in range(ncols):\n",
    "        ax = axs[i][j]\n",
    "        ax.imshow( layer_output[2][0,:,:,i*ncols+j] )\n",
    "        ax.set_xticks([])\n",
    "        ax.set_yticks([])"
   ]
  },
  {
   "cell_type": "markdown",
   "metadata": {},
   "source": [
    "## Layer 3: stack of 64 3x3 convolutions\n",
    "\n",
    "Because there are 64 convolutional kernals in this layer, there will be 64 channels of output"
   ]
  },
  {
   "cell_type": "code",
   "execution_count": 38,
   "metadata": {},
   "outputs": [
    {
     "data": {
      "text/plain": [
       "TensorShape([1, 11, 11, 64])"
      ]
     },
     "execution_count": 38,
     "metadata": {},
     "output_type": "execute_result"
    }
   ],
   "source": [
    "layer_output[3].shape"
   ]
  },
  {
   "cell_type": "code",
   "execution_count": 39,
   "metadata": {},
   "outputs": [
    {
     "data": {
      "image/png": "[encoded data removed]",
      "text/plain": [
       "<Figure size 720x720 with 36 Axes>"
      ]
     },
     "metadata": {},
     "output_type": "display_data"
    }
   ],
   "source": [
    "nrows, ncols = 6,6\n",
    "fig, axs = plt.subplots(nrows,ncols,  figsize=(10,10))\n",
    "\n",
    "for i in range(nrows):\n",
    "    for j in range(ncols):\n",
    "        ax = axs[i][j]\n",
    "        ax.imshow( layer_output[3][0,:,:,i*ncols+j] )\n",
    "        ax.set_xticks([])\n",
    "        ax.set_yticks([])"
   ]
  },
  {
   "cell_type": "markdown",
   "metadata": {},
   "source": [
    "If we fetch the convolutional kernals in this layer, we see that each 3x3 kernal is actually an `ndarray` with shape `(3,3,32)`, because it is operating on an 32-channel input. The input has 32 channels because the preceding layer output `32` channels - one corresponding to each kernal in the first convolutional layer."
   ]
  },
  {
   "cell_type": "code",
   "execution_count": 40,
   "metadata": {},
   "outputs": [
    {
     "data": {
      "text/plain": [
       "(3, 3, 32, 64)"
      ]
     },
     "execution_count": 40,
     "metadata": {},
     "output_type": "execute_result"
    }
   ],
   "source": [
    "W, b = model.layers[2].get_weights()\n",
    "\n",
    "W.shape"
   ]
  },
  {
   "cell_type": "markdown",
   "metadata": {},
   "source": [
    "Here's one kernel."
   ]
  },
  {
   "cell_type": "code",
   "execution_count": 41,
   "metadata": {},
   "outputs": [
    {
     "data": {
      "text/plain": [
       "array([[[ 0.03489434, -0.03990328, -0.03061027,  0.05962087,\n",
       "         -0.09204888, -0.04927609,  0.03240266, -0.05976917,\n",
       "          0.01423059, -0.07717857, -0.02902736,  0.05463795,\n",
       "          0.06217898, -0.0867842 , -0.02359391, -0.059401  ,\n",
       "         -0.03890149,  0.01409339,  0.07697841, -0.06941734,\n",
       "         -0.03688232, -0.08213048, -0.0399202 , -0.0926272 ,\n",
       "         -0.03671489, -0.09148266, -0.03357844, -0.07517491,\n",
       "         -0.08400307, -0.064248  ,  0.09103534,  0.04994922],\n",
       "        [-0.05264911,  0.05482015,  0.01409879, -0.05614951,\n",
       "          0.0797658 , -0.09717257, -0.00759603,  0.05963642,\n",
       "         -0.03436856,  0.03841502,  0.03085465, -0.0263702 ,\n",
       "         -0.0132632 ,  0.07722724, -0.0786197 , -0.04025698,\n",
       "          0.06182443,  0.02483477,  0.05962081,  0.00329954,\n",
       "          0.01345851,  0.01645363, -0.03730127,  0.08813729,\n",
       "         -0.02909998,  0.07539593,  0.01362967, -0.05865005,\n",
       "          0.06006134,  0.01567643,  0.07801151, -0.0911823 ],\n",
       "        [ 0.01771703, -0.05811555, -0.0422004 , -0.0139351 ,\n",
       "          0.04942   , -0.09832042,  0.06664557, -0.02400408,\n",
       "         -0.11754943,  0.01181781, -0.04126067,  0.07489996,\n",
       "          0.04286337, -0.00772901, -0.02616887, -0.0706166 ,\n",
       "         -0.07767997, -0.08134664, -0.04116803,  0.00569312,\n",
       "         -0.08948845, -0.01152708,  0.04468407,  0.08425788,\n",
       "         -0.05236363, -0.09653892,  0.0510949 ,  0.00999685,\n",
       "          0.02247534, -0.0436814 , -0.03786099,  0.05062571]],\n",
       "\n",
       "       [[-0.03822437,  0.04761904,  0.03773821, -0.02662473,\n",
       "         -0.02164558, -0.06760924,  0.0300818 ,  0.03407385,\n",
       "         -0.0330976 , -0.05153064,  0.00128536,  0.01931796,\n",
       "         -0.05920305,  0.02705444,  0.03065016,  0.00435118,\n",
       "         -0.0874441 , -0.08167799,  0.07643935, -0.04923305,\n",
       "         -0.03242007, -0.05074978,  0.03236498, -0.0981249 ,\n",
       "          0.02324608, -0.09707011, -0.0458645 ,  0.03878779,\n",
       "          0.04915918,  0.0345711 , -0.07579115, -0.0578753 ],\n",
       "        [-0.05660316, -0.03198716, -0.00866296,  0.05299878,\n",
       "          0.05577532,  0.0111573 ,  0.03837624,  0.01990197,\n",
       "          0.02259853, -0.07327931,  0.03570308, -0.01224978,\n",
       "          0.06516087, -0.07736143,  0.03646279, -0.02347691,\n",
       "          0.04584612, -0.05017831,  0.05522366,  0.084642  ,\n",
       "         -0.035288  , -0.09256095, -0.08526146, -0.08427536,\n",
       "         -0.04352248, -0.00643121, -0.05225438, -0.02414974,\n",
       "         -0.05208208,  0.0855012 , -0.06076882, -0.05348065],\n",
       "        [-0.03901703,  0.02076439,  0.02722633, -0.0705542 ,\n",
       "         -0.04599916, -0.07108299, -0.0219567 , -0.04004598,\n",
       "         -0.22569865,  0.01833915, -0.03589857, -0.00461145,\n",
       "         -0.03025411,  0.06577609, -0.06849834, -0.14559653,\n",
       "          0.01394482, -0.07134108, -0.11103881,  0.04965283,\n",
       "         -0.07353199, -0.0480402 , -0.03532608,  0.02133123,\n",
       "         -0.07206392, -0.00395346,  0.05539614, -0.00675885,\n",
       "          0.03851486,  0.05328903, -0.01031414,  0.08353727]],\n",
       "\n",
       "       [[ 0.01479171, -0.00756023, -0.06159414,  0.06739516,\n",
       "         -0.08875683,  0.00473599, -0.08054522, -0.00995641,\n",
       "          0.04129842,  0.06870246,  0.00474686, -0.05195172,\n",
       "          0.03084399, -0.05456627,  0.01139732,  0.07320114,\n",
       "         -0.05289838, -0.03098335,  0.0611755 , -0.06939464,\n",
       "          0.01079621,  0.0014447 , -0.00986043, -0.09776388,\n",
       "          0.03049154, -0.09460714,  0.03417771, -0.04606887,\n",
       "          0.03988524,  0.04360814,  0.01111891,  0.02642076],\n",
       "        [-0.04605415,  0.0233366 ,  0.04436209, -0.01933449,\n",
       "         -0.02522508, -0.09391387, -0.03110885, -0.0700842 ,\n",
       "          0.05273417,  0.02986103, -0.00938516, -0.09018639,\n",
       "         -0.05711286, -0.02357924,  0.03202072,  0.02983477,\n",
       "         -0.0426761 , -0.03606787, -0.09962315,  0.05635692,\n",
       "         -0.13850173, -0.03448237, -0.02619723,  0.00444988,\n",
       "         -0.04958476,  0.07314782,  0.00263165, -0.0852768 ,\n",
       "         -0.02008739, -0.03839192,  0.0221172 , -0.0130504 ],\n",
       "        [ 0.06718943, -0.00679154,  0.01979459,  0.01501178,\n",
       "         -0.05864927, -0.05128195,  0.00582882, -0.0648068 ,\n",
       "         -0.09829444, -0.01006374, -0.10806017,  0.05503724,\n",
       "         -0.00199769,  0.04140003, -0.06010661, -0.05449251,\n",
       "         -0.04344112,  0.04387472,  0.01955485,  0.04027551,\n",
       "         -0.06412067,  0.01287607, -0.07388314,  0.04895122,\n",
       "         -0.04351782, -0.09218644,  0.03827081,  0.00826412,\n",
       "         -0.07350615,  0.05339023, -0.06388894, -0.04315878]]],\n",
       "      dtype=float32)"
      ]
     },
     "execution_count": 41,
     "metadata": {},
     "output_type": "execute_result"
    }
   ],
   "source": [
    "first_kernel = W[:,:,:,0]\n",
    "first_kernel"
   ]
  },
  {
   "cell_type": "markdown",
   "metadata": {},
   "source": [
    "If we grab a 3-pixel-wide by 3-pixel-tall chunk of the upper-lefthand corner of the preceding layer, grabbing every channel at once:"
   ]
  },
  {
   "cell_type": "code",
   "execution_count": 42,
   "metadata": {},
   "outputs": [
    {
     "data": {
      "text/plain": [
       "array([[[ 0.        ,  0.        ,  0.        ,  0.        ,\n",
       "          0.        ,  0.        ,  0.        ,  0.        ,\n",
       "          0.05228469,  0.10267265,  0.        ,  0.        ,\n",
       "          0.0319722 ,  0.        ,  0.        ,  0.07046383,\n",
       "          0.        ,  0.        ,  0.        ,  0.        ,\n",
       "          0.11325635,  0.        ,  0.        ,  0.04875471,\n",
       "          0.        ,  0.        ,  0.        ,  0.        ,\n",
       "          0.        ,  0.        ,  0.0763222 ,  0.        ],\n",
       "        [ 0.        ,  0.        ,  0.        ,  0.        ,\n",
       "          0.        ,  0.        ,  0.        ,  0.        ,\n",
       "          0.05228469,  0.10267265,  0.        ,  0.        ,\n",
       "          0.0319722 ,  0.        ,  0.        ,  0.07046383,\n",
       "          0.        ,  0.        ,  0.        ,  0.        ,\n",
       "          0.11325635,  0.        ,  0.        ,  0.04875471,\n",
       "          0.        ,  0.        ,  0.        ,  0.        ,\n",
       "          0.        ,  0.        ,  0.0763222 ,  0.        ],\n",
       "        [ 0.        ,  0.        ,  0.        ,  0.        ,\n",
       "          0.        ,  0.        ,  0.        ,  0.        ,\n",
       "          0.05228469,  0.10267265,  0.        ,  0.        ,\n",
       "          0.0319722 ,  0.        ,  0.        ,  0.07046383,\n",
       "          0.        ,  0.        ,  0.        ,  0.        ,\n",
       "          0.11325635,  0.        ,  0.        ,  0.04875471,\n",
       "          0.        ,  0.        ,  0.        ,  0.        ,\n",
       "          0.        ,  0.        ,  0.0763222 ,  0.        ]],\n",
       "\n",
       "       [[ 0.        ,  0.        ,  0.        ,  0.        ,\n",
       "          0.        ,  0.        ,  0.        ,  0.        ,\n",
       "          0.05228469,  0.10267265,  0.        ,  0.        ,\n",
       "          0.0319722 ,  0.        ,  0.        ,  0.07046383,\n",
       "          0.        ,  0.        ,  0.        ,  0.        ,\n",
       "          0.11325635,  0.        ,  0.        ,  0.04875471,\n",
       "          0.        ,  0.        ,  0.        ,  0.        ,\n",
       "          0.        ,  0.        ,  0.0763222 ,  0.        ],\n",
       "        [ 0.        ,  0.        ,  0.        ,  0.        ,\n",
       "          0.        ,  0.        ,  0.        ,  0.        ,\n",
       "          0.05228469,  0.10267265,  0.        ,  0.        ,\n",
       "          0.0319722 ,  0.        ,  0.        ,  0.07046383,\n",
       "          0.        ,  0.        ,  0.        ,  0.        ,\n",
       "          0.11325635,  0.        ,  0.        ,  0.04875471,\n",
       "          0.        ,  0.        ,  0.        ,  0.        ,\n",
       "          0.        ,  0.        ,  0.0763222 ,  0.        ],\n",
       "        [ 0.        ,  0.        ,  0.        ,  0.        ,\n",
       "          0.        ,  0.        ,  0.        ,  0.        ,\n",
       "          0.05228469,  0.10267265,  0.        ,  0.        ,\n",
       "          0.0319722 ,  0.        ,  0.        ,  0.07046383,\n",
       "          0.        ,  0.        ,  0.        ,  0.        ,\n",
       "          0.11325635,  0.        ,  0.        ,  0.04875471,\n",
       "          0.        ,  0.        ,  0.        ,  0.        ,\n",
       "          0.        ,  0.        ,  0.0763222 ,  0.        ]],\n",
       "\n",
       "       [[ 0.        ,  0.        ,  0.        ,  0.        ,\n",
       "          0.        ,  0.        ,  0.        ,  0.        ,\n",
       "          0.05228469,  0.10267265,  0.        ,  0.        ,\n",
       "          0.0319722 ,  0.        ,  0.        ,  0.07046383,\n",
       "          0.        ,  0.        ,  0.        ,  0.        ,\n",
       "          0.11325635,  0.        ,  0.        ,  0.04875471,\n",
       "          0.        ,  0.        ,  0.        ,  0.        ,\n",
       "          0.        ,  0.        ,  0.0763222 ,  0.        ],\n",
       "        [ 0.        ,  0.        ,  0.        ,  0.        ,\n",
       "          0.        ,  0.        ,  0.        ,  0.        ,\n",
       "          0.05228469,  0.10267265,  0.        ,  0.        ,\n",
       "          0.0319722 ,  0.        ,  0.        ,  0.07046383,\n",
       "          0.        ,  0.        ,  0.        ,  0.        ,\n",
       "          0.11325635,  0.        ,  0.        ,  0.04875471,\n",
       "          0.        ,  0.        ,  0.        ,  0.        ,\n",
       "          0.        ,  0.        ,  0.0763222 ,  0.        ],\n",
       "        [10.551132  ,  0.        ,  0.        ,  2.7634757 ,\n",
       "          3.912072  ,  0.        ,  2.2639835 ,  0.        ,\n",
       "          0.05228469,  0.10267265,  1.5037228 ,  0.        ,\n",
       "          0.0319722 , 11.249563  ,  0.        ,  0.07046383,\n",
       "          0.41737738,  0.        ,  0.        ,  0.        ,\n",
       "         19.798855  ,  0.        ,  0.        ,  0.04875471,\n",
       "          0.        ,  6.406326  ,  5.7364097 ,  0.        ,\n",
       "         16.947916  ,  1.8642938 ,  7.9829125 ,  0.        ]]],\n",
       "      dtype=float32)"
      ]
     },
     "execution_count": 42,
     "metadata": {},
     "output_type": "execute_result"
    }
   ],
   "source": [
    "layer_3_chunk = layer_output[2].numpy()[0, 0:3, 0:3, :]\n",
    "layer_3_chunk"
   ]
  },
  {
   "cell_type": "markdown",
   "metadata": {},
   "source": [
    "Note the kernel and a cross-sectional-chunk of the preceding layer have the same shape."
   ]
  },
  {
   "cell_type": "code",
   "execution_count": 43,
   "metadata": {},
   "outputs": [
    {
     "data": {
      "text/plain": [
       "((3, 3, 32), (3, 3, 32))"
      ]
     },
     "execution_count": 43,
     "metadata": {},
     "output_type": "execute_result"
    }
   ],
   "source": [
    "first_kernel.shape, layer_3_chunk.shape"
   ]
  },
  {
   "cell_type": "markdown",
   "metadata": {},
   "source": [
    "Thus they can be pairwise-multiplied and summed. This is essentially the convolution function, slid across every position in the preceding layer's output."
   ]
  },
  {
   "cell_type": "code",
   "execution_count": 44,
   "metadata": {},
   "outputs": [
    {
     "data": {
      "text/plain": [
       "-2.568891"
      ]
     },
     "execution_count": 44,
     "metadata": {},
     "output_type": "execute_result"
    }
   ],
   "source": [
    "(first_kernel * layer_3_chunk).sum()"
   ]
  },
  {
   "cell_type": "markdown",
   "metadata": {},
   "source": [
    "## Layer 4: maxpool\n"
   ]
  },
  {
   "cell_type": "code",
   "execution_count": 45,
   "metadata": {},
   "outputs": [
    {
     "data": {
      "text/plain": [
       "TensorShape([1, 5, 5, 64])"
      ]
     },
     "execution_count": 45,
     "metadata": {},
     "output_type": "execute_result"
    }
   ],
   "source": [
    "layer_output[4].shape"
   ]
  },
  {
   "cell_type": "code",
   "execution_count": 46,
   "metadata": {},
   "outputs": [
    {
     "data": {
      "image/png": "[encoded data removed]",
      "text/plain": [
       "<Figure size 864x864 with 36 Axes>"
      ]
     },
     "metadata": {},
     "output_type": "display_data"
    }
   ],
   "source": [
    "nrows, ncols = 6,6\n",
    "fig, axs = plt.subplots(nrows,ncols,  figsize=(12,12))\n",
    "\n",
    "for i in range(nrows):\n",
    "    for j in range(ncols):\n",
    "        ax = axs[i][j]\n",
    "        ax.imshow( layer_output[4][0,:,:,i*ncols+j] )\n",
    "        ax.set_xticks([])\n",
    "        ax.set_yticks([])"
   ]
  },
  {
   "cell_type": "markdown",
   "metadata": {},
   "source": [
    "## Layer 5: another stack of 64 3x3 convolutions"
   ]
  },
  {
   "cell_type": "code",
   "execution_count": 47,
   "metadata": {},
   "outputs": [
    {
     "data": {
      "text/plain": [
       "TensorShape([1, 3, 3, 64])"
      ]
     },
     "execution_count": 47,
     "metadata": {},
     "output_type": "execute_result"
    }
   ],
   "source": [
    "layer_output[5].shape"
   ]
  },
  {
   "cell_type": "code",
   "execution_count": 48,
   "metadata": {},
   "outputs": [
    {
     "data": {
      "image/png": "[encoded data removed]",
      "text/plain": [
       "<Figure size 720x720 with 36 Axes>"
      ]
     },
     "metadata": {},
     "output_type": "display_data"
    }
   ],
   "source": [
    "nrows, ncols = 6,6\n",
    "fig, axs = plt.subplots(nrows,ncols,  figsize=(10,10))\n",
    "\n",
    "for i in range(nrows):\n",
    "    for j in range(ncols):\n",
    "        ax = axs[i][j]\n",
    "        ax.imshow( layer_output[5][0,:,:,i*ncols+j] )\n",
    "        ax.set_xticks([])\n",
    "        ax.set_yticks([])"
   ]
  },
  {
   "cell_type": "markdown",
   "metadata": {},
   "source": [
    "Once again we have four convolutional kernals, which span a 3x3 section of images across, in this case, **9** input channels."
   ]
  },
  {
   "cell_type": "code",
   "execution_count": 49,
   "metadata": {},
   "outputs": [
    {
     "data": {
      "text/plain": [
       "(3, 3, 64, 64)"
      ]
     },
     "execution_count": 49,
     "metadata": {},
     "output_type": "execute_result"
    }
   ],
   "source": [
    "W, b = model.layers[4].get_weights()\n",
    "\n",
    "W.shape"
   ]
  },
  {
   "cell_type": "markdown",
   "metadata": {},
   "source": [
    "Classical image analysis involves\n",
    "1. Applying filters to an image\n",
    "2. Flattening the resulting image to produce a sample vector $\\vec{x}_i$ of features for that image.\n",
    "3. Using classical machine learning techniques on the resulting featurization.\n",
    "\n",
    "Convolutional neural networks are divided into two sections:\n",
    "\n",
    "1. A \"filter\" section, which outputs a fancy output \"image\" filled with pixels that turn out to be good discriminators. This filter is learned.\n",
    "2. A \"classical machine learning\" step, in the form of single- or multi-layer perceptron.\n",
    "\n",
    "The convolution/maxpool steps are the \"filter\" section. The output \"image\" is basically all the channels output from the last convolution step glued together:"
   ]
  },
  {
   "cell_type": "code",
   "execution_count": 51,
   "metadata": {},
   "outputs": [
    {
     "data": {
      "text/plain": [
       "<matplotlib.image.AxesImage at 0x7fb6f15ddbe0>"
      ]
     },
     "execution_count": 51,
     "metadata": {},
     "output_type": "execute_result"
    },
    {
     "data": {
      "image/png": "[encoded data removed]",
      "text/plain": [
       "<Figure size 576x576 with 1 Axes>"
      ]
     },
     "metadata": {
      "needs_background": "light"
     },
     "output_type": "display_data"
    }
   ],
   "source": [
    "foo = layer_output[5].numpy()\n",
    "\n",
    "rowstrips = []\n",
    "for i in range(8):\n",
    "    rowstrips.append( np.hstack( foo[0,:,:,i*8:(i+1)*8].transpose(2,0,1) ) )\n",
    "\n",
    "fig, ax = plt.subplots(1, figsize=(8,8))\n",
    "ax.imshow( np.vstack( rowstrips ) )"
   ]
  },
  {
   "cell_type": "markdown",
   "metadata": {},
   "source": [
    "## Layer 6: flatten\n",
    "\n",
    "The 8th layer simply flattens the last convolution layer. The resulting matrix has shape `(n_samples, n_features)`."
   ]
  },
  {
   "cell_type": "code",
   "execution_count": 52,
   "metadata": {},
   "outputs": [
    {
     "data": {
      "text/plain": [
       "TensorShape([1, 576])"
      ]
     },
     "execution_count": 52,
     "metadata": {},
     "output_type": "execute_result"
    }
   ],
   "source": [
    "layer_output[6].shape"
   ]
  },
  {
   "cell_type": "markdown",
   "metadata": {},
   "source": [
    "In principle one could simply take this matrix and train a random forest, or any other supervised model. Traditionally, we complete the model with a multiplayer perceptron."
   ]
  },
  {
   "cell_type": "markdown",
   "metadata": {},
   "source": [
    "## Layer 7: densely connected neural layer\n",
    "\n",
    "This hidden perceptron layer has 64 neurons, each with 576 connections to every pixel in the previous layer."
   ]
  },
  {
   "cell_type": "code",
   "execution_count": 53,
   "metadata": {},
   "outputs": [
    {
     "data": {
      "text/plain": [
       "(576, 64)"
      ]
     },
     "execution_count": 53,
     "metadata": {},
     "output_type": "execute_result"
    }
   ],
   "source": [
    "W, b = model.layers[6].get_weights()\n",
    "W.shape"
   ]
  },
  {
   "cell_type": "markdown",
   "metadata": {},
   "source": [
    "To find the activation of the 0th neuron, for example, get the weight of each connection:"
   ]
  },
  {
   "cell_type": "code",
   "execution_count": 54,
   "metadata": {},
   "outputs": [
    {
     "data": {
      "text/plain": [
       "array([ 5.97943999e-02, -2.92860903e-03,  1.12208650e-02, -3.71788442e-02,\n",
       "        5.47373369e-02,  2.95535754e-02, -6.84745833e-02,  3.29617709e-02,\n",
       "       -5.91519363e-02, -7.40030641e-03,  2.41159052e-02,  5.75100482e-02,\n",
       "       -9.10444334e-02, -5.05098440e-02,  8.54929835e-02,  5.63134924e-02,\n",
       "        4.64413837e-02, -1.21325329e-02, -4.15734611e-02, -8.18746090e-02,\n",
       "       -2.55796462e-02, -6.32748306e-02, -5.69740310e-02, -9.81698781e-02,\n",
       "        1.73619911e-02,  1.08896457e-02, -4.60947454e-02, -9.32465941e-02,\n",
       "       -1.90087371e-02,  6.67798147e-02, -4.05006446e-02, -3.01106181e-02,\n",
       "       -2.89282668e-02, -6.21485002e-02,  3.84453647e-02,  8.02415609e-03,\n",
       "       -3.95683460e-02,  6.85312971e-02, -4.68690097e-02, -9.12152529e-02,\n",
       "        4.26396728e-05,  3.35343741e-02,  5.54189691e-03, -7.57924840e-02,\n",
       "       -6.71844706e-02, -1.02806166e-01,  3.35053839e-02, -8.93387720e-02,\n",
       "       -1.14687048e-01,  5.89434803e-02, -3.61578166e-02, -2.68530175e-02,\n",
       "        2.72140503e-02,  2.57146340e-02,  1.17238695e-02, -4.74550277e-02,\n",
       "        9.29143578e-02,  1.06487051e-02, -9.77096930e-02,  7.12416917e-02,\n",
       "        8.04745108e-02,  5.84255382e-02, -5.44846579e-02, -2.54829619e-02,\n",
       "        6.53457567e-02, -3.53102409e-03, -6.42526746e-02, -8.48543644e-02,\n",
       "        7.55172819e-02,  7.95271397e-02,  8.92713591e-02,  1.84685364e-02,\n",
       "        3.86852510e-02, -2.56423689e-02, -3.75152603e-02,  3.36411446e-02,\n",
       "       -3.37611092e-03,  2.04276200e-02,  4.45618033e-02,  2.46067308e-02,\n",
       "        2.04349682e-02, -9.96442512e-02,  5.92627227e-02,  6.90315664e-02,\n",
       "        1.66972652e-02,  7.12140948e-02,  4.23624031e-02, -5.27629927e-02,\n",
       "        7.45644271e-02, -1.28404656e-02, -3.77387181e-02, -9.85312536e-02,\n",
       "       -3.73495668e-02,  2.66747316e-04, -6.75305054e-02,  6.18311837e-02,\n",
       "       -1.75718032e-02,  5.33865392e-03, -6.49242625e-02, -5.50678447e-02,\n",
       "       -2.85050198e-02,  1.93042923e-02,  3.74993980e-02, -1.33172162e-02,\n",
       "       -4.03733999e-02, -4.67686802e-02, -5.68556413e-02, -4.94753756e-02,\n",
       "        3.77379321e-02, -3.79314122e-04,  5.20882271e-02,  2.66137049e-02,\n",
       "        3.64226960e-02,  4.23548222e-02,  7.85807371e-02,  1.40444015e-03,\n",
       "        1.54796010e-02,  5.81219792e-02,  1.63333416e-02, -3.25423256e-02,\n",
       "       -6.91073611e-02, -9.38767567e-03, -2.02312917e-02,  6.14844821e-02,\n",
       "        8.09738189e-02, -3.92224938e-02, -6.72074482e-02, -8.02678466e-02,\n",
       "        3.41038108e-02, -6.08116984e-02, -3.15901078e-02, -4.75609116e-02,\n",
       "       -3.99485826e-02, -9.52240899e-02,  7.91681465e-03,  8.44241977e-02,\n",
       "       -9.02342796e-02, -9.11689699e-02,  7.55528808e-02,  2.97078341e-02,\n",
       "       -4.57167290e-02, -2.68084258e-02,  6.91524744e-02,  1.01003841e-01,\n",
       "       -6.74990267e-02, -8.79299343e-02,  5.01694679e-02,  1.40643623e-02,\n",
       "        6.11631721e-02,  6.66811317e-02,  6.37805462e-02,  5.36361337e-03,\n",
       "       -5.94507568e-02,  7.48776570e-02, -9.60794389e-02,  6.54083192e-02,\n",
       "       -9.64729406e-04, -1.00671843e-01,  5.70712872e-02, -3.80478986e-02,\n",
       "        1.09046176e-02,  6.76857084e-02,  3.08718793e-02, -9.81167033e-02,\n",
       "       -2.39641313e-02,  7.29344487e-02,  5.47036678e-02,  4.88621322e-03,\n",
       "        1.65651757e-02,  4.94962782e-02, -9.56694186e-02,  5.71345165e-02,\n",
       "        1.01493718e-02,  2.61848397e-03, -6.18907101e-02,  3.69488597e-02,\n",
       "       -9.75577906e-02, -5.73080368e-02, -4.06197272e-02, -5.28075472e-02,\n",
       "        4.28875349e-02, -4.29911613e-02,  5.99301010e-02, -8.35199356e-02,\n",
       "       -6.40661418e-02, -9.39843431e-02,  1.52064189e-02,  1.06640175e-01,\n",
       "       -6.27661422e-02, -1.97303183e-02, -8.39555562e-02, -7.89610371e-02,\n",
       "        4.09843819e-03,  6.90774024e-02, -1.08248107e-01, -1.41786814e-01,\n",
       "       -1.67775452e-02, -7.64666945e-02, -3.64512205e-04, -7.67197311e-02,\n",
       "        7.64258439e-03, -4.83804103e-03,  4.45861323e-03, -4.22497205e-02,\n",
       "        7.08007440e-03, -1.03225932e-02, -7.10866749e-02, -5.71841635e-02,\n",
       "        3.94264869e-02, -9.36852023e-03, -5.95081486e-02, -7.90108889e-02,\n",
       "        4.03614938e-02,  6.70129508e-02,  4.74991798e-02, -1.12735312e-02,\n",
       "       -2.39605047e-02,  9.27087665e-03, -6.90776622e-03, -9.50758979e-02,\n",
       "       -8.74864459e-02,  7.63346404e-02, -5.87797575e-02,  1.01794943e-01,\n",
       "       -1.73974838e-02, -6.49743080e-02, -3.64828594e-02, -1.00054741e-02,\n",
       "        3.15728039e-02, -9.65824127e-02,  5.08790370e-03,  2.93680783e-02,\n",
       "       -4.39433344e-02, -9.75456089e-02,  2.78462209e-02,  2.60186270e-02,\n",
       "       -9.65203643e-02,  7.39637166e-02, -4.83266674e-02,  3.23395133e-02,\n",
       "       -2.42603645e-02,  1.25785768e-02, -2.91019231e-02, -2.88686007e-02,\n",
       "       -2.95534562e-02, -3.23575325e-02,  2.55211946e-02, -2.27722805e-02,\n",
       "        5.92407398e-02, -7.41867498e-02, -1.01496443e-01, -1.00378990e-01,\n",
       "        1.56729296e-02,  3.88233475e-02, -7.60766342e-02,  5.69746904e-02,\n",
       "       -6.75000921e-02,  6.23537712e-02, -4.61547077e-02, -7.56901875e-02,\n",
       "       -3.48772593e-02,  5.33533990e-02,  6.35359362e-02, -2.31502503e-02,\n",
       "       -1.23953242e-02, -2.70622540e-02, -2.25091539e-02, -7.31287375e-02,\n",
       "       -2.44275033e-02,  7.33726844e-02,  5.81992269e-02, -3.85205410e-02,\n",
       "       -1.72328129e-02, -8.55105966e-02,  3.76531631e-02,  5.30790389e-02,\n",
       "        9.04213488e-02, -5.40363789e-03, -9.39722061e-02,  8.95469934e-02,\n",
       "        1.73739512e-02, -8.73457566e-02,  3.11215073e-02, -9.07786191e-02,\n",
       "       -1.08092442e-01, -8.70450139e-02, -1.04786619e-03,  1.28890835e-02,\n",
       "        1.97392385e-02,  3.66856679e-02, -4.26235311e-02,  3.84152830e-02,\n",
       "       -1.84530877e-02,  4.90277074e-02, -4.72303741e-02,  3.05614024e-02,\n",
       "       -1.21350558e-02, -5.37625588e-02,  4.68709953e-02,  6.88742101e-02,\n",
       "       -2.76000537e-02,  3.80191840e-02,  4.19904999e-02,  5.87479025e-02,\n",
       "        5.01229912e-02,  1.85858309e-02,  7.80499950e-02, -7.04593435e-02,\n",
       "        3.47598940e-02, -3.27768922e-02, -2.79931743e-02, -1.12519771e-01,\n",
       "        9.96993389e-03, -1.01757804e-02, -4.08876389e-02,  1.02588199e-02,\n",
       "       -7.62725025e-02, -5.48815392e-02, -1.10256381e-01,  4.97180521e-02,\n",
       "       -2.38432810e-02,  3.47309336e-02,  3.43791582e-02,  4.87342700e-02,\n",
       "        7.77668059e-02, -7.23020807e-02, -5.58130592e-02, -7.13058561e-03,\n",
       "       -4.97719981e-02,  2.67382469e-02,  5.46200275e-02,  4.66913804e-02,\n",
       "       -3.39576900e-02, -9.34377015e-02,  9.21088755e-02, -4.66250218e-02,\n",
       "        3.31318676e-02,  3.68100144e-02, -3.57060581e-02, -2.57958546e-02,\n",
       "        6.05525970e-02,  6.03001267e-02, -9.41344947e-02, -5.11095636e-02,\n",
       "       -6.12956397e-02,  1.66233238e-02, -4.04475108e-02,  8.75836462e-02,\n",
       "       -1.02862887e-01, -2.45802421e-02, -3.38182747e-02, -6.51087239e-02,\n",
       "       -6.62774146e-02, -7.43343309e-02, -2.34464258e-02,  5.02096117e-02,\n",
       "        8.79274309e-03,  6.01990335e-02,  4.57621850e-02, -6.58223704e-02,\n",
       "        7.47979209e-02, -7.03373700e-02, -1.61125232e-02,  1.95994377e-02,\n",
       "        7.20646828e-02,  2.93951705e-02, -5.43762781e-02,  3.93792391e-02,\n",
       "        7.40878880e-02, -2.04240754e-02,  7.95432031e-02, -5.74824065e-02,\n",
       "       -5.67851216e-02, -8.46330374e-02,  4.45926338e-02, -8.63726661e-02,\n",
       "       -4.48243991e-02, -1.11216538e-01,  3.57322581e-02, -9.87441018e-02,\n",
       "        8.38292986e-02,  1.40061341e-02,  6.35264069e-02, -2.73803808e-03,\n",
       "       -1.13219351e-01, -2.52394639e-02, -2.28111260e-02, -6.13087341e-02,\n",
       "        7.06976503e-02,  8.10874850e-02, -9.63609889e-02,  7.84211159e-02,\n",
       "        8.26376379e-02, -2.61806604e-03,  6.28834888e-02, -3.71949561e-03,\n",
       "        2.71108747e-02, -2.26323120e-02, -1.88873932e-02,  2.14323290e-02,\n",
       "       -1.03388079e-01,  8.61654058e-02, -5.52524328e-02, -1.79952309e-02,\n",
       "        6.40887916e-02,  7.90967792e-03, -3.56031060e-02, -5.99416234e-02,\n",
       "       -6.04111627e-02, -8.96236300e-02,  5.05671911e-02, -8.37684125e-02,\n",
       "       -4.97617805e-03,  3.61227319e-02, -6.39278740e-02,  7.71928281e-02,\n",
       "        3.63013409e-02,  3.36437672e-03, -1.34031937e-01,  5.46262115e-02,\n",
       "        5.32627702e-02, -2.12301333e-02, -6.41393894e-03,  2.62726042e-02,\n",
       "       -9.49402899e-02,  6.21760339e-02,  7.36573115e-02, -9.13371518e-02,\n",
       "        1.67706758e-02, -1.72683643e-03, -7.84630850e-02,  1.69494040e-02,\n",
       "        3.28440368e-02,  3.38751376e-02, -1.27549395e-02, -2.81185228e-02,\n",
       "       -6.81970045e-02,  8.42832625e-02,  1.84514616e-02, -6.14352934e-02,\n",
       "       -5.54633439e-02, -1.04367986e-01,  2.58301012e-02, -6.22453168e-02,\n",
       "       -2.72681620e-02, -1.40401088e-02,  3.49735506e-02,  2.09257584e-02,\n",
       "        3.83128738e-03, -9.57685784e-02, -1.85968447e-02, -7.78350383e-02,\n",
       "        3.63067985e-02, -9.53309238e-03, -9.37065706e-02, -3.83490361e-02,\n",
       "       -8.55501965e-02, -4.17276360e-02,  6.18757866e-02,  7.18931779e-02,\n",
       "        7.16817081e-02, -4.51286696e-02,  3.53792459e-02, -9.02249143e-02,\n",
       "       -1.14125544e-02, -9.42194611e-02, -1.38637924e-03, -8.12723264e-02,\n",
       "       -9.23641697e-02,  2.99908668e-02, -2.94181984e-02, -9.59044695e-02,\n",
       "       -9.27482694e-02, -3.06022651e-02, -4.52997349e-02, -6.95877820e-02,\n",
       "       -1.07705109e-02,  1.98308080e-02, -4.24371660e-02, -3.55468970e-03,\n",
       "        1.59023628e-02, -2.32701339e-02, -3.20971459e-02,  5.23466766e-02,\n",
       "       -6.13594726e-02, -5.40196784e-02, -9.43436027e-02,  5.66798709e-02,\n",
       "       -5.09831272e-02, -5.13074286e-02, -7.34985247e-02,  2.26305425e-02,\n",
       "        8.81326050e-02,  4.09051776e-03,  1.86666346e-03,  4.65313345e-03,\n",
       "        6.35753796e-02,  7.42620975e-03,  6.43500984e-02,  8.01610015e-03,\n",
       "        4.38831635e-02,  8.73439610e-02, -8.49116668e-02, -1.41415685e-01,\n",
       "        1.64361186e-02, -1.19820073e-01, -2.50721052e-02, -7.61954114e-02,\n",
       "       -7.60751485e-04,  7.92413875e-02,  1.30666010e-02, -5.72172441e-02,\n",
       "       -3.29866447e-02,  3.17185409e-02,  6.15279377e-02,  1.03079945e-01,\n",
       "       -2.66113952e-02,  2.06156522e-02, -5.02778105e-02,  3.61225754e-03,\n",
       "       -8.11509937e-02,  1.78878251e-02,  8.52189511e-02,  6.41296878e-02,\n",
       "        4.03702222e-02, -2.41741538e-04, -6.50781691e-02, -7.66940489e-02,\n",
       "       -6.87910616e-02, -3.21266763e-02, -7.91070163e-02,  8.81450772e-02,\n",
       "        7.50929266e-02, -2.55426615e-02, -5.33436388e-02, -9.20731574e-03,\n",
       "       -2.87330877e-02,  1.28389485e-02, -5.64431734e-02,  4.56409007e-02,\n",
       "       -6.56852052e-02,  2.67002508e-02, -1.03312306e-01, -9.39947665e-02,\n",
       "       -5.36942035e-02, -5.05359471e-02, -8.23672488e-02, -5.34510761e-02,\n",
       "       -7.47065917e-02, -7.12446570e-02,  8.67600180e-03, -5.68107441e-02,\n",
       "       -8.32636580e-02, -3.08357254e-02, -9.18832943e-02,  4.60311919e-02,\n",
       "       -2.35557347e-03,  1.94388162e-02,  2.11472772e-02,  1.88174918e-02,\n",
       "       -6.25179410e-02,  3.49898040e-02, -3.62857878e-02,  8.77176151e-02,\n",
       "        3.38989198e-02,  3.87452403e-03, -7.25805899e-03, -9.17933658e-02,\n",
       "        1.79611593e-02, -3.78928632e-02, -4.91577052e-02, -6.91548735e-02,\n",
       "       -1.07620806e-02,  3.71313505e-02, -7.95403612e-04,  6.42886385e-02],\n",
       "      dtype=float32)"
      ]
     },
     "execution_count": 54,
     "metadata": {},
     "output_type": "execute_result"
    }
   ],
   "source": [
    "neuron0_weights = W[:,0]\n",
    "neuron0_weights"
   ]
  },
  {
   "cell_type": "markdown",
   "metadata": {},
   "source": [
    "Take the dot product against all the pixels output from the \"image filter\" stage (flattened, of course). A bias terms was also learned by the convnet."
   ]
  },
  {
   "cell_type": "code",
   "execution_count": 55,
   "metadata": {},
   "outputs": [
    {
     "data": {
      "text/plain": [
       "-18.091057"
      ]
     },
     "execution_count": 55,
     "metadata": {},
     "output_type": "execute_result"
    }
   ],
   "source": [
    "neuron0_activation = neuron0_weights.dot( layer_output[6][0] ) + b[0]\n",
    "neuron0_activation"
   ]
  },
  {
   "cell_type": "markdown",
   "metadata": {},
   "source": [
    "The activation is the excitation of the neuron passed through an activation function:"
   ]
  },
  {
   "cell_type": "code",
   "execution_count": 56,
   "metadata": {},
   "outputs": [
    {
     "data": {
      "text/plain": [
       "0.0"
      ]
     },
     "execution_count": 56,
     "metadata": {},
     "output_type": "execute_result"
    }
   ],
   "source": [
    "activations.relu( neuron0_activation ).numpy()"
   ]
  },
  {
   "cell_type": "markdown",
   "metadata": {},
   "source": [
    "To do this all at once, just apply the weights and biases via this handy equation:\n",
    "\n",
    "$$\\phi( X W + b )$$\n",
    "\n",
    "where $\\phi$ is the activation function."
   ]
  },
  {
   "cell_type": "code",
   "execution_count": 57,
   "metadata": {},
   "outputs": [
    {
     "data": {
      "text/plain": [
       "array([[ 0.       , 34.356476 ,  0.       ,  0.       ,  0.       ,\n",
       "         2.1138358,  0.       ,  0.       ,  0.       ,  0.       ,\n",
       "         0.       ,  0.       ,  0.       ,  0.       ,  0.       ,\n",
       "         0.       ,  0.       ,  0.       ,  0.       ,  0.       ,\n",
       "         0.       ,  0.       ,  0.       ,  0.       ,  0.       ,\n",
       "         0.       ,  0.       ,  0.       ,  0.       ,  0.       ,\n",
       "         5.459841 ,  4.2905407, 17.144032 ,  0.       ,  0.       ,\n",
       "        18.712717 ,  8.29778  ,  0.       ,  0.       ,  6.946771 ,\n",
       "         0.       ,  0.       ,  0.       ,  0.       ,  0.       ,\n",
       "         0.       ,  2.4927573,  0.       ,  0.       ,  0.       ,\n",
       "         0.       ,  0.       ,  0.       ,  2.1370704,  0.       ,\n",
       "        25.407042 ,  0.       ,  0.       ,  0.       ,  0.       ,\n",
       "         0.       ,  0.       ,  0.       ,  0.       ]], dtype=float32)"
      ]
     },
     "execution_count": 57,
     "metadata": {},
     "output_type": "execute_result"
    }
   ],
   "source": [
    "activations.relu( layer_output[6].numpy() @ W + b ).numpy()"
   ]
  },
  {
   "cell_type": "markdown",
   "metadata": {},
   "source": [
    "In doing that we've reproduced the work of the densely connected layer:"
   ]
  },
  {
   "cell_type": "code",
   "execution_count": 58,
   "metadata": {},
   "outputs": [
    {
     "data": {
      "text/plain": [
       "array([[ 0.       , 34.356476 ,  0.       ,  0.       ,  0.       ,\n",
       "         2.113837 ,  0.       ,  0.       ,  0.       ,  0.       ,\n",
       "         0.       ,  0.       ,  0.       ,  0.       ,  0.       ,\n",
       "         0.       ,  0.       ,  0.       ,  0.       ,  0.       ,\n",
       "         0.       ,  0.       ,  0.       ,  0.       ,  0.       ,\n",
       "         0.       ,  0.       ,  0.       ,  0.       ,  0.       ,\n",
       "         5.4598403,  4.290541 , 17.144033 ,  0.       ,  0.       ,\n",
       "        18.712717 ,  8.297781 ,  0.       ,  0.       ,  6.946772 ,\n",
       "         0.       ,  0.       ,  0.       ,  0.       ,  0.       ,\n",
       "         0.       ,  2.4927585,  0.       ,  0.       ,  0.       ,\n",
       "         0.       ,  0.       ,  0.       ,  2.1370702,  0.       ,\n",
       "        25.407042 ,  0.       ,  0.       ,  0.       ,  0.       ,\n",
       "         0.       ,  0.       ,  0.       ,  0.       ]], dtype=float32)"
      ]
     },
     "execution_count": 58,
     "metadata": {},
     "output_type": "execute_result"
    }
   ],
   "source": [
    "layer_output[7].numpy()"
   ]
  },
  {
   "cell_type": "markdown",
   "metadata": {},
   "source": [
    "## Layer 8: logistic regression\n",
    "\n",
    "The last layer is simply logistic regression:"
   ]
  },
  {
   "cell_type": "code",
   "execution_count": 67,
   "metadata": {},
   "outputs": [],
   "source": [
    "W, b = model.layers[7].get_weights()"
   ]
  },
  {
   "cell_type": "code",
   "execution_count": 75,
   "metadata": {},
   "outputs": [
    {
     "data": {
      "text/plain": [
       "array([[-14.32498  ,   4.117772 ,   1.7166823,   3.832526 ,  -3.5954912,\n",
       "         -6.944546 ,  -8.080184 ,  19.311405 ,  -9.645007 ,  -7.3878713]],\n",
       "      dtype=float32)"
      ]
     },
     "execution_count": 75,
     "metadata": {},
     "output_type": "execute_result"
    }
   ],
   "source": [
    "layer_output[7].numpy() @ W + b"
   ]
  },
  {
   "cell_type": "markdown",
   "metadata": {},
   "source": [
    "It's simply $softmax( XW+b )$"
   ]
  },
  {
   "cell_type": "code",
   "execution_count": 102,
   "metadata": {},
   "outputs": [
    {
     "data": {
      "text/plain": [
       "array([[-14.32498  ,   4.117772 ,   1.7166823,   3.832526 ,  -3.5954912,\n",
       "         -6.944546 ,  -8.080184 ,  19.311405 ,  -9.645007 ,  -7.3878713]],\n",
       "      dtype=float32)"
      ]
     },
     "execution_count": 102,
     "metadata": {},
     "output_type": "execute_result"
    }
   ],
   "source": [
    "raw_activation = layer_output[7].numpy() @ W + b\n",
    "raw_activation"
   ]
  },
  {
   "cell_type": "code",
   "execution_count": 104,
   "metadata": {},
   "outputs": [
    {
     "data": {
      "text/plain": [
       "array([[0., 0., 0., 0., 0., 0., 0., 1., 0., 0.]], dtype=float32)"
      ]
     },
     "execution_count": 104,
     "metadata": {},
     "output_type": "execute_result"
    }
   ],
   "source": [
    "(np.exp( raw_activation ) / np.exp( raw_activation ).sum()).round(3)"
   ]
  },
  {
   "cell_type": "markdown",
   "metadata": {},
   "source": [
    "This is the output of the final layer:"
   ]
  },
  {
   "cell_type": "code",
   "execution_count": 106,
   "metadata": {},
   "outputs": [
    {
     "data": {
      "text/plain": [
       "array([[0., 0., 0., 0., 0., 0., 0., 1., 0., 0.]], dtype=float32)"
      ]
     },
     "execution_count": 106,
     "metadata": {},
     "output_type": "execute_result"
    }
   ],
   "source": [
    "layer_output[8].numpy().round(3)"
   ]
  },
  {
   "cell_type": "code",
   "execution_count": 107,
   "metadata": {},
   "outputs": [],
   "source": [
    "yhat = (model.predict( X_test ).flatten()>0.5).astype(int)"
   ]
  },
  {
   "cell_type": "code",
   "execution_count": 112,
   "metadata": {},
   "outputs": [
    {
     "data": {
      "text/plain": [
       "array([7, 2, 1, ..., 4, 5, 6])"
      ]
     },
     "execution_count": 112,
     "metadata": {},
     "output_type": "execute_result"
    }
   ],
   "source": [
    "np.argmax( model.predict( X_test ), axis=1)"
   ]
  },
  {
   "cell_type": "code",
   "execution_count": 113,
   "metadata": {},
   "outputs": [
    {
     "data": {
      "text/plain": [
       "0.9728"
      ]
     },
     "execution_count": 113,
     "metadata": {},
     "output_type": "execute_result"
    }
   ],
   "source": [
    "(y_test == np.argmax( model.predict( X_test ), axis=1)).mean()"
   ]
  },
  {
   "cell_type": "code",
   "execution_count": null,
   "metadata": {},
   "outputs": [],
   "source": []
  }
 ],
 "metadata": {
  "kernelspec": {
   "display_name": "Python 3",
   "language": "python",
   "name": "python3"
  },
  "language_info": {
   "codemirror_mode": {
    "name": "ipython",
    "version": 3
   },
   "file_extension": ".py",
   "mimetype": "text/x-python",
   "name": "python",
   "nbconvert_exporter": "python",
   "pygments_lexer": "ipython3",
   "version": "3.7.1"
  }
 },
 "nbformat": 4,
 "nbformat_minor": 2
}
