{
 "cells": [
  {
   "cell_type": "code",
   "execution_count": 2,
   "metadata": {
    "scrolled": true
   },
   "outputs": [
    {
     "name": "stdout",
     "output_type": "stream",
     "text": [
      "Collecting scikit-image\n",
      "\u001b[?25l  Downloading https://files.pythonhosted.org/packages/00/ba/9688afba6ab3714875a8d22284ce0362086e47f3cda60243e5d4de5e5943/scikit_image-0.15.0-cp35-cp35m-manylinux1_x86_64.whl (26.2MB)\n",
      "\u001b[K    100% |████████████████████████████████| 26.2MB 1.0MB/s eta 0:00:01  3% |█▎                              | 1.0MB 10.6MB/s eta 0:00:03    13% |████▌                           | 3.6MB 12.1MB/s eta 0:00:02    17% |█████▌                          | 4.5MB 10.9MB/s eta 0:00:02    39% |████████████▋                   | 10.4MB 11.8MB/s eta 0:00:02    45% |██████████████▌                 | 11.9MB 9.5MB/s eta 0:00:02    47% |███████████████▏                | 12.4MB 11.2MB/s eta 0:00:02    68% |██████████████████████          | 18.0MB 9.0MB/s eta 0:00:01    74% |███████████████████████▉        | 19.5MB 10.2MB/s eta 0:00:01    80% |█████████████████████████▉      | 21.1MB 14.9MB/s eta 0:00:01    82% |██████████████████████████▍     | 21.6MB 8.0MB/s eta 0:00:01    86% |███████████████████████████▋    | 22.6MB 14.1MB/s eta 0:00:01    86% |███████████████████████████▊    | 22.7MB 1.2MB/s eta 0:00:03\n",
      "\u001b[?25hCollecting networkx>=2.0 (from scikit-image)\n",
      "\u001b[?25l  Downloading https://files.pythonhosted.org/packages/85/08/f20aef11d4c343b557e5de6b9548761811eb16e438cee3d32b1c66c8566b/networkx-2.3.zip (1.7MB)\n",
      "\u001b[K    100% |████████████████████████████████| 1.8MB 14.6MB/s ta 0:00:01\n",
      "\u001b[?25hCollecting scipy>=0.17.0 (from scikit-image)\n",
      "\u001b[?25l  Downloading https://files.pythonhosted.org/packages/14/49/8f13fa215e10a7ab0731cc95b0e9bb66cf83c6a98260b154cfbd0b55fb19/scipy-1.3.0-cp35-cp35m-manylinux1_x86_64.whl (25.1MB)\n",
      "\u001b[K    100% |████████████████████████████████| 25.1MB 749kB/s ta 0:00:011   21% |██████▉                         | 5.4MB 7.2MB/s eta 0:00:03    42% |█████████████▊                  | 10.8MB 12.5MB/s eta 0:00:02    87% |████████████████████████████    | 22.0MB 19.3MB/s eta 0:00:01\n",
      "\u001b[?25hCollecting PyWavelets>=0.4.0 (from scikit-image)\n",
      "\u001b[?25l  Downloading https://files.pythonhosted.org/packages/6a/3f/d92fbd9b65f879197620f404c1603bfeaa54560743bb9fb3a6b48b66a707/PyWavelets-1.0.3-cp35-cp35m-manylinux1_x86_64.whl (4.4MB)\n",
      "\u001b[K    100% |████████████████████████████████| 4.4MB 6.9MB/s eta 0:00:01\n",
      "\u001b[?25hRequirement already satisfied: matplotlib!=3.0.0,>=2.0.0 in /usr/local/lib/python3.5/dist-packages (from scikit-image) (3.0.3)\n",
      "Collecting imageio>=2.0.1 (from scikit-image)\n",
      "\u001b[?25l  Downloading https://files.pythonhosted.org/packages/af/0a/943c965d372dae0b1f1482677d29030ab834351a61a9a632fd62f27f1523/imageio-2.5.0-py3-none-any.whl (3.3MB)\n",
      "\u001b[K    100% |████████████████████████████████| 3.3MB 11.1MB/s ta 0:00:01\n",
      "\u001b[?25hCollecting pillow>=4.3.0 (from scikit-image)\n",
      "\u001b[?25l  Downloading https://files.pythonhosted.org/packages/d6/98/0d360dbc087933679398d73187a503533ec0547ba4ffd2115365605559cc/Pillow-6.1.0-cp35-cp35m-manylinux1_x86_64.whl (2.1MB)\n",
      "\u001b[K    100% |████████████████████████████████| 2.1MB 15.3MB/s ta 0:00:01\n",
      "\u001b[?25hRequirement already satisfied: decorator>=4.3.0 in /usr/local/lib/python3.5/dist-packages (from networkx>=2.0->scikit-image) (4.3.2)\n",
      "Requirement already satisfied: numpy>=1.13.3 in /usr/local/lib/python3.5/dist-packages (from scipy>=0.17.0->scikit-image) (1.16.2)\n",
      "Requirement already satisfied: cycler>=0.10 in /usr/local/lib/python3.5/dist-packages (from matplotlib!=3.0.0,>=2.0.0->scikit-image) (0.10.0)\n",
      "Requirement already satisfied: python-dateutil>=2.1 in /usr/local/lib/python3.5/dist-packages (from matplotlib!=3.0.0,>=2.0.0->scikit-image) (2.8.0)\n",
      "Requirement already satisfied: kiwisolver>=1.0.1 in /usr/local/lib/python3.5/dist-packages (from matplotlib!=3.0.0,>=2.0.0->scikit-image) (1.0.1)\n",
      "Requirement already satisfied: pyparsing!=2.0.4,!=2.1.2,!=2.1.6,>=2.0.1 in /usr/local/lib/python3.5/dist-packages (from matplotlib!=3.0.0,>=2.0.0->scikit-image) (2.3.1)\n",
      "Requirement already satisfied: six in /usr/local/lib/python3.5/dist-packages (from cycler>=0.10->matplotlib!=3.0.0,>=2.0.0->scikit-image) (1.12.0)\n",
      "Requirement already satisfied: setuptools in /usr/local/lib/python3.5/dist-packages (from kiwisolver>=1.0.1->matplotlib!=3.0.0,>=2.0.0->scikit-image) (40.8.0)\n",
      "Building wheels for collected packages: networkx\n",
      "  Building wheel for networkx (setup.py) ... \u001b[?25ldone\n",
      "\u001b[?25h  Stored in directory: /root/.cache/pip/wheels/de/63/64/3699be2a9d0ccdb37c7f16329acf3863fd76eda58c39c737af\n",
      "Successfully built networkx\n",
      "Installing collected packages: networkx, scipy, PyWavelets, pillow, imageio, scikit-image\n",
      "Successfully installed PyWavelets-1.0.3 imageio-2.5.0 networkx-2.3 pillow-6.1.0 scikit-image-0.15.0 scipy-1.3.0\n",
      "\u001b[33mYou are using pip version 19.0.3, however version 19.1.1 is available.\n",
      "You should consider upgrading via the 'pip install --upgrade pip' command.\u001b[0m\n"
     ]
    }
   ],
   "source": [
    "# !pip install scikit-image"
   ]
  },
  {
   "cell_type": "code",
   "execution_count": 3,
   "metadata": {},
   "outputs": [],
   "source": [
    "import tensorflow as tf\n",
    "import numpy as np\n",
    "from matplotlib import pyplot as plt\n",
    "\n",
    "from tensorflow.keras import datasets, layers, models, regularizers, initializers\n",
    "from skimage.io import imshow\n",
    "from skimage.transform import rotate\n",
    "from skimage.filters.edges import convolve\n",
    "\n",
    "from skimage.io import imshow, imread\n",
    "from skimage.transform import resize\n",
    "from skimage.color import rgb2gray\n",
    "\n",
    "np.random.seed(42)"
   ]
  },
  {
   "cell_type": "code",
   "execution_count": 4,
   "metadata": {},
   "outputs": [],
   "source": [
    "def random_crop(img, margin=0.2):\n",
    "    #randomly chop off margin amounts; for augumenting data\n",
    "    \n",
    "    w,h,nchannels = img.shape\n",
    "    lmargin, rmargin = np.random.randint( 0, w*margin, size=2 )\n",
    "    bmargin, tmargin = np.random.randint( 0, h*margin, size=2 )\n",
    "    \n",
    "    ret = img[bmargin:-tmargin-1, lmargin:-rmargin-1,:]\n",
    "    \n",
    "    return ret\n",
    "\n",
    "def augment( images, labels, factor=5 ):\n",
    "    for j, (image, label) in enumerate( zip(images, labels) ):\n",
    "        print( \"{}/{} images\".format(j, len(images)) )\n",
    "        for i in range(factor):\n",
    "            aug = rotate( image, np.random.randint(-10,10) )\n",
    "            aug = random_crop(aug)\n",
    "            \n",
    "            if np.random.binomial(1,0.5): #half the time randomly\n",
    "                aug = aug[:,::-1] #flip left-right\n",
    "                \n",
    "            yield aug, label"
   ]
  },
  {
   "cell_type": "markdown",
   "metadata": {},
   "source": [
    "# Automatic filter-finding: an introduction to convolutional neural networks\n",
    "\n",
    "What if, instead of trying a bunch of filters, we could just use an automatic parameter-fitting process to find a filter for us?\n",
    "\n",
    "We can! One common technique is to use convolutional filters to find features, and use gradient descent to find convolutional kernals that result in features which act as reliable discriminators.\n",
    "\n",
    "Let's do it! We'll use TensorFlow's `Keras` API to define a pipeline which takes, on one end, a stack of images, performs several operatons on it, and returns a list of predictions; one for each image. \n",
    "\n",
    "TensorFlow is able to automatically find the gradient of the all parameters of every operation in the pipeline, and can therefore use gradient-descent to find parameters which result in good predictions on the training set."
   ]
  },
  {
   "cell_type": "code",
   "execution_count": 4,
   "metadata": {},
   "outputs": [],
   "source": [
    "import sys\n",
    "sys.path.append(\"src\")"
   ]
  },
  {
   "cell_type": "code",
   "execution_count": 5,
   "metadata": {},
   "outputs": [],
   "source": [
    "from pipeline import get_images"
   ]
  },
  {
   "cell_type": "markdown",
   "metadata": {},
   "source": [
    "Get some cat/dog training data."
   ]
  },
  {
   "cell_type": "code",
   "execution_count": 6,
   "metadata": {},
   "outputs": [],
   "source": [
    "cat_images = [x for _,x in get_images(\"data/cat_dog/cat\")]\n",
    "dog_images = [x for _,x in get_images(\"data/cat_dog/dog\")]"
   ]
  },
  {
   "cell_type": "markdown",
   "metadata": {},
   "source": [
    "Put together a stack of training and test images, and corresponding label vectors."
   ]
  },
  {
   "cell_type": "code",
   "execution_count": 7,
   "metadata": {},
   "outputs": [],
   "source": [
    "# stack all images\n",
    "images = cat_images+dog_images\n",
    "y = np.array([1]*len(cat_images) + [0]*len(dog_images))"
   ]
  },
  {
   "cell_type": "code",
   "execution_count": 8,
   "metadata": {},
   "outputs": [],
   "source": [
    "#shuffle images and target var\n",
    "i = np.random.choice( np.arange(len(images)), size=len(images), replace=False)\n",
    "images = [images[ix] for ix in i]\n",
    "y = y[i]"
   ]
  },
  {
   "cell_type": "code",
   "execution_count": 9,
   "metadata": {},
   "outputs": [],
   "source": [
    "# do train test split\n",
    "n_train = int(len(images)*0.80)\n",
    "\n",
    "images_train = images[:n_train]\n",
    "labels_train = y[:n_train]\n",
    "\n",
    "images_test = images[n_train:]\n",
    "labels_test = y[n_train:]"
   ]
  },
  {
   "cell_type": "markdown",
   "metadata": {},
   "source": [
    "`images_train` and `images_test` aren't numpy vectors - they're Python lists of inconsistently-sized images matrices. We want to convert each to a numpy matrix holding a stack of images.\n",
    "\n",
    "To do this, we'll perform two steps for every object:\n",
    "1. \"Data augmentation\" - modify each image by cropping, rotating, and flipping to produce a several sligthly different images. I'm doing this here because the dataset is very small, and convolutional neural network usually need a few thousand images to get good results.\n",
    "2. \"Featurization\" - converting each image into a consistently-sized matrix, and then stacking them together."
   ]
  },
  {
   "cell_type": "code",
   "execution_count": 10,
   "metadata": {},
   "outputs": [],
   "source": [
    "featurize = lambda x: resize(rgb2gray(x), (100,100))"
   ]
  },
  {
   "cell_type": "code",
   "execution_count": 11,
   "metadata": {},
   "outputs": [
    {
     "name": "stdout",
     "output_type": "stream",
     "text": [
      "0/320 images\n",
      "1/320 images\n",
      "2/320 images\n",
      "3/320 images\n",
      "4/320 images\n",
      "5/320 images\n",
      "6/320 images\n",
      "7/320 images\n",
      "8/320 images\n",
      "9/320 images\n",
      "10/320 images\n",
      "11/320 images\n",
      "12/320 images\n",
      "13/320 images\n",
      "14/320 images\n",
      "15/320 images\n",
      "16/320 images\n",
      "17/320 images\n",
      "18/320 images\n",
      "19/320 images\n",
      "20/320 images\n",
      "21/320 images\n",
      "22/320 images\n",
      "23/320 images\n",
      "24/320 images\n",
      "25/320 images\n",
      "26/320 images\n",
      "27/320 images\n",
      "28/320 images\n",
      "29/320 images\n",
      "30/320 images\n",
      "31/320 images\n",
      "32/320 images\n",
      "33/320 images\n",
      "34/320 images\n",
      "35/320 images\n",
      "36/320 images\n",
      "37/320 images\n",
      "38/320 images\n",
      "39/320 images\n",
      "40/320 images\n",
      "41/320 images\n",
      "42/320 images\n",
      "43/320 images\n",
      "44/320 images\n",
      "45/320 images\n",
      "46/320 images\n",
      "47/320 images\n",
      "48/320 images\n",
      "49/320 images\n",
      "50/320 images\n",
      "51/320 images\n",
      "52/320 images\n",
      "53/320 images\n",
      "54/320 images\n",
      "55/320 images\n",
      "56/320 images\n",
      "57/320 images\n",
      "58/320 images\n",
      "59/320 images\n",
      "60/320 images\n",
      "61/320 images\n",
      "62/320 images\n",
      "63/320 images\n",
      "64/320 images\n",
      "65/320 images\n",
      "66/320 images\n",
      "67/320 images\n",
      "68/320 images\n",
      "69/320 images\n",
      "70/320 images\n",
      "71/320 images\n",
      "72/320 images\n",
      "73/320 images\n",
      "74/320 images\n",
      "75/320 images\n",
      "76/320 images\n",
      "77/320 images\n",
      "78/320 images\n",
      "79/320 images\n",
      "80/320 images\n",
      "81/320 images\n",
      "82/320 images\n",
      "83/320 images\n",
      "84/320 images\n",
      "85/320 images\n",
      "86/320 images\n",
      "87/320 images\n",
      "88/320 images\n",
      "89/320 images\n",
      "90/320 images\n",
      "91/320 images\n",
      "92/320 images\n",
      "93/320 images\n",
      "94/320 images\n",
      "95/320 images\n",
      "96/320 images\n",
      "97/320 images\n",
      "98/320 images\n",
      "99/320 images\n",
      "100/320 images\n",
      "101/320 images\n",
      "102/320 images\n",
      "103/320 images\n",
      "104/320 images\n",
      "105/320 images\n",
      "106/320 images\n",
      "107/320 images\n",
      "108/320 images\n",
      "109/320 images\n",
      "110/320 images\n",
      "111/320 images\n",
      "112/320 images\n",
      "113/320 images\n",
      "114/320 images\n",
      "115/320 images\n",
      "116/320 images\n",
      "117/320 images\n",
      "118/320 images\n",
      "119/320 images\n",
      "120/320 images\n",
      "121/320 images\n",
      "122/320 images\n",
      "123/320 images\n",
      "124/320 images\n",
      "125/320 images\n",
      "126/320 images\n",
      "127/320 images\n",
      "128/320 images\n",
      "129/320 images\n",
      "130/320 images\n",
      "131/320 images\n",
      "132/320 images\n",
      "133/320 images\n",
      "134/320 images\n",
      "135/320 images\n",
      "136/320 images\n",
      "137/320 images\n",
      "138/320 images\n",
      "139/320 images\n",
      "140/320 images\n",
      "141/320 images\n",
      "142/320 images\n",
      "143/320 images\n",
      "144/320 images\n",
      "145/320 images\n",
      "146/320 images\n",
      "147/320 images\n",
      "148/320 images\n",
      "149/320 images\n",
      "150/320 images\n",
      "151/320 images\n",
      "152/320 images\n",
      "153/320 images\n",
      "154/320 images\n",
      "155/320 images\n",
      "156/320 images\n",
      "157/320 images\n",
      "158/320 images\n",
      "159/320 images\n",
      "160/320 images\n",
      "161/320 images\n",
      "162/320 images\n",
      "163/320 images\n",
      "164/320 images\n",
      "165/320 images\n",
      "166/320 images\n",
      "167/320 images\n",
      "168/320 images\n",
      "169/320 images\n",
      "170/320 images\n",
      "171/320 images\n",
      "172/320 images\n",
      "173/320 images\n",
      "174/320 images\n",
      "175/320 images\n",
      "176/320 images\n",
      "177/320 images\n",
      "178/320 images\n",
      "179/320 images\n",
      "180/320 images\n",
      "181/320 images\n",
      "182/320 images\n",
      "183/320 images\n",
      "184/320 images\n",
      "185/320 images\n",
      "186/320 images\n",
      "187/320 images\n",
      "188/320 images\n",
      "189/320 images\n",
      "190/320 images\n",
      "191/320 images\n",
      "192/320 images\n",
      "193/320 images\n",
      "194/320 images\n",
      "195/320 images\n",
      "196/320 images\n",
      "197/320 images\n",
      "198/320 images\n",
      "199/320 images\n",
      "200/320 images\n",
      "201/320 images\n",
      "202/320 images\n",
      "203/320 images\n",
      "204/320 images\n",
      "205/320 images\n",
      "206/320 images\n",
      "207/320 images\n",
      "208/320 images\n",
      "209/320 images\n",
      "210/320 images\n",
      "211/320 images\n",
      "212/320 images\n",
      "213/320 images\n",
      "214/320 images\n",
      "215/320 images\n",
      "216/320 images\n",
      "217/320 images\n",
      "218/320 images\n",
      "219/320 images\n",
      "220/320 images\n",
      "221/320 images\n",
      "222/320 images\n",
      "223/320 images\n",
      "224/320 images\n",
      "225/320 images\n",
      "226/320 images\n",
      "227/320 images\n",
      "228/320 images\n",
      "229/320 images\n",
      "230/320 images\n",
      "231/320 images\n",
      "232/320 images\n",
      "233/320 images\n",
      "234/320 images\n",
      "235/320 images\n",
      "236/320 images\n",
      "237/320 images\n",
      "238/320 images\n",
      "239/320 images\n",
      "240/320 images\n",
      "241/320 images\n",
      "242/320 images\n",
      "243/320 images\n",
      "244/320 images\n",
      "245/320 images\n",
      "246/320 images\n",
      "247/320 images\n",
      "248/320 images\n",
      "249/320 images\n",
      "250/320 images\n",
      "251/320 images\n",
      "252/320 images\n",
      "253/320 images\n",
      "254/320 images\n",
      "255/320 images\n",
      "256/320 images\n",
      "257/320 images\n",
      "258/320 images\n",
      "259/320 images\n",
      "260/320 images\n",
      "261/320 images\n",
      "262/320 images\n",
      "263/320 images\n",
      "264/320 images\n",
      "265/320 images\n",
      "266/320 images\n",
      "267/320 images\n",
      "268/320 images\n",
      "269/320 images\n",
      "270/320 images\n",
      "271/320 images\n",
      "272/320 images\n",
      "273/320 images\n",
      "274/320 images\n",
      "275/320 images\n",
      "276/320 images\n",
      "277/320 images\n",
      "278/320 images\n",
      "279/320 images\n",
      "280/320 images\n",
      "281/320 images\n",
      "282/320 images\n",
      "283/320 images\n",
      "284/320 images\n",
      "285/320 images\n",
      "286/320 images\n",
      "287/320 images\n",
      "288/320 images\n",
      "289/320 images\n",
      "290/320 images\n",
      "291/320 images\n",
      "292/320 images\n",
      "293/320 images\n",
      "294/320 images\n",
      "295/320 images\n",
      "296/320 images\n",
      "297/320 images\n",
      "298/320 images\n",
      "299/320 images\n",
      "300/320 images\n",
      "301/320 images\n",
      "302/320 images\n",
      "303/320 images\n",
      "304/320 images\n",
      "305/320 images\n",
      "306/320 images\n",
      "307/320 images\n",
      "308/320 images\n",
      "309/320 images\n",
      "310/320 images\n",
      "311/320 images\n",
      "312/320 images\n",
      "313/320 images\n",
      "314/320 images\n",
      "315/320 images\n",
      "316/320 images\n",
      "317/320 images\n",
      "318/320 images\n",
      "319/320 images\n"
     ]
    }
   ],
   "source": [
    "aug_pairs = list( [(featurize(x),y) for x,y in \\\n",
    "                    augment( images_train, labels_train, factor=4 )] )"
   ]
  },
  {
   "cell_type": "code",
   "execution_count": 12,
   "metadata": {},
   "outputs": [],
   "source": [
    "# build X and y from augmented images\n",
    "X_train = np.stack( [x for x,y in aug_pairs] )\n",
    "y_train = np.stack( [y for x,y in aug_pairs] )"
   ]
  },
  {
   "cell_type": "code",
   "execution_count": 13,
   "metadata": {},
   "outputs": [],
   "source": [
    "# featurize test images\n",
    "X_test = np.stack( [featurize(x) for x in images_test] )\n",
    "y_test = labels_test"
   ]
  },
  {
   "cell_type": "code",
   "execution_count": 14,
   "metadata": {},
   "outputs": [],
   "source": [
    "# tensorflow needs each image sample to be 1-channel, not 0-channel\n",
    "X_train = np.expand_dims( X_train, axis=3 )\n",
    "X_test = np.expand_dims( X_test, axis=3 )"
   ]
  },
  {
   "cell_type": "markdown",
   "metadata": {},
   "source": [
    "The next step is to define a model using the standard `Keras` format. The most simple Keras model is a `Sequential` model, which takes several \"layers\" that have input and output tensors (i.e, multidimensional arrays) of consistent size.\n",
    "\n",
    "The following sequential model is one of the simplest possible models, with a single convolution filter, followed by a flattening of the output and the application of a fully connected sigmoid layer."
   ]
  },
  {
   "cell_type": "code",
   "execution_count": 16,
   "metadata": {},
   "outputs": [],
   "source": [
    "# a few unusual things here\n",
    "# * use a 5x5 kernal\n",
    "# * avoid applying an activation function to the outout using \"linear\"\n",
    "# * regularize the kernal to avoid large parameters\n",
    "\n",
    "model = models.Sequential()\n",
    "model.add(layers.Conv2D(1, (5, 5), activation='linear', \n",
    "                        input_shape=(100, 100, 1),\n",
    "                        kernel_regularizer=regularizers.l2(0.003)))"
   ]
  },
  {
   "cell_type": "code",
   "execution_count": 17,
   "metadata": {},
   "outputs": [
    {
     "name": "stdout",
     "output_type": "stream",
     "text": [
      "Model: \"sequential_1\"\n",
      "_________________________________________________________________\n",
      "Layer (type)                 Output Shape              Param #   \n",
      "=================================================================\n",
      "conv2d_1 (Conv2D)            (None, 96, 96, 1)         26        \n",
      "=================================================================\n",
      "Total params: 26\n",
      "Trainable params: 26\n",
      "Non-trainable params: 0\n",
      "_________________________________________________________________\n"
     ]
    }
   ],
   "source": [
    "model.summary()"
   ]
  },
  {
   "cell_type": "code",
   "execution_count": 18,
   "metadata": {},
   "outputs": [
    {
     "data": {
      "text/plain": [
       "0.5375"
      ]
     },
     "execution_count": 18,
     "metadata": {},
     "output_type": "execute_result"
    }
   ],
   "source": [
    "1-y_test.mean()"
   ]
  },
  {
   "cell_type": "code",
   "execution_count": 19,
   "metadata": {},
   "outputs": [],
   "source": [
    "model.add(layers.Flatten())\n",
    "model.add(layers.Dense(1, activation='sigmoid',\n",
    "                      kernel_regularizer=regularizers.l2(0.003)))"
   ]
  },
  {
   "cell_type": "code",
   "execution_count": 20,
   "metadata": {},
   "outputs": [
    {
     "name": "stdout",
     "output_type": "stream",
     "text": [
      "Train on 1280 samples, validate on 80 samples\n",
      "Epoch 1/100\n",
      "1280/1280 [==============================] - 3s 3ms/sample - loss: 0.7235 - accuracy: 0.5203 - val_loss: 0.7015 - val_accuracy: 0.5250\n",
      "Epoch 2/100\n",
      "1280/1280 [==============================] - 3s 2ms/sample - loss: 0.6751 - accuracy: 0.6195 - val_loss: 0.7062 - val_accuracy: 0.5125\n",
      "Epoch 3/100\n",
      "1280/1280 [==============================] - 3s 2ms/sample - loss: 0.6482 - accuracy: 0.6633 - val_loss: 0.7095 - val_accuracy: 0.5250\n",
      "Epoch 4/100\n",
      "1280/1280 [==============================] - 3s 2ms/sample - loss: 0.6235 - accuracy: 0.6945 - val_loss: 0.7204 - val_accuracy: 0.5375\n",
      "Epoch 5/100\n",
      "1280/1280 [==============================] - 3s 2ms/sample - loss: 0.6021 - accuracy: 0.7188 - val_loss: 0.7368 - val_accuracy: 0.5375\n",
      "Epoch 6/100\n",
      "1280/1280 [==============================] - 3s 2ms/sample - loss: 0.5810 - accuracy: 0.7383 - val_loss: 0.7343 - val_accuracy: 0.5000\n",
      "Epoch 7/100\n",
      "1280/1280 [==============================] - 3s 2ms/sample - loss: 0.5628 - accuracy: 0.7437 - val_loss: 0.7505 - val_accuracy: 0.5125\n",
      "Epoch 8/100\n",
      "1280/1280 [==============================] - 3s 2ms/sample - loss: 0.5439 - accuracy: 0.7578 - val_loss: 0.7717 - val_accuracy: 0.4625\n",
      "Epoch 9/100\n",
      "1280/1280 [==============================] - 3s 2ms/sample - loss: 0.5245 - accuracy: 0.7789 - val_loss: 0.7727 - val_accuracy: 0.5250\n",
      "Epoch 10/100\n",
      "1280/1280 [==============================] - 3s 2ms/sample - loss: 0.5117 - accuracy: 0.7945 - val_loss: 0.7898 - val_accuracy: 0.5000\n",
      "Epoch 11/100\n",
      "1280/1280 [==============================] - 3s 2ms/sample - loss: 0.4966 - accuracy: 0.7930 - val_loss: 0.7953 - val_accuracy: 0.5000\n",
      "Epoch 12/100\n",
      "1280/1280 [==============================] - 3s 2ms/sample - loss: 0.4793 - accuracy: 0.8156 - val_loss: 0.8235 - val_accuracy: 0.5250\n",
      "Epoch 13/100\n",
      "1280/1280 [==============================] - 3s 2ms/sample - loss: 0.4654 - accuracy: 0.8219 - val_loss: 0.8339 - val_accuracy: 0.5250\n",
      "Epoch 14/100\n",
      "1280/1280 [==============================] - 3s 2ms/sample - loss: 0.4526 - accuracy: 0.8352 - val_loss: 0.8683 - val_accuracy: 0.5000\n",
      "Epoch 15/100\n",
      "1280/1280 [==============================] - 3s 2ms/sample - loss: 0.4418 - accuracy: 0.8500 - val_loss: 0.8492 - val_accuracy: 0.5250\n",
      "Epoch 16/100\n",
      "1280/1280 [==============================] - 3s 2ms/sample - loss: 0.4293 - accuracy: 0.8531 - val_loss: 0.8863 - val_accuracy: 0.5125\n",
      "Epoch 17/100\n",
      "1280/1280 [==============================] - 3s 2ms/sample - loss: 0.4183 - accuracy: 0.8641 - val_loss: 0.9055 - val_accuracy: 0.5375\n",
      "Epoch 18/100\n",
      "1280/1280 [==============================] - 3s 2ms/sample - loss: 0.4098 - accuracy: 0.8648 - val_loss: 0.8996 - val_accuracy: 0.5375\n",
      "Epoch 19/100\n",
      "1280/1280 [==============================] - 3s 2ms/sample - loss: 0.3988 - accuracy: 0.8773 - val_loss: 0.9322 - val_accuracy: 0.5250\n",
      "Epoch 20/100\n",
      "1280/1280 [==============================] - 3s 2ms/sample - loss: 0.3887 - accuracy: 0.8945 - val_loss: 0.9320 - val_accuracy: 0.5250\n",
      "Epoch 21/100\n",
      "1280/1280 [==============================] - 3s 2ms/sample - loss: 0.3794 - accuracy: 0.9016 - val_loss: 0.9495 - val_accuracy: 0.5375\n",
      "Epoch 22/100\n",
      "1280/1280 [==============================] - 3s 2ms/sample - loss: 0.3729 - accuracy: 0.8969 - val_loss: 0.9653 - val_accuracy: 0.5375\n",
      "Epoch 23/100\n",
      "1280/1280 [==============================] - 3s 2ms/sample - loss: 0.3668 - accuracy: 0.9055 - val_loss: 0.9761 - val_accuracy: 0.5125\n",
      "Epoch 24/100\n",
      "1280/1280 [==============================] - 3s 2ms/sample - loss: 0.3580 - accuracy: 0.9062 - val_loss: 1.0024 - val_accuracy: 0.5125\n",
      "Epoch 25/100\n",
      "1280/1280 [==============================] - 3s 2ms/sample - loss: 0.3498 - accuracy: 0.9148 - val_loss: 1.0209 - val_accuracy: 0.5125\n",
      "Epoch 26/100\n",
      "1280/1280 [==============================] - 4s 3ms/sample - loss: 0.3414 - accuracy: 0.9250 - val_loss: 1.0415 - val_accuracy: 0.5625\n",
      "Epoch 27/100\n",
      "1280/1280 [==============================] - 3s 3ms/sample - loss: 0.3351 - accuracy: 0.9273 - val_loss: 1.0432 - val_accuracy: 0.5375\n",
      "Epoch 28/100\n",
      "1280/1280 [==============================] - 3s 2ms/sample - loss: 0.3296 - accuracy: 0.9297 - val_loss: 1.0444 - val_accuracy: 0.5250\n",
      "Epoch 29/100\n",
      "1280/1280 [==============================] - 3s 2ms/sample - loss: 0.3228 - accuracy: 0.9375 - val_loss: 1.0799 - val_accuracy: 0.5375\n",
      "Epoch 30/100\n",
      "1280/1280 [==============================] - 3s 2ms/sample - loss: 0.3194 - accuracy: 0.9422 - val_loss: 1.0734 - val_accuracy: 0.5625\n",
      "Epoch 31/100\n",
      "1280/1280 [==============================] - 3s 2ms/sample - loss: 0.3139 - accuracy: 0.9438 - val_loss: 1.1078 - val_accuracy: 0.5250\n",
      "Epoch 32/100\n",
      "1280/1280 [==============================] - 3s 2ms/sample - loss: 0.3062 - accuracy: 0.9500 - val_loss: 1.1207 - val_accuracy: 0.5750\n",
      "Epoch 33/100\n",
      "1280/1280 [==============================] - 3s 2ms/sample - loss: 0.3019 - accuracy: 0.9523 - val_loss: 1.1156 - val_accuracy: 0.5625\n",
      "Epoch 34/100\n",
      "1280/1280 [==============================] - 3s 2ms/sample - loss: 0.2965 - accuracy: 0.9523 - val_loss: 1.1282 - val_accuracy: 0.5500\n",
      "Epoch 35/100\n",
      "1280/1280 [==============================] - 3s 2ms/sample - loss: 0.2911 - accuracy: 0.9609 - val_loss: 1.1728 - val_accuracy: 0.5750\n",
      "Epoch 36/100\n",
      "1280/1280 [==============================] - 4s 3ms/sample - loss: 0.2880 - accuracy: 0.9625 - val_loss: 1.1519 - val_accuracy: 0.5625\n",
      "Epoch 37/100\n",
      "1280/1280 [==============================] - 4s 3ms/sample - loss: 0.2841 - accuracy: 0.9633 - val_loss: 1.1724 - val_accuracy: 0.5500\n",
      "Epoch 38/100\n",
      "1280/1280 [==============================] - 3s 2ms/sample - loss: 0.2771 - accuracy: 0.9734 - val_loss: 1.1769 - val_accuracy: 0.5500\n",
      "Epoch 39/100\n",
      "1280/1280 [==============================] - 3s 2ms/sample - loss: 0.2765 - accuracy: 0.9695 - val_loss: 1.1855 - val_accuracy: 0.5625\n",
      "Epoch 40/100\n",
      "1280/1280 [==============================] - 3s 2ms/sample - loss: 0.2755 - accuracy: 0.9672 - val_loss: 1.1807 - val_accuracy: 0.5500\n",
      "Epoch 41/100\n",
      "1280/1280 [==============================] - 3s 2ms/sample - loss: 0.2670 - accuracy: 0.9766 - val_loss: 1.2388 - val_accuracy: 0.5500\n",
      "Epoch 42/100\n",
      "1280/1280 [==============================] - 3s 2ms/sample - loss: 0.2663 - accuracy: 0.9766 - val_loss: 1.2114 - val_accuracy: 0.5625\n",
      "Epoch 43/100\n",
      "1280/1280 [==============================] - 3s 2ms/sample - loss: 0.2630 - accuracy: 0.9766 - val_loss: 1.2365 - val_accuracy: 0.5500\n",
      "Epoch 44/100\n",
      "1280/1280 [==============================] - 3s 2ms/sample - loss: 0.2589 - accuracy: 0.9766 - val_loss: 1.2262 - val_accuracy: 0.5750\n",
      "Epoch 45/100\n",
      " 800/1280 [=================>............] - ETA: 1s - loss: 0.2499 - accuracy: 0.9862"
     ]
    },
    {
     "ename": "KeyboardInterrupt",
     "evalue": "",
     "output_type": "error",
     "traceback": [
      "\u001b[0;31m---------------------------------------------------------------------------\u001b[0m",
      "\u001b[0;31mKeyboardInterrupt\u001b[0m                         Traceback (most recent call last)",
      "\u001b[0;32m<ipython-input-20-378315238637>\u001b[0m in \u001b[0;36m<module>\u001b[0;34m\u001b[0m\n\u001b[1;32m      3\u001b[0m               metrics=['accuracy'])\n\u001b[1;32m      4\u001b[0m \u001b[0;34m\u001b[0m\u001b[0m\n\u001b[0;32m----> 5\u001b[0;31m \u001b[0mmodel\u001b[0m\u001b[0;34m.\u001b[0m\u001b[0mfit\u001b[0m\u001b[0;34m(\u001b[0m\u001b[0mX_train\u001b[0m\u001b[0;34m,\u001b[0m \u001b[0my_train\u001b[0m\u001b[0;34m,\u001b[0m \u001b[0mepochs\u001b[0m\u001b[0;34m=\u001b[0m\u001b[0;36m100\u001b[0m\u001b[0;34m,\u001b[0m \u001b[0mvalidation_data\u001b[0m\u001b[0;34m=\u001b[0m\u001b[0;34m(\u001b[0m\u001b[0mX_test\u001b[0m\u001b[0;34m,\u001b[0m \u001b[0my_test\u001b[0m\u001b[0;34m)\u001b[0m\u001b[0;34m)\u001b[0m\u001b[0;34m\u001b[0m\u001b[0m\n\u001b[0m",
      "\u001b[0;32m/usr/local/lib/python3.5/dist-packages/tensorflow/python/keras/engine/training.py\u001b[0m in \u001b[0;36mfit\u001b[0;34m(self, x, y, batch_size, epochs, verbose, callbacks, validation_split, validation_data, shuffle, class_weight, sample_weight, initial_epoch, steps_per_epoch, validation_steps, validation_freq, max_queue_size, workers, use_multiprocessing, **kwargs)\u001b[0m\n\u001b[1;32m    871\u001b[0m           \u001b[0mvalidation_steps\u001b[0m\u001b[0;34m=\u001b[0m\u001b[0mvalidation_steps\u001b[0m\u001b[0;34m,\u001b[0m\u001b[0;34m\u001b[0m\u001b[0m\n\u001b[1;32m    872\u001b[0m           \u001b[0mvalidation_freq\u001b[0m\u001b[0;34m=\u001b[0m\u001b[0mvalidation_freq\u001b[0m\u001b[0;34m,\u001b[0m\u001b[0;34m\u001b[0m\u001b[0m\n\u001b[0;32m--> 873\u001b[0;31m           steps_name='steps_per_epoch')\n\u001b[0m\u001b[1;32m    874\u001b[0m \u001b[0;34m\u001b[0m\u001b[0m\n\u001b[1;32m    875\u001b[0m   def evaluate(self,\n",
      "\u001b[0;32m/usr/local/lib/python3.5/dist-packages/tensorflow/python/keras/engine/training_arrays.py\u001b[0m in \u001b[0;36mmodel_iteration\u001b[0;34m(model, inputs, targets, sample_weights, batch_size, epochs, verbose, callbacks, val_inputs, val_targets, val_sample_weights, shuffle, initial_epoch, steps_per_epoch, validation_steps, validation_freq, mode, validation_in_fit, prepared_feed_values_from_dataset, steps_name, **kwargs)\u001b[0m\n\u001b[1;32m    362\u001b[0m         \u001b[0mbatch_logs\u001b[0m \u001b[0;34m=\u001b[0m \u001b[0mcbks\u001b[0m\u001b[0;34m.\u001b[0m\u001b[0mmake_logs\u001b[0m\u001b[0;34m(\u001b[0m\u001b[0mmodel\u001b[0m\u001b[0;34m,\u001b[0m \u001b[0mbatch_logs\u001b[0m\u001b[0;34m,\u001b[0m \u001b[0mbatch_outs\u001b[0m\u001b[0;34m,\u001b[0m \u001b[0mmode\u001b[0m\u001b[0;34m)\u001b[0m\u001b[0;34m\u001b[0m\u001b[0m\n\u001b[1;32m    363\u001b[0m         \u001b[0mcallbacks\u001b[0m\u001b[0;34m.\u001b[0m\u001b[0m_call_batch_hook\u001b[0m\u001b[0;34m(\u001b[0m\u001b[0mmode\u001b[0m\u001b[0;34m,\u001b[0m \u001b[0;34m'end'\u001b[0m\u001b[0;34m,\u001b[0m \u001b[0mbatch_index\u001b[0m\u001b[0;34m,\u001b[0m \u001b[0mbatch_logs\u001b[0m\u001b[0;34m)\u001b[0m\u001b[0;34m\u001b[0m\u001b[0m\n\u001b[0;32m--> 364\u001b[0;31m         \u001b[0mprogbar\u001b[0m\u001b[0;34m.\u001b[0m\u001b[0mon_batch_end\u001b[0m\u001b[0;34m(\u001b[0m\u001b[0mbatch_index\u001b[0m\u001b[0;34m,\u001b[0m \u001b[0mbatch_logs\u001b[0m\u001b[0;34m)\u001b[0m\u001b[0;34m\u001b[0m\u001b[0m\n\u001b[0m\u001b[1;32m    365\u001b[0m \u001b[0;34m\u001b[0m\u001b[0m\n\u001b[1;32m    366\u001b[0m         \u001b[0;32mif\u001b[0m \u001b[0mcallbacks\u001b[0m\u001b[0;34m.\u001b[0m\u001b[0mmodel\u001b[0m\u001b[0;34m.\u001b[0m\u001b[0mstop_training\u001b[0m\u001b[0;34m:\u001b[0m\u001b[0;34m\u001b[0m\u001b[0m\n",
      "\u001b[0;32m/usr/local/lib/python3.5/dist-packages/tensorflow/python/keras/callbacks.py\u001b[0m in \u001b[0;36mon_batch_end\u001b[0;34m(self, batch, logs)\u001b[0m\n\u001b[1;32m    749\u001b[0m     \u001b[0;31m# will be handled by on_epoch_end.\u001b[0m\u001b[0;34m\u001b[0m\u001b[0;34m\u001b[0m\u001b[0m\n\u001b[1;32m    750\u001b[0m     \u001b[0;32mif\u001b[0m \u001b[0mself\u001b[0m\u001b[0;34m.\u001b[0m\u001b[0mverbose\u001b[0m \u001b[0;32mand\u001b[0m \u001b[0;34m(\u001b[0m\u001b[0mself\u001b[0m\u001b[0;34m.\u001b[0m\u001b[0mtarget\u001b[0m \u001b[0;32mis\u001b[0m \u001b[0;32mNone\u001b[0m \u001b[0;32mor\u001b[0m \u001b[0mself\u001b[0m\u001b[0;34m.\u001b[0m\u001b[0mseen\u001b[0m \u001b[0;34m<\u001b[0m \u001b[0mself\u001b[0m\u001b[0;34m.\u001b[0m\u001b[0mtarget\u001b[0m\u001b[0;34m)\u001b[0m\u001b[0;34m:\u001b[0m\u001b[0;34m\u001b[0m\u001b[0m\n\u001b[0;32m--> 751\u001b[0;31m       \u001b[0mself\u001b[0m\u001b[0;34m.\u001b[0m\u001b[0mprogbar\u001b[0m\u001b[0;34m.\u001b[0m\u001b[0mupdate\u001b[0m\u001b[0;34m(\u001b[0m\u001b[0mself\u001b[0m\u001b[0;34m.\u001b[0m\u001b[0mseen\u001b[0m\u001b[0;34m,\u001b[0m \u001b[0mself\u001b[0m\u001b[0;34m.\u001b[0m\u001b[0mlog_values\u001b[0m\u001b[0;34m)\u001b[0m\u001b[0;34m\u001b[0m\u001b[0m\n\u001b[0m\u001b[1;32m    752\u001b[0m \u001b[0;34m\u001b[0m\u001b[0m\n\u001b[1;32m    753\u001b[0m   \u001b[0;32mdef\u001b[0m \u001b[0mon_epoch_end\u001b[0m\u001b[0;34m(\u001b[0m\u001b[0mself\u001b[0m\u001b[0;34m,\u001b[0m \u001b[0mepoch\u001b[0m\u001b[0;34m,\u001b[0m \u001b[0mlogs\u001b[0m\u001b[0;34m=\u001b[0m\u001b[0;32mNone\u001b[0m\u001b[0;34m)\u001b[0m\u001b[0;34m:\u001b[0m\u001b[0;34m\u001b[0m\u001b[0m\n",
      "\u001b[0;32m/usr/local/lib/python3.5/dist-packages/tensorflow/python/keras/utils/generic_utils.py\u001b[0m in \u001b[0;36mupdate\u001b[0;34m(self, current, values)\u001b[0m\n\u001b[1;32m    453\u001b[0m \u001b[0;34m\u001b[0m\u001b[0m\n\u001b[1;32m    454\u001b[0m       \u001b[0msys\u001b[0m\u001b[0;34m.\u001b[0m\u001b[0mstdout\u001b[0m\u001b[0;34m.\u001b[0m\u001b[0mwrite\u001b[0m\u001b[0;34m(\u001b[0m\u001b[0minfo\u001b[0m\u001b[0;34m)\u001b[0m\u001b[0;34m\u001b[0m\u001b[0m\n\u001b[0;32m--> 455\u001b[0;31m       \u001b[0msys\u001b[0m\u001b[0;34m.\u001b[0m\u001b[0mstdout\u001b[0m\u001b[0;34m.\u001b[0m\u001b[0mflush\u001b[0m\u001b[0;34m(\u001b[0m\u001b[0;34m)\u001b[0m\u001b[0;34m\u001b[0m\u001b[0m\n\u001b[0m\u001b[1;32m    456\u001b[0m \u001b[0;34m\u001b[0m\u001b[0m\n\u001b[1;32m    457\u001b[0m     \u001b[0;32melif\u001b[0m \u001b[0mself\u001b[0m\u001b[0;34m.\u001b[0m\u001b[0mverbose\u001b[0m \u001b[0;34m==\u001b[0m \u001b[0;36m2\u001b[0m\u001b[0;34m:\u001b[0m\u001b[0;34m\u001b[0m\u001b[0m\n",
      "\u001b[0;32m/usr/local/lib/python3.5/dist-packages/ipykernel/iostream.py\u001b[0m in \u001b[0;36mflush\u001b[0;34m(self)\u001b[0m\n\u001b[1;32m    347\u001b[0m                 \u001b[0mself\u001b[0m\u001b[0;34m.\u001b[0m\u001b[0mpub_thread\u001b[0m\u001b[0;34m.\u001b[0m\u001b[0mschedule\u001b[0m\u001b[0;34m(\u001b[0m\u001b[0mevt\u001b[0m\u001b[0;34m.\u001b[0m\u001b[0mset\u001b[0m\u001b[0;34m)\u001b[0m\u001b[0;34m\u001b[0m\u001b[0m\n\u001b[1;32m    348\u001b[0m                 \u001b[0;31m# and give a timeout to avoid\u001b[0m\u001b[0;34m\u001b[0m\u001b[0;34m\u001b[0m\u001b[0m\n\u001b[0;32m--> 349\u001b[0;31m                 \u001b[0;32mif\u001b[0m \u001b[0;32mnot\u001b[0m \u001b[0mevt\u001b[0m\u001b[0;34m.\u001b[0m\u001b[0mwait\u001b[0m\u001b[0;34m(\u001b[0m\u001b[0mself\u001b[0m\u001b[0;34m.\u001b[0m\u001b[0mflush_timeout\u001b[0m\u001b[0;34m)\u001b[0m\u001b[0;34m:\u001b[0m\u001b[0;34m\u001b[0m\u001b[0m\n\u001b[0m\u001b[1;32m    350\u001b[0m                     \u001b[0;31m# write directly to __stderr__ instead of warning because\u001b[0m\u001b[0;34m\u001b[0m\u001b[0;34m\u001b[0m\u001b[0m\n\u001b[1;32m    351\u001b[0m                     \u001b[0;31m# if this is happening sys.stderr may be the problem.\u001b[0m\u001b[0;34m\u001b[0m\u001b[0;34m\u001b[0m\u001b[0m\n",
      "\u001b[0;32m/usr/lib/python3.5/threading.py\u001b[0m in \u001b[0;36mwait\u001b[0;34m(self, timeout)\u001b[0m\n\u001b[1;32m    547\u001b[0m             \u001b[0msignaled\u001b[0m \u001b[0;34m=\u001b[0m \u001b[0mself\u001b[0m\u001b[0;34m.\u001b[0m\u001b[0m_flag\u001b[0m\u001b[0;34m\u001b[0m\u001b[0m\n\u001b[1;32m    548\u001b[0m             \u001b[0;32mif\u001b[0m \u001b[0;32mnot\u001b[0m \u001b[0msignaled\u001b[0m\u001b[0;34m:\u001b[0m\u001b[0;34m\u001b[0m\u001b[0m\n\u001b[0;32m--> 549\u001b[0;31m                 \u001b[0msignaled\u001b[0m \u001b[0;34m=\u001b[0m \u001b[0mself\u001b[0m\u001b[0;34m.\u001b[0m\u001b[0m_cond\u001b[0m\u001b[0;34m.\u001b[0m\u001b[0mwait\u001b[0m\u001b[0;34m(\u001b[0m\u001b[0mtimeout\u001b[0m\u001b[0;34m)\u001b[0m\u001b[0;34m\u001b[0m\u001b[0m\n\u001b[0m\u001b[1;32m    550\u001b[0m             \u001b[0;32mreturn\u001b[0m \u001b[0msignaled\u001b[0m\u001b[0;34m\u001b[0m\u001b[0m\n\u001b[1;32m    551\u001b[0m \u001b[0;34m\u001b[0m\u001b[0m\n",
      "\u001b[0;32m/usr/lib/python3.5/threading.py\u001b[0m in \u001b[0;36mwait\u001b[0;34m(self, timeout)\u001b[0m\n\u001b[1;32m    295\u001b[0m             \u001b[0;32melse\u001b[0m\u001b[0;34m:\u001b[0m\u001b[0;34m\u001b[0m\u001b[0m\n\u001b[1;32m    296\u001b[0m                 \u001b[0;32mif\u001b[0m \u001b[0mtimeout\u001b[0m \u001b[0;34m>\u001b[0m \u001b[0;36m0\u001b[0m\u001b[0;34m:\u001b[0m\u001b[0;34m\u001b[0m\u001b[0m\n\u001b[0;32m--> 297\u001b[0;31m                     \u001b[0mgotit\u001b[0m \u001b[0;34m=\u001b[0m \u001b[0mwaiter\u001b[0m\u001b[0;34m.\u001b[0m\u001b[0macquire\u001b[0m\u001b[0;34m(\u001b[0m\u001b[0;32mTrue\u001b[0m\u001b[0;34m,\u001b[0m \u001b[0mtimeout\u001b[0m\u001b[0;34m)\u001b[0m\u001b[0;34m\u001b[0m\u001b[0m\n\u001b[0m\u001b[1;32m    298\u001b[0m                 \u001b[0;32melse\u001b[0m\u001b[0;34m:\u001b[0m\u001b[0;34m\u001b[0m\u001b[0m\n\u001b[1;32m    299\u001b[0m                     \u001b[0mgotit\u001b[0m \u001b[0;34m=\u001b[0m \u001b[0mwaiter\u001b[0m\u001b[0;34m.\u001b[0m\u001b[0macquire\u001b[0m\u001b[0;34m(\u001b[0m\u001b[0;32mFalse\u001b[0m\u001b[0;34m)\u001b[0m\u001b[0;34m\u001b[0m\u001b[0m\n",
      "\u001b[0;31mKeyboardInterrupt\u001b[0m: "
     ]
    }
   ],
   "source": [
    "model.compile(optimizer='adam',\n",
    "              loss='binary_crossentropy',\n",
    "              metrics=['accuracy'])\n",
    "\n",
    "model.fit(X_train, y_train, epochs=100, validation_data=(X_test, y_test))"
   ]
  },
  {
   "cell_type": "markdown",
   "metadata": {},
   "source": [
    "Let's grab a single image and see the input and output of each layer..."
   ]
  },
  {
   "cell_type": "code",
   "execution_count": 21,
   "metadata": {},
   "outputs": [],
   "source": [
    "i = 5\n",
    "last_img = X_test[i:i+1]"
   ]
  },
  {
   "cell_type": "code",
   "execution_count": 22,
   "metadata": {},
   "outputs": [
    {
     "data": {
      "text/plain": [
       "<matplotlib.image.AxesImage at 0x7f828ede3550>"
      ]
     },
     "execution_count": 22,
     "metadata": {},
     "output_type": "execute_result"
    },
    {
     "data": {
      "image/png": "[encoded data removed]",
      "text/plain": [
       "<Figure size 432x288 with 1 Axes>"
      ]
     },
     "metadata": {
      "needs_background": "light"
     },
     "output_type": "display_data"
    }
   ],
   "source": [
    "imshow( last_img[0,:,:,0] )"
   ]
  },
  {
   "cell_type": "markdown",
   "metadata": {},
   "source": [
    "`model.layers` contains all the layers.."
   ]
  },
  {
   "cell_type": "code",
   "execution_count": 23,
   "metadata": {},
   "outputs": [
    {
     "data": {
      "text/plain": [
       "[<tensorflow.python.keras.layers.convolutional.Conv2D at 0x7f82c4234f98>,\n",
       " <tensorflow.python.keras.layers.core.Flatten at 0x7f82bde7bc50>,\n",
       " <tensorflow.python.keras.layers.core.Dense at 0x7f82bde7bbe0>]"
      ]
     },
     "execution_count": 23,
     "metadata": {},
     "output_type": "execute_result"
    }
   ],
   "source": [
    "model.layers"
   ]
  },
  {
   "cell_type": "markdown",
   "metadata": {},
   "source": [
    "Each layers is simply a function - we can feed the image into the first layer, to get that layer's output..."
   ]
  },
  {
   "cell_type": "code",
   "execution_count": 24,
   "metadata": {},
   "outputs": [],
   "source": [
    "# pipe the image into the first layer\n",
    "layer0_output = model.layers[0]( last_img.astype(np.float32) ).numpy()"
   ]
  },
  {
   "cell_type": "code",
   "execution_count": 25,
   "metadata": {},
   "outputs": [
    {
     "data": {
      "text/plain": [
       "<matplotlib.image.AxesImage at 0x7f828ed4df28>"
      ]
     },
     "execution_count": 25,
     "metadata": {},
     "output_type": "execute_result"
    },
    {
     "data": {
      "image/png": "[encoded data removed]",
      "text/plain": [
       "<Figure size 432x288 with 1 Axes>"
      ]
     },
     "metadata": {
      "needs_background": "light"
     },
     "output_type": "display_data"
    }
   ],
   "source": [
    "plt.imshow( layer0_output[0,:,:,0], cmap=\"Greys\" )"
   ]
  },
  {
   "cell_type": "markdown",
   "metadata": {},
   "source": [
    "The first layer is a convolution filter..."
   ]
  },
  {
   "cell_type": "code",
   "execution_count": 26,
   "metadata": {},
   "outputs": [],
   "source": [
    "W, b = model.layers[0].get_weights()"
   ]
  },
  {
   "cell_type": "code",
   "execution_count": 27,
   "metadata": {},
   "outputs": [],
   "source": [
    "kernal = W[:,:,0,0]"
   ]
  },
  {
   "cell_type": "code",
   "execution_count": 28,
   "metadata": {},
   "outputs": [
    {
     "data": {
      "text/plain": [
       "<matplotlib.image.AxesImage at 0x7f828ed0b5c0>"
      ]
     },
     "execution_count": 28,
     "metadata": {},
     "output_type": "execute_result"
    },
    {
     "data": {
      "image/png": "[encoded data removed]",
      "text/plain": [
       "<Figure size 432x288 with 1 Axes>"
      ]
     },
     "metadata": {
      "needs_background": "light"
     },
     "output_type": "display_data"
    }
   ],
   "source": [
    "plt.imshow( kernal, cmap=\"Greys\" )"
   ]
  },
  {
   "cell_type": "markdown",
   "metadata": {},
   "source": [
    "I've run this several times - the filter it finds is usually a ll-ur diagonal line detector."
   ]
  },
  {
   "cell_type": "markdown",
   "metadata": {},
   "source": [
    "We can just apply this convolutional kernal by hand using sklearn's `convolve` function."
   ]
  },
  {
   "cell_type": "code",
   "execution_count": 29,
   "metadata": {},
   "outputs": [
    {
     "data": {
      "text/plain": [
       "<matplotlib.image.AxesImage at 0x7f828ecc1a20>"
      ]
     },
     "execution_count": 29,
     "metadata": {},
     "output_type": "execute_result"
    },
    {
     "data": {
      "image/png": "[encoded data removed]",
      "text/plain": [
       "<Figure size 432x288 with 2 Axes>"
      ]
     },
     "metadata": {
      "needs_background": "light"
     },
     "output_type": "display_data"
    }
   ],
   "source": [
    "imshow( convolve(last_img[0,:,:,0], kernal) )"
   ]
  },
  {
   "cell_type": "markdown",
   "metadata": {},
   "source": [
    "At this point, we've \"featurized\" the image using the convolutional filter. The next step is to flatten it, and then use a supervised learning technique."
   ]
  },
  {
   "cell_type": "code",
   "execution_count": 30,
   "metadata": {},
   "outputs": [
    {
     "data": {
      "text/plain": [
       "(1, 9216)"
      ]
     },
     "execution_count": 30,
     "metadata": {},
     "output_type": "execute_result"
    }
   ],
   "source": [
    "layer1_output = model.layers[1]( layer0_output ).numpy()\n",
    "layer1_output.shape"
   ]
  },
  {
   "cell_type": "markdown",
   "metadata": {},
   "source": [
    "Row vector, 9604 wide"
   ]
  },
  {
   "cell_type": "markdown",
   "metadata": {},
   "source": [
    "The standard approach is to use a logistic regression layer, in the parlance of neural networks called a \"sigmoid layer\"."
   ]
  },
  {
   "cell_type": "code",
   "execution_count": 31,
   "metadata": {},
   "outputs": [],
   "source": [
    "W, b = model.layers[2].get_weights()"
   ]
  },
  {
   "cell_type": "code",
   "execution_count": 32,
   "metadata": {},
   "outputs": [
    {
     "data": {
      "text/plain": [
       "9216"
      ]
     },
     "execution_count": 32,
     "metadata": {},
     "output_type": "execute_result"
    }
   ],
   "source": [
    "_, n_flat = W.T.shape #1 rows, one for each fully connected neuron\n",
    "          #each row has 9604 connections, to each of the pixels in the previous layer\n",
    "          #but all flattened out\n",
    "n_flat"
   ]
  },
  {
   "cell_type": "markdown",
   "metadata": {},
   "source": [
    "In the context of image analysis, logistic regression is very similar to applying a mask filter to an image, and then tallying up all the pixels that pass through the mask filter.\n",
    "\n",
    "Here's the \"mask filter\" that we found using gradient descent:"
   ]
  },
  {
   "cell_type": "code",
   "execution_count": 33,
   "metadata": {},
   "outputs": [
    {
     "data": {
      "text/plain": [
       "<matplotlib.image.AxesImage at 0x7f828ec3d390>"
      ]
     },
     "execution_count": 33,
     "metadata": {},
     "output_type": "execute_result"
    },
    {
     "data": {
      "image/png": "[encoded data removed]",
      "text/plain": [
       "<Figure size 432x288 with 1 Axes>"
      ]
     },
     "metadata": {
      "needs_background": "light"
     },
     "output_type": "display_data"
    }
   ],
   "source": [
    "width = int(n_flat**0.5)\n",
    "plt.imshow( W.T.reshape(width,width) )"
   ]
  },
  {
   "cell_type": "markdown",
   "metadata": {},
   "source": [
    "The procedure is to take the pairwise product of this mask-filter against an image, take the sum, and then apply the sigmoid function."
   ]
  },
  {
   "cell_type": "code",
   "execution_count": 34,
   "metadata": {},
   "outputs": [
    {
     "data": {
      "text/plain": [
       "<matplotlib.image.AxesImage at 0x7f828ec725f8>"
      ]
     },
     "execution_count": 34,
     "metadata": {},
     "output_type": "execute_result"
    },
    {
     "data": {
      "image/png": "[encoded data removed]",
      "text/plain": [
       "<Figure size 432x288 with 1 Axes>"
      ]
     },
     "metadata": {
      "needs_background": "light"
     },
     "output_type": "display_data"
    }
   ],
   "source": [
    "plt.imshow( (W.flatten() * layer1_output.flatten()).reshape(width,width), \n",
    "            vmin=-0.2, vmax=0.2 )"
   ]
  },
  {
   "cell_type": "code",
   "execution_count": 35,
   "metadata": {},
   "outputs": [
    {
     "data": {
      "text/plain": [
       "array([0.14208663], dtype=float32)"
      ]
     },
     "execution_count": 35,
     "metadata": {},
     "output_type": "execute_result"
    }
   ],
   "source": [
    "(W.T) @ layer1_output.flatten()"
   ]
  },
  {
   "cell_type": "code",
   "execution_count": 36,
   "metadata": {},
   "outputs": [
    {
     "data": {
      "text/plain": [
       "array([0.31333178], dtype=float32)"
      ]
     },
     "execution_count": 36,
     "metadata": {},
     "output_type": "execute_result"
    }
   ],
   "source": [
    "(W.flatten() * layer1_output.flatten()).sum() + b"
   ]
  },
  {
   "cell_type": "code",
   "execution_count": 37,
   "metadata": {},
   "outputs": [],
   "source": [
    "layer2_output = (W.T) @ layer1_output.flatten() + b"
   ]
  },
  {
   "cell_type": "code",
   "execution_count": 38,
   "metadata": {},
   "outputs": [
    {
     "data": {
      "text/plain": [
       "array([0.3133332], dtype=float32)"
      ]
     },
     "execution_count": 38,
     "metadata": {},
     "output_type": "execute_result"
    }
   ],
   "source": [
    "layer2_output"
   ]
  },
  {
   "cell_type": "code",
   "execution_count": 39,
   "metadata": {},
   "outputs": [
    {
     "data": {
      "text/plain": [
       "array([0.57769865], dtype=float32)"
      ]
     },
     "execution_count": 39,
     "metadata": {},
     "output_type": "execute_result"
    }
   ],
   "source": [
    "tf.keras.activations.sigmoid( layer2_output ).numpy()"
   ]
  },
  {
   "cell_type": "markdown",
   "metadata": {},
   "source": [
    "Let's see how the model performs on the training set:"
   ]
  },
  {
   "cell_type": "code",
   "execution_count": 40,
   "metadata": {},
   "outputs": [
    {
     "data": {
      "text/plain": [
       "0.98671875"
      ]
     },
     "execution_count": 40,
     "metadata": {},
     "output_type": "execute_result"
    }
   ],
   "source": [
    "((model.predict( X_train ).flatten() > 0.5) == y_train).mean()"
   ]
  },
  {
   "cell_type": "markdown",
   "metadata": {},
   "source": [
    "Nearly perfect.\n",
    "\n",
    "How about the testing set?"
   ]
  },
  {
   "cell_type": "code",
   "execution_count": 41,
   "metadata": {},
   "outputs": [
    {
     "data": {
      "text/plain": [
       "0.5875"
      ]
     },
     "execution_count": 41,
     "metadata": {},
     "output_type": "execute_result"
    }
   ],
   "source": [
    "((model.predict( X_test ).flatten() > 0.5) == y_test).mean()"
   ]
  },
  {
   "cell_type": "code",
   "execution_count": 42,
   "metadata": {},
   "outputs": [
    {
     "data": {
      "text/plain": [
       "0.5375"
      ]
     },
     "execution_count": 42,
     "metadata": {},
     "output_type": "execute_result"
    }
   ],
   "source": [
    "1-y_test.mean()"
   ]
  },
  {
   "cell_type": "markdown",
   "metadata": {},
   "source": [
    "Nearly useless.\n",
    "\n",
    "**Question** Why is this? (Hint: look at the \"mask filter\")."
   ]
  },
  {
   "cell_type": "code",
   "execution_count": null,
   "metadata": {},
   "outputs": [],
   "source": []
  }
 ],
 "metadata": {
  "kernelspec": {
   "display_name": "Python 3",
   "language": "python",
   "name": "python3"
  },
  "language_info": {
   "codemirror_mode": {
    "name": "ipython",
    "version": 3
   },
   "file_extension": ".py",
   "mimetype": "text/x-python",
   "name": "python",
   "nbconvert_exporter": "python",
   "pygments_lexer": "ipython3",
   "version": "3.7.3"
  }
 },
 "nbformat": 4,
 "nbformat_minor": 2
}
