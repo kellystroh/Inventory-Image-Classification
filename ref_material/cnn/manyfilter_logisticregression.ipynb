{
 "cells": [
  {
   "cell_type": "code",
   "execution_count": 1,
   "metadata": {},
   "outputs": [],
   "source": [
    "#!pip install scikit-image"
   ]
  },
  {
   "cell_type": "code",
   "execution_count": 2,
   "metadata": {},
   "outputs": [],
   "source": [
    "import tensorflow as tf\n",
    "import numpy as np\n",
    "from matplotlib import pyplot as plt\n",
    "\n",
    "from tensorflow.keras import datasets, layers, models, regularizers, initializers, activations\n",
    "from skimage.io import imshow\n",
    "from skimage.transform import rotate\n",
    "\n",
    "from skimage.io import imshow, imread\n",
    "from skimage.transform import resize\n",
    "from skimage.color import rgb2gray\n",
    "\n",
    "np.random.seed(42)"
   ]
  },
  {
   "cell_type": "code",
   "execution_count": 3,
   "metadata": {},
   "outputs": [],
   "source": [
    "def random_crop(img, margin=0.2):\n",
    "    #randomly chop off margin amounts; for augumenting data\n",
    "    \n",
    "    w,h,nchannels = img.shape\n",
    "    lmargin, rmargin = np.random.randint( 0, w*margin, size=2 )\n",
    "    bmargin, tmargin = np.random.randint( 0, h*margin, size=2 )\n",
    "    \n",
    "    ret = img[bmargin:-tmargin-1, lmargin:-rmargin-1,:]\n",
    "    \n",
    "    return ret\n",
    "\n",
    "def augment( images, labels, factor=5 ):\n",
    "    for j, (image, label) in enumerate( zip(images, labels) ):\n",
    "        print( \"{}/{} images\".format(j, len(images)) )\n",
    "        for i in range(factor):\n",
    "            aug = rotate( image, np.random.randint(-10,10) )\n",
    "            aug = random_crop(aug)\n",
    "            \n",
    "            if np.random.binomial(1,0.5): #half the time randomly\n",
    "                aug = aug[:,::-1] #flip left-right\n",
    "                \n",
    "            yield aug, label"
   ]
  },
  {
   "cell_type": "markdown",
   "metadata": {},
   "source": [
    "# A simple convolutional neural network\n",
    "\n",
    "An introduction to features that are very standard to almost all CNNs:\n",
    "    \n",
    "* Multiple convolution layers\n",
    "* 3D convolutions\n",
    "* Regularization techniques\n",
    "* Multilayer perceptron hidden layer"
   ]
  },
  {
   "cell_type": "markdown",
   "metadata": {},
   "source": [
    "## Cobble together a train/test set of cats and dogs..."
   ]
  },
  {
   "cell_type": "code",
   "execution_count": 4,
   "metadata": {},
   "outputs": [],
   "source": [
    "import sys\n",
    "sys.path.append(\"src\")"
   ]
  },
  {
   "cell_type": "code",
   "execution_count": 5,
   "metadata": {},
   "outputs": [],
   "source": [
    "from pipeline import get_images"
   ]
  },
  {
   "cell_type": "code",
   "execution_count": 6,
   "metadata": {},
   "outputs": [],
   "source": [
    "cat_images = [x for _,x in get_images(\"data/cat_dog/cat\")]\n",
    "dog_images = [x for _,x in get_images(\"data/cat_dog/dog\")]"
   ]
  },
  {
   "cell_type": "code",
   "execution_count": 7,
   "metadata": {},
   "outputs": [],
   "source": [
    "# stack all images\n",
    "images = cat_images+dog_images\n",
    "y = np.array([1]*len(cat_images) + [0]*len(dog_images))"
   ]
  },
  {
   "cell_type": "code",
   "execution_count": 8,
   "metadata": {},
   "outputs": [],
   "source": [
    "#shuffle images and target var\n",
    "i = np.random.choice( np.arange(len(images)), size=len(images), replace=False)\n",
    "images = [images[ix] for ix in i]\n",
    "y = y[i]"
   ]
  },
  {
   "cell_type": "code",
   "execution_count": 9,
   "metadata": {},
   "outputs": [],
   "source": [
    "# do train test split\n",
    "n_train = int(len(images)*0.80)\n",
    "\n",
    "images_train = images[:n_train]\n",
    "labels_train = y[:n_train]\n",
    "\n",
    "images_test = images[n_train:]\n",
    "labels_test = y[n_train:]"
   ]
  },
  {
   "cell_type": "code",
   "execution_count": 10,
   "metadata": {},
   "outputs": [],
   "source": [
    "featurize = lambda x: resize(rgb2gray(x), (100,100))"
   ]
  },
  {
   "cell_type": "code",
   "execution_count": 11,
   "metadata": {},
   "outputs": [
    {
     "name": "stdout",
     "output_type": "stream",
     "text": [
      "0/320 images\n",
      "1/320 images\n",
      "2/320 images\n",
      "3/320 images\n",
      "4/320 images\n",
      "5/320 images\n",
      "6/320 images\n",
      "7/320 images\n",
      "8/320 images\n",
      "9/320 images\n",
      "10/320 images\n",
      "11/320 images\n",
      "12/320 images\n",
      "13/320 images\n",
      "14/320 images\n",
      "15/320 images\n",
      "16/320 images\n",
      "17/320 images\n",
      "18/320 images\n",
      "19/320 images\n",
      "20/320 images\n",
      "21/320 images\n",
      "22/320 images\n",
      "23/320 images\n",
      "24/320 images\n",
      "25/320 images\n",
      "26/320 images\n",
      "27/320 images\n",
      "28/320 images\n",
      "29/320 images\n",
      "30/320 images\n",
      "31/320 images\n",
      "32/320 images\n",
      "33/320 images\n",
      "34/320 images\n",
      "35/320 images\n",
      "36/320 images\n",
      "37/320 images\n",
      "38/320 images\n",
      "39/320 images\n",
      "40/320 images\n",
      "41/320 images\n",
      "42/320 images\n",
      "43/320 images\n",
      "44/320 images\n",
      "45/320 images\n",
      "46/320 images\n",
      "47/320 images\n",
      "48/320 images\n",
      "49/320 images\n",
      "50/320 images\n",
      "51/320 images\n",
      "52/320 images\n",
      "53/320 images\n",
      "54/320 images\n",
      "55/320 images\n",
      "56/320 images\n",
      "57/320 images\n",
      "58/320 images\n",
      "59/320 images\n",
      "60/320 images\n",
      "61/320 images\n",
      "62/320 images\n",
      "63/320 images\n",
      "64/320 images\n",
      "65/320 images\n",
      "66/320 images\n",
      "67/320 images\n",
      "68/320 images\n",
      "69/320 images\n",
      "70/320 images\n",
      "71/320 images\n",
      "72/320 images\n",
      "73/320 images\n",
      "74/320 images\n",
      "75/320 images\n",
      "76/320 images\n",
      "77/320 images\n",
      "78/320 images\n",
      "79/320 images\n",
      "80/320 images\n",
      "81/320 images\n",
      "82/320 images\n",
      "83/320 images\n",
      "84/320 images\n",
      "85/320 images\n",
      "86/320 images\n",
      "87/320 images\n",
      "88/320 images\n",
      "89/320 images\n",
      "90/320 images\n",
      "91/320 images\n",
      "92/320 images\n",
      "93/320 images\n",
      "94/320 images\n",
      "95/320 images\n",
      "96/320 images\n",
      "97/320 images\n",
      "98/320 images\n",
      "99/320 images\n",
      "100/320 images\n",
      "101/320 images\n",
      "102/320 images\n",
      "103/320 images\n",
      "104/320 images\n",
      "105/320 images\n",
      "106/320 images\n",
      "107/320 images\n",
      "108/320 images\n",
      "109/320 images\n",
      "110/320 images\n",
      "111/320 images\n",
      "112/320 images\n",
      "113/320 images\n",
      "114/320 images\n",
      "115/320 images\n",
      "116/320 images\n",
      "117/320 images\n",
      "118/320 images\n",
      "119/320 images\n",
      "120/320 images\n",
      "121/320 images\n",
      "122/320 images\n",
      "123/320 images\n",
      "124/320 images\n",
      "125/320 images\n",
      "126/320 images\n",
      "127/320 images\n",
      "128/320 images\n",
      "129/320 images\n",
      "130/320 images\n",
      "131/320 images\n",
      "132/320 images\n",
      "133/320 images\n",
      "134/320 images\n",
      "135/320 images\n",
      "136/320 images\n",
      "137/320 images\n",
      "138/320 images\n",
      "139/320 images\n",
      "140/320 images\n",
      "141/320 images\n",
      "142/320 images\n",
      "143/320 images\n",
      "144/320 images\n",
      "145/320 images\n",
      "146/320 images\n",
      "147/320 images\n",
      "148/320 images\n",
      "149/320 images\n",
      "150/320 images\n",
      "151/320 images\n",
      "152/320 images\n",
      "153/320 images\n",
      "154/320 images\n",
      "155/320 images\n",
      "156/320 images\n",
      "157/320 images\n",
      "158/320 images\n",
      "159/320 images\n",
      "160/320 images\n",
      "161/320 images\n",
      "162/320 images\n",
      "163/320 images\n",
      "164/320 images\n",
      "165/320 images\n",
      "166/320 images\n",
      "167/320 images\n",
      "168/320 images\n",
      "169/320 images\n",
      "170/320 images\n",
      "171/320 images\n",
      "172/320 images\n",
      "173/320 images\n",
      "174/320 images\n",
      "175/320 images\n",
      "176/320 images\n",
      "177/320 images\n",
      "178/320 images\n",
      "179/320 images\n",
      "180/320 images\n",
      "181/320 images\n",
      "182/320 images\n",
      "183/320 images\n",
      "184/320 images\n",
      "185/320 images\n",
      "186/320 images\n",
      "187/320 images\n",
      "188/320 images\n",
      "189/320 images\n",
      "190/320 images\n",
      "191/320 images\n",
      "192/320 images\n",
      "193/320 images\n",
      "194/320 images\n",
      "195/320 images\n",
      "196/320 images\n",
      "197/320 images\n",
      "198/320 images\n",
      "199/320 images\n",
      "200/320 images\n",
      "201/320 images\n",
      "202/320 images\n",
      "203/320 images\n",
      "204/320 images\n",
      "205/320 images\n",
      "206/320 images\n",
      "207/320 images\n",
      "208/320 images\n",
      "209/320 images\n",
      "210/320 images\n",
      "211/320 images\n",
      "212/320 images\n",
      "213/320 images\n",
      "214/320 images\n",
      "215/320 images\n",
      "216/320 images\n",
      "217/320 images\n",
      "218/320 images\n",
      "219/320 images\n",
      "220/320 images\n",
      "221/320 images\n",
      "222/320 images\n",
      "223/320 images\n",
      "224/320 images\n",
      "225/320 images\n",
      "226/320 images\n",
      "227/320 images\n",
      "228/320 images\n",
      "229/320 images\n",
      "230/320 images\n",
      "231/320 images\n",
      "232/320 images\n",
      "233/320 images\n",
      "234/320 images\n",
      "235/320 images\n",
      "236/320 images\n",
      "237/320 images\n",
      "238/320 images\n",
      "239/320 images\n",
      "240/320 images\n",
      "241/320 images\n",
      "242/320 images\n",
      "243/320 images\n",
      "244/320 images\n",
      "245/320 images\n",
      "246/320 images\n",
      "247/320 images\n",
      "248/320 images\n",
      "249/320 images\n",
      "250/320 images\n",
      "251/320 images\n",
      "252/320 images\n",
      "253/320 images\n",
      "254/320 images\n",
      "255/320 images\n",
      "256/320 images\n",
      "257/320 images\n",
      "258/320 images\n",
      "259/320 images\n",
      "260/320 images\n",
      "261/320 images\n",
      "262/320 images\n",
      "263/320 images\n",
      "264/320 images\n",
      "265/320 images\n",
      "266/320 images\n",
      "267/320 images\n",
      "268/320 images\n",
      "269/320 images\n",
      "270/320 images\n",
      "271/320 images\n",
      "272/320 images\n",
      "273/320 images\n",
      "274/320 images\n",
      "275/320 images\n",
      "276/320 images\n",
      "277/320 images\n",
      "278/320 images\n",
      "279/320 images\n",
      "280/320 images\n",
      "281/320 images\n",
      "282/320 images\n",
      "283/320 images\n",
      "284/320 images\n",
      "285/320 images\n",
      "286/320 images\n",
      "287/320 images\n",
      "288/320 images\n",
      "289/320 images\n",
      "290/320 images\n",
      "291/320 images\n",
      "292/320 images\n",
      "293/320 images\n",
      "294/320 images\n",
      "295/320 images\n",
      "296/320 images\n",
      "297/320 images\n",
      "298/320 images\n",
      "299/320 images\n",
      "300/320 images\n",
      "301/320 images\n",
      "302/320 images\n",
      "303/320 images\n",
      "304/320 images\n",
      "305/320 images\n",
      "306/320 images\n",
      "307/320 images\n",
      "308/320 images\n",
      "309/320 images\n",
      "310/320 images\n",
      "311/320 images\n",
      "312/320 images\n",
      "313/320 images\n",
      "314/320 images\n",
      "315/320 images\n",
      "316/320 images\n",
      "317/320 images\n",
      "318/320 images\n",
      "319/320 images\n"
     ]
    }
   ],
   "source": [
    "aug_pairs = list( [(featurize(x),y) for x,y in \\\n",
    "                    augment( images_train, labels_train, factor=4 )] )"
   ]
  },
  {
   "cell_type": "code",
   "execution_count": 12,
   "metadata": {},
   "outputs": [],
   "source": [
    "# build X and y from augmented images\n",
    "X_train = np.stack( [x for x,y in aug_pairs] )\n",
    "y_train = np.stack( [y for x,y in aug_pairs] )"
   ]
  },
  {
   "cell_type": "code",
   "execution_count": 13,
   "metadata": {},
   "outputs": [],
   "source": [
    "# featurize test images\n",
    "X_test = np.stack( [featurize(x) for x in images_test] )\n",
    "y_test = labels_test"
   ]
  },
  {
   "cell_type": "code",
   "execution_count": 14,
   "metadata": {},
   "outputs": [],
   "source": [
    "# tensorflow needs each image sample to be 1-channel, not 0-channel\n",
    "X_train = np.expand_dims( X_train, axis=3 )\n",
    "X_test = np.expand_dims( X_test, axis=3 )"
   ]
  },
  {
   "cell_type": "markdown",
   "metadata": {},
   "source": [
    "## Design model"
   ]
  },
  {
   "cell_type": "code",
   "execution_count": 16,
   "metadata": {},
   "outputs": [],
   "source": [
    "model = models.Sequential()\n",
    "model.add(layers.Conv2D(4, (3, 3), activation='relu', \n",
    "                        input_shape=(100, 100, 1)))\n",
    "#                        kernel_regularizer=regularizers.l2(0.003)))\n",
    "model.add(layers.MaxPooling2D((2, 2)))\n",
    "model.add(layers.Dropout(0.5))\n",
    "model.add(layers.Conv2D(9, (3, 3), activation='relu'))\n",
    "model.add(layers.MaxPooling2D((2, 2)))\n",
    "model.add(layers.Dropout(0.5))\n",
    "model.add(layers.Conv2D(4, (3, 3), activation='relu'))"
   ]
  },
  {
   "cell_type": "code",
   "execution_count": 17,
   "metadata": {},
   "outputs": [
    {
     "name": "stdout",
     "output_type": "stream",
     "text": [
      "Model: \"sequential_1\"\n",
      "_________________________________________________________________\n",
      "Layer (type)                 Output Shape              Param #   \n",
      "=================================================================\n",
      "conv2d_3 (Conv2D)            (None, 98, 98, 4)         40        \n",
      "_________________________________________________________________\n",
      "max_pooling2d_2 (MaxPooling2 (None, 49, 49, 4)         0         \n",
      "_________________________________________________________________\n",
      "dropout_2 (Dropout)          (None, 49, 49, 4)         0         \n",
      "_________________________________________________________________\n",
      "conv2d_4 (Conv2D)            (None, 47, 47, 9)         333       \n",
      "_________________________________________________________________\n",
      "max_pooling2d_3 (MaxPooling2 (None, 23, 23, 9)         0         \n",
      "_________________________________________________________________\n",
      "dropout_3 (Dropout)          (None, 23, 23, 9)         0         \n",
      "_________________________________________________________________\n",
      "conv2d_5 (Conv2D)            (None, 21, 21, 4)         328       \n",
      "=================================================================\n",
      "Total params: 701\n",
      "Trainable params: 701\n",
      "Non-trainable params: 0\n",
      "_________________________________________________________________\n"
     ]
    }
   ],
   "source": [
    "model.summary()"
   ]
  },
  {
   "cell_type": "code",
   "execution_count": 18,
   "metadata": {},
   "outputs": [
    {
     "data": {
      "text/plain": [
       "0.5375"
      ]
     },
     "execution_count": 18,
     "metadata": {},
     "output_type": "execute_result"
    }
   ],
   "source": [
    "1-y_test.mean()"
   ]
  },
  {
   "cell_type": "code",
   "execution_count": 19,
   "metadata": {},
   "outputs": [],
   "source": [
    "model.add(layers.Flatten())\n",
    "model.add(layers.Dense(8, activation='relu'))\n",
    "model.add(layers.Dense(1, activation='sigmoid',))\n",
    "#                      kernel_regularizer=regularizers.l2(0.003)))"
   ]
  },
  {
   "cell_type": "code",
   "execution_count": 20,
   "metadata": {},
   "outputs": [
    {
     "name": "stdout",
     "output_type": "stream",
     "text": [
      "Train on 1280 samples, validate on 80 samples\n",
      "Epoch 1/100\n",
      "1280/1280 [==============================] - 4s 3ms/sample - loss: 0.6961 - accuracy: 0.4875 - val_loss: 0.6937 - val_accuracy: 0.4625\n",
      "Epoch 2/100\n",
      "1280/1280 [==============================] - 4s 3ms/sample - loss: 0.6941 - accuracy: 0.5102 - val_loss: 0.6946 - val_accuracy: 0.4625\n",
      "Epoch 3/100\n",
      "1280/1280 [==============================] - 4s 3ms/sample - loss: 0.6931 - accuracy: 0.4992 - val_loss: 0.6946 - val_accuracy: 0.4625\n",
      "Epoch 4/100\n",
      "1280/1280 [==============================] - 5s 4ms/sample - loss: 0.6912 - accuracy: 0.5273 - val_loss: 0.6960 - val_accuracy: 0.4250\n",
      "Epoch 5/100\n",
      "1280/1280 [==============================] - 5s 4ms/sample - loss: 0.6917 - accuracy: 0.5242 - val_loss: 0.6956 - val_accuracy: 0.4625\n",
      "Epoch 6/100\n",
      "1280/1280 [==============================] - 5s 4ms/sample - loss: 0.6909 - accuracy: 0.5320 - val_loss: 0.6953 - val_accuracy: 0.4625\n",
      "Epoch 7/100\n",
      "1280/1280 [==============================] - 5s 4ms/sample - loss: 0.6920 - accuracy: 0.5242 - val_loss: 0.6974 - val_accuracy: 0.4625\n",
      "Epoch 8/100\n",
      "1280/1280 [==============================] - 4s 3ms/sample - loss: 0.6867 - accuracy: 0.5633 - val_loss: 0.7011 - val_accuracy: 0.4250\n",
      "Epoch 9/100\n",
      "1280/1280 [==============================] - 4s 3ms/sample - loss: 0.6852 - accuracy: 0.5703 - val_loss: 0.6942 - val_accuracy: 0.4625\n",
      "Epoch 10/100\n",
      "1280/1280 [==============================] - 4s 3ms/sample - loss: 0.6866 - accuracy: 0.5555 - val_loss: 0.6972 - val_accuracy: 0.4250\n",
      "Epoch 11/100\n",
      "1280/1280 [==============================] - 4s 3ms/sample - loss: 0.6704 - accuracy: 0.5852 - val_loss: 0.7071 - val_accuracy: 0.4125\n",
      "Epoch 12/100\n",
      "1280/1280 [==============================] - 4s 3ms/sample - loss: 0.6631 - accuracy: 0.6102 - val_loss: 0.6913 - val_accuracy: 0.5750\n",
      "Epoch 13/100\n",
      "1280/1280 [==============================] - 4s 3ms/sample - loss: 0.6463 - accuracy: 0.6289 - val_loss: 0.6862 - val_accuracy: 0.5125\n",
      "Epoch 14/100\n",
      "1280/1280 [==============================] - 4s 3ms/sample - loss: 0.6160 - accuracy: 0.6625 - val_loss: 0.6917 - val_accuracy: 0.5000\n",
      "Epoch 15/100\n",
      "1280/1280 [==============================] - 4s 3ms/sample - loss: 0.6171 - accuracy: 0.6352 - val_loss: 0.7058 - val_accuracy: 0.5250\n",
      "Epoch 16/100\n",
      "1280/1280 [==============================] - 4s 3ms/sample - loss: 0.6005 - accuracy: 0.6773 - val_loss: 0.6968 - val_accuracy: 0.5750\n",
      "Epoch 17/100\n",
      "1280/1280 [==============================] - 5s 4ms/sample - loss: 0.5969 - accuracy: 0.6687 - val_loss: 0.7059 - val_accuracy: 0.4875\n",
      "Epoch 18/100\n",
      "1280/1280 [==============================] - 7s 5ms/sample - loss: 0.6002 - accuracy: 0.6664 - val_loss: 0.7149 - val_accuracy: 0.4625\n",
      "Epoch 19/100\n",
      "1280/1280 [==============================] - 3s 3ms/sample - loss: 0.5637 - accuracy: 0.7070 - val_loss: 0.7038 - val_accuracy: 0.5125\n",
      "Epoch 20/100\n",
      "1280/1280 [==============================] - 3s 3ms/sample - loss: 0.5619 - accuracy: 0.7086 - val_loss: 0.7138 - val_accuracy: 0.4875\n",
      "Epoch 21/100\n",
      "1280/1280 [==============================] - 3s 3ms/sample - loss: 0.5348 - accuracy: 0.7258 - val_loss: 0.6944 - val_accuracy: 0.5750\n",
      "Epoch 22/100\n",
      "1280/1280 [==============================] - 3s 2ms/sample - loss: 0.5240 - accuracy: 0.7219 - val_loss: 0.7210 - val_accuracy: 0.5250\n",
      "Epoch 23/100\n",
      "1280/1280 [==============================] - 3s 2ms/sample - loss: 0.5113 - accuracy: 0.7586 - val_loss: 0.7384 - val_accuracy: 0.5500\n",
      "Epoch 24/100\n",
      "1280/1280 [==============================] - 3s 2ms/sample - loss: 0.4959 - accuracy: 0.7617 - val_loss: 0.7612 - val_accuracy: 0.5125\n",
      "Epoch 25/100\n",
      "1280/1280 [==============================] - 3s 3ms/sample - loss: 0.4873 - accuracy: 0.7648 - val_loss: 0.7550 - val_accuracy: 0.5500\n",
      "Epoch 26/100\n",
      "1280/1280 [==============================] - 3s 3ms/sample - loss: 0.4763 - accuracy: 0.7766 - val_loss: 0.7347 - val_accuracy: 0.5750\n",
      "Epoch 27/100\n",
      "1280/1280 [==============================] - 3s 3ms/sample - loss: 0.4608 - accuracy: 0.7703 - val_loss: 0.7418 - val_accuracy: 0.5500\n",
      "Epoch 28/100\n",
      "1280/1280 [==============================] - 3s 2ms/sample - loss: 0.4528 - accuracy: 0.7867 - val_loss: 0.7778 - val_accuracy: 0.5125\n",
      "Epoch 29/100\n",
      "1280/1280 [==============================] - 3s 2ms/sample - loss: 0.4386 - accuracy: 0.7961 - val_loss: 0.7302 - val_accuracy: 0.5375\n",
      "Epoch 30/100\n",
      "1280/1280 [==============================] - 4s 3ms/sample - loss: 0.4392 - accuracy: 0.8055 - val_loss: 0.7685 - val_accuracy: 0.5125\n",
      "Epoch 31/100\n",
      "1280/1280 [==============================] - 4s 3ms/sample - loss: 0.4209 - accuracy: 0.8094 - val_loss: 0.7801 - val_accuracy: 0.5500\n",
      "Epoch 32/100\n",
      "1280/1280 [==============================] - 4s 3ms/sample - loss: 0.4259 - accuracy: 0.8148 - val_loss: 0.7734 - val_accuracy: 0.5375\n",
      "Epoch 33/100\n",
      "1280/1280 [==============================] - 4s 3ms/sample - loss: 0.3966 - accuracy: 0.8203 - val_loss: 0.7876 - val_accuracy: 0.5000\n",
      "Epoch 34/100\n",
      "1280/1280 [==============================] - 4s 3ms/sample - loss: 0.4018 - accuracy: 0.8234 - val_loss: 0.8418 - val_accuracy: 0.4375\n",
      "Epoch 35/100\n",
      "1280/1280 [==============================] - 4s 3ms/sample - loss: 0.4144 - accuracy: 0.8047 - val_loss: 0.7669 - val_accuracy: 0.5625\n",
      "Epoch 36/100\n",
      "1280/1280 [==============================] - 5s 4ms/sample - loss: 0.3645 - accuracy: 0.8406 - val_loss: 0.8048 - val_accuracy: 0.5875\n",
      "Epoch 37/100\n",
      "1280/1280 [==============================] - 4s 3ms/sample - loss: 0.3629 - accuracy: 0.8297 - val_loss: 0.8353 - val_accuracy: 0.5375\n",
      "Epoch 38/100\n",
      "1280/1280 [==============================] - 4s 3ms/sample - loss: 0.3587 - accuracy: 0.8438 - val_loss: 0.8361 - val_accuracy: 0.5375\n",
      "Epoch 39/100\n",
      "1280/1280 [==============================] - 4s 3ms/sample - loss: 0.3545 - accuracy: 0.8430 - val_loss: 0.8262 - val_accuracy: 0.5125\n",
      "Epoch 40/100\n",
      "1280/1280 [==============================] - 4s 3ms/sample - loss: 0.3424 - accuracy: 0.8539 - val_loss: 0.8300 - val_accuracy: 0.5125\n",
      "Epoch 41/100\n",
      "1280/1280 [==============================] - 4s 3ms/sample - loss: 0.3233 - accuracy: 0.8578 - val_loss: 0.8401 - val_accuracy: 0.5125\n",
      "Epoch 42/100\n",
      "1280/1280 [==============================] - 4s 3ms/sample - loss: 0.3116 - accuracy: 0.8750 - val_loss: 0.8696 - val_accuracy: 0.5375\n",
      "Epoch 43/100\n",
      "1280/1280 [==============================] - 4s 3ms/sample - loss: 0.3161 - accuracy: 0.8633 - val_loss: 0.9339 - val_accuracy: 0.5000\n",
      "Epoch 44/100\n",
      "1280/1280 [==============================] - 4s 3ms/sample - loss: 0.3153 - accuracy: 0.8680 - val_loss: 0.8566 - val_accuracy: 0.5125\n",
      "Epoch 45/100\n",
      "1280/1280 [==============================] - 4s 3ms/sample - loss: 0.3055 - accuracy: 0.8813 - val_loss: 0.8520 - val_accuracy: 0.5000\n",
      "Epoch 46/100\n",
      "1280/1280 [==============================] - 4s 3ms/sample - loss: 0.2856 - accuracy: 0.8781 - val_loss: 0.8215 - val_accuracy: 0.5250\n",
      "Epoch 47/100\n",
      "1280/1280 [==============================] - 4s 3ms/sample - loss: 0.2619 - accuracy: 0.8953 - val_loss: 0.9646 - val_accuracy: 0.4625\n",
      "Epoch 48/100\n",
      "1280/1280 [==============================] - 4s 3ms/sample - loss: 0.3031 - accuracy: 0.8750 - val_loss: 0.8726 - val_accuracy: 0.5125\n",
      "Epoch 49/100\n",
      "1280/1280 [==============================] - 4s 3ms/sample - loss: 0.2962 - accuracy: 0.8648 - val_loss: 0.8335 - val_accuracy: 0.5250\n",
      "Epoch 50/100\n",
      "1280/1280 [==============================] - 4s 3ms/sample - loss: 0.2861 - accuracy: 0.8781 - val_loss: 0.9247 - val_accuracy: 0.5125\n",
      "Epoch 51/100\n",
      "1280/1280 [==============================] - 4s 3ms/sample - loss: 0.2713 - accuracy: 0.8891 - val_loss: 1.0209 - val_accuracy: 0.5000\n",
      "Epoch 52/100\n",
      "1280/1280 [==============================] - 7s 5ms/sample - loss: 0.2639 - accuracy: 0.8883 - val_loss: 0.9919 - val_accuracy: 0.4625\n",
      "Epoch 53/100\n",
      "1280/1280 [==============================] - 10s 8ms/sample - loss: 0.2537 - accuracy: 0.8984 - val_loss: 0.9274 - val_accuracy: 0.5375\n",
      "Epoch 54/100\n",
      "1280/1280 [==============================] - 5s 4ms/sample - loss: 0.2368 - accuracy: 0.9055 - val_loss: 1.0174 - val_accuracy: 0.5125\n",
      "Epoch 55/100\n",
      "1280/1280 [==============================] - 4s 3ms/sample - loss: 0.2739 - accuracy: 0.8852 - val_loss: 0.9962 - val_accuracy: 0.5375\n",
      "Epoch 56/100\n",
      "1280/1280 [==============================] - 5s 4ms/sample - loss: 0.2743 - accuracy: 0.8906 - val_loss: 1.0125 - val_accuracy: 0.5500\n",
      "Epoch 57/100\n",
      "1280/1280 [==============================] - 4s 3ms/sample - loss: 0.2353 - accuracy: 0.9055 - val_loss: 0.9832 - val_accuracy: 0.4875\n",
      "Epoch 58/100\n",
      "1280/1280 [==============================] - 4s 3ms/sample - loss: 0.2538 - accuracy: 0.8969 - val_loss: 1.1055 - val_accuracy: 0.5125\n",
      "Epoch 59/100\n",
      "1280/1280 [==============================] - 4s 3ms/sample - loss: 0.2630 - accuracy: 0.8875 - val_loss: 0.9731 - val_accuracy: 0.5125\n",
      "Epoch 60/100\n",
      "1280/1280 [==============================] - 5s 4ms/sample - loss: 0.2257 - accuracy: 0.8977 - val_loss: 0.9572 - val_accuracy: 0.5125\n",
      "Epoch 61/100\n",
      "1280/1280 [==============================] - 4s 3ms/sample - loss: 0.2150 - accuracy: 0.9125 - val_loss: 1.1682 - val_accuracy: 0.4750\n",
      "Epoch 62/100\n",
      "1280/1280 [==============================] - 4s 3ms/sample - loss: 0.2147 - accuracy: 0.9055 - val_loss: 1.0947 - val_accuracy: 0.5375\n",
      "Epoch 63/100\n",
      "1280/1280 [==============================] - 4s 3ms/sample - loss: 0.2224 - accuracy: 0.9062 - val_loss: 1.1580 - val_accuracy: 0.5000\n",
      "Epoch 64/100\n",
      "1280/1280 [==============================] - 4s 3ms/sample - loss: 0.2108 - accuracy: 0.9148 - val_loss: 1.0380 - val_accuracy: 0.5500\n",
      "Epoch 65/100\n",
      "1280/1280 [==============================] - 4s 3ms/sample - loss: 0.2242 - accuracy: 0.9055 - val_loss: 0.9864 - val_accuracy: 0.5625\n",
      "Epoch 66/100\n",
      "1280/1280 [==============================] - 4s 3ms/sample - loss: 0.2210 - accuracy: 0.9141 - val_loss: 1.0170 - val_accuracy: 0.5125\n",
      "Epoch 67/100\n",
      "1280/1280 [==============================] - 4s 3ms/sample - loss: 0.2128 - accuracy: 0.9180 - val_loss: 0.9704 - val_accuracy: 0.5875\n",
      "Epoch 68/100\n",
      "1280/1280 [==============================] - 4s 3ms/sample - loss: 0.2118 - accuracy: 0.9141 - val_loss: 0.9590 - val_accuracy: 0.6125\n",
      "Epoch 69/100\n",
      "1280/1280 [==============================] - 4s 3ms/sample - loss: 0.2051 - accuracy: 0.9195 - val_loss: 1.1120 - val_accuracy: 0.5125\n",
      "Epoch 70/100\n",
      "1280/1280 [==============================] - 4s 3ms/sample - loss: 0.2060 - accuracy: 0.9211 - val_loss: 1.0451 - val_accuracy: 0.5500\n",
      "Epoch 71/100\n",
      "1280/1280 [==============================] - 4s 3ms/sample - loss: 0.2241 - accuracy: 0.9109 - val_loss: 1.0100 - val_accuracy: 0.6125\n",
      "Epoch 72/100\n",
      "1280/1280 [==============================] - 4s 3ms/sample - loss: 0.2032 - accuracy: 0.9195 - val_loss: 1.1289 - val_accuracy: 0.4750\n",
      "Epoch 73/100\n",
      "1280/1280 [==============================] - 4s 3ms/sample - loss: 0.2054 - accuracy: 0.9195 - val_loss: 1.1051 - val_accuracy: 0.5625\n",
      "Epoch 74/100\n",
      "1280/1280 [==============================] - 4s 3ms/sample - loss: 0.1917 - accuracy: 0.9258 - val_loss: 1.1432 - val_accuracy: 0.5250\n",
      "Epoch 75/100\n",
      "1280/1280 [==============================] - 4s 3ms/sample - loss: 0.1780 - accuracy: 0.9305 - val_loss: 1.1819 - val_accuracy: 0.5750\n",
      "Epoch 76/100\n",
      "1280/1280 [==============================] - 4s 3ms/sample - loss: 0.2293 - accuracy: 0.9164 - val_loss: 1.0992 - val_accuracy: 0.5500\n",
      "Epoch 77/100\n",
      "1280/1280 [==============================] - 4s 3ms/sample - loss: 0.2147 - accuracy: 0.9117 - val_loss: 1.2665 - val_accuracy: 0.5625\n",
      "Epoch 78/100\n",
      "1280/1280 [==============================] - 4s 3ms/sample - loss: 0.1667 - accuracy: 0.9391 - val_loss: 1.3669 - val_accuracy: 0.5500\n",
      "Epoch 79/100\n",
      "1280/1280 [==============================] - 4s 3ms/sample - loss: 0.1736 - accuracy: 0.9258 - val_loss: 1.3571 - val_accuracy: 0.5375\n",
      "Epoch 80/100\n",
      "1280/1280 [==============================] - 4s 3ms/sample - loss: 0.1862 - accuracy: 0.9266 - val_loss: 1.3276 - val_accuracy: 0.4500\n",
      "Epoch 81/100\n",
      "1280/1280 [==============================] - 4s 3ms/sample - loss: 0.1653 - accuracy: 0.9344 - val_loss: 1.3634 - val_accuracy: 0.5750\n",
      "Epoch 82/100\n",
      "1280/1280 [==============================] - 4s 3ms/sample - loss: 0.1915 - accuracy: 0.9219 - val_loss: 1.2061 - val_accuracy: 0.5250\n",
      "Epoch 83/100\n",
      "1280/1280 [==============================] - 4s 3ms/sample - loss: 0.1701 - accuracy: 0.9367 - val_loss: 1.2225 - val_accuracy: 0.5875\n",
      "Epoch 84/100\n",
      "1280/1280 [==============================] - 4s 3ms/sample - loss: 0.1521 - accuracy: 0.9461 - val_loss: 1.3105 - val_accuracy: 0.5750\n",
      "Epoch 85/100\n",
      "1280/1280 [==============================] - 4s 3ms/sample - loss: 0.1769 - accuracy: 0.9320 - val_loss: 1.3519 - val_accuracy: 0.5625\n",
      "Epoch 86/100\n",
      "1280/1280 [==============================] - 4s 3ms/sample - loss: 0.1494 - accuracy: 0.9445 - val_loss: 1.4788 - val_accuracy: 0.5250\n",
      "Epoch 87/100\n",
      "1280/1280 [==============================] - 4s 3ms/sample - loss: 0.1769 - accuracy: 0.9273 - val_loss: 1.3141 - val_accuracy: 0.5375\n",
      "Epoch 88/100\n",
      "  32/1280 [..............................] - ETA: 4s - loss: 0.0615 - accuracy: 1.0000"
     ]
    },
    {
     "ename": "KeyboardInterrupt",
     "evalue": "",
     "output_type": "error",
     "traceback": [
      "\u001b[0;31m---------------------------------------------------------------------------\u001b[0m",
      "\u001b[0;31mKeyboardInterrupt\u001b[0m                         Traceback (most recent call last)",
      "\u001b[0;32m<ipython-input-20-378315238637>\u001b[0m in \u001b[0;36m<module>\u001b[0;34m\u001b[0m\n\u001b[1;32m      3\u001b[0m               metrics=['accuracy'])\n\u001b[1;32m      4\u001b[0m \u001b[0;34m\u001b[0m\u001b[0m\n\u001b[0;32m----> 5\u001b[0;31m \u001b[0mmodel\u001b[0m\u001b[0;34m.\u001b[0m\u001b[0mfit\u001b[0m\u001b[0;34m(\u001b[0m\u001b[0mX_train\u001b[0m\u001b[0;34m,\u001b[0m \u001b[0my_train\u001b[0m\u001b[0;34m,\u001b[0m \u001b[0mepochs\u001b[0m\u001b[0;34m=\u001b[0m\u001b[0;36m100\u001b[0m\u001b[0;34m,\u001b[0m \u001b[0mvalidation_data\u001b[0m\u001b[0;34m=\u001b[0m\u001b[0;34m(\u001b[0m\u001b[0mX_test\u001b[0m\u001b[0;34m,\u001b[0m \u001b[0my_test\u001b[0m\u001b[0;34m)\u001b[0m\u001b[0;34m)\u001b[0m\u001b[0;34m\u001b[0m\u001b[0m\n\u001b[0m",
      "\u001b[0;32m/usr/local/lib/python3.5/dist-packages/tensorflow/python/keras/engine/training.py\u001b[0m in \u001b[0;36mfit\u001b[0;34m(self, x, y, batch_size, epochs, verbose, callbacks, validation_split, validation_data, shuffle, class_weight, sample_weight, initial_epoch, steps_per_epoch, validation_steps, validation_freq, max_queue_size, workers, use_multiprocessing, **kwargs)\u001b[0m\n\u001b[1;32m    871\u001b[0m           \u001b[0mvalidation_steps\u001b[0m\u001b[0;34m=\u001b[0m\u001b[0mvalidation_steps\u001b[0m\u001b[0;34m,\u001b[0m\u001b[0;34m\u001b[0m\u001b[0m\n\u001b[1;32m    872\u001b[0m           \u001b[0mvalidation_freq\u001b[0m\u001b[0;34m=\u001b[0m\u001b[0mvalidation_freq\u001b[0m\u001b[0;34m,\u001b[0m\u001b[0;34m\u001b[0m\u001b[0m\n\u001b[0;32m--> 873\u001b[0;31m           steps_name='steps_per_epoch')\n\u001b[0m\u001b[1;32m    874\u001b[0m \u001b[0;34m\u001b[0m\u001b[0m\n\u001b[1;32m    875\u001b[0m   def evaluate(self,\n",
      "\u001b[0;32m/usr/local/lib/python3.5/dist-packages/tensorflow/python/keras/engine/training_arrays.py\u001b[0m in \u001b[0;36mmodel_iteration\u001b[0;34m(model, inputs, targets, sample_weights, batch_size, epochs, verbose, callbacks, val_inputs, val_targets, val_sample_weights, shuffle, initial_epoch, steps_per_epoch, validation_steps, validation_freq, mode, validation_in_fit, prepared_feed_values_from_dataset, steps_name, **kwargs)\u001b[0m\n\u001b[1;32m    350\u001b[0m \u001b[0;34m\u001b[0m\u001b[0m\n\u001b[1;32m    351\u001b[0m         \u001b[0;31m# Get outputs.\u001b[0m\u001b[0;34m\u001b[0m\u001b[0;34m\u001b[0m\u001b[0m\n\u001b[0;32m--> 352\u001b[0;31m         \u001b[0mbatch_outs\u001b[0m \u001b[0;34m=\u001b[0m \u001b[0mf\u001b[0m\u001b[0;34m(\u001b[0m\u001b[0mins_batch\u001b[0m\u001b[0;34m)\u001b[0m\u001b[0;34m\u001b[0m\u001b[0m\n\u001b[0m\u001b[1;32m    353\u001b[0m         \u001b[0;32mif\u001b[0m \u001b[0;32mnot\u001b[0m \u001b[0misinstance\u001b[0m\u001b[0;34m(\u001b[0m\u001b[0mbatch_outs\u001b[0m\u001b[0;34m,\u001b[0m \u001b[0mlist\u001b[0m\u001b[0;34m)\u001b[0m\u001b[0;34m:\u001b[0m\u001b[0;34m\u001b[0m\u001b[0m\n\u001b[1;32m    354\u001b[0m           \u001b[0mbatch_outs\u001b[0m \u001b[0;34m=\u001b[0m \u001b[0;34m[\u001b[0m\u001b[0mbatch_outs\u001b[0m\u001b[0;34m]\u001b[0m\u001b[0;34m\u001b[0m\u001b[0m\n",
      "\u001b[0;32m/usr/local/lib/python3.5/dist-packages/tensorflow/python/keras/backend.py\u001b[0m in \u001b[0;36m__call__\u001b[0;34m(self, inputs)\u001b[0m\n\u001b[1;32m   3215\u001b[0m         \u001b[0mvalue\u001b[0m \u001b[0;34m=\u001b[0m \u001b[0mmath_ops\u001b[0m\u001b[0;34m.\u001b[0m\u001b[0mcast\u001b[0m\u001b[0;34m(\u001b[0m\u001b[0mvalue\u001b[0m\u001b[0;34m,\u001b[0m \u001b[0mtensor\u001b[0m\u001b[0;34m.\u001b[0m\u001b[0mdtype\u001b[0m\u001b[0;34m)\u001b[0m\u001b[0;34m\u001b[0m\u001b[0m\n\u001b[1;32m   3216\u001b[0m       \u001b[0mconverted_inputs\u001b[0m\u001b[0;34m.\u001b[0m\u001b[0mappend\u001b[0m\u001b[0;34m(\u001b[0m\u001b[0mvalue\u001b[0m\u001b[0;34m)\u001b[0m\u001b[0;34m\u001b[0m\u001b[0m\n\u001b[0;32m-> 3217\u001b[0;31m     \u001b[0moutputs\u001b[0m \u001b[0;34m=\u001b[0m \u001b[0mself\u001b[0m\u001b[0;34m.\u001b[0m\u001b[0m_graph_fn\u001b[0m\u001b[0;34m(\u001b[0m\u001b[0;34m*\u001b[0m\u001b[0mconverted_inputs\u001b[0m\u001b[0;34m)\u001b[0m\u001b[0;34m\u001b[0m\u001b[0m\n\u001b[0m\u001b[1;32m   3218\u001b[0m     return nest.pack_sequence_as(self._outputs_structure,\n\u001b[1;32m   3219\u001b[0m                                  [x.numpy() for x in outputs])\n",
      "\u001b[0;32m/usr/local/lib/python3.5/dist-packages/tensorflow/python/eager/function.py\u001b[0m in \u001b[0;36m__call__\u001b[0;34m(self, *args, **kwargs)\u001b[0m\n\u001b[1;32m    556\u001b[0m       raise TypeError(\"Keyword arguments {} unknown. Expected {}.\".format(\n\u001b[1;32m    557\u001b[0m           list(kwargs.keys()), list(self._arg_keywords)))\n\u001b[0;32m--> 558\u001b[0;31m     \u001b[0;32mreturn\u001b[0m \u001b[0mself\u001b[0m\u001b[0;34m.\u001b[0m\u001b[0m_call_flat\u001b[0m\u001b[0;34m(\u001b[0m\u001b[0margs\u001b[0m\u001b[0;34m)\u001b[0m\u001b[0;34m\u001b[0m\u001b[0m\n\u001b[0m\u001b[1;32m    559\u001b[0m \u001b[0;34m\u001b[0m\u001b[0m\n\u001b[1;32m    560\u001b[0m   \u001b[0;32mdef\u001b[0m \u001b[0m_filtered_call\u001b[0m\u001b[0;34m(\u001b[0m\u001b[0mself\u001b[0m\u001b[0;34m,\u001b[0m \u001b[0margs\u001b[0m\u001b[0;34m,\u001b[0m \u001b[0mkwargs\u001b[0m\u001b[0;34m)\u001b[0m\u001b[0;34m:\u001b[0m\u001b[0;34m\u001b[0m\u001b[0m\n",
      "\u001b[0;32m/usr/local/lib/python3.5/dist-packages/tensorflow/python/eager/function.py\u001b[0m in \u001b[0;36m_call_flat\u001b[0;34m(self, args)\u001b[0m\n\u001b[1;32m    625\u001b[0m     \u001b[0;31m# Only need to override the gradient in graph mode and when we have outputs.\u001b[0m\u001b[0;34m\u001b[0m\u001b[0;34m\u001b[0m\u001b[0m\n\u001b[1;32m    626\u001b[0m     \u001b[0;32mif\u001b[0m \u001b[0mcontext\u001b[0m\u001b[0;34m.\u001b[0m\u001b[0mexecuting_eagerly\u001b[0m\u001b[0;34m(\u001b[0m\u001b[0;34m)\u001b[0m \u001b[0;32mor\u001b[0m \u001b[0;32mnot\u001b[0m \u001b[0mself\u001b[0m\u001b[0;34m.\u001b[0m\u001b[0moutputs\u001b[0m\u001b[0;34m:\u001b[0m\u001b[0;34m\u001b[0m\u001b[0m\n\u001b[0;32m--> 627\u001b[0;31m       \u001b[0moutputs\u001b[0m \u001b[0;34m=\u001b[0m \u001b[0mself\u001b[0m\u001b[0;34m.\u001b[0m\u001b[0m_inference_function\u001b[0m\u001b[0;34m.\u001b[0m\u001b[0mcall\u001b[0m\u001b[0;34m(\u001b[0m\u001b[0mctx\u001b[0m\u001b[0;34m,\u001b[0m \u001b[0margs\u001b[0m\u001b[0;34m)\u001b[0m\u001b[0;34m\u001b[0m\u001b[0m\n\u001b[0m\u001b[1;32m    628\u001b[0m     \u001b[0;32melse\u001b[0m\u001b[0;34m:\u001b[0m\u001b[0;34m\u001b[0m\u001b[0m\n\u001b[1;32m    629\u001b[0m       \u001b[0mself\u001b[0m\u001b[0;34m.\u001b[0m\u001b[0m_register_gradient\u001b[0m\u001b[0;34m(\u001b[0m\u001b[0;34m)\u001b[0m\u001b[0;34m\u001b[0m\u001b[0m\n",
      "\u001b[0;32m/usr/local/lib/python3.5/dist-packages/tensorflow/python/eager/function.py\u001b[0m in \u001b[0;36mcall\u001b[0;34m(self, ctx, args)\u001b[0m\n\u001b[1;32m    413\u001b[0m             attrs=(\"executor_type\", executor_type,\n\u001b[1;32m    414\u001b[0m                    \"config_proto\", config),\n\u001b[0;32m--> 415\u001b[0;31m             ctx=ctx)\n\u001b[0m\u001b[1;32m    416\u001b[0m       \u001b[0;31m# Replace empty list with None\u001b[0m\u001b[0;34m\u001b[0m\u001b[0;34m\u001b[0m\u001b[0m\n\u001b[1;32m    417\u001b[0m       \u001b[0moutputs\u001b[0m \u001b[0;34m=\u001b[0m \u001b[0moutputs\u001b[0m \u001b[0;32mor\u001b[0m \u001b[0;32mNone\u001b[0m\u001b[0;34m\u001b[0m\u001b[0m\n",
      "\u001b[0;32m/usr/local/lib/python3.5/dist-packages/tensorflow/python/eager/execute.py\u001b[0m in \u001b[0;36mquick_execute\u001b[0;34m(op_name, num_outputs, inputs, attrs, ctx, name)\u001b[0m\n\u001b[1;32m     58\u001b[0m     tensors = pywrap_tensorflow.TFE_Py_Execute(ctx._handle, device_name,\n\u001b[1;32m     59\u001b[0m                                                \u001b[0mop_name\u001b[0m\u001b[0;34m,\u001b[0m \u001b[0minputs\u001b[0m\u001b[0;34m,\u001b[0m \u001b[0mattrs\u001b[0m\u001b[0;34m,\u001b[0m\u001b[0;34m\u001b[0m\u001b[0m\n\u001b[0;32m---> 60\u001b[0;31m                                                num_outputs)\n\u001b[0m\u001b[1;32m     61\u001b[0m   \u001b[0;32mexcept\u001b[0m \u001b[0mcore\u001b[0m\u001b[0;34m.\u001b[0m\u001b[0m_NotOkStatusException\u001b[0m \u001b[0;32mas\u001b[0m \u001b[0me\u001b[0m\u001b[0;34m:\u001b[0m\u001b[0;34m\u001b[0m\u001b[0m\n\u001b[1;32m     62\u001b[0m     \u001b[0;32mif\u001b[0m \u001b[0mname\u001b[0m \u001b[0;32mis\u001b[0m \u001b[0;32mnot\u001b[0m \u001b[0;32mNone\u001b[0m\u001b[0;34m:\u001b[0m\u001b[0;34m\u001b[0m\u001b[0m\n",
      "\u001b[0;31mKeyboardInterrupt\u001b[0m: "
     ]
    }
   ],
   "source": [
    "model.compile(optimizer='adam',\n",
    "              loss='binary_crossentropy',\n",
    "              metrics=['accuracy'])\n",
    "\n",
    "model.fit(X_train, y_train, epochs=100, validation_data=(X_test, y_test))"
   ]
  },
  {
   "cell_type": "code",
   "execution_count": 21,
   "metadata": {},
   "outputs": [],
   "source": [
    "i = 5\n",
    "last_img = X_test[i:i+1]"
   ]
  },
  {
   "cell_type": "code",
   "execution_count": 22,
   "metadata": {},
   "outputs": [],
   "source": [
    "layer_output = [last_img.astype(np.float32)]"
   ]
  },
  {
   "cell_type": "code",
   "execution_count": 23,
   "metadata": {},
   "outputs": [],
   "source": [
    "for layer in model.layers:\n",
    "    output = layer(layer_output[-1])\n",
    "    layer_output.append( output )"
   ]
  },
  {
   "cell_type": "markdown",
   "metadata": {},
   "source": [
    "## Input\n",
    "\n",
    "A single image"
   ]
  },
  {
   "cell_type": "code",
   "execution_count": 24,
   "metadata": {},
   "outputs": [
    {
     "data": {
      "text/plain": [
       "(1, 100, 100, 1)"
      ]
     },
     "execution_count": 24,
     "metadata": {},
     "output_type": "execute_result"
    }
   ],
   "source": [
    "layer_output[0].shape"
   ]
  },
  {
   "cell_type": "code",
   "execution_count": 25,
   "metadata": {},
   "outputs": [
    {
     "data": {
      "text/plain": [
       "<matplotlib.image.AxesImage at 0x7f8025708240>"
      ]
     },
     "execution_count": 25,
     "metadata": {},
     "output_type": "execute_result"
    },
    {
     "data": {
      "image/png": "[encoded data removed]",
      "text/plain": [
       "<Figure size 432x288 with 1 Axes>"
      ]
     },
     "metadata": {
      "needs_background": "light"
     },
     "output_type": "display_data"
    }
   ],
   "source": [
    "imshow( layer_output[0][0,:,:,0] )"
   ]
  },
  {
   "cell_type": "markdown",
   "metadata": {},
   "source": [
    "## Layer 1: stack of convolutions\n",
    "\n",
    "4 3x3 convolutional kernals, resulting in 4 channels."
   ]
  },
  {
   "cell_type": "code",
   "execution_count": 26,
   "metadata": {},
   "outputs": [
    {
     "data": {
      "text/plain": [
       "TensorShape([1, 98, 98, 4])"
      ]
     },
     "execution_count": 26,
     "metadata": {},
     "output_type": "execute_result"
    }
   ],
   "source": [
    "layer_output[1].shape"
   ]
  },
  {
   "cell_type": "code",
   "execution_count": 27,
   "metadata": {},
   "outputs": [
    {
     "data": {
      "image/png": "[encoded data removed]",
      "text/plain": [
       "<Figure size 720x720 with 4 Axes>"
      ]
     },
     "metadata": {},
     "output_type": "display_data"
    }
   ],
   "source": [
    "nrows, ncols = 2,2\n",
    "fig, axs = plt.subplots(nrows,ncols,  figsize=(10,10))\n",
    "\n",
    "for i in range(nrows):\n",
    "    for j in range(ncols):\n",
    "        ax = axs[i][j]\n",
    "        ax.imshow( layer_output[1][0,:,:,i*ncols+j] )\n",
    "        ax.set_xticks([])\n",
    "        ax.set_yticks([])"
   ]
  },
  {
   "cell_type": "markdown",
   "metadata": {},
   "source": [
    "This layer has learned four 3x3 kernals. We can fetch them using the `get_weights` method of the layer:"
   ]
  },
  {
   "cell_type": "code",
   "execution_count": 28,
   "metadata": {},
   "outputs": [
    {
     "data": {
      "text/plain": [
       "(3, 3, 1, 4)"
      ]
     },
     "execution_count": 28,
     "metadata": {},
     "output_type": "execute_result"
    }
   ],
   "source": [
    "W, b = model.layers[0].get_weights()\n",
    "W.shape"
   ]
  },
  {
   "cell_type": "markdown",
   "metadata": {},
   "source": [
    "Note the shape of the kernal `ndarray` is `(kernal_width, kernal_height, input_channels, n_kernals)`. Because the input is a black-and-white image, the number of input channels is `1`."
   ]
  },
  {
   "cell_type": "markdown",
   "metadata": {},
   "source": [
    "## Layer 2: max pool"
   ]
  },
  {
   "cell_type": "code",
   "execution_count": 29,
   "metadata": {},
   "outputs": [
    {
     "data": {
      "text/plain": [
       "TensorShape([1, 49, 49, 4])"
      ]
     },
     "execution_count": 29,
     "metadata": {},
     "output_type": "execute_result"
    }
   ],
   "source": [
    "layer_output[2].shape"
   ]
  },
  {
   "cell_type": "code",
   "execution_count": 30,
   "metadata": {},
   "outputs": [
    {
     "data": {
      "image/png": "[encoded data removed]",
      "text/plain": [
       "<Figure size 720x720 with 4 Axes>"
      ]
     },
     "metadata": {},
     "output_type": "display_data"
    }
   ],
   "source": [
    "nrows, ncols = 2,2\n",
    "fig, axs = plt.subplots(nrows,ncols,  figsize=(10,10))\n",
    "\n",
    "for i in range(nrows):\n",
    "    for j in range(ncols):\n",
    "        ax = axs[i][j]\n",
    "        ax.imshow( layer_output[2][0,:,:,i*ncols+j] )\n",
    "        ax.set_xticks([])\n",
    "        ax.set_yticks([])"
   ]
  },
  {
   "cell_type": "markdown",
   "metadata": {},
   "source": [
    "## Layer 3: Dropout\n",
    "\n",
    "This layer instructs the trainer to turn off some fraction of neurons every training pass. However it has no effect on a forward pass."
   ]
  },
  {
   "cell_type": "code",
   "execution_count": 31,
   "metadata": {},
   "outputs": [
    {
     "data": {
      "text/plain": [
       "TensorShape([1, 49, 49, 4])"
      ]
     },
     "execution_count": 31,
     "metadata": {},
     "output_type": "execute_result"
    }
   ],
   "source": [
    "layer_output[3].shape"
   ]
  },
  {
   "cell_type": "markdown",
   "metadata": {},
   "source": [
    "## Layer 4: stack of 9 3x3 convolutions\n",
    "\n",
    "Because there are 9 convolutional kernals in this layer, there will be 9 channels of output"
   ]
  },
  {
   "cell_type": "code",
   "execution_count": 32,
   "metadata": {},
   "outputs": [
    {
     "data": {
      "text/plain": [
       "TensorShape([1, 47, 47, 9])"
      ]
     },
     "execution_count": 32,
     "metadata": {},
     "output_type": "execute_result"
    }
   ],
   "source": [
    "layer_output[4].shape"
   ]
  },
  {
   "cell_type": "code",
   "execution_count": 33,
   "metadata": {},
   "outputs": [
    {
     "data": {
      "image/png": "[encoded data removed]",
      "text/plain": [
       "<Figure size 720x720 with 9 Axes>"
      ]
     },
     "metadata": {},
     "output_type": "display_data"
    }
   ],
   "source": [
    "nrows, ncols = 3,3\n",
    "fig, axs = plt.subplots(nrows,ncols,  figsize=(10,10))\n",
    "\n",
    "for i in range(nrows):\n",
    "    for j in range(ncols):\n",
    "        ax = axs[i][j]\n",
    "        ax.imshow( layer_output[4][0,:,:,i*ncols+j] )\n",
    "        ax.set_xticks([])\n",
    "        ax.set_yticks([])"
   ]
  },
  {
   "cell_type": "markdown",
   "metadata": {},
   "source": [
    "If we fetch the convolutional kernals in this layer, we see that each 3x3 kernal is actually an `ndarray` with shape `(3,3,4)`, because it is operating on an 4-channel input. The input has 4 channels because the preceding layer output `4` channels - one corresponding to each kernal in the first convolutional yaer."
   ]
  },
  {
   "cell_type": "code",
   "execution_count": 34,
   "metadata": {},
   "outputs": [
    {
     "data": {
      "text/plain": [
       "(3, 3, 4, 9)"
      ]
     },
     "execution_count": 34,
     "metadata": {},
     "output_type": "execute_result"
    }
   ],
   "source": [
    "W, b = model.layers[3].get_weights()\n",
    "\n",
    "W.shape"
   ]
  },
  {
   "cell_type": "markdown",
   "metadata": {},
   "source": [
    "Here's one kernel."
   ]
  },
  {
   "cell_type": "code",
   "execution_count": 35,
   "metadata": {},
   "outputs": [
    {
     "data": {
      "text/plain": [
       "array([[[ 0.13260987, -0.14712797,  0.15430668, -0.13827607],\n",
       "        [-0.05837328, -0.07430837,  0.4013429 ,  0.15511644],\n",
       "        [-0.24160747,  0.04850477,  0.47403142,  0.0846921 ]],\n",
       "\n",
       "       [[-0.07635857, -0.26606312,  0.06457731, -0.08631033],\n",
       "        [-0.41516334, -0.18131512,  0.02733106,  0.07333061],\n",
       "        [-0.2487553 ,  0.01041308,  0.52204394,  0.46482262]],\n",
       "\n",
       "       [[-0.18130115, -0.285263  , -0.20270377,  0.00781518],\n",
       "        [-0.19039018, -0.17518637,  0.026657  , -0.05581237],\n",
       "        [-0.09275106,  0.00800442,  0.19822592,  0.20935835]]],\n",
       "      dtype=float32)"
      ]
     },
     "execution_count": 35,
     "metadata": {},
     "output_type": "execute_result"
    }
   ],
   "source": [
    "first_kernel = W[:,:,:,0]\n",
    "first_kernel"
   ]
  },
  {
   "cell_type": "markdown",
   "metadata": {},
   "source": [
    "If we grab a 3-pixel-wide by 3-pixel-tall chunk of the upper-lefthand corner of the preceding layer, grabbing every channel at once:"
   ]
  },
  {
   "cell_type": "code",
   "execution_count": 36,
   "metadata": {},
   "outputs": [
    {
     "data": {
      "text/plain": [
       "array([[[0.00857849, 0.13296685, 0.        , 0.        ],\n",
       "        [0.00897577, 0.13721466, 0.        , 0.        ],\n",
       "        [0.01095511, 0.14443141, 0.        , 0.        ]],\n",
       "\n",
       "       [[0.00903402, 0.13699266, 0.        , 0.        ],\n",
       "        [0.01060203, 0.14100686, 0.        , 0.        ],\n",
       "        [0.0109605 , 0.14443433, 0.        , 0.        ]],\n",
       "\n",
       "       [[0.00838017, 0.13809806, 0.        , 0.        ],\n",
       "        [0.0108247 , 0.14395091, 0.        , 0.        ],\n",
       "        [0.01301643, 0.14609429, 0.        , 0.        ]]], dtype=float32)"
      ]
     },
     "execution_count": 36,
     "metadata": {},
     "output_type": "execute_result"
    }
   ],
   "source": [
    "layer_3_chunk = layer_output[3].numpy()[0, 0:3, 0:3, :]\n",
    "layer_3_chunk"
   ]
  },
  {
   "cell_type": "markdown",
   "metadata": {},
   "source": [
    "Note the kernel and a cross-sectional-chunk of the preceding layer have the same shape."
   ]
  },
  {
   "cell_type": "code",
   "execution_count": 37,
   "metadata": {},
   "outputs": [
    {
     "data": {
      "text/plain": [
       "((3, 3, 4), (3, 3, 4))"
      ]
     },
     "execution_count": 37,
     "metadata": {},
     "output_type": "execute_result"
    }
   ],
   "source": [
    "first_kernel.shape, layer_3_chunk.shape"
   ]
  },
  {
   "cell_type": "markdown",
   "metadata": {},
   "source": [
    "Thus they can be pairwise-multiplied and summed. This is essentially the convolution function, slid across every position in the preceding layer's output."
   ]
  },
  {
   "cell_type": "code",
   "execution_count": 38,
   "metadata": {},
   "outputs": [
    {
     "data": {
      "text/plain": [
       "-0.16134681"
      ]
     },
     "execution_count": 38,
     "metadata": {},
     "output_type": "execute_result"
    }
   ],
   "source": [
    "(first_kernel * layer_3_chunk).sum()"
   ]
  },
  {
   "cell_type": "markdown",
   "metadata": {},
   "source": [
    "## Layer 5: maxpool\n"
   ]
  },
  {
   "cell_type": "code",
   "execution_count": 39,
   "metadata": {},
   "outputs": [
    {
     "data": {
      "text/plain": [
       "TensorShape([1, 23, 23, 9])"
      ]
     },
     "execution_count": 39,
     "metadata": {},
     "output_type": "execute_result"
    }
   ],
   "source": [
    "layer_output[5].shape"
   ]
  },
  {
   "cell_type": "code",
   "execution_count": 40,
   "metadata": {},
   "outputs": [
    {
     "data": {
      "image/png": "[encoded data removed]",
      "text/plain": [
       "<Figure size 720x720 with 9 Axes>"
      ]
     },
     "metadata": {},
     "output_type": "display_data"
    }
   ],
   "source": [
    "nrows, ncols = 3,3\n",
    "fig, axs = plt.subplots(nrows,ncols,  figsize=(10,10))\n",
    "\n",
    "for i in range(nrows):\n",
    "    for j in range(ncols):\n",
    "        ax = axs[i][j]\n",
    "        ax.imshow( layer_output[5][0,:,:,i*ncols+j] )\n",
    "        ax.set_xticks([])\n",
    "        ax.set_yticks([])"
   ]
  },
  {
   "cell_type": "markdown",
   "metadata": {},
   "source": [
    "## Layer 7: stack of 4 3x3 convolutions"
   ]
  },
  {
   "cell_type": "code",
   "execution_count": 41,
   "metadata": {},
   "outputs": [
    {
     "data": {
      "text/plain": [
       "TensorShape([1, 21, 21, 4])"
      ]
     },
     "execution_count": 41,
     "metadata": {},
     "output_type": "execute_result"
    }
   ],
   "source": [
    "layer_output[7].shape"
   ]
  },
  {
   "cell_type": "code",
   "execution_count": 42,
   "metadata": {},
   "outputs": [
    {
     "data": {
      "image/png": "[encoded data removed]",
      "text/plain": [
       "<Figure size 720x720 with 4 Axes>"
      ]
     },
     "metadata": {},
     "output_type": "display_data"
    }
   ],
   "source": [
    "nrows, ncols = 2,2\n",
    "fig, axs = plt.subplots(nrows,ncols,  figsize=(10,10))\n",
    "\n",
    "for i in range(nrows):\n",
    "    for j in range(ncols):\n",
    "        ax = axs[i][j]\n",
    "        ax.imshow( layer_output[7][0,:,:,i*ncols+j] )\n",
    "        ax.set_xticks([])\n",
    "        ax.set_yticks([])"
   ]
  },
  {
   "cell_type": "markdown",
   "metadata": {},
   "source": [
    "Once again we have four convolutional kernals, which span a 3x3 section of images across, in this case, **9** input channels."
   ]
  },
  {
   "cell_type": "code",
   "execution_count": 43,
   "metadata": {},
   "outputs": [
    {
     "data": {
      "text/plain": [
       "(3, 3, 9, 4)"
      ]
     },
     "execution_count": 43,
     "metadata": {},
     "output_type": "execute_result"
    }
   ],
   "source": [
    "W, b = model.layers[6].get_weights()\n",
    "\n",
    "W.shape"
   ]
  },
  {
   "cell_type": "markdown",
   "metadata": {},
   "source": [
    "Classical image analysis involves\n",
    "1. Applying filters to an image\n",
    "2. Flattening the resulting image to produce a sample vector $\\vec{x}_i$ of features for that image.\n",
    "3. Using classical machine learning techniques on the resulting featurization.\n",
    "\n",
    "Convolutional neural networks are divided into two sections:\n",
    "\n",
    "1. A \"filter\" section, which outputs a fancy output \"image\" filled with pixels that turn out to be good discriminators. This filter is learned.\n",
    "2. A \"classical machine learning\" step, in the form of single- or multi-layer perceptron.\n",
    "\n",
    "The convolution/maxpool steps are the \"filter\" section. The output \"image\" is basically all the channels output from the last convolution step glued together:"
   ]
  },
  {
   "cell_type": "code",
   "execution_count": 44,
   "metadata": {},
   "outputs": [
    {
     "data": {
      "text/plain": [
       "(42, 42)"
      ]
     },
     "execution_count": 44,
     "metadata": {},
     "output_type": "execute_result"
    }
   ],
   "source": [
    "foo = layer_output[7].numpy()\n",
    "ul = foo[0,:,:,0]\n",
    "ur = foo[0,:,:,1]\n",
    "ll = foo[0,:,:,2]\n",
    "lr = foo[0,:,:,3]\n",
    "filter_output = np.vstack([np.hstack([ul,ur]), np.hstack([ll, lr])])\n",
    "filter_output.shape"
   ]
  },
  {
   "cell_type": "code",
   "execution_count": 45,
   "metadata": {},
   "outputs": [
    {
     "data": {
      "text/plain": [
       "Text(0.5, 1.0, 'Output of the `filter` learned by the convnet')"
      ]
     },
     "execution_count": 45,
     "metadata": {},
     "output_type": "execute_result"
    },
    {
     "data": {
      "image/png": "[encoded data removed]",
      "text/plain": [
       "<Figure size 432x432 with 1 Axes>"
      ]
     },
     "metadata": {
      "needs_background": "light"
     },
     "output_type": "display_data"
    }
   ],
   "source": [
    "fig, ax = plt.subplots(figsize=(6,6))\n",
    "ax.imshow( filter_output )\n",
    "ax.set_title(\"Output of the `filter` learned by the convnet\")"
   ]
  },
  {
   "cell_type": "markdown",
   "metadata": {},
   "source": [
    "## Layer 8: flatten\n",
    "\n",
    "The 8th layer simply flattens the last convolution layer. The resulting matrix has shape `(n_samples, n_features)`."
   ]
  },
  {
   "cell_type": "code",
   "execution_count": 46,
   "metadata": {},
   "outputs": [
    {
     "data": {
      "text/plain": [
       "TensorShape([1, 1764])"
      ]
     },
     "execution_count": 46,
     "metadata": {},
     "output_type": "execute_result"
    }
   ],
   "source": [
    "layer_output[8].shape"
   ]
  },
  {
   "cell_type": "markdown",
   "metadata": {},
   "source": [
    "In principle one could simply take this matrix and train a random forest, or any other supervised model. Traditionally, we complete the model with a multiplayer perceptron."
   ]
  },
  {
   "cell_type": "markdown",
   "metadata": {},
   "source": [
    "## Layer 9: densely connected neural layer\n",
    "\n",
    "This hidden perceptron layer has 8 neurons, each with 1764 connections to every pixel in the previous layer."
   ]
  },
  {
   "cell_type": "code",
   "execution_count": 47,
   "metadata": {},
   "outputs": [
    {
     "data": {
      "text/plain": [
       "(1764, 8)"
      ]
     },
     "execution_count": 47,
     "metadata": {},
     "output_type": "execute_result"
    }
   ],
   "source": [
    "W, b = model.layers[8].get_weights()\n",
    "W.shape"
   ]
  },
  {
   "cell_type": "markdown",
   "metadata": {},
   "source": [
    "To find the activation of the 0th neuron, for example, get the weight of each connection:"
   ]
  },
  {
   "cell_type": "code",
   "execution_count": 48,
   "metadata": {},
   "outputs": [
    {
     "data": {
      "text/plain": [
       "array([-0.01087197, -0.04051837,  0.03704596, ..., -0.19580907,\n",
       "        0.22991295,  0.15067634], dtype=float32)"
      ]
     },
     "execution_count": 48,
     "metadata": {},
     "output_type": "execute_result"
    }
   ],
   "source": [
    "neuron0_weights = W[:,0]\n",
    "neuron0_weights"
   ]
  },
  {
   "cell_type": "markdown",
   "metadata": {},
   "source": [
    "Take the dot product against all the pixels output from the \"image filter\" stage (flattened, of course). A bias terms was also learned by the convnet."
   ]
  },
  {
   "cell_type": "code",
   "execution_count": 49,
   "metadata": {},
   "outputs": [
    {
     "data": {
      "text/plain": [
       "-2.8636281"
      ]
     },
     "execution_count": 49,
     "metadata": {},
     "output_type": "execute_result"
    }
   ],
   "source": [
    "neuron0_activation = neuron0_weights.dot( layer_output[8][0] ) + b[0]\n",
    "neuron0_activation"
   ]
  },
  {
   "cell_type": "markdown",
   "metadata": {},
   "source": [
    "The activation is the excitation of the neuron passed through an activation function:"
   ]
  },
  {
   "cell_type": "code",
   "execution_count": 50,
   "metadata": {},
   "outputs": [
    {
     "data": {
      "text/plain": [
       "0.0"
      ]
     },
     "execution_count": 50,
     "metadata": {},
     "output_type": "execute_result"
    }
   ],
   "source": [
    "activations.relu( neuron0_activation ).numpy()"
   ]
  },
  {
   "cell_type": "markdown",
   "metadata": {},
   "source": [
    "To do this all at once, just apply the weights and biases via this handy equation:\n",
    "\n",
    "$$\\phi( X W + b )$$\n",
    "\n",
    "where $\\phi$ is the activation function."
   ]
  },
  {
   "cell_type": "code",
   "execution_count": 51,
   "metadata": {},
   "outputs": [
    {
     "data": {
      "text/plain": [
       "array([[0.      , 0.      , 2.682002, 0.      , 0.      , 0.      ,\n",
       "        0.      , 0.      ]], dtype=float32)"
      ]
     },
     "execution_count": 51,
     "metadata": {},
     "output_type": "execute_result"
    }
   ],
   "source": [
    "activations.relu( layer_output[8].numpy() @ W + b ).numpy()"
   ]
  },
  {
   "cell_type": "markdown",
   "metadata": {},
   "source": [
    "In doing that we've reproduced the work of the densely connected layer:"
   ]
  },
  {
   "cell_type": "code",
   "execution_count": 52,
   "metadata": {},
   "outputs": [
    {
     "data": {
      "text/plain": [
       "array([[0.       , 0.       , 2.6820025, 0.       , 0.       , 0.       ,\n",
       "        0.       , 0.       ]], dtype=float32)"
      ]
     },
     "execution_count": 52,
     "metadata": {},
     "output_type": "execute_result"
    }
   ],
   "source": [
    "layer_output[9].numpy()"
   ]
  },
  {
   "cell_type": "markdown",
   "metadata": {},
   "source": [
    "## Layer 10: logistic regression\n",
    "\n",
    "The last layer is simply logistic regression:"
   ]
  },
  {
   "cell_type": "code",
   "execution_count": 53,
   "metadata": {},
   "outputs": [],
   "source": [
    "W, b = model.layers[9].get_weights()"
   ]
  },
  {
   "cell_type": "code",
   "execution_count": 54,
   "metadata": {},
   "outputs": [
    {
     "data": {
      "text/plain": [
       "(array([ 0.93542284,  0.8865149 , -0.5004855 , -0.9674499 ,  0.5548749 ,\n",
       "         0.67217815,  0.7811493 , -0.7027423 ], dtype=float32), 0.30184382)"
      ]
     },
     "execution_count": 54,
     "metadata": {},
     "output_type": "execute_result"
    }
   ],
   "source": [
    "W.flatten(), b[0]"
   ]
  },
  {
   "cell_type": "markdown",
   "metadata": {},
   "source": [
    "It's simply $sigmoid( XW+b )$"
   ]
  },
  {
   "cell_type": "code",
   "execution_count": 55,
   "metadata": {},
   "outputs": [
    {
     "data": {
      "text/plain": [
       "<tf.Tensor: id=31932, shape=(1,), dtype=float32, numpy=array([0.26106137], dtype=float32)>"
      ]
     },
     "execution_count": 55,
     "metadata": {},
     "output_type": "execute_result"
    }
   ],
   "source": [
    "activations.sigmoid( W.flatten().dot( layer_output[9].numpy().flatten() ) + b.flatten() )"
   ]
  },
  {
   "cell_type": "markdown",
   "metadata": {},
   "source": [
    "This is the output of the final layer:"
   ]
  },
  {
   "cell_type": "code",
   "execution_count": 56,
   "metadata": {},
   "outputs": [
    {
     "data": {
      "text/plain": [
       "array([[0.26106137]], dtype=float32)"
      ]
     },
     "execution_count": 56,
     "metadata": {},
     "output_type": "execute_result"
    }
   ],
   "source": [
    "layer_output[10].numpy()"
   ]
  },
  {
   "cell_type": "markdown",
   "metadata": {},
   "source": [
    "It seems we did ever so slightly better than the class imbalance. There's definitely a chance we picked up a few correct classifications just by chance. Generally, much larger convnets (deeper and more kernels at each layer) are needed to perform well at image recognition tasks."
   ]
  },
  {
   "cell_type": "code",
   "execution_count": 57,
   "metadata": {},
   "outputs": [],
   "source": [
    "yhat = (model.predict( X_test ).flatten()>0.5).astype(int)"
   ]
  },
  {
   "cell_type": "code",
   "execution_count": 58,
   "metadata": {},
   "outputs": [
    {
     "data": {
      "text/plain": [
       "0.5375"
      ]
     },
     "execution_count": 58,
     "metadata": {},
     "output_type": "execute_result"
    }
   ],
   "source": [
    "(labels_test == yhat).mean()"
   ]
  },
  {
   "cell_type": "code",
   "execution_count": 59,
   "metadata": {},
   "outputs": [
    {
     "data": {
      "text/plain": [
       "0.5375"
      ]
     },
     "execution_count": 59,
     "metadata": {},
     "output_type": "execute_result"
    }
   ],
   "source": [
    "1-labels_test.mean()"
   ]
  },
  {
   "cell_type": "code",
   "execution_count": null,
   "metadata": {},
   "outputs": [],
   "source": []
  }
 ],
 "metadata": {
  "kernelspec": {
   "display_name": "Python 3",
   "language": "python",
   "name": "python3"
  },
  "language_info": {
   "codemirror_mode": {
    "name": "ipython",
    "version": 3
   },
   "file_extension": ".py",
   "mimetype": "text/x-python",
   "name": "python",
   "nbconvert_exporter": "python",
   "pygments_lexer": "ipython3",
   "version": "3.7.3"
  }
 },
 "nbformat": 4,
 "nbformat_minor": 2
}
