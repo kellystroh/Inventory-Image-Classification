{
 "cells": [
  {
   "cell_type": "code",
   "execution_count": 1,
   "metadata": {},
   "outputs": [
    {
     "name": "stdout",
     "output_type": "stream",
     "text": [
      "0 44446\n",
      "2000 44446\n",
      "4000 44446\n",
      "6000 44446\n",
      "8000 44446\n",
      "10000 44446\n",
      "12000 44446\n",
      "14000 44446\n",
      "16000 44446\n",
      "18000 44446\n",
      "20000 44446\n",
      "22000 44446\n",
      "24000 44446\n",
      "26000 44446\n",
      "28000 44446\n",
      "30000 44446\n",
      "32000 44446\n",
      "34000 44446\n",
      "36000 44446\n",
      "38000 44446\n",
      "40000 44446\n",
      "42000 44446\n",
      "44000 44446\n"
     ]
    }
   ],
   "source": [
    "import numpy as np\n",
    "import pandas as pd\n",
    "import imageio\n",
    "import glob\n",
    "from zipfile import ZipFile \n",
    "\n",
    "#my childhood soccer number\n",
    "np.random.seed(33)\n",
    "\n",
    "\n",
    "df = pd.read_csv('data/styles.csv', error_bad_lines=False)\n",
    "\n",
    "\n",
    "all_img = []\n",
    "for i, ix in enumerate( df.id ):\n",
    "    if i%2000==0:\n",
    "        print(i, len(df))\n",
    "\n",
    "    fn = r'data/data/images/{}.jpg'.format(ix)\n",
    "    try:\n",
    "        img = imageio.imread(fn)\n",
    "        if img.shape!=(80, 60, 3):\n",
    "            all_img.append( [0]*(60*80*3) )\n",
    "        else:\n",
    "            all_img.append( img.ravel() )\n",
    "    except FileNotFoundError:\n",
    "        all_img.append( [0]*(60*80*3) )\n",
    "\n",
    "all_img = np.stack(all_img)\n",
    "bw_float64 = all_img.reshape(-1, 80, 60, 3).mean(3).reshape(-1, 80*60)\n",
    "bw_img = bw_float64.astype('float16')\n",
    "np.savez_compressed('data/original_image_arr', a=all_img, b=bw_img)"
   ]
  },
  {
   "cell_type": "code",
   "execution_count": 1,
   "metadata": {},
   "outputs": [],
   "source": [
    "#standard imports\n",
    "import pandas as pd\n",
    "import numpy as np\n",
    "from matplotlib import pyplot as plt"
   ]
  },
  {
   "cell_type": "code",
   "execution_count": 2,
   "metadata": {},
   "outputs": [],
   "source": [
    "df = pd.read_csv('data/labels_df.csv')"
   ]
  },
  {
   "cell_type": "code",
   "execution_count": 3,
   "metadata": {},
   "outputs": [],
   "source": [
    "loaded = np.load('data/original_image_arr.npz')\n",
    "bw_img = loaded['b']"
   ]
  },
  {
   "cell_type": "code",
   "execution_count": 4,
   "metadata": {},
   "outputs": [],
   "source": [
    "labels = df.masterCategory.copy()\n",
    "labels = labels.astype('category')\n",
    "labels = labels.cat.codes"
   ]
  },
  {
   "cell_type": "code",
   "execution_count": 5,
   "metadata": {},
   "outputs": [
    {
     "data": {
      "text/plain": [
       "{1: 'Apparel', 0: 'Accessories', 2: 'Footwear', 3: 'Personal Care'}"
      ]
     },
     "execution_count": 5,
     "metadata": {},
     "output_type": "execute_result"
    }
   ],
   "source": [
    "masterCat_codes = {}\n",
    "for i in range(len(labels.value_counts().index)):\n",
    "    s = labels.value_counts().index[i]\n",
    "    t = df.masterCategory.value_counts().index[i]\n",
    "    masterCat_codes[s] = t\n",
    "masterCat_codes"
   ]
  },
  {
   "cell_type": "code",
   "execution_count": 6,
   "metadata": {},
   "outputs": [
    {
     "data": {
      "text/plain": [
       "{'Apparel': 21341,\n",
       " 'Accessories': 11004,\n",
       " 'Footwear': 9119,\n",
       " 'Personal Care': 2393}"
      ]
     },
     "execution_count": 6,
     "metadata": {},
     "output_type": "execute_result"
    }
   ],
   "source": [
    "masterCat_counts = {}\n",
    "for i in range(len(labels.value_counts().index)):\n",
    "    s = labels.value_counts().values[i]\n",
    "    t = df.masterCategory.value_counts().index[i]\n",
    "    masterCat_counts[t] = s\n",
    "masterCat_counts"
   ]
  },
  {
   "cell_type": "code",
   "execution_count": 9,
   "metadata": {},
   "outputs": [
    {
     "data": {
      "text/html": [
       "<div>\n",
       "<style scoped>\n",
       "    .dataframe tbody tr th:only-of-type {\n",
       "        vertical-align: middle;\n",
       "    }\n",
       "\n",
       "    .dataframe tbody tr th {\n",
       "        vertical-align: top;\n",
       "    }\n",
       "\n",
       "    .dataframe thead th {\n",
       "        text-align: right;\n",
       "    }\n",
       "</style>\n",
       "<table border=\"1\" class=\"dataframe\">\n",
       "  <thead>\n",
       "    <tr style=\"text-align: right;\">\n",
       "      <th></th>\n",
       "      <th>Main Category</th>\n",
       "      <th>Item Count</th>\n",
       "      <th>Percent of Full Dataset</th>\n",
       "    </tr>\n",
       "  </thead>\n",
       "  <tbody>\n",
       "    <tr>\n",
       "      <th>0</th>\n",
       "      <td>Apparel</td>\n",
       "      <td>21341</td>\n",
       "      <td>0.49</td>\n",
       "    </tr>\n",
       "    <tr>\n",
       "      <th>1</th>\n",
       "      <td>Accessories</td>\n",
       "      <td>11004</td>\n",
       "      <td>0.25</td>\n",
       "    </tr>\n",
       "    <tr>\n",
       "      <th>2</th>\n",
       "      <td>Footwear</td>\n",
       "      <td>9119</td>\n",
       "      <td>0.21</td>\n",
       "    </tr>\n",
       "    <tr>\n",
       "      <th>3</th>\n",
       "      <td>Personal Care</td>\n",
       "      <td>2393</td>\n",
       "      <td>0.05</td>\n",
       "    </tr>\n",
       "  </tbody>\n",
       "</table>\n",
       "</div>"
      ],
      "text/plain": [
       "   Main Category  Item Count  Percent of Full Dataset\n",
       "0        Apparel       21341                     0.49\n",
       "1    Accessories       11004                     0.25\n",
       "2       Footwear        9119                     0.21\n",
       "3  Personal Care        2393                     0.05"
      ]
     },
     "execution_count": 9,
     "metadata": {},
     "output_type": "execute_result"
    }
   ],
   "source": [
    "cat_names = pd.Series(list(df.masterCategory.value_counts().index))\n",
    "cat_counts = df.masterCategory.value_counts().values\n",
    "df.masterCategory.value_counts().sum()\n",
    "cat_percent = np.round(df.masterCategory.value_counts().values/43857, 2)\n",
    "summary_df = pd.DataFrame(cat_names, index=range(4), columns=['Main Category'])\n",
    "summary_df['Item Count'] = cat_counts\n",
    "summary_df['Percent of Full Dataset'] = cat_percent\n",
    "summary_df"
   ]
  },
  {
   "cell_type": "code",
   "execution_count": null,
   "metadata": {},
   "outputs": [],
   "source": []
  }
 ],
 "metadata": {
  "kernelspec": {
   "display_name": "Python 3",
   "language": "python",
   "name": "python3"
  },
  "language_info": {
   "codemirror_mode": {
    "name": "ipython",
    "version": 3
   },
   "file_extension": ".py",
   "mimetype": "text/x-python",
   "name": "python",
   "nbconvert_exporter": "python",
   "pygments_lexer": "ipython3",
   "version": "3.7.1"
  }
 },
 "nbformat": 4,
 "nbformat_minor": 2
}
