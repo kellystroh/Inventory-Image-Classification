{
 "cells": [
  {
   "cell_type": "code",
   "execution_count": 1,
   "metadata": {},
   "outputs": [
    {
     "name": "stdout",
     "output_type": "stream",
     "text": [
      "0 44446\n",
      "2000 44446\n",
      "4000 44446\n",
      "6000 44446\n",
      "8000 44446\n",
      "10000 44446\n",
      "12000 44446\n",
      "14000 44446\n",
      "16000 44446\n",
      "18000 44446\n",
      "20000 44446\n",
      "22000 44446\n",
      "24000 44446\n",
      "26000 44446\n",
      "28000 44446\n",
      "30000 44446\n",
      "32000 44446\n",
      "34000 44446\n",
      "36000 44446\n",
      "38000 44446\n",
      "40000 44446\n",
      "42000 44446\n",
      "44000 44446\n"
     ]
    }
   ],
   "source": [
    "# import numpy as np\n",
    "# import pandas as pd\n",
    "# import imageio\n",
    "# import glob\n",
    "# from zipfile import ZipFile \n",
    "\n",
    "# #my childhood soccer number\n",
    "# np.random.seed(33)\n",
    "\n",
    "\n",
    "# df = pd.read_csv('data/styles.csv', error_bad_lines=False)\n",
    "\n",
    "\n",
    "# all_img = []\n",
    "# for i, ix in enumerate( df.id ):\n",
    "#     if i%2000==0:\n",
    "#         print(i, len(df))\n",
    "\n",
    "#     fn = r'data/data/images/{}.jpg'.format(ix)\n",
    "#     try:\n",
    "#         img = imageio.imread(fn)\n",
    "#         if img.shape!=(80, 60, 3):\n",
    "#             all_img.append( [0]*(60*80*3) )\n",
    "#         else:\n",
    "#             all_img.append( img.ravel() )\n",
    "#     except FileNotFoundError:\n",
    "#         all_img.append( [0]*(60*80*3) )\n",
    "\n",
    "# all_img = np.stack(all_img)\n",
    "# bw_float64 = all_img.reshape(-1, 80, 60, 3).mean(3).reshape(-1, 80*60)\n",
    "# bw_img = bw_float64.astype('float16')\n",
    "# np.savez_compressed('data/original_image_arr', a=all_img, b=bw_img)"
   ]
  },
  {
   "cell_type": "code",
   "execution_count": 1,
   "metadata": {},
   "outputs": [],
   "source": [
    "#standard imports\n",
    "import pandas as pd\n",
    "import numpy as np\n",
    "from matplotlib import pyplot as plt\n",
    "import imageio"
   ]
  },
  {
   "cell_type": "code",
   "execution_count": 2,
   "metadata": {},
   "outputs": [
    {
     "data": {
      "text/html": [
       "<div>\n",
       "<style scoped>\n",
       "    .dataframe tbody tr th:only-of-type {\n",
       "        vertical-align: middle;\n",
       "    }\n",
       "\n",
       "    .dataframe tbody tr th {\n",
       "        vertical-align: top;\n",
       "    }\n",
       "\n",
       "    .dataframe thead th {\n",
       "        text-align: right;\n",
       "    }\n",
       "</style>\n",
       "<table border=\"1\" class=\"dataframe\">\n",
       "  <thead>\n",
       "    <tr style=\"text-align: right;\">\n",
       "      <th></th>\n",
       "      <th>id</th>\n",
       "      <th>gender</th>\n",
       "      <th>masterCategory</th>\n",
       "      <th>subCategory</th>\n",
       "      <th>articleType</th>\n",
       "      <th>baseColour</th>\n",
       "      <th>season</th>\n",
       "      <th>year</th>\n",
       "      <th>usage</th>\n",
       "      <th>productDisplayName</th>\n",
       "    </tr>\n",
       "  </thead>\n",
       "  <tbody>\n",
       "    <tr>\n",
       "      <th>0</th>\n",
       "      <td>15970</td>\n",
       "      <td>Men</td>\n",
       "      <td>Apparel</td>\n",
       "      <td>Topwear</td>\n",
       "      <td>Shirts</td>\n",
       "      <td>Navy Blue</td>\n",
       "      <td>Fall</td>\n",
       "      <td>2011.0</td>\n",
       "      <td>Casual</td>\n",
       "      <td>Turtle Check Men Navy Blue Shirt</td>\n",
       "    </tr>\n",
       "    <tr>\n",
       "      <th>1</th>\n",
       "      <td>39386</td>\n",
       "      <td>Men</td>\n",
       "      <td>Apparel</td>\n",
       "      <td>Bottomwear</td>\n",
       "      <td>Jeans</td>\n",
       "      <td>Blue</td>\n",
       "      <td>Summer</td>\n",
       "      <td>2012.0</td>\n",
       "      <td>Casual</td>\n",
       "      <td>Peter England Men Party Blue Jeans</td>\n",
       "    </tr>\n",
       "    <tr>\n",
       "      <th>2</th>\n",
       "      <td>21379</td>\n",
       "      <td>Men</td>\n",
       "      <td>Apparel</td>\n",
       "      <td>Bottomwear</td>\n",
       "      <td>Track Pants</td>\n",
       "      <td>Black</td>\n",
       "      <td>Fall</td>\n",
       "      <td>2011.0</td>\n",
       "      <td>Casual</td>\n",
       "      <td>Manchester United Men Solid Black Track Pants</td>\n",
       "    </tr>\n",
       "    <tr>\n",
       "      <th>3</th>\n",
       "      <td>30805</td>\n",
       "      <td>Men</td>\n",
       "      <td>Apparel</td>\n",
       "      <td>Topwear</td>\n",
       "      <td>Shirts</td>\n",
       "      <td>Green</td>\n",
       "      <td>Summer</td>\n",
       "      <td>2012.0</td>\n",
       "      <td>Ethnic</td>\n",
       "      <td>Fabindia Men Striped Green Shirt</td>\n",
       "    </tr>\n",
       "    <tr>\n",
       "      <th>4</th>\n",
       "      <td>26960</td>\n",
       "      <td>Women</td>\n",
       "      <td>Apparel</td>\n",
       "      <td>Topwear</td>\n",
       "      <td>Shirts</td>\n",
       "      <td>Purple</td>\n",
       "      <td>Summer</td>\n",
       "      <td>2012.0</td>\n",
       "      <td>Casual</td>\n",
       "      <td>Jealous 21 Women Purple Shirt</td>\n",
       "    </tr>\n",
       "  </tbody>\n",
       "</table>\n",
       "</div>"
      ],
      "text/plain": [
       "      id gender masterCategory subCategory  articleType baseColour  season  \\\n",
       "0  15970    Men        Apparel     Topwear       Shirts  Navy Blue    Fall   \n",
       "1  39386    Men        Apparel  Bottomwear        Jeans       Blue  Summer   \n",
       "2  21379    Men        Apparel  Bottomwear  Track Pants      Black    Fall   \n",
       "3  30805    Men        Apparel     Topwear       Shirts      Green  Summer   \n",
       "4  26960  Women        Apparel     Topwear       Shirts     Purple  Summer   \n",
       "\n",
       "     year   usage                             productDisplayName  \n",
       "0  2011.0  Casual               Turtle Check Men Navy Blue Shirt  \n",
       "1  2012.0  Casual             Peter England Men Party Blue Jeans  \n",
       "2  2011.0  Casual  Manchester United Men Solid Black Track Pants  \n",
       "3  2012.0  Ethnic               Fabindia Men Striped Green Shirt  \n",
       "4  2012.0  Casual                  Jealous 21 Women Purple Shirt  "
      ]
     },
     "execution_count": 2,
     "metadata": {},
     "output_type": "execute_result"
    }
   ],
   "source": [
    "df = pd.read_csv('data/full_labels_df.csv')\n",
    "df.head()"
   ]
  },
  {
   "cell_type": "code",
   "execution_count": 3,
   "metadata": {},
   "outputs": [],
   "source": [
    "loaded = np.load('data/full_image_arr.npz')\n",
    "bw_img = loaded['b']"
   ]
  },
  {
   "cell_type": "code",
   "execution_count": 4,
   "metadata": {},
   "outputs": [],
   "source": [
    "# labels = df.masterCategory.copy()\n",
    "# labels = labels.astype('category')\n",
    "# labels = labels.cat.codes"
   ]
  },
  {
   "cell_type": "code",
   "execution_count": 28,
   "metadata": {
    "scrolled": false
   },
   "outputs": [
    {
     "data": {
      "text/plain": [
       "<matplotlib.axes._subplots.AxesSubplot at 0x12fee0b00>"
      ]
     },
     "execution_count": 28,
     "metadata": {},
     "output_type": "execute_result"
    },
    {
     "data": {
      "image/png": "[encoded data removed]",
      "text/plain": [
       "<Figure size 864x1152 with 1 Axes>"
      ]
     },
     "metadata": {
      "needs_background": "light"
     },
     "output_type": "display_data"
    }
   ],
   "source": [
    "df.subCategory = df.subCategory.str.replace('Loungewear and Nightwear', 'Loungewear')\n",
    "df2 = df[['masterCategory','subCategory', 'id']].groupby(['masterCategory','subCategory']).count().unstack('subCategory').fillna(0)\n",
    "df3 = df2['id']\n",
    "df4 = df3.transpose()\n",
    "df3.plot(kind='bar', stacked=True,figsize=(12,16), cmap='gnuplot')\n",
    "#plt.legend(loc='best')"
   ]
  },
  {
   "cell_type": "code",
   "execution_count": 8,
   "metadata": {},
   "outputs": [
    {
     "data": {
      "text/plain": [
       "<matplotlib.legend.Legend at 0x118f836d8>"
      ]
     },
     "execution_count": 8,
     "metadata": {},
     "output_type": "execute_result"
    },
    {
     "data": {
      "image/png": "[encoded data removed]",
      "text/plain": [
       "<Figure size 576x576 with 1 Axes>"
      ]
     },
     "metadata": {
      "needs_background": "light"
     },
     "output_type": "display_data"
    }
   ],
   "source": [
    "df2 = df[df.masterCategory=='Apparel'][['masterCategory','subCategory', 'id']].groupby(['masterCategory','subCategory']).count().unstack('subCategory').fillna(0)\n",
    "df3 = df2['id']\n",
    "df4 = df3.transpose()\n",
    "df3.plot(kind='bar', stacked=True,figsize=(8,8))\n",
    "plt.legend(loc='best')"
   ]
  },
  {
   "cell_type": "code",
   "execution_count": 103,
   "metadata": {},
   "outputs": [
    {
     "ename": "NameError",
     "evalue": "name 'labels' is not defined",
     "output_type": "error",
     "traceback": [
      "\u001b[0;31m---------------------------------------------------------------------------\u001b[0m",
      "\u001b[0;31mNameError\u001b[0m                                 Traceback (most recent call last)",
      "\u001b[0;32m<ipython-input-103-89011e310107>\u001b[0m in \u001b[0;36m<module>\u001b[0;34m\u001b[0m\n\u001b[1;32m      1\u001b[0m \u001b[0mmasterCat_codes\u001b[0m \u001b[0;34m=\u001b[0m \u001b[0;34m{\u001b[0m\u001b[0;34m}\u001b[0m\u001b[0;34m\u001b[0m\u001b[0;34m\u001b[0m\u001b[0m\n\u001b[0;32m----> 2\u001b[0;31m \u001b[0;32mfor\u001b[0m \u001b[0mi\u001b[0m \u001b[0;32min\u001b[0m \u001b[0mrange\u001b[0m\u001b[0;34m(\u001b[0m\u001b[0mlen\u001b[0m\u001b[0;34m(\u001b[0m\u001b[0mlabels\u001b[0m\u001b[0;34m.\u001b[0m\u001b[0mvalue_counts\u001b[0m\u001b[0;34m(\u001b[0m\u001b[0;34m)\u001b[0m\u001b[0;34m.\u001b[0m\u001b[0mindex\u001b[0m\u001b[0;34m)\u001b[0m\u001b[0;34m)\u001b[0m\u001b[0;34m:\u001b[0m\u001b[0;34m\u001b[0m\u001b[0;34m\u001b[0m\u001b[0m\n\u001b[0m\u001b[1;32m      3\u001b[0m     \u001b[0ms\u001b[0m \u001b[0;34m=\u001b[0m \u001b[0mlabels\u001b[0m\u001b[0;34m.\u001b[0m\u001b[0mvalue_counts\u001b[0m\u001b[0;34m(\u001b[0m\u001b[0;34m)\u001b[0m\u001b[0;34m.\u001b[0m\u001b[0mindex\u001b[0m\u001b[0;34m[\u001b[0m\u001b[0mi\u001b[0m\u001b[0;34m]\u001b[0m\u001b[0;34m\u001b[0m\u001b[0;34m\u001b[0m\u001b[0m\n\u001b[1;32m      4\u001b[0m     \u001b[0mt\u001b[0m \u001b[0;34m=\u001b[0m \u001b[0mdf\u001b[0m\u001b[0;34m.\u001b[0m\u001b[0mmasterCategory\u001b[0m\u001b[0;34m.\u001b[0m\u001b[0mvalue_counts\u001b[0m\u001b[0;34m(\u001b[0m\u001b[0;34m)\u001b[0m\u001b[0;34m.\u001b[0m\u001b[0mindex\u001b[0m\u001b[0;34m[\u001b[0m\u001b[0mi\u001b[0m\u001b[0;34m]\u001b[0m\u001b[0;34m\u001b[0m\u001b[0;34m\u001b[0m\u001b[0m\n\u001b[1;32m      5\u001b[0m     \u001b[0mmasterCat_codes\u001b[0m\u001b[0;34m[\u001b[0m\u001b[0ms\u001b[0m\u001b[0;34m]\u001b[0m \u001b[0;34m=\u001b[0m \u001b[0mt\u001b[0m\u001b[0;34m\u001b[0m\u001b[0;34m\u001b[0m\u001b[0m\n",
      "\u001b[0;31mNameError\u001b[0m: name 'labels' is not defined"
     ]
    }
   ],
   "source": [
    "masterCat_codes = {}\n",
    "for i in range(len(labels.value_counts().index)):\n",
    "    s = labels.value_counts().index[i]\n",
    "    t = df.masterCategory.value_counts().index[i]\n",
    "    masterCat_codes[s] = t\n",
    "masterCat_codes"
   ]
  },
  {
   "cell_type": "code",
   "execution_count": 6,
   "metadata": {},
   "outputs": [
    {
     "data": {
      "text/plain": [
       "{'Apparel': 21341,\n",
       " 'Accessories': 11004,\n",
       " 'Footwear': 9119,\n",
       " 'Personal Care': 2393}"
      ]
     },
     "execution_count": 6,
     "metadata": {},
     "output_type": "execute_result"
    }
   ],
   "source": [
    "masterCat_counts = {}\n",
    "for i in range(len(labels.value_counts().index)):\n",
    "    s = labels.value_counts().values[i]\n",
    "    t = df.masterCategory.value_counts().index[i]\n",
    "    masterCat_counts[t] = s\n",
    "masterCat_counts"
   ]
  },
  {
   "cell_type": "code",
   "execution_count": 30,
   "metadata": {},
   "outputs": [],
   "source": [
    "subCat_counts = {}\n",
    "for i in range(len(df.subCategory.value_counts().index)):\n",
    "    s = df.subCategory.value_counts().values[i]\n",
    "    t = df.subCategory.value_counts().index[i]\n",
    "    subCat_counts[t] = s\n"
   ]
  },
  {
   "cell_type": "code",
   "execution_count": 9,
   "metadata": {},
   "outputs": [
    {
     "data": {
      "text/html": [
       "<div>\n",
       "<style scoped>\n",
       "    .dataframe tbody tr th:only-of-type {\n",
       "        vertical-align: middle;\n",
       "    }\n",
       "\n",
       "    .dataframe tbody tr th {\n",
       "        vertical-align: top;\n",
       "    }\n",
       "\n",
       "    .dataframe thead th {\n",
       "        text-align: right;\n",
       "    }\n",
       "</style>\n",
       "<table border=\"1\" class=\"dataframe\">\n",
       "  <thead>\n",
       "    <tr style=\"text-align: right;\">\n",
       "      <th></th>\n",
       "      <th>Main Category</th>\n",
       "      <th>Item Count</th>\n",
       "      <th>Percent of Full Dataset</th>\n",
       "    </tr>\n",
       "  </thead>\n",
       "  <tbody>\n",
       "    <tr>\n",
       "      <th>0</th>\n",
       "      <td>Apparel</td>\n",
       "      <td>21341</td>\n",
       "      <td>0.49</td>\n",
       "    </tr>\n",
       "    <tr>\n",
       "      <th>1</th>\n",
       "      <td>Accessories</td>\n",
       "      <td>11004</td>\n",
       "      <td>0.25</td>\n",
       "    </tr>\n",
       "    <tr>\n",
       "      <th>2</th>\n",
       "      <td>Footwear</td>\n",
       "      <td>9119</td>\n",
       "      <td>0.21</td>\n",
       "    </tr>\n",
       "    <tr>\n",
       "      <th>3</th>\n",
       "      <td>Personal Care</td>\n",
       "      <td>2393</td>\n",
       "      <td>0.05</td>\n",
       "    </tr>\n",
       "  </tbody>\n",
       "</table>\n",
       "</div>"
      ],
      "text/plain": [
       "   Main Category  Item Count  Percent of Full Dataset\n",
       "0        Apparel       21341                     0.49\n",
       "1    Accessories       11004                     0.25\n",
       "2       Footwear        9119                     0.21\n",
       "3  Personal Care        2393                     0.05"
      ]
     },
     "execution_count": 9,
     "metadata": {},
     "output_type": "execute_result"
    }
   ],
   "source": [
    "cat_names = pd.Series(list(df.masterCategory.value_counts().index))\n",
    "cat_counts = df.masterCategory.value_counts().values\n",
    "df.masterCategory.value_counts().sum()\n",
    "cat_percent = np.round(df.masterCategory.value_counts().values/43857, 2)\n",
    "summary_df = pd.DataFrame(cat_names, index=range(4), columns=['Main Category'])\n",
    "summary_df['Item Count'] = cat_counts\n",
    "summary_df['Percent of Full Dataset'] = cat_percent\n",
    "summary_df"
   ]
  },
  {
   "cell_type": "code",
   "execution_count": 39,
   "metadata": {},
   "outputs": [
    {
     "data": {
      "text/plain": [
       "Index(['Topwear', 'Shoes', 'Bags', 'Bottomwear', 'Watches', 'Innerwear',\n",
       "       'Eyewear', 'Jewellery', 'Fragrance', 'Sandal', 'Flip Flops', 'Wallets',\n",
       "       'Belts', 'Socks', 'Lips', 'Dress', 'Loungewear and Nightwear', 'Saree',\n",
       "       'Nails', 'Makeup', 'Headwear', 'Ties', 'Accessories', 'Scarves',\n",
       "       'Apparel Set', 'Cufflinks', 'Stoles', 'Skin Care', 'Skin', 'Eyes',\n",
       "       'Mufflers', 'Shoe Accessories', 'Hair', 'Gloves', 'Bath and Body',\n",
       "       'Water Bottle', 'Perfumes', 'Umbrellas', 'Beauty Accessories',\n",
       "       'Sports Accessories'],\n",
       "      dtype='object')"
      ]
     },
     "execution_count": 39,
     "metadata": {},
     "output_type": "execute_result"
    }
   ],
   "source": [
    "list(df.subCategory.value_counts().index)"
   ]
  },
  {
   "cell_type": "code",
   "execution_count": 32,
   "metadata": {},
   "outputs": [],
   "source": [
    "def multi_index_counts(col, col2):\n",
    "    counts = df.groupby([col, col2]).count().id\n",
    "    return counts"
   ]
  },
  {
   "cell_type": "code",
   "execution_count": 79,
   "metadata": {},
   "outputs": [],
   "source": [
    "df = pd.read_csv('data/full_labels_df.csv')"
   ]
  },
  {
   "cell_type": "code",
   "execution_count": 110,
   "metadata": {},
   "outputs": [],
   "source": [
    "x = round(df[df.masterCategory=='Apparel'].groupby(['subCategory','articleType']).count().id / df[df.masterCategory=='Apparel'].groupby(['subCategory']).count().id, 3 )"
   ]
  },
  {
   "cell_type": "code",
   "execution_count": 135,
   "metadata": {},
   "outputs": [],
   "source": [
    "def part1(mast_cat):\n",
    "    items = df[df.masterCategory==mast_cat].groupby(['subCategory','articleType']).count().id \n",
    "    return items\n",
    "\n",
    "def filter(mast_cat, line):\n",
    "    items = df[df.masterCategory==mast_cat].groupby(['subCategory','articleType']).count().id\n",
    "    num_drop = len(items[items < line])\n",
    "    drop_list = []\n",
    "    for i in range(num_drop):\n",
    "        c = items[items < line].index[i][1]\n",
    "        drop_list.append(c)\n",
    "    return drop_list"
   ]
  },
  {
   "cell_type": "code",
   "execution_count": 143,
   "metadata": {},
   "outputs": [],
   "source": [
    "perfumes= list(df[df.subCategory=='Perfumes'].index)\n",
    "df.iloc[perfumes, 2] = 'Personal Care'\n",
    "df.iloc[perfumes, 3] = 'Fragrance'\n",
    "\n",
    "eyes = list(df[df.subCategory=='Eyes'].index)\n",
    "df.iloc[eyes,3] = 'Makeup'"
   ]
  },
  {
   "cell_type": "code",
   "execution_count": 149,
   "metadata": {},
   "outputs": [
    {
     "data": {
      "text/plain": [
       "subCategory  articleType   \n",
       "Flip Flops   Flip Flops         910\n",
       "Sandal       Flip Flops           1\n",
       "             Sandals            875\n",
       "             Sports Sandals      67\n",
       "Shoes        Casual Shoes      2816\n",
       "             Flats              495\n",
       "             Formal Shoes       619\n",
       "             Heels             1316\n",
       "             Sandals              2\n",
       "             Sports Shoes      2018\n",
       "Name: id, dtype: int64"
      ]
     },
     "execution_count": 149,
     "metadata": {},
     "output_type": "execute_result"
    }
   ],
   "source": [
    "part1('Footwear')"
   ]
  },
  {
   "cell_type": "code",
   "execution_count": 148,
   "metadata": {},
   "outputs": [
    {
     "data": {
      "text/plain": [
       "['Lip Care', 'Lip Plumper', 'Concealer', 'Makeup Remover', 'Mascara']"
      ]
     },
     "execution_count": 148,
     "metadata": {},
     "output_type": "execute_result"
    }
   ],
   "source": [
    "app_drop_list = filter_article('Apparel', 30)\n",
    "acc_drop_list = filter_article('Accessories', 30)\n",
    "pc_drop_list = filter_article('Personal Care', 30)"
   ]
  },
  {
   "cell_type": "code",
   "execution_count": 150,
   "metadata": {},
   "outputs": [
    {
     "data": {
      "text/plain": [
       "['Rain Trousers',\n",
       " 'Salwar and Dupatta',\n",
       " 'Swimwear',\n",
       " 'Tights',\n",
       " 'Tracksuits',\n",
       " 'Jumpsuit',\n",
       " 'Shapewear',\n",
       " 'Baby Dolls',\n",
       " 'Bath Robe',\n",
       " 'Lounge Tshirts',\n",
       " 'Robe',\n",
       " 'Shorts',\n",
       " 'Booties',\n",
       " 'Belts',\n",
       " 'Blazers',\n",
       " 'Dresses',\n",
       " 'Lehenga Choli',\n",
       " 'Nehru Jackets',\n",
       " 'Rain Jacket',\n",
       " 'Rompers',\n",
       " 'Shrug',\n",
       " 'Waistcoat',\n",
       " 'Rucksacks',\n",
       " 'Tablet Sleeve',\n",
       " 'Travel Accessory',\n",
       " 'Trolley Bag',\n",
       " 'Waist Pouch',\n",
       " 'Wallets',\n",
       " 'Tshirts',\n",
       " 'Hat',\n",
       " 'Headband',\n",
       " 'Lip Care',\n",
       " 'Lip Plumper',\n",
       " 'Concealer',\n",
       " 'Makeup Remover',\n",
       " 'Mascara']"
      ]
     },
     "execution_count": 150,
     "metadata": {},
     "output_type": "execute_result"
    }
   ],
   "source": [
    "app_drop_list + acc_drop_list + pc_drop_list"
   ]
  },
  {
   "cell_type": "code",
   "execution_count": 153,
   "metadata": {},
   "outputs": [],
   "source": [
    "drop_list = app_drop_list + acc_drop_list + pc_drop_list\n",
    "drop_idx = list(df[df.articleType.isin(drop_list)].index)\n",
    "df = df[~df.articleType.isin(drop_idx)]"
   ]
  },
  {
   "cell_type": "code",
   "execution_count": 154,
   "metadata": {},
   "outputs": [
    {
     "data": {
      "text/plain": [
       "masterCategory  subCategory             \n",
       "Accessories     Bags                         3002\n",
       "                Belts                         788\n",
       "                Eyewear                      1067\n",
       "                Headwear                      286\n",
       "                Jewellery                    1043\n",
       "                Ties                          251\n",
       "                Wallets                       894\n",
       "                Watches                      2461\n",
       "Apparel         Bottomwear                   2685\n",
       "                Dress                         478\n",
       "                Innerwear                    1773\n",
       "                Loungewear and Nightwear      470\n",
       "                Saree                         424\n",
       "                Socks                         676\n",
       "                Topwear                     15393\n",
       "Footwear        Flip Flops                    910\n",
       "                Sandal                        943\n",
       "                Shoes                        7266\n",
       "Personal Care   Fragrance                    1016\n",
       "                Lips                          526\n",
       "                Makeup                        343\n",
       "                Nails                         329\n",
       "Name: id, dtype: int64"
      ]
     },
     "execution_count": 154,
     "metadata": {},
     "output_type": "execute_result"
    }
   ],
   "source": [
    "multi_index_counts('masterCategory', 'subCategory')"
   ]
  },
  {
   "cell_type": "code",
   "execution_count": 66,
   "metadata": {},
   "outputs": [
    {
     "name": "stdout",
     "output_type": "stream",
     "text": [
      "Index(['Topwear', 'Shoes', 'Bottomwear', 'Innerwear', 'Fragrance', 'Sandal',\n",
      "       'Flip Flops', 'Socks', 'Lips', 'Dress', 'Loungewear and Nightwear',\n",
      "       'Saree', 'Nails', 'Makeup', 'Apparel Set', 'Skin Care', 'Skin', 'Eyes',\n",
      "       'Hair', 'Bath and Body', 'Perfumes', 'Beauty Accessories'],\n",
      "      dtype='object')\n"
     ]
    }
   ],
   "source": [
    "counts = df.subCategory.value_counts()\n",
    "print(counts.index)\n",
    "counts\n",
    "\n",
    "\n",
    "short_list = ['Accessories', 'Apparel Set', 'Cufflinks', 'Stoles', 'Skin Care', 'Skin','Mufflers', 'Shoe Accessories', 'Hair', 'Gloves', 'Bath and Body','Water Bottle', 'Umbrellas', 'Beauty Accessories', 'Sports Accessories']"
   ]
  },
  {
   "cell_type": "code",
   "execution_count": 55,
   "metadata": {},
   "outputs": [
    {
     "data": {
      "text/plain": [
       "Compact                      49\n",
       "Lip Liner                    48\n",
       "Eyeshadow                    42\n",
       "Suspenders                   40\n",
       "Camisoles                    39\n",
       "Patiala                      38\n",
       "Jeggings                     34\n",
       "Lounge Shorts                34\n",
       "Stockings                    32\n",
       "Salwar                       32\n",
       "Churidar                     30\n",
       "Tracksuits                   29\n",
       "Face Wash and Cleanser       28\n",
       "Sunscreen                    25\n",
       "Bath Robe                    20\n",
       "Hair Colour                  19\n",
       "Rain Jacket                  18\n",
       "Swimwear                     17\n",
       "Baby Dolls                   16\n",
       "Jumpsuit                     16\n",
       "Lip Care                     15\n",
       "Waistcoat                    15\n",
       "Mask and Peel                12\n",
       "Booties                      12\n",
       "Mascara                      12\n",
       "Rompers                      12\n",
       "Concealer                    11\n",
       "Shapewear                     9\n",
       "Tights                        9\n",
       "Blazers                       8\n",
       "Clothing Set                  8\n",
       "Salwar and Dupatta            7\n",
       "Shrug                         6\n",
       "Nail Essentials               6\n",
       "Eye Cream                     6\n",
       "Body Lotion                   6\n",
       "Face Scrub and Exfoliator     5\n",
       "Nehru Jackets                 5\n",
       "Toner                         5\n",
       "Lip Plumper                   4\n",
       "Robe                          4\n",
       "Lehenga Choli                 4\n",
       "Makeup Remover                4\n",
       "Beauty Accessory              4\n",
       "Belts                         3\n",
       "Lounge Tshirts                3\n",
       "Face Serum and Gel            2\n",
       "Rain Trousers                 2\n",
       "Mens Grooming Kit             1\n",
       "Body Wash and Scrub           1\n",
       "Name: articleType, dtype: int64"
      ]
     },
     "execution_count": 55,
     "metadata": {},
     "output_type": "execute_result"
    }
   ],
   "source": [
    "counts = df.articleType.value_counts()\n",
    "#print(list(counts.index)[40:])\n",
    "counts[counts < 50]\n",
    "\n",
    "\n",
    "# short_list = ['Accessories', 'Apparel Set', 'Cufflinks', 'Stoles', 'Skin Care', 'Skin','Mufflers', 'Shoe Accessories', 'Hair', 'Gloves', 'Bath and Body','Water Bottle', 'Umbrellas', 'Beauty Accessories', 'Sports Accessories']"
   ]
  },
  {
   "cell_type": "code",
   "execution_count": 75,
   "metadata": {},
   "outputs": [
    {
     "data": {
      "text/plain": [
       "['Sunscreen',\n",
       " 'Bath Robe',\n",
       " 'Hair Colour',\n",
       " 'Rain Jacket',\n",
       " 'Swimwear',\n",
       " 'Baby Dolls',\n",
       " 'Jumpsuit',\n",
       " 'Lip Care',\n",
       " 'Waistcoat',\n",
       " 'Mask and Peel',\n",
       " 'Booties',\n",
       " 'Mascara',\n",
       " 'Rompers',\n",
       " 'Concealer',\n",
       " 'Shapewear',\n",
       " 'Tights',\n",
       " 'Blazers',\n",
       " 'Clothing Set',\n",
       " 'Salwar and Dupatta',\n",
       " 'Shrug',\n",
       " 'Nail Essentials',\n",
       " 'Eye Cream',\n",
       " 'Body Lotion',\n",
       " 'Face Scrub and Exfoliator',\n",
       " 'Nehru Jackets',\n",
       " 'Toner',\n",
       " 'Lip Plumper',\n",
       " 'Robe',\n",
       " 'Lehenga Choli',\n",
       " 'Makeup Remover',\n",
       " 'Beauty Accessory',\n",
       " 'Belts',\n",
       " 'Lounge Tshirts',\n",
       " 'Face Serum and Gel',\n",
       " 'Rain Trousers',\n",
       " 'Mens Grooming Kit',\n",
       " 'Body Wash and Scrub']"
      ]
     },
     "execution_count": 75,
     "metadata": {},
     "output_type": "execute_result"
    }
   ],
   "source": [
    "item_list = ['Sunscreen',\n",
    " 'Bath Robe',\n",
    " 'Hair Colour',\n",
    " 'Rain Jacket',\n",
    " 'Swimwear',\n",
    " 'Baby Dolls',\n",
    " 'Jumpsuit',\n",
    " 'Lip Care',\n",
    " 'Waistcoat',\n",
    " 'Mask and Peel',\n",
    " 'Booties',\n",
    " 'Mascara',\n",
    " 'Rompers',\n",
    " 'Concealer',\n",
    " 'Shapewear',\n",
    " 'Tights',\n",
    " 'Blazers',\n",
    " 'Clothing Set',\n",
    " 'Salwar and Dupatta',\n",
    " 'Shrug',\n",
    " 'Nail Essentials',\n",
    " 'Eye Cream',\n",
    " 'Body Lotion',\n",
    " 'Face Scrub and Exfoliator',\n",
    " 'Nehru Jackets',\n",
    " 'Toner',\n",
    " 'Lip Plumper',\n",
    " 'Robe',\n",
    " 'Lehenga Choli',\n",
    " 'Makeup Remover',\n",
    " 'Beauty Accessory',\n",
    " 'Belts',\n",
    " 'Lounge Tshirts',\n",
    " 'Face Serum and Gel',\n",
    " 'Rain Trousers',\n",
    " 'Mens Grooming Kit',\n",
    " 'Body Wash and Scrub']\n",
    "item_list"
   ]
  },
  {
   "cell_type": "code",
   "execution_count": 74,
   "metadata": {},
   "outputs": [
    {
     "data": {
      "text/plain": [
       "[]"
      ]
     },
     "execution_count": 74,
     "metadata": {},
     "output_type": "execute_result"
    }
   ],
   "source": [
    "item_list = list(counts.index)[60:]\n",
    "item_list"
   ]
  },
  {
   "cell_type": "code",
   "execution_count": 145,
   "metadata": {},
   "outputs": [
    {
     "name": "stdout",
     "output_type": "stream",
     "text": [
      "833\n",
      "43024\n"
     ]
    }
   ],
   "source": [
    "short_list = ['Accessories', 'Scarves', 'Apparel Set', 'Cufflinks', 'Stoles', 'Skin Care', \n",
    "              'Skin','Mufflers', 'Shoe Accessories', 'Hair', 'Gloves', 'Bath and Body',\n",
    "              'Water Bottle', 'Umbrellas', 'Beauty Accessories', 'Sports Accessories']\n",
    "short_idx = list(df[df.subCategory.isin(short_list)].index)\n",
    "print(len(short_idx))\n",
    "df = df[~df.subCategory.isin(short_list)]\n",
    "print(len(df))"
   ]
  },
  {
   "cell_type": "code",
   "execution_count": 76,
   "metadata": {},
   "outputs": [],
   "source": [
    "item_idx = list(df[df.articleType.isin(item_list)].index)\n",
    "\n",
    "df = df[~df.articleType.isin(item_list)]"
   ]
  },
  {
   "cell_type": "code",
   "execution_count": 77,
   "metadata": {},
   "outputs": [
    {
     "data": {
      "text/plain": [
       "42009"
      ]
     },
     "execution_count": 77,
     "metadata": {},
     "output_type": "execute_result"
    }
   ],
   "source": [
    "len(df)"
   ]
  },
  {
   "cell_type": "code",
   "execution_count": null,
   "metadata": {},
   "outputs": [],
   "source": []
  }
 ],
 "metadata": {
  "kernelspec": {
   "display_name": "Python 3",
   "language": "python",
   "name": "python3"
  },
  "language_info": {
   "codemirror_mode": {
    "name": "ipython",
    "version": 3
   },
   "file_extension": ".py",
   "mimetype": "text/x-python",
   "name": "python",
   "nbconvert_exporter": "python",
   "pygments_lexer": "ipython3",
   "version": "3.7.1"
  }
 },
 "nbformat": 4,
 "nbformat_minor": 2
}
