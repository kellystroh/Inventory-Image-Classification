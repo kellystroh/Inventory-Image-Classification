{
 "cells": [
  {
   "cell_type": "code",
   "execution_count": null,
   "metadata": {},
   "outputs": [],
   "source": [
    "import tensorflow as tf\n",
    "import numpy as np\n",
    "from matplotlib import pyplot as plt\n",
    "\n",
    "from tensorflow.keras import datasets, layers, models, regularizers, initializers\n",
    "from skimage.io import imshow\n",
    "from skimage.transform import rotate\n",
    "from skimage.filters.edges import convolve\n",
    "\n",
    "from skimage.io import imshow, imread\n",
    "from skimage.transform import resize\n",
    "from skimage.color import rgb2gray\n",
    "\n",
    "np.random.seed(42)"
   ]
  },
  {
   "cell_type": "code",
   "execution_count": null,
   "metadata": {},
   "outputs": [],
   "source": [
    "df = pd.read_csv('data/labels_df.csv')\n",
    "\n",
    "loaded = np.load('data/image_array.npz')\n",
    "all_img = loaded['a']\n",
    "bw_img = loaded['b']\n",
    "\n",
    "labels = df.masterCategory.copy()\n",
    "labels = labels.astype('category')\n",
    "labels = labels.cat.codes"
   ]
  },
  {
   "cell_type": "code",
   "execution_count": null,
   "metadata": {},
   "outputs": [],
   "source": [
    "masterCat_dict = {}\n",
    "for i in range(len(labels.value_counts().index)):\n",
    "    s = labels.value_counts().index[i]\n",
    "    t = df.masterCategory.value_counts().index[i]\n",
    "    masterCat_dict[s] = t\n",
    "masterCat_dict"
   ]
  },
  {
   "cell_type": "code",
   "execution_count": null,
   "metadata": {},
   "outputs": [],
   "source": [
    "#shuffle images and target var\n",
    "shuffle = np.random.choice( np.arange(len(bw_img)), size=len(bw_img), replace=False)\n",
    "X = bw_img[shuffle]\n",
    "y = labels.values[shuffle]\n",
    "\n",
    "#at end, use this to view images in color\n",
    "colorX = [all_img[ix] for ix in shuffle]\n",
    "\n",
    "n_train = round(len(X)*.75)\n",
    "\n",
    "images_train = X[:n_train]\n",
    "labels_train = y[:n_train]\n",
    "shuffle_train = shuffle[:n_train]\n",
    "\n",
    "images_test = X[n_train:]\n",
    "labels_test = y[n_train:]\n",
    "shuffle_test = shuffle[n_train:]"
   ]
  },
  {
   "cell_type": "code",
   "execution_count": null,
   "metadata": {},
   "outputs": [],
   "source": [
    "images_train = np.expand_dims( images_train, axis=3 )\n",
    "images_test = np.expand_dims( images_test, axis=3 )"
   ]
  },
  {
   "cell_type": "code",
   "execution_count": null,
   "metadata": {},
   "outputs": [],
   "source": []
  },
  {
   "cell_type": "code",
   "execution_count": null,
   "metadata": {},
   "outputs": [],
   "source": []
  },
  {
   "cell_type": "code",
   "execution_count": null,
   "metadata": {},
   "outputs": [],
   "source": []
  },
  {
   "cell_type": "code",
   "execution_count": null,
   "metadata": {},
   "outputs": [],
   "source": []
  },
  {
   "cell_type": "code",
   "execution_count": null,
   "metadata": {},
   "outputs": [],
   "source": []
  },
  {
   "cell_type": "code",
   "execution_count": null,
   "metadata": {},
   "outputs": [],
   "source": []
  },
  {
   "cell_type": "code",
   "execution_count": null,
   "metadata": {},
   "outputs": [],
   "source": []
  },
  {
   "cell_type": "code",
   "execution_count": null,
   "metadata": {},
   "outputs": [],
   "source": []
  },
  {
   "cell_type": "code",
   "execution_count": null,
   "metadata": {},
   "outputs": [],
   "source": []
  }
 ],
 "metadata": {
  "kernelspec": {
   "display_name": "Python 3",
   "language": "python",
   "name": "python3"
  },
  "language_info": {
   "codemirror_mode": {
    "name": "ipython",
    "version": 3
   },
   "file_extension": ".py",
   "mimetype": "text/x-python",
   "name": "python",
   "nbconvert_exporter": "python",
   "pygments_lexer": "ipython3",
   "version": "3.7.1"
  }
 },
 "nbformat": 4,
 "nbformat_minor": 2
}
