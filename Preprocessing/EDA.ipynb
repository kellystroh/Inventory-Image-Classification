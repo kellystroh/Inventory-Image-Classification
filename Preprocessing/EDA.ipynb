{
 "cells": [
  {
   "cell_type": "code",
   "execution_count": 1,
   "metadata": {},
   "outputs": [],
   "source": [
    "#standard imports\n",
    "import pandas as pd\n",
    "import numpy as np\n",
    "from matplotlib import pyplot as plt\n",
    "#image import\n",
    "import imageio"
   ]
  },
  {
   "cell_type": "markdown",
   "metadata": {},
   "source": [
    "# Original Collection"
   ]
  },
  {
   "cell_type": "markdown",
   "metadata": {},
   "source": [
    "The image collection from Kaggle is accompanied by a CSV with product information for each image. We can load the CSV into a pandas dataframe to view specifics."
   ]
  },
  {
   "cell_type": "code",
   "execution_count": 2,
   "metadata": {},
   "outputs": [],
   "source": [
    "original_df = pd.read_csv('../data/styles.csv')"
   ]
  },
  {
   "cell_type": "code",
   "execution_count": 3,
   "metadata": {},
   "outputs": [
    {
     "data": {
      "text/plain": [
       "(44446, 10)"
      ]
     },
     "execution_count": 3,
     "metadata": {},
     "output_type": "execute_result"
    }
   ],
   "source": [
    "original_df.shape"
   ]
  },
  {
   "cell_type": "code",
   "execution_count": 4,
   "metadata": {},
   "outputs": [
    {
     "data": {
      "text/plain": [
       "['id',\n",
       " 'gender',\n",
       " 'masterCategory',\n",
       " 'subCategory',\n",
       " 'articleType',\n",
       " 'baseColour',\n",
       " 'season',\n",
       " 'year',\n",
       " 'usage',\n",
       " 'productDisplayName']"
      ]
     },
     "execution_count": 4,
     "metadata": {},
     "output_type": "execute_result"
    }
   ],
   "source": [
    "list(original_df.columns)"
   ]
  },
  {
   "cell_type": "code",
   "execution_count": 5,
   "metadata": {},
   "outputs": [
    {
     "data": {
      "text/html": [
       "<div>\n",
       "<style scoped>\n",
       "    .dataframe tbody tr th:only-of-type {\n",
       "        vertical-align: middle;\n",
       "    }\n",
       "\n",
       "    .dataframe tbody tr th {\n",
       "        vertical-align: top;\n",
       "    }\n",
       "\n",
       "    .dataframe thead th {\n",
       "        text-align: right;\n",
       "    }\n",
       "</style>\n",
       "<table border=\"1\" class=\"dataframe\">\n",
       "  <thead>\n",
       "    <tr style=\"text-align: right;\">\n",
       "      <th></th>\n",
       "      <th>id</th>\n",
       "      <th>gender</th>\n",
       "      <th>masterCategory</th>\n",
       "      <th>subCategory</th>\n",
       "      <th>articleType</th>\n",
       "      <th>baseColour</th>\n",
       "      <th>season</th>\n",
       "      <th>year</th>\n",
       "      <th>usage</th>\n",
       "      <th>productDisplayName</th>\n",
       "    </tr>\n",
       "  </thead>\n",
       "  <tbody>\n",
       "    <tr>\n",
       "      <th>0</th>\n",
       "      <td>15970</td>\n",
       "      <td>Men</td>\n",
       "      <td>Apparel</td>\n",
       "      <td>Topwear</td>\n",
       "      <td>Shirts</td>\n",
       "      <td>Navy Blue</td>\n",
       "      <td>Fall</td>\n",
       "      <td>2011.0</td>\n",
       "      <td>Casual</td>\n",
       "      <td>Turtle Check Men Navy Blue Shirt</td>\n",
       "    </tr>\n",
       "    <tr>\n",
       "      <th>1</th>\n",
       "      <td>39386</td>\n",
       "      <td>Men</td>\n",
       "      <td>Apparel</td>\n",
       "      <td>Bottomwear</td>\n",
       "      <td>Jeans</td>\n",
       "      <td>Blue</td>\n",
       "      <td>Summer</td>\n",
       "      <td>2012.0</td>\n",
       "      <td>Casual</td>\n",
       "      <td>Peter England Men Party Blue Jeans</td>\n",
       "    </tr>\n",
       "    <tr>\n",
       "      <th>2</th>\n",
       "      <td>59263</td>\n",
       "      <td>Women</td>\n",
       "      <td>Accessories</td>\n",
       "      <td>Watches</td>\n",
       "      <td>Watches</td>\n",
       "      <td>Silver</td>\n",
       "      <td>Winter</td>\n",
       "      <td>2016.0</td>\n",
       "      <td>Casual</td>\n",
       "      <td>Titan Women Silver Watch</td>\n",
       "    </tr>\n",
       "    <tr>\n",
       "      <th>3</th>\n",
       "      <td>21379</td>\n",
       "      <td>Men</td>\n",
       "      <td>Apparel</td>\n",
       "      <td>Bottomwear</td>\n",
       "      <td>Track Pants</td>\n",
       "      <td>Black</td>\n",
       "      <td>Fall</td>\n",
       "      <td>2011.0</td>\n",
       "      <td>Casual</td>\n",
       "      <td>Manchester United Men Solid Black Track Pants</td>\n",
       "    </tr>\n",
       "    <tr>\n",
       "      <th>4</th>\n",
       "      <td>53759</td>\n",
       "      <td>Men</td>\n",
       "      <td>Apparel</td>\n",
       "      <td>Topwear</td>\n",
       "      <td>Tshirts</td>\n",
       "      <td>Grey</td>\n",
       "      <td>Summer</td>\n",
       "      <td>2012.0</td>\n",
       "      <td>Casual</td>\n",
       "      <td>Puma Men Grey T-shirt</td>\n",
       "    </tr>\n",
       "  </tbody>\n",
       "</table>\n",
       "</div>"
      ],
      "text/plain": [
       "      id gender masterCategory subCategory  articleType baseColour  season  \\\n",
       "0  15970    Men        Apparel     Topwear       Shirts  Navy Blue    Fall   \n",
       "1  39386    Men        Apparel  Bottomwear        Jeans       Blue  Summer   \n",
       "2  59263  Women    Accessories     Watches      Watches     Silver  Winter   \n",
       "3  21379    Men        Apparel  Bottomwear  Track Pants      Black    Fall   \n",
       "4  53759    Men        Apparel     Topwear      Tshirts       Grey  Summer   \n",
       "\n",
       "     year   usage                             productDisplayName  \n",
       "0  2011.0  Casual               Turtle Check Men Navy Blue Shirt  \n",
       "1  2012.0  Casual             Peter England Men Party Blue Jeans  \n",
       "2  2016.0  Casual                       Titan Women Silver Watch  \n",
       "3  2011.0  Casual  Manchester United Men Solid Black Track Pants  \n",
       "4  2012.0  Casual                          Puma Men Grey T-shirt  "
      ]
     },
     "execution_count": 5,
     "metadata": {},
     "output_type": "execute_result"
    }
   ],
   "source": [
    "original_df.head()"
   ]
  },
  {
   "cell_type": "code",
   "execution_count": 11,
   "metadata": {},
   "outputs": [
    {
     "data": {
      "text/html": [
       "<div>\n",
       "<style scoped>\n",
       "    .dataframe tbody tr th:only-of-type {\n",
       "        vertical-align: middle;\n",
       "    }\n",
       "\n",
       "    .dataframe tbody tr th {\n",
       "        vertical-align: top;\n",
       "    }\n",
       "\n",
       "    .dataframe thead th {\n",
       "        text-align: right;\n",
       "    }\n",
       "</style>\n",
       "<table border=\"1\" class=\"dataframe\">\n",
       "  <thead>\n",
       "    <tr style=\"text-align: right;\">\n",
       "      <th></th>\n",
       "      <th>id</th>\n",
       "      <th>gender</th>\n",
       "      <th>subCategory</th>\n",
       "      <th>articleType</th>\n",
       "      <th>baseColour</th>\n",
       "      <th>season</th>\n",
       "      <th>year</th>\n",
       "      <th>usage</th>\n",
       "      <th>productDisplayName</th>\n",
       "    </tr>\n",
       "    <tr>\n",
       "      <th>masterCategory</th>\n",
       "      <th></th>\n",
       "      <th></th>\n",
       "      <th></th>\n",
       "      <th></th>\n",
       "      <th></th>\n",
       "      <th></th>\n",
       "      <th></th>\n",
       "      <th></th>\n",
       "      <th></th>\n",
       "    </tr>\n",
       "  </thead>\n",
       "  <tbody>\n",
       "    <tr>\n",
       "      <th>Accessories</th>\n",
       "      <td>11289</td>\n",
       "      <td>11289</td>\n",
       "      <td>11289</td>\n",
       "      <td>11289</td>\n",
       "      <td>11289</td>\n",
       "      <td>11289</td>\n",
       "      <td>11289</td>\n",
       "      <td>11261</td>\n",
       "      <td>11287</td>\n",
       "    </tr>\n",
       "    <tr>\n",
       "      <th>Apparel</th>\n",
       "      <td>21400</td>\n",
       "      <td>21400</td>\n",
       "      <td>21400</td>\n",
       "      <td>21400</td>\n",
       "      <td>21394</td>\n",
       "      <td>21399</td>\n",
       "      <td>21399</td>\n",
       "      <td>21376</td>\n",
       "      <td>21400</td>\n",
       "    </tr>\n",
       "    <tr>\n",
       "      <th>Footwear</th>\n",
       "      <td>9222</td>\n",
       "      <td>9222</td>\n",
       "      <td>9222</td>\n",
       "      <td>9222</td>\n",
       "      <td>9222</td>\n",
       "      <td>9202</td>\n",
       "      <td>9222</td>\n",
       "      <td>9220</td>\n",
       "      <td>9222</td>\n",
       "    </tr>\n",
       "    <tr>\n",
       "      <th>Free Items</th>\n",
       "      <td>105</td>\n",
       "      <td>105</td>\n",
       "      <td>105</td>\n",
       "      <td>105</td>\n",
       "      <td>105</td>\n",
       "      <td>105</td>\n",
       "      <td>105</td>\n",
       "      <td>105</td>\n",
       "      <td>105</td>\n",
       "    </tr>\n",
       "    <tr>\n",
       "      <th>Home</th>\n",
       "      <td>1</td>\n",
       "      <td>1</td>\n",
       "      <td>1</td>\n",
       "      <td>1</td>\n",
       "      <td>1</td>\n",
       "      <td>1</td>\n",
       "      <td>1</td>\n",
       "      <td>1</td>\n",
       "      <td>1</td>\n",
       "    </tr>\n",
       "    <tr>\n",
       "      <th>Personal Care</th>\n",
       "      <td>2404</td>\n",
       "      <td>2404</td>\n",
       "      <td>2404</td>\n",
       "      <td>2404</td>\n",
       "      <td>2395</td>\n",
       "      <td>2404</td>\n",
       "      <td>2404</td>\n",
       "      <td>2141</td>\n",
       "      <td>2399</td>\n",
       "    </tr>\n",
       "    <tr>\n",
       "      <th>Sporting Goods</th>\n",
       "      <td>25</td>\n",
       "      <td>25</td>\n",
       "      <td>25</td>\n",
       "      <td>25</td>\n",
       "      <td>25</td>\n",
       "      <td>25</td>\n",
       "      <td>25</td>\n",
       "      <td>25</td>\n",
       "      <td>25</td>\n",
       "    </tr>\n",
       "  </tbody>\n",
       "</table>\n",
       "</div>"
      ],
      "text/plain": [
       "                   id  gender  subCategory  articleType  baseColour  season  \\\n",
       "masterCategory                                                                \n",
       "Accessories     11289   11289        11289        11289       11289   11289   \n",
       "Apparel         21400   21400        21400        21400       21394   21399   \n",
       "Footwear         9222    9222         9222         9222        9222    9202   \n",
       "Free Items        105     105          105          105         105     105   \n",
       "Home                1       1            1            1           1       1   \n",
       "Personal Care    2404    2404         2404         2404        2395    2404   \n",
       "Sporting Goods     25      25           25           25          25      25   \n",
       "\n",
       "                 year  usage  productDisplayName  \n",
       "masterCategory                                    \n",
       "Accessories     11289  11261               11287  \n",
       "Apparel         21399  21376               21400  \n",
       "Footwear         9222   9220                9222  \n",
       "Free Items        105    105                 105  \n",
       "Home                1      1                   1  \n",
       "Personal Care    2404   2141                2399  \n",
       "Sporting Goods     25     25                  25  "
      ]
     },
     "execution_count": 11,
     "metadata": {},
     "output_type": "execute_result"
    }
   ],
   "source": [
    "original_df.groupby('masterCategory').count()"
   ]
  },
  {
   "cell_type": "code",
   "execution_count": 12,
   "metadata": {},
   "outputs": [
    {
     "data": {
      "text/html": [
       "<div>\n",
       "<style scoped>\n",
       "    .dataframe tbody tr th:only-of-type {\n",
       "        vertical-align: middle;\n",
       "    }\n",
       "\n",
       "    .dataframe tbody tr th {\n",
       "        vertical-align: top;\n",
       "    }\n",
       "\n",
       "    .dataframe thead th {\n",
       "        text-align: right;\n",
       "    }\n",
       "</style>\n",
       "<table border=\"1\" class=\"dataframe\">\n",
       "  <thead>\n",
       "    <tr style=\"text-align: right;\">\n",
       "      <th></th>\n",
       "      <th></th>\n",
       "      <th>id</th>\n",
       "      <th>gender</th>\n",
       "      <th>articleType</th>\n",
       "      <th>baseColour</th>\n",
       "      <th>season</th>\n",
       "      <th>year</th>\n",
       "      <th>usage</th>\n",
       "      <th>productDisplayName</th>\n",
       "    </tr>\n",
       "    <tr>\n",
       "      <th>masterCategory</th>\n",
       "      <th>subCategory</th>\n",
       "      <th></th>\n",
       "      <th></th>\n",
       "      <th></th>\n",
       "      <th></th>\n",
       "      <th></th>\n",
       "      <th></th>\n",
       "      <th></th>\n",
       "      <th></th>\n",
       "    </tr>\n",
       "  </thead>\n",
       "  <tbody>\n",
       "    <tr>\n",
       "      <th rowspan=\"20\" valign=\"top\">Accessories</th>\n",
       "      <th>Accessories</th>\n",
       "      <td>143</td>\n",
       "      <td>143</td>\n",
       "      <td>143</td>\n",
       "      <td>143</td>\n",
       "      <td>143</td>\n",
       "      <td>143</td>\n",
       "      <td>143</td>\n",
       "      <td>143</td>\n",
       "    </tr>\n",
       "    <tr>\n",
       "      <th>Bags</th>\n",
       "      <td>3055</td>\n",
       "      <td>3055</td>\n",
       "      <td>3055</td>\n",
       "      <td>3055</td>\n",
       "      <td>3055</td>\n",
       "      <td>3055</td>\n",
       "      <td>3055</td>\n",
       "      <td>3053</td>\n",
       "    </tr>\n",
       "    <tr>\n",
       "      <th>Belts</th>\n",
       "      <td>811</td>\n",
       "      <td>811</td>\n",
       "      <td>811</td>\n",
       "      <td>811</td>\n",
       "      <td>811</td>\n",
       "      <td>811</td>\n",
       "      <td>811</td>\n",
       "      <td>811</td>\n",
       "    </tr>\n",
       "    <tr>\n",
       "      <th>Cufflinks</th>\n",
       "      <td>108</td>\n",
       "      <td>108</td>\n",
       "      <td>108</td>\n",
       "      <td>108</td>\n",
       "      <td>108</td>\n",
       "      <td>108</td>\n",
       "      <td>108</td>\n",
       "      <td>108</td>\n",
       "    </tr>\n",
       "    <tr>\n",
       "      <th>Eyewear</th>\n",
       "      <td>1073</td>\n",
       "      <td>1073</td>\n",
       "      <td>1073</td>\n",
       "      <td>1073</td>\n",
       "      <td>1073</td>\n",
       "      <td>1073</td>\n",
       "      <td>1073</td>\n",
       "      <td>1073</td>\n",
       "    </tr>\n",
       "    <tr>\n",
       "      <th>Gloves</th>\n",
       "      <td>20</td>\n",
       "      <td>20</td>\n",
       "      <td>20</td>\n",
       "      <td>20</td>\n",
       "      <td>20</td>\n",
       "      <td>20</td>\n",
       "      <td>20</td>\n",
       "      <td>20</td>\n",
       "    </tr>\n",
       "    <tr>\n",
       "      <th>Headwear</th>\n",
       "      <td>293</td>\n",
       "      <td>293</td>\n",
       "      <td>293</td>\n",
       "      <td>293</td>\n",
       "      <td>293</td>\n",
       "      <td>293</td>\n",
       "      <td>293</td>\n",
       "      <td>293</td>\n",
       "    </tr>\n",
       "    <tr>\n",
       "      <th>Jewellery</th>\n",
       "      <td>1080</td>\n",
       "      <td>1080</td>\n",
       "      <td>1080</td>\n",
       "      <td>1080</td>\n",
       "      <td>1080</td>\n",
       "      <td>1080</td>\n",
       "      <td>1080</td>\n",
       "      <td>1080</td>\n",
       "    </tr>\n",
       "    <tr>\n",
       "      <th>Mufflers</th>\n",
       "      <td>38</td>\n",
       "      <td>38</td>\n",
       "      <td>38</td>\n",
       "      <td>38</td>\n",
       "      <td>38</td>\n",
       "      <td>38</td>\n",
       "      <td>38</td>\n",
       "      <td>38</td>\n",
       "    </tr>\n",
       "    <tr>\n",
       "      <th>Perfumes</th>\n",
       "      <td>1</td>\n",
       "      <td>1</td>\n",
       "      <td>1</td>\n",
       "      <td>1</td>\n",
       "      <td>1</td>\n",
       "      <td>1</td>\n",
       "      <td>1</td>\n",
       "      <td>1</td>\n",
       "    </tr>\n",
       "    <tr>\n",
       "      <th>Scarves</th>\n",
       "      <td>118</td>\n",
       "      <td>118</td>\n",
       "      <td>118</td>\n",
       "      <td>118</td>\n",
       "      <td>118</td>\n",
       "      <td>118</td>\n",
       "      <td>118</td>\n",
       "      <td>118</td>\n",
       "    </tr>\n",
       "    <tr>\n",
       "      <th>Shoe Accessories</th>\n",
       "      <td>24</td>\n",
       "      <td>24</td>\n",
       "      <td>24</td>\n",
       "      <td>24</td>\n",
       "      <td>24</td>\n",
       "      <td>24</td>\n",
       "      <td>4</td>\n",
       "      <td>24</td>\n",
       "    </tr>\n",
       "    <tr>\n",
       "      <th>Socks</th>\n",
       "      <td>686</td>\n",
       "      <td>686</td>\n",
       "      <td>686</td>\n",
       "      <td>686</td>\n",
       "      <td>686</td>\n",
       "      <td>686</td>\n",
       "      <td>686</td>\n",
       "      <td>686</td>\n",
       "    </tr>\n",
       "    <tr>\n",
       "      <th>Sports Accessories</th>\n",
       "      <td>3</td>\n",
       "      <td>3</td>\n",
       "      <td>3</td>\n",
       "      <td>3</td>\n",
       "      <td>3</td>\n",
       "      <td>3</td>\n",
       "      <td>3</td>\n",
       "      <td>3</td>\n",
       "    </tr>\n",
       "    <tr>\n",
       "      <th>Stoles</th>\n",
       "      <td>90</td>\n",
       "      <td>90</td>\n",
       "      <td>90</td>\n",
       "      <td>90</td>\n",
       "      <td>90</td>\n",
       "      <td>90</td>\n",
       "      <td>90</td>\n",
       "      <td>90</td>\n",
       "    </tr>\n",
       "    <tr>\n",
       "      <th>Ties</th>\n",
       "      <td>258</td>\n",
       "      <td>258</td>\n",
       "      <td>258</td>\n",
       "      <td>258</td>\n",
       "      <td>258</td>\n",
       "      <td>258</td>\n",
       "      <td>258</td>\n",
       "      <td>258</td>\n",
       "    </tr>\n",
       "    <tr>\n",
       "      <th>Umbrellas</th>\n",
       "      <td>6</td>\n",
       "      <td>6</td>\n",
       "      <td>6</td>\n",
       "      <td>6</td>\n",
       "      <td>6</td>\n",
       "      <td>6</td>\n",
       "      <td>6</td>\n",
       "      <td>6</td>\n",
       "    </tr>\n",
       "    <tr>\n",
       "      <th>Wallets</th>\n",
       "      <td>933</td>\n",
       "      <td>933</td>\n",
       "      <td>933</td>\n",
       "      <td>933</td>\n",
       "      <td>933</td>\n",
       "      <td>933</td>\n",
       "      <td>925</td>\n",
       "      <td>933</td>\n",
       "    </tr>\n",
       "    <tr>\n",
       "      <th>Watches</th>\n",
       "      <td>2542</td>\n",
       "      <td>2542</td>\n",
       "      <td>2542</td>\n",
       "      <td>2542</td>\n",
       "      <td>2542</td>\n",
       "      <td>2542</td>\n",
       "      <td>2542</td>\n",
       "      <td>2542</td>\n",
       "    </tr>\n",
       "    <tr>\n",
       "      <th>Water Bottle</th>\n",
       "      <td>7</td>\n",
       "      <td>7</td>\n",
       "      <td>7</td>\n",
       "      <td>7</td>\n",
       "      <td>7</td>\n",
       "      <td>7</td>\n",
       "      <td>7</td>\n",
       "      <td>7</td>\n",
       "    </tr>\n",
       "    <tr>\n",
       "      <th rowspan=\"8\" valign=\"top\">Apparel</th>\n",
       "      <th>Apparel Set</th>\n",
       "      <td>106</td>\n",
       "      <td>106</td>\n",
       "      <td>106</td>\n",
       "      <td>106</td>\n",
       "      <td>106</td>\n",
       "      <td>106</td>\n",
       "      <td>106</td>\n",
       "      <td>106</td>\n",
       "    </tr>\n",
       "    <tr>\n",
       "      <th>Bottomwear</th>\n",
       "      <td>2694</td>\n",
       "      <td>2694</td>\n",
       "      <td>2694</td>\n",
       "      <td>2688</td>\n",
       "      <td>2694</td>\n",
       "      <td>2694</td>\n",
       "      <td>2692</td>\n",
       "      <td>2694</td>\n",
       "    </tr>\n",
       "    <tr>\n",
       "      <th>Dress</th>\n",
       "      <td>478</td>\n",
       "      <td>478</td>\n",
       "      <td>478</td>\n",
       "      <td>478</td>\n",
       "      <td>478</td>\n",
       "      <td>478</td>\n",
       "      <td>478</td>\n",
       "      <td>478</td>\n",
       "    </tr>\n",
       "    <tr>\n",
       "      <th>Innerwear</th>\n",
       "      <td>1808</td>\n",
       "      <td>1808</td>\n",
       "      <td>1808</td>\n",
       "      <td>1808</td>\n",
       "      <td>1808</td>\n",
       "      <td>1808</td>\n",
       "      <td>1806</td>\n",
       "      <td>1808</td>\n",
       "    </tr>\n",
       "    <tr>\n",
       "      <th>Loungewear and Nightwear</th>\n",
       "      <td>470</td>\n",
       "      <td>470</td>\n",
       "      <td>470</td>\n",
       "      <td>470</td>\n",
       "      <td>470</td>\n",
       "      <td>470</td>\n",
       "      <td>464</td>\n",
       "      <td>470</td>\n",
       "    </tr>\n",
       "    <tr>\n",
       "      <th>Saree</th>\n",
       "      <td>427</td>\n",
       "      <td>427</td>\n",
       "      <td>427</td>\n",
       "      <td>427</td>\n",
       "      <td>427</td>\n",
       "      <td>427</td>\n",
       "      <td>427</td>\n",
       "      <td>427</td>\n",
       "    </tr>\n",
       "    <tr>\n",
       "      <th>Socks</th>\n",
       "      <td>12</td>\n",
       "      <td>12</td>\n",
       "      <td>12</td>\n",
       "      <td>12</td>\n",
       "      <td>12</td>\n",
       "      <td>12</td>\n",
       "      <td>12</td>\n",
       "      <td>12</td>\n",
       "    </tr>\n",
       "    <tr>\n",
       "      <th>Topwear</th>\n",
       "      <td>15405</td>\n",
       "      <td>15405</td>\n",
       "      <td>15405</td>\n",
       "      <td>15405</td>\n",
       "      <td>15404</td>\n",
       "      <td>15404</td>\n",
       "      <td>15391</td>\n",
       "      <td>15405</td>\n",
       "    </tr>\n",
       "    <tr>\n",
       "      <th rowspan=\"3\" valign=\"top\">Footwear</th>\n",
       "      <th>Flip Flops</th>\n",
       "      <td>915</td>\n",
       "      <td>915</td>\n",
       "      <td>915</td>\n",
       "      <td>915</td>\n",
       "      <td>915</td>\n",
       "      <td>915</td>\n",
       "      <td>915</td>\n",
       "      <td>915</td>\n",
       "    </tr>\n",
       "    <tr>\n",
       "      <th>Sandal</th>\n",
       "      <td>963</td>\n",
       "      <td>963</td>\n",
       "      <td>963</td>\n",
       "      <td>963</td>\n",
       "      <td>963</td>\n",
       "      <td>963</td>\n",
       "      <td>961</td>\n",
       "      <td>963</td>\n",
       "    </tr>\n",
       "    <tr>\n",
       "      <th>Shoes</th>\n",
       "      <td>7344</td>\n",
       "      <td>7344</td>\n",
       "      <td>7344</td>\n",
       "      <td>7344</td>\n",
       "      <td>7324</td>\n",
       "      <td>7344</td>\n",
       "      <td>7344</td>\n",
       "      <td>7344</td>\n",
       "    </tr>\n",
       "    <tr>\n",
       "      <th rowspan=\"2\" valign=\"top\">Free Items</th>\n",
       "      <th>Free Gifts</th>\n",
       "      <td>104</td>\n",
       "      <td>104</td>\n",
       "      <td>104</td>\n",
       "      <td>104</td>\n",
       "      <td>104</td>\n",
       "      <td>104</td>\n",
       "      <td>104</td>\n",
       "      <td>104</td>\n",
       "    </tr>\n",
       "    <tr>\n",
       "      <th>Vouchers</th>\n",
       "      <td>1</td>\n",
       "      <td>1</td>\n",
       "      <td>1</td>\n",
       "      <td>1</td>\n",
       "      <td>1</td>\n",
       "      <td>1</td>\n",
       "      <td>1</td>\n",
       "      <td>1</td>\n",
       "    </tr>\n",
       "    <tr>\n",
       "      <th>Home</th>\n",
       "      <th>Home Furnishing</th>\n",
       "      <td>1</td>\n",
       "      <td>1</td>\n",
       "      <td>1</td>\n",
       "      <td>1</td>\n",
       "      <td>1</td>\n",
       "      <td>1</td>\n",
       "      <td>1</td>\n",
       "      <td>1</td>\n",
       "    </tr>\n",
       "    <tr>\n",
       "      <th rowspan=\"11\" valign=\"top\">Personal Care</th>\n",
       "      <th>Bath and Body</th>\n",
       "      <td>12</td>\n",
       "      <td>12</td>\n",
       "      <td>12</td>\n",
       "      <td>12</td>\n",
       "      <td>12</td>\n",
       "      <td>12</td>\n",
       "      <td>9</td>\n",
       "      <td>12</td>\n",
       "    </tr>\n",
       "    <tr>\n",
       "      <th>Beauty Accessories</th>\n",
       "      <td>4</td>\n",
       "      <td>4</td>\n",
       "      <td>4</td>\n",
       "      <td>4</td>\n",
       "      <td>4</td>\n",
       "      <td>4</td>\n",
       "      <td>3</td>\n",
       "      <td>4</td>\n",
       "    </tr>\n",
       "    <tr>\n",
       "      <th>Eyes</th>\n",
       "      <td>43</td>\n",
       "      <td>43</td>\n",
       "      <td>43</td>\n",
       "      <td>43</td>\n",
       "      <td>43</td>\n",
       "      <td>43</td>\n",
       "      <td>34</td>\n",
       "      <td>43</td>\n",
       "    </tr>\n",
       "    <tr>\n",
       "      <th>Fragrance</th>\n",
       "      <td>1012</td>\n",
       "      <td>1012</td>\n",
       "      <td>1012</td>\n",
       "      <td>1004</td>\n",
       "      <td>1012</td>\n",
       "      <td>1012</td>\n",
       "      <td>1002</td>\n",
       "      <td>1007</td>\n",
       "    </tr>\n",
       "    <tr>\n",
       "      <th>Hair</th>\n",
       "      <td>19</td>\n",
       "      <td>19</td>\n",
       "      <td>19</td>\n",
       "      <td>19</td>\n",
       "      <td>19</td>\n",
       "      <td>19</td>\n",
       "      <td>19</td>\n",
       "      <td>19</td>\n",
       "    </tr>\n",
       "    <tr>\n",
       "      <th>Lips</th>\n",
       "      <td>527</td>\n",
       "      <td>527</td>\n",
       "      <td>527</td>\n",
       "      <td>527</td>\n",
       "      <td>527</td>\n",
       "      <td>527</td>\n",
       "      <td>425</td>\n",
       "      <td>527</td>\n",
       "    </tr>\n",
       "    <tr>\n",
       "      <th>Makeup</th>\n",
       "      <td>307</td>\n",
       "      <td>307</td>\n",
       "      <td>307</td>\n",
       "      <td>307</td>\n",
       "      <td>307</td>\n",
       "      <td>307</td>\n",
       "      <td>263</td>\n",
       "      <td>307</td>\n",
       "    </tr>\n",
       "    <tr>\n",
       "      <th>Nails</th>\n",
       "      <td>329</td>\n",
       "      <td>329</td>\n",
       "      <td>329</td>\n",
       "      <td>329</td>\n",
       "      <td>329</td>\n",
       "      <td>329</td>\n",
       "      <td>278</td>\n",
       "      <td>329</td>\n",
       "    </tr>\n",
       "    <tr>\n",
       "      <th>Perfumes</th>\n",
       "      <td>5</td>\n",
       "      <td>5</td>\n",
       "      <td>5</td>\n",
       "      <td>5</td>\n",
       "      <td>5</td>\n",
       "      <td>5</td>\n",
       "      <td>5</td>\n",
       "      <td>5</td>\n",
       "    </tr>\n",
       "    <tr>\n",
       "      <th>Skin</th>\n",
       "      <td>69</td>\n",
       "      <td>69</td>\n",
       "      <td>69</td>\n",
       "      <td>68</td>\n",
       "      <td>69</td>\n",
       "      <td>69</td>\n",
       "      <td>54</td>\n",
       "      <td>69</td>\n",
       "    </tr>\n",
       "    <tr>\n",
       "      <th>Skin Care</th>\n",
       "      <td>77</td>\n",
       "      <td>77</td>\n",
       "      <td>77</td>\n",
       "      <td>77</td>\n",
       "      <td>77</td>\n",
       "      <td>77</td>\n",
       "      <td>49</td>\n",
       "      <td>77</td>\n",
       "    </tr>\n",
       "    <tr>\n",
       "      <th rowspan=\"2\" valign=\"top\">Sporting Goods</th>\n",
       "      <th>Sports Equipment</th>\n",
       "      <td>21</td>\n",
       "      <td>21</td>\n",
       "      <td>21</td>\n",
       "      <td>21</td>\n",
       "      <td>21</td>\n",
       "      <td>21</td>\n",
       "      <td>21</td>\n",
       "      <td>21</td>\n",
       "    </tr>\n",
       "    <tr>\n",
       "      <th>Wristbands</th>\n",
       "      <td>4</td>\n",
       "      <td>4</td>\n",
       "      <td>4</td>\n",
       "      <td>4</td>\n",
       "      <td>4</td>\n",
       "      <td>4</td>\n",
       "      <td>4</td>\n",
       "      <td>4</td>\n",
       "    </tr>\n",
       "  </tbody>\n",
       "</table>\n",
       "</div>"
      ],
      "text/plain": [
       "                                            id  gender  articleType  \\\n",
       "masterCategory subCategory                                            \n",
       "Accessories    Accessories                 143     143          143   \n",
       "               Bags                       3055    3055         3055   \n",
       "               Belts                       811     811          811   \n",
       "               Cufflinks                   108     108          108   \n",
       "               Eyewear                    1073    1073         1073   \n",
       "               Gloves                       20      20           20   \n",
       "               Headwear                    293     293          293   \n",
       "               Jewellery                  1080    1080         1080   \n",
       "               Mufflers                     38      38           38   \n",
       "               Perfumes                      1       1            1   \n",
       "               Scarves                     118     118          118   \n",
       "               Shoe Accessories             24      24           24   \n",
       "               Socks                       686     686          686   \n",
       "               Sports Accessories            3       3            3   \n",
       "               Stoles                       90      90           90   \n",
       "               Ties                        258     258          258   \n",
       "               Umbrellas                     6       6            6   \n",
       "               Wallets                     933     933          933   \n",
       "               Watches                    2542    2542         2542   \n",
       "               Water Bottle                  7       7            7   \n",
       "Apparel        Apparel Set                 106     106          106   \n",
       "               Bottomwear                 2694    2694         2694   \n",
       "               Dress                       478     478          478   \n",
       "               Innerwear                  1808    1808         1808   \n",
       "               Loungewear and Nightwear    470     470          470   \n",
       "               Saree                       427     427          427   \n",
       "               Socks                        12      12           12   \n",
       "               Topwear                   15405   15405        15405   \n",
       "Footwear       Flip Flops                  915     915          915   \n",
       "               Sandal                      963     963          963   \n",
       "               Shoes                      7344    7344         7344   \n",
       "Free Items     Free Gifts                  104     104          104   \n",
       "               Vouchers                      1       1            1   \n",
       "Home           Home Furnishing               1       1            1   \n",
       "Personal Care  Bath and Body                12      12           12   \n",
       "               Beauty Accessories            4       4            4   \n",
       "               Eyes                         43      43           43   \n",
       "               Fragrance                  1012    1012         1012   \n",
       "               Hair                         19      19           19   \n",
       "               Lips                        527     527          527   \n",
       "               Makeup                      307     307          307   \n",
       "               Nails                       329     329          329   \n",
       "               Perfumes                      5       5            5   \n",
       "               Skin                         69      69           69   \n",
       "               Skin Care                    77      77           77   \n",
       "Sporting Goods Sports Equipment             21      21           21   \n",
       "               Wristbands                    4       4            4   \n",
       "\n",
       "                                         baseColour  season   year  usage  \\\n",
       "masterCategory subCategory                                                  \n",
       "Accessories    Accessories                      143     143    143    143   \n",
       "               Bags                            3055    3055   3055   3055   \n",
       "               Belts                            811     811    811    811   \n",
       "               Cufflinks                        108     108    108    108   \n",
       "               Eyewear                         1073    1073   1073   1073   \n",
       "               Gloves                            20      20     20     20   \n",
       "               Headwear                         293     293    293    293   \n",
       "               Jewellery                       1080    1080   1080   1080   \n",
       "               Mufflers                          38      38     38     38   \n",
       "               Perfumes                           1       1      1      1   \n",
       "               Scarves                          118     118    118    118   \n",
       "               Shoe Accessories                  24      24     24      4   \n",
       "               Socks                            686     686    686    686   \n",
       "               Sports Accessories                 3       3      3      3   \n",
       "               Stoles                            90      90     90     90   \n",
       "               Ties                             258     258    258    258   \n",
       "               Umbrellas                          6       6      6      6   \n",
       "               Wallets                          933     933    933    925   \n",
       "               Watches                         2542    2542   2542   2542   \n",
       "               Water Bottle                       7       7      7      7   \n",
       "Apparel        Apparel Set                      106     106    106    106   \n",
       "               Bottomwear                      2688    2694   2694   2692   \n",
       "               Dress                            478     478    478    478   \n",
       "               Innerwear                       1808    1808   1808   1806   \n",
       "               Loungewear and Nightwear         470     470    470    464   \n",
       "               Saree                            427     427    427    427   \n",
       "               Socks                             12      12     12     12   \n",
       "               Topwear                        15405   15404  15404  15391   \n",
       "Footwear       Flip Flops                       915     915    915    915   \n",
       "               Sandal                           963     963    963    961   \n",
       "               Shoes                           7344    7324   7344   7344   \n",
       "Free Items     Free Gifts                       104     104    104    104   \n",
       "               Vouchers                           1       1      1      1   \n",
       "Home           Home Furnishing                    1       1      1      1   \n",
       "Personal Care  Bath and Body                     12      12     12      9   \n",
       "               Beauty Accessories                 4       4      4      3   \n",
       "               Eyes                              43      43     43     34   \n",
       "               Fragrance                       1004    1012   1012   1002   \n",
       "               Hair                              19      19     19     19   \n",
       "               Lips                             527     527    527    425   \n",
       "               Makeup                           307     307    307    263   \n",
       "               Nails                            329     329    329    278   \n",
       "               Perfumes                           5       5      5      5   \n",
       "               Skin                              68      69     69     54   \n",
       "               Skin Care                         77      77     77     49   \n",
       "Sporting Goods Sports Equipment                  21      21     21     21   \n",
       "               Wristbands                         4       4      4      4   \n",
       "\n",
       "                                         productDisplayName  \n",
       "masterCategory subCategory                                   \n",
       "Accessories    Accessories                              143  \n",
       "               Bags                                    3053  \n",
       "               Belts                                    811  \n",
       "               Cufflinks                                108  \n",
       "               Eyewear                                 1073  \n",
       "               Gloves                                    20  \n",
       "               Headwear                                 293  \n",
       "               Jewellery                               1080  \n",
       "               Mufflers                                  38  \n",
       "               Perfumes                                   1  \n",
       "               Scarves                                  118  \n",
       "               Shoe Accessories                          24  \n",
       "               Socks                                    686  \n",
       "               Sports Accessories                         3  \n",
       "               Stoles                                    90  \n",
       "               Ties                                     258  \n",
       "               Umbrellas                                  6  \n",
       "               Wallets                                  933  \n",
       "               Watches                                 2542  \n",
       "               Water Bottle                               7  \n",
       "Apparel        Apparel Set                              106  \n",
       "               Bottomwear                              2694  \n",
       "               Dress                                    478  \n",
       "               Innerwear                               1808  \n",
       "               Loungewear and Nightwear                 470  \n",
       "               Saree                                    427  \n",
       "               Socks                                     12  \n",
       "               Topwear                                15405  \n",
       "Footwear       Flip Flops                               915  \n",
       "               Sandal                                   963  \n",
       "               Shoes                                   7344  \n",
       "Free Items     Free Gifts                               104  \n",
       "               Vouchers                                   1  \n",
       "Home           Home Furnishing                            1  \n",
       "Personal Care  Bath and Body                             12  \n",
       "               Beauty Accessories                         4  \n",
       "               Eyes                                      43  \n",
       "               Fragrance                               1007  \n",
       "               Hair                                      19  \n",
       "               Lips                                     527  \n",
       "               Makeup                                   307  \n",
       "               Nails                                    329  \n",
       "               Perfumes                                   5  \n",
       "               Skin                                      69  \n",
       "               Skin Care                                 77  \n",
       "Sporting Goods Sports Equipment                          21  \n",
       "               Wristbands                                 4  "
      ]
     },
     "execution_count": 12,
     "metadata": {},
     "output_type": "execute_result"
    }
   ],
   "source": [
    "original_df.groupby(['masterCategory', 'subCategory']).count()"
   ]
  },
  {
   "cell_type": "markdown",
   "metadata": {},
   "source": [
    "## Context\n",
    "\n",
    "As stated in the README, I speculate that this data comes from the online inventory for a British department store. The details included were all, presumably, relevant pieces of information for the retailer to have when managing their inventory. That does not mean that all of the information available will be needed (or useful) for image classification. A good first step for exploration is to examine the range and number of different values that fill each column. "
   ]
  },
  {
   "cell_type": "code",
   "execution_count": 6,
   "metadata": {
    "scrolled": true
   },
   "outputs": [
    {
     "name": "stdout",
     "output_type": "stream",
     "text": [
      "Overview of original dataset: \n",
      "\n",
      "7 Main-Categories\n",
      "45 Sub-Categories\n",
      "143 Article Types\n",
      "47 Base Colors\n",
      "5 Gender-Age Subsets\n"
     ]
    }
   ],
   "source": [
    "'''\n",
    "Count the number of groups within a column. \n",
    "'''\n",
    "orig_num_mainCategories = len(original_df.masterCategory.unique())\n",
    "orig_num_colors = len(original_df.baseColour.unique())\n",
    "orig_num_articleTypes = len(original_df.articleType.unique())\n",
    "orig_num_subCategories = len(original_df.subCategory.unique())\n",
    "orig_num_gender_age = len(original_df.gender.unique())\n",
    "\n",
    "print('Overview of original dataset: \\n')\n",
    "print(f'{orig_num_mainCategories} Main-Categories')\n",
    "print(f'{orig_num_subCategories} Sub-Categories')\n",
    "print(f'{orig_num_articleTypes} Article Types')\n",
    "print(f'{orig_num_colors} Base Colors')\n",
    "print(f'{orig_num_gender_age} Gender-Age Subsets')"
   ]
  },
  {
   "cell_type": "markdown",
   "metadata": {},
   "source": [
    "### Examine the columns\n",
    "Many of these columns have the potential to be used as classes in a classification model. We can use **value_counts** to learn the range of values within each column, as well as the distribution of these values within our dataset. "
   ]
  },
  {
   "cell_type": "code",
   "execution_count": 91,
   "metadata": {
    "scrolled": false
   },
   "outputs": [
    {
     "data": {
      "text/plain": [
       "Apparel           21400\n",
       "Accessories       11289\n",
       "Footwear           9222\n",
       "Personal Care      2404\n",
       "Free Items          105\n",
       "Sporting Goods       25\n",
       "Home                  1\n",
       "Name: masterCategory, dtype: int64"
      ]
     },
     "execution_count": 91,
     "metadata": {},
     "output_type": "execute_result"
    }
   ],
   "source": [
    "original_main_cats = original_df.masterCategory.value_counts()\n",
    "original_main_cats"
   ]
  },
  {
   "cell_type": "markdown",
   "metadata": {},
   "source": [
    "##### Main Categories\n",
    "\n",
    "The low number of items in the bottom 3 categories may pose problems. There will not be enough images to create a robust sample of the category, especially if the category is comprised of multiple types of products. "
   ]
  },
  {
   "cell_type": "code",
   "execution_count": 93,
   "metadata": {},
   "outputs": [
    {
     "data": {
      "text/plain": [
       "Men       22165\n",
       "Women     18632\n",
       "Unisex     2164\n",
       "Boys        830\n",
       "Girls       655\n",
       "Name: gender, dtype: int64"
      ]
     },
     "execution_count": 93,
     "metadata": {},
     "output_type": "execute_result"
    }
   ],
   "source": [
    "original_gender = original_df.gender.value_counts()\n",
    "original_gender"
   ]
  },
  {
   "cell_type": "code",
   "execution_count": 90,
   "metadata": {},
   "outputs": [
    {
     "data": {
      "text/plain": [
       "Black        9732\n",
       "White        5540\n",
       "Blue         4922\n",
       "Brown        3494\n",
       "Grey         2741\n",
       "Red          2458\n",
       "Green        2116\n",
       "Pink         1861\n",
       "Navy Blue    1791\n",
       "Purple       1643\n",
       "Name: baseColour, dtype: int64"
      ]
     },
     "execution_count": 90,
     "metadata": {},
     "output_type": "execute_result"
    }
   ],
   "source": [
    "original_color = original_df.baseColour.value_counts()\n",
    "original_color.head(10)"
   ]
  },
  {
   "cell_type": "code",
   "execution_count": 94,
   "metadata": {},
   "outputs": [
    {
     "data": {
      "text/plain": [
       "Summer    21476\n",
       "Fall      11445\n",
       "Winter     8519\n",
       "Spring     2985\n",
       "Name: season, dtype: int64"
      ]
     },
     "execution_count": 94,
     "metadata": {},
     "output_type": "execute_result"
    }
   ],
   "source": [
    "original_season = original_df.season.value_counts()\n",
    "original_season"
   ]
  },
  {
   "cell_type": "code",
   "execution_count": 95,
   "metadata": {},
   "outputs": [
    {
     "data": {
      "text/plain": [
       "Casual          34414\n",
       "Sports           4025\n",
       "Ethnic           3208\n",
       "Formal           2359\n",
       "Smart Casual       67\n",
       "Party              29\n",
       "Travel             26\n",
       "Home                1\n",
       "Name: usage, dtype: int64"
      ]
     },
     "execution_count": 95,
     "metadata": {},
     "output_type": "execute_result"
    }
   ],
   "source": [
    "original_usage = original_df.usage.value_counts()\n",
    "original_usage"
   ]
  },
  {
   "cell_type": "code",
   "execution_count": 98,
   "metadata": {},
   "outputs": [
    {
     "data": {
      "text/plain": [
       "2012.0    16290\n",
       "2011.0    13689\n",
       "2016.0     6007\n",
       "2017.0     2917\n",
       "2015.0     2780\n",
       "Name: year, dtype: int64"
      ]
     },
     "execution_count": 98,
     "metadata": {},
     "output_type": "execute_result"
    }
   ],
   "source": [
    "original_year = original_df.year.value_counts()\n",
    "original_year.head(5)"
   ]
  },
  {
   "cell_type": "code",
   "execution_count": 16,
   "metadata": {},
   "outputs": [
    {
     "name": "stdout",
     "output_type": "stream",
     "text": [
      "Apparel:\n",
      "8 Sub-Categories\n",
      "58 Article Types\n",
      "42 Base Colors\n",
      "21400 Items\n",
      "\n",
      "Topwear                     15405\n",
      "Bottomwear                   2694\n",
      "Innerwear                    1808\n",
      "Dress                         478\n",
      "Loungewear and Nightwear      470\n",
      "Saree                         427\n",
      "Apparel Set                   106\n",
      "Socks                          12\n",
      "Name: subCategory, dtype: int64 \n",
      "\n",
      "Accessories:\n",
      "20 Sub-Categories\n",
      "44 Article Types\n",
      "44 Base Colors\n",
      "11289 Items\n",
      "\n",
      "Bags                  3055\n",
      "Watches               2542\n",
      "Jewellery             1080\n",
      "Eyewear               1073\n",
      "Wallets                933\n",
      "Belts                  811\n",
      "Socks                  686\n",
      "Headwear               293\n",
      "Ties                   258\n",
      "Accessories            143\n",
      "Scarves                118\n",
      "Cufflinks              108\n",
      "Stoles                  90\n",
      "Mufflers                38\n",
      "Shoe Accessories        24\n",
      "Gloves                  20\n",
      "Water Bottle             7\n",
      "Umbrellas                6\n",
      "Sports Accessories       3\n",
      "Perfumes                 1\n",
      "Name: subCategory, dtype: int64 \n",
      "\n",
      "Footwear:\n",
      "3 Sub-Categories\n",
      "8 Article Types\n",
      "40 Base Colors\n",
      "9222 Items\n",
      "\n",
      "Shoes         7344\n",
      "Sandal         963\n",
      "Flip Flops     915\n",
      "Name: subCategory, dtype: int64 \n",
      "\n",
      "Personal Care:\n",
      "11 Sub-Categories\n",
      "31 Article Types\n",
      "39 Base Colors\n",
      "2404 Items\n",
      "\n",
      "Fragrance             1012\n",
      "Lips                   527\n",
      "Nails                  329\n",
      "Makeup                 307\n",
      "Skin Care               77\n",
      "Skin                    69\n",
      "Eyes                    43\n",
      "Hair                    19\n",
      "Bath and Body           12\n",
      "Perfumes                 5\n",
      "Beauty Accessories       4\n",
      "Name: subCategory, dtype: int64 \n",
      "\n",
      "Free Items:\n",
      "2 Sub-Categories\n",
      "9 Article Types\n",
      "23 Base Colors\n",
      "105 Items\n",
      "\n",
      "Free Gifts    104\n",
      "Vouchers        1\n",
      "Name: subCategory, dtype: int64 \n",
      "\n",
      "Sporting Goods:\n",
      "2 Sub-Categories\n",
      "3 Article Types\n",
      "9 Base Colors\n",
      "25 Items\n",
      "\n",
      "Sports Equipment    21\n",
      "Wristbands           4\n",
      "Name: subCategory, dtype: int64 \n",
      "\n",
      "Home:\n",
      "1 Sub-Categories\n",
      "1 Article Types\n",
      "1 Base Colors\n",
      "1 Items\n",
      "\n",
      "Home Furnishing    1\n",
      "Name: subCategory, dtype: int64 \n",
      "\n"
     ]
    }
   ],
   "source": [
    "original_sub_cats = original_df.subCategory.value_counts().to_dict()\n",
    "for each in original_main_cats:\n",
    "    df = original_df[original_df.masterCategory == each]\n",
    "    x = df.subCategory.value_counts()\n",
    "    l = len(x)\n",
    "    m = x.sum()\n",
    "    v = len(df.articleType.value_counts().index)\n",
    "    t = len(df.baseColour.value_counts().index)\n",
    "    print(f'{each}:')\n",
    "    print(f'{l} Sub-Categories')\n",
    "    print(f'{v} Article Types')\n",
    "    print(f'{t} Base Colors')\n",
    "    print(f'{m} Items\\n')\n",
    "    print(x, '\\n')"
   ]
  },
  {
   "cell_type": "markdown",
   "metadata": {},
   "source": [
    "### Quick bar chart to compare number of images per subcategory \n",
    "\n",
    "A number of features of this plot could be improved for better interpretability, but it offers a quick visual comparison, and it highlights the significant class imbalances at both the main and sub-category levels. "
   ]
  },
  {
   "cell_type": "code",
   "execution_count": 86,
   "metadata": {},
   "outputs": [
    {
     "data": {
      "text/plain": [
       "Text(0.5, 1.0, 'Sub-Categories per Main Category')"
      ]
     },
     "execution_count": 86,
     "metadata": {},
     "output_type": "execute_result"
    },
    {
     "data": {
      "image/png": "[encoded data removed]",
      "text/plain": [
       "<Figure size 1080x720 with 1 Axes>"
      ]
     },
     "metadata": {
      "needs_background": "light"
     },
     "output_type": "display_data"
    }
   ],
   "source": [
    "original_df.subCategory = original_df.subCategory.str.replace('Loungewear and Nightwear', 'Loungewear')\n",
    "original_df2 = original_df[['masterCategory','subCategory', 'id']].groupby(['masterCategory','subCategory']).count().unstack('subCategory').fillna(0)\n",
    "original_df3 = original_df2['id']\n",
    "original_df4 = original_df3.transpose()\n",
    "original_df3.plot(kind='barh', stacked=True,figsize=(15,10))\n",
    "plt.ylabel('')\n",
    "plt.yticks(fontsize=16)\n",
    "plt.xticks(fontsize=16)\n",
    "plt.legend(ncol=2)\n",
    "plt.title('Sub-Categories per Main Category', fontsize=18)"
   ]
  },
  {
   "cell_type": "markdown",
   "metadata": {},
   "source": [
    "Full Set Classifiers = Main Category, Gender/Age Group, Color\n",
    "\n",
    "Subset Classifiers = Sub Category, Article Type"
   ]
  },
  {
   "cell_type": "markdown",
   "metadata": {},
   "source": [
    "# Refined Collection"
   ]
  },
  {
   "cell_type": "code",
   "execution_count": 99,
   "metadata": {},
   "outputs": [],
   "source": [
    "df = pd.read_csv('../data/full_labels_df.csv')"
   ]
  },
  {
   "cell_type": "markdown",
   "metadata": {},
   "source": [
    "### Another quick bar chart\n",
    "Now that we have cleaned up the dataset, we can have another look at the image counts across different sub-categories. "
   ]
  },
  {
   "cell_type": "code",
   "execution_count": 140,
   "metadata": {
    "scrolled": false
   },
   "outputs": [
    {
     "data": {
      "text/plain": [
       "Text(0.5, 1.0, 'Sub-Categories per Main Category')"
      ]
     },
     "execution_count": 140,
     "metadata": {},
     "output_type": "execute_result"
    },
    {
     "data": {
      "image/png": "[encoded data removed]",
      "text/plain": [
       "<Figure size 1296x864 with 1 Axes>"
      ]
     },
     "metadata": {
      "needs_background": "light"
     },
     "output_type": "display_data"
    }
   ],
   "source": [
    "df.subCategory = df.subCategory.str.replace('Loungewear and Nightwear', 'Loungewear')\n",
    "quick_bar = df[['masterCategory','subCategory', 'id']].groupby(['masterCategory','subCategory']).count().unstack('subCategory').fillna(0).id\n",
    "quick_bar.plot(kind='barh', stacked=True,figsize=(18,12))\n",
    "plt.ylabel('')\n",
    "plt.yticks(fontsize=20)\n",
    "plt.xticks(fontsize=18)\n",
    "plt.title('Sub-Categories per Main Category', fontsize=22)"
   ]
  },
  {
   "cell_type": "markdown",
   "metadata": {},
   "source": [
    "### Improved bar charts \n",
    "Since this is our final dataset, it is worthwhile to make the chart easier to read, and more pleasant to look at.  "
   ]
  },
  {
   "cell_type": "code",
   "execution_count": 138,
   "metadata": {},
   "outputs": [],
   "source": [
    "bar_acc = df[df.masterCategory=='Accessories'][['masterCategory','subCategory', 'id']].groupby(['masterCategory','subCategory']).count().unstack('subCategory').fillna(0).id\n",
    "bar_app = df[df.masterCategory=='Apparel'][['masterCategory','subCategory', 'id']].groupby(['masterCategory','subCategory']).count().unstack('subCategory').fillna(0).id\n",
    "bar_fw = df[df.masterCategory=='Footwear'][['masterCategory','subCategory', 'id']].groupby(['masterCategory','subCategory']).count().unstack('subCategory').fillna(0).id\n",
    "bar_pc = df[df.masterCategory=='Personal Care'][['masterCategory','subCategory', 'id']].groupby(['masterCategory','subCategory']).count().unstack('subCategory').fillna(0).id"
   ]
  },
  {
   "cell_type": "code",
   "execution_count": 142,
   "metadata": {
    "scrolled": true
   },
   "outputs": [
    {
     "data": {
      "image/png": "[encoded data removed]",
      "text/plain": [
       "<Figure size 936x648 with 4 Axes>"
      ]
     },
     "metadata": {
      "needs_background": "light"
     },
     "output_type": "display_data"
    }
   ],
   "source": [
    "fig, axs = plt.subplots(4, 1, figsize=(13,9))\n",
    "df_list = [bar_acc, bar_app, bar_fw, bar_pc]\n",
    "cm_list = ['viridis', 'plasma_r', 'viridis', 'plasma_r']\n",
    "for idx, ax in enumerate(axs.flatten()):\n",
    "    df_list[idx].plot(kind='barh', stacked=True, cmap=cm_list[idx], ax=ax)\n",
    "    ax.set_ylabel('')\n",
    "    ax.set_xlim(0,18000)\n",
    "    ax.legend(loc='right', fontsize=10)\n",
    "    if idx != 3:\n",
    "        ax.set_xticks([])\n",
    "\n",
    "        \n",
    "plt.show()"
   ]
  },
  {
   "cell_type": "markdown",
   "metadata": {},
   "source": [
    "# The rest of this notebook has not been annotated or revised for clarity. It was used to test code used in load.py, but needs to be cleaned up before it is functional here. "
   ]
  },
  {
   "cell_type": "code",
   "execution_count": 149,
   "metadata": {
    "scrolled": true
   },
   "outputs": [
    {
     "data": {
      "text/plain": [
       "19"
      ]
     },
     "execution_count": 149,
     "metadata": {},
     "output_type": "execute_result"
    }
   ],
   "source": [
    "subcat_list = list(df.subCategory.unique())\n",
    "len(subcat_list)"
   ]
  },
  {
   "cell_type": "code",
   "execution_count": 30,
   "metadata": {},
   "outputs": [],
   "source": [
    "subCat_counts = {}\n",
    "for i in range(len(df.subCategory.value_counts().index)):\n",
    "    s = df.subCategory.value_counts().values[i]\n",
    "    t = df.subCategory.value_counts().index[i]\n",
    "    subCat_counts[t] = s\n"
   ]
  },
  {
   "cell_type": "code",
   "execution_count": 13,
   "metadata": {},
   "outputs": [
    {
     "data": {
      "text/plain": [
       "subCategory  gender\n",
       "Apparel Set  Boys        9\n",
       "             Girls       3\n",
       "Bags         Girls       2\n",
       "Bottomwear   Boys      107\n",
       "             Girls     135\n",
       "Dress        Girls      74\n",
       "Eyewear      Boys        1\n",
       "             Girls       2\n",
       "Flip Flops   Boys       16\n",
       "             Girls       7\n",
       "Gloves       Boys        6\n",
       "             Girls       6\n",
       "Headwear     Boys        1\n",
       "             Girls       1\n",
       "Innerwear    Boys        4\n",
       "             Girls       5\n",
       "Jewellery    Girls       1\n",
       "Sandal       Boys       11\n",
       "             Girls      39\n",
       "Shoes        Boys       27\n",
       "             Girls      14\n",
       "Socks        Boys        7\n",
       "             Girls       6\n",
       "Topwear      Boys      633\n",
       "             Girls     344\n",
       "Watches      Boys        8\n",
       "             Girls      16\n",
       "Name: id, dtype: int64"
      ]
     },
     "execution_count": 13,
     "metadata": {},
     "output_type": "execute_result"
    }
   ],
   "source": [
    "boys_girls = ['Girls', 'Boys']\n",
    "original_df[original_df.gender.isin(boys_girls)].groupby(['subCategory', 'gender']).count().id"
   ]
  },
  {
   "cell_type": "code",
   "execution_count": 144,
   "metadata": {},
   "outputs": [
    {
     "data": {
      "text/plain": [
       "Blue         2210\n",
       "Black        1962\n",
       "White        1580\n",
       "Grey         1214\n",
       "Red          1118\n",
       "Green         960\n",
       "Navy Blue     760\n",
       "Purple        752\n",
       "Pink          701\n",
       "Cream         570\n",
       "Brown         526\n",
       "Multi         239\n",
       "Orange        234\n",
       "Yellow        191\n",
       "Tan           112\n",
       "Name: baseColour, dtype: int64"
      ]
     },
     "execution_count": 144,
     "metadata": {},
     "output_type": "execute_result"
    }
   ],
   "source": [
    "df[df.masterCategory == 'Apparel'].baseColour.value_counts()"
   ]
  },
  {
   "cell_type": "code",
   "execution_count": 27,
   "metadata": {},
   "outputs": [
    {
     "data": {
      "text/plain": [
       "Black                7259\n",
       "White                3964\n",
       "Blue                 3527\n",
       "Brown                3444\n",
       "Grey                 3244\n",
       "Red                  2244\n",
       "Green                1671\n",
       "Pink                 1358\n",
       "Purple               1291\n",
       "Navy Blue            1173\n",
       "Cream                1001\n",
       "Orange                466\n",
       "Tan                   411\n",
       "Yellow                362\n",
       "Multi                 334\n",
       "Steel                 234\n",
       "Bronze                 83\n",
       "Copper                 76\n",
       "Metallic               41\n",
       "Fluorescent Green       4\n",
       "Name: baseColour, dtype: int64"
      ]
     },
     "execution_count": 27,
     "metadata": {},
     "output_type": "execute_result"
    }
   ],
   "source": [
    "# df.baseColour.value_counts()"
   ]
  },
  {
   "cell_type": "code",
   "execution_count": 3,
   "metadata": {},
   "outputs": [],
   "source": [
    "# loaded = np.load('data/full_image_arr.npz')\n",
    "# bw_img = loaded['b']"
   ]
  },
  {
   "cell_type": "code",
   "execution_count": 15,
   "metadata": {},
   "outputs": [
    {
     "data": {
      "text/plain": [
       "['Topwear',\n",
       " 'Shoes',\n",
       " 'Bags',\n",
       " 'Watches',\n",
       " 'Bottomwear',\n",
       " 'Innerwear',\n",
       " 'Eyewear',\n",
       " 'Jewellery',\n",
       " 'Fragrance',\n",
       " 'Sandal',\n",
       " 'Flip Flops',\n",
       " 'Socks',\n",
       " 'Lips',\n",
       " 'Loungewear',\n",
       " 'Saree',\n",
       " 'Nails',\n",
       " 'Headwear',\n",
       " 'Ties',\n",
       " 'Makeup']"
      ]
     },
     "execution_count": 15,
     "metadata": {},
     "output_type": "execute_result"
    }
   ],
   "source": [
    "# labels = df.masterCategory.copy()\n",
    "# labels = labels.astype('category')\n",
    "# labels = labels.cat.codes\n",
    "list(df.subCategory.value_counts().index)"
   ]
  },
  {
   "cell_type": "code",
   "execution_count": 104,
   "metadata": {
    "scrolled": true
   },
   "outputs": [
    {
     "data": {
      "text/plain": [
       "Text(0, 0.5, '')"
      ]
     },
     "execution_count": 104,
     "metadata": {},
     "output_type": "execute_result"
    },
    {
     "data": {
      "image/png": "[encoded data removed]",
      "text/plain": [
       "<Figure size 864x180 with 1 Axes>"
      ]
     },
     "metadata": {
      "needs_background": "light"
     },
     "output_type": "display_data"
    }
   ],
   "source": [
    "bar_app = df[df.masterCategory=='Apparel'][['masterCategory','subCategory', 'id']].groupby(['masterCategory','subCategory']).count().unstack('subCategory').fillna(0).id\n",
    "bar_app.plot(kind='barh', stacked=True,figsize=(12,2.5), cmap='plasma_r')\n",
    "plt.legend(loc='right', fontsize=10)\n",
    "plt.xlim(0,18000)\n",
    "plt.yticks(fontsize=14)\n",
    "plt.ylabel('')"
   ]
  },
  {
   "cell_type": "code",
   "execution_count": 105,
   "metadata": {},
   "outputs": [
    {
     "data": {
      "text/plain": [
       "Text(0, 0.5, '')"
      ]
     },
     "execution_count": 105,
     "metadata": {},
     "output_type": "execute_result"
    },
    {
     "data": {
      "image/png": "[encoded data removed]",
      "text/plain": [
       "<Figure size 864x180 with 1 Axes>"
      ]
     },
     "metadata": {
      "needs_background": "light"
     },
     "output_type": "display_data"
    }
   ],
   "source": [
    "bar_acc = df[df.masterCategory=='Accessories'][['masterCategory','subCategory', 'id']].groupby(['masterCategory','subCategory']).count().unstack('subCategory').fillna(0).id\n",
    "bar_acc.plot(kind='barh', stacked=True,figsize=(12,2.5), cmap='viridis')\n",
    "plt.legend(loc='center right', fontsize=13)\n",
    "plt.xlim(0,18000)\n",
    "plt.yticks(fontsize=14)\n",
    "plt.xticks([])\n",
    "plt.ylabel('')"
   ]
  },
  {
   "cell_type": "code",
   "execution_count": 6,
   "metadata": {},
   "outputs": [
    {
     "data": {
      "text/plain": [
       "{'Apparel': 21341,\n",
       " 'Accessories': 11004,\n",
       " 'Footwear': 9119,\n",
       " 'Personal Care': 2393}"
      ]
     },
     "execution_count": 6,
     "metadata": {},
     "output_type": "execute_result"
    }
   ],
   "source": [
    "masterCat_counts = {}\n",
    "for i in range(len(labels.value_counts().index)):\n",
    "    s = labels.value_counts().values[i]\n",
    "    t = df.masterCategory.value_counts().index[i]\n",
    "    masterCat_counts[t] = s\n",
    "masterCat_counts"
   ]
  },
  {
   "cell_type": "code",
   "execution_count": 9,
   "metadata": {},
   "outputs": [
    {
     "data": {
      "text/html": [
       "<div>\n",
       "<style scoped>\n",
       "    .dataframe tbody tr th:only-of-type {\n",
       "        vertical-align: middle;\n",
       "    }\n",
       "\n",
       "    .dataframe tbody tr th {\n",
       "        vertical-align: top;\n",
       "    }\n",
       "\n",
       "    .dataframe thead th {\n",
       "        text-align: right;\n",
       "    }\n",
       "</style>\n",
       "<table border=\"1\" class=\"dataframe\">\n",
       "  <thead>\n",
       "    <tr style=\"text-align: right;\">\n",
       "      <th></th>\n",
       "      <th>Main Category</th>\n",
       "      <th>Item Count</th>\n",
       "      <th>Percent of Full Dataset</th>\n",
       "    </tr>\n",
       "  </thead>\n",
       "  <tbody>\n",
       "    <tr>\n",
       "      <th>0</th>\n",
       "      <td>Apparel</td>\n",
       "      <td>21341</td>\n",
       "      <td>0.49</td>\n",
       "    </tr>\n",
       "    <tr>\n",
       "      <th>1</th>\n",
       "      <td>Accessories</td>\n",
       "      <td>11004</td>\n",
       "      <td>0.25</td>\n",
       "    </tr>\n",
       "    <tr>\n",
       "      <th>2</th>\n",
       "      <td>Footwear</td>\n",
       "      <td>9119</td>\n",
       "      <td>0.21</td>\n",
       "    </tr>\n",
       "    <tr>\n",
       "      <th>3</th>\n",
       "      <td>Personal Care</td>\n",
       "      <td>2393</td>\n",
       "      <td>0.05</td>\n",
       "    </tr>\n",
       "  </tbody>\n",
       "</table>\n",
       "</div>"
      ],
      "text/plain": [
       "   Main Category  Item Count  Percent of Full Dataset\n",
       "0        Apparel       21341                     0.49\n",
       "1    Accessories       11004                     0.25\n",
       "2       Footwear        9119                     0.21\n",
       "3  Personal Care        2393                     0.05"
      ]
     },
     "execution_count": 9,
     "metadata": {},
     "output_type": "execute_result"
    }
   ],
   "source": [
    "cat_names = pd.Series(list(df.masterCategory.value_counts().index))\n",
    "cat_counts = df.masterCategory.value_counts().values\n",
    "df.masterCategory.value_counts().sum()\n",
    "cat_percent = np.round(df.masterCategory.value_counts().values/43857, 2)\n",
    "summary_df = pd.DataFrame(cat_names, index=range(4), columns=['Main Category'])\n",
    "summary_df['Item Count'] = cat_counts\n",
    "summary_df['Percent of Full Dataset'] = cat_percent\n",
    "summary_df"
   ]
  },
  {
   "cell_type": "code",
   "execution_count": 39,
   "metadata": {},
   "outputs": [
    {
     "data": {
      "text/plain": [
       "Index(['Topwear', 'Shoes', 'Bags', 'Bottomwear', 'Watches', 'Innerwear',\n",
       "       'Eyewear', 'Jewellery', 'Fragrance', 'Sandal', 'Flip Flops', 'Wallets',\n",
       "       'Belts', 'Socks', 'Lips', 'Dress', 'Loungewear and Nightwear', 'Saree',\n",
       "       'Nails', 'Makeup', 'Headwear', 'Ties', 'Accessories', 'Scarves',\n",
       "       'Apparel Set', 'Cufflinks', 'Stoles', 'Skin Care', 'Skin', 'Eyes',\n",
       "       'Mufflers', 'Shoe Accessories', 'Hair', 'Gloves', 'Bath and Body',\n",
       "       'Water Bottle', 'Perfumes', 'Umbrellas', 'Beauty Accessories',\n",
       "       'Sports Accessories'],\n",
       "      dtype='object')"
      ]
     },
     "execution_count": 39,
     "metadata": {},
     "output_type": "execute_result"
    }
   ],
   "source": [
    "list(df.subCategory.value_counts().index)"
   ]
  },
  {
   "cell_type": "code",
   "execution_count": 32,
   "metadata": {},
   "outputs": [],
   "source": [
    "def multi_index_counts(col, col2):\n",
    "    counts = df.groupby([col, col2]).count().id\n",
    "    return counts"
   ]
  },
  {
   "cell_type": "code",
   "execution_count": 79,
   "metadata": {},
   "outputs": [],
   "source": [
    "df = pd.read_csv('data/full_labels_df.csv')"
   ]
  },
  {
   "cell_type": "code",
   "execution_count": 110,
   "metadata": {},
   "outputs": [],
   "source": [
    "x = round(df[df.masterCategory=='Apparel'].groupby(['subCategory','articleType']).count().id / df[df.masterCategory=='Apparel'].groupby(['subCategory']).count().id, 3 )"
   ]
  },
  {
   "cell_type": "code",
   "execution_count": 135,
   "metadata": {},
   "outputs": [],
   "source": [
    "def part1(mast_cat):\n",
    "    items = df[df.masterCategory==mast_cat].groupby(['subCategory','articleType']).count().id \n",
    "    return items\n",
    "\n",
    "def filter(mast_cat, line):\n",
    "    items = df[df.masterCategory==mast_cat].groupby(['subCategory','articleType']).count().id\n",
    "    num_drop = len(items[items < line])\n",
    "    drop_list = []\n",
    "    for i in range(num_drop):\n",
    "        c = items[items < line].index[i][1]\n",
    "        drop_list.append(c)\n",
    "    return drop_list"
   ]
  },
  {
   "cell_type": "code",
   "execution_count": 143,
   "metadata": {},
   "outputs": [],
   "source": [
    "perfumes= list(df[df.subCategory=='Perfumes'].index)\n",
    "df.iloc[perfumes, 2] = 'Personal Care'\n",
    "df.iloc[perfumes, 3] = 'Fragrance'\n",
    "\n",
    "eyes = list(df[df.subCategory=='Eyes'].index)\n",
    "df.iloc[eyes,3] = 'Makeup'"
   ]
  },
  {
   "cell_type": "code",
   "execution_count": 149,
   "metadata": {},
   "outputs": [
    {
     "data": {
      "text/plain": [
       "subCategory  articleType   \n",
       "Flip Flops   Flip Flops         910\n",
       "Sandal       Flip Flops           1\n",
       "             Sandals            875\n",
       "             Sports Sandals      67\n",
       "Shoes        Casual Shoes      2816\n",
       "             Flats              495\n",
       "             Formal Shoes       619\n",
       "             Heels             1316\n",
       "             Sandals              2\n",
       "             Sports Shoes      2018\n",
       "Name: id, dtype: int64"
      ]
     },
     "execution_count": 149,
     "metadata": {},
     "output_type": "execute_result"
    }
   ],
   "source": [
    "part1('Footwear')"
   ]
  },
  {
   "cell_type": "code",
   "execution_count": 148,
   "metadata": {},
   "outputs": [
    {
     "data": {
      "text/plain": [
       "['Lip Care', 'Lip Plumper', 'Concealer', 'Makeup Remover', 'Mascara']"
      ]
     },
     "execution_count": 148,
     "metadata": {},
     "output_type": "execute_result"
    }
   ],
   "source": [
    "app_drop_list = filter_article('Apparel', 30)\n",
    "acc_drop_list = filter_article('Accessories', 30)\n",
    "pc_drop_list = filter_article('Personal Care', 30)"
   ]
  },
  {
   "cell_type": "code",
   "execution_count": 150,
   "metadata": {},
   "outputs": [
    {
     "data": {
      "text/plain": [
       "['Rain Trousers',\n",
       " 'Salwar and Dupatta',\n",
       " 'Swimwear',\n",
       " 'Tights',\n",
       " 'Tracksuits',\n",
       " 'Jumpsuit',\n",
       " 'Shapewear',\n",
       " 'Baby Dolls',\n",
       " 'Bath Robe',\n",
       " 'Lounge Tshirts',\n",
       " 'Robe',\n",
       " 'Shorts',\n",
       " 'Booties',\n",
       " 'Belts',\n",
       " 'Blazers',\n",
       " 'Dresses',\n",
       " 'Lehenga Choli',\n",
       " 'Nehru Jackets',\n",
       " 'Rain Jacket',\n",
       " 'Rompers',\n",
       " 'Shrug',\n",
       " 'Waistcoat',\n",
       " 'Rucksacks',\n",
       " 'Tablet Sleeve',\n",
       " 'Travel Accessory',\n",
       " 'Trolley Bag',\n",
       " 'Waist Pouch',\n",
       " 'Wallets',\n",
       " 'Tshirts',\n",
       " 'Hat',\n",
       " 'Headband',\n",
       " 'Lip Care',\n",
       " 'Lip Plumper',\n",
       " 'Concealer',\n",
       " 'Makeup Remover',\n",
       " 'Mascara']"
      ]
     },
     "execution_count": 150,
     "metadata": {},
     "output_type": "execute_result"
    }
   ],
   "source": [
    "app_drop_list + acc_drop_list + pc_drop_list"
   ]
  },
  {
   "cell_type": "code",
   "execution_count": 153,
   "metadata": {},
   "outputs": [],
   "source": [
    "drop_list = app_drop_list + acc_drop_list + pc_drop_list\n",
    "drop_idx = list(df[df.articleType.isin(drop_list)].index)\n",
    "df = df[~df.articleType.isin(drop_idx)]"
   ]
  },
  {
   "cell_type": "code",
   "execution_count": 154,
   "metadata": {},
   "outputs": [
    {
     "data": {
      "text/plain": [
       "masterCategory  subCategory             \n",
       "Accessories     Bags                         3002\n",
       "                Belts                         788\n",
       "                Eyewear                      1067\n",
       "                Headwear                      286\n",
       "                Jewellery                    1043\n",
       "                Ties                          251\n",
       "                Wallets                       894\n",
       "                Watches                      2461\n",
       "Apparel         Bottomwear                   2685\n",
       "                Dress                         478\n",
       "                Innerwear                    1773\n",
       "                Loungewear and Nightwear      470\n",
       "                Saree                         424\n",
       "                Socks                         676\n",
       "                Topwear                     15393\n",
       "Footwear        Flip Flops                    910\n",
       "                Sandal                        943\n",
       "                Shoes                        7266\n",
       "Personal Care   Fragrance                    1016\n",
       "                Lips                          526\n",
       "                Makeup                        343\n",
       "                Nails                         329\n",
       "Name: id, dtype: int64"
      ]
     },
     "execution_count": 154,
     "metadata": {},
     "output_type": "execute_result"
    }
   ],
   "source": [
    "multi_index_counts('masterCategory', 'subCategory')"
   ]
  },
  {
   "cell_type": "code",
   "execution_count": 66,
   "metadata": {},
   "outputs": [
    {
     "name": "stdout",
     "output_type": "stream",
     "text": [
      "Index(['Topwear', 'Shoes', 'Bottomwear', 'Innerwear', 'Fragrance', 'Sandal',\n",
      "       'Flip Flops', 'Socks', 'Lips', 'Dress', 'Loungewear and Nightwear',\n",
      "       'Saree', 'Nails', 'Makeup', 'Apparel Set', 'Skin Care', 'Skin', 'Eyes',\n",
      "       'Hair', 'Bath and Body', 'Perfumes', 'Beauty Accessories'],\n",
      "      dtype='object')\n"
     ]
    }
   ],
   "source": [
    "counts = df.subCategory.value_counts()\n",
    "print(counts.index)\n",
    "counts\n",
    "\n",
    "\n",
    "short_list = ['Accessories', 'Apparel Set', 'Cufflinks', 'Stoles', 'Skin Care', 'Skin','Mufflers', 'Shoe Accessories', 'Hair', 'Gloves', 'Bath and Body','Water Bottle', 'Umbrellas', 'Beauty Accessories', 'Sports Accessories']"
   ]
  },
  {
   "cell_type": "code",
   "execution_count": 55,
   "metadata": {},
   "outputs": [
    {
     "data": {
      "text/plain": [
       "Compact                      49\n",
       "Lip Liner                    48\n",
       "Eyeshadow                    42\n",
       "Suspenders                   40\n",
       "Camisoles                    39\n",
       "Patiala                      38\n",
       "Jeggings                     34\n",
       "Lounge Shorts                34\n",
       "Stockings                    32\n",
       "Salwar                       32\n",
       "Churidar                     30\n",
       "Tracksuits                   29\n",
       "Face Wash and Cleanser       28\n",
       "Sunscreen                    25\n",
       "Bath Robe                    20\n",
       "Hair Colour                  19\n",
       "Rain Jacket                  18\n",
       "Swimwear                     17\n",
       "Baby Dolls                   16\n",
       "Jumpsuit                     16\n",
       "Lip Care                     15\n",
       "Waistcoat                    15\n",
       "Mask and Peel                12\n",
       "Booties                      12\n",
       "Mascara                      12\n",
       "Rompers                      12\n",
       "Concealer                    11\n",
       "Shapewear                     9\n",
       "Tights                        9\n",
       "Blazers                       8\n",
       "Clothing Set                  8\n",
       "Salwar and Dupatta            7\n",
       "Shrug                         6\n",
       "Nail Essentials               6\n",
       "Eye Cream                     6\n",
       "Body Lotion                   6\n",
       "Face Scrub and Exfoliator     5\n",
       "Nehru Jackets                 5\n",
       "Toner                         5\n",
       "Lip Plumper                   4\n",
       "Robe                          4\n",
       "Lehenga Choli                 4\n",
       "Makeup Remover                4\n",
       "Beauty Accessory              4\n",
       "Belts                         3\n",
       "Lounge Tshirts                3\n",
       "Face Serum and Gel            2\n",
       "Rain Trousers                 2\n",
       "Mens Grooming Kit             1\n",
       "Body Wash and Scrub           1\n",
       "Name: articleType, dtype: int64"
      ]
     },
     "execution_count": 55,
     "metadata": {},
     "output_type": "execute_result"
    }
   ],
   "source": [
    "counts = df.articleType.value_counts()\n",
    "#print(list(counts.index)[40:])\n",
    "counts[counts < 50]\n",
    "\n",
    "\n",
    "# short_list = ['Accessories', 'Apparel Set', 'Cufflinks', 'Stoles', 'Skin Care', 'Skin','Mufflers', 'Shoe Accessories', 'Hair', 'Gloves', 'Bath and Body','Water Bottle', 'Umbrellas', 'Beauty Accessories', 'Sports Accessories']"
   ]
  },
  {
   "cell_type": "code",
   "execution_count": 74,
   "metadata": {},
   "outputs": [
    {
     "data": {
      "text/plain": [
       "[]"
      ]
     },
     "execution_count": 74,
     "metadata": {},
     "output_type": "execute_result"
    }
   ],
   "source": [
    "item_list = list(counts.index)[60:]\n",
    "item_list"
   ]
  },
  {
   "cell_type": "code",
   "execution_count": null,
   "metadata": {},
   "outputs": [],
   "source": []
  },
  {
   "cell_type": "code",
   "execution_count": 77,
   "metadata": {},
   "outputs": [
    {
     "data": {
      "text/plain": [
       "42009"
      ]
     },
     "execution_count": 77,
     "metadata": {},
     "output_type": "execute_result"
    }
   ],
   "source": [
    "len(df)"
   ]
  },
  {
   "cell_type": "code",
   "execution_count": 76,
   "metadata": {},
   "outputs": [],
   "source": [
    "item_idx = list(df[df.articleType.isin(item_list)].index)\n",
    "\n",
    "df = df[~df.articleType.isin(item_list)]"
   ]
  },
  {
   "cell_type": "code",
   "execution_count": 145,
   "metadata": {},
   "outputs": [
    {
     "name": "stdout",
     "output_type": "stream",
     "text": [
      "833\n",
      "43024\n"
     ]
    }
   ],
   "source": [
    "short_list = ['Accessories', 'Scarves', 'Apparel Set', 'Cufflinks', 'Stoles', 'Skin Care', \n",
    "              'Skin','Mufflers', 'Shoe Accessories', 'Hair', 'Gloves', 'Bath and Body',\n",
    "              'Water Bottle', 'Umbrellas', 'Beauty Accessories', 'Sports Accessories']\n",
    "short_idx = list(df[df.subCategory.isin(short_list)].index)\n",
    "print(len(short_idx))\n",
    "df = df[~df.subCategory.isin(short_list)]\n",
    "print(len(df))"
   ]
  },
  {
   "cell_type": "code",
   "execution_count": 75,
   "metadata": {},
   "outputs": [
    {
     "data": {
      "text/plain": [
       "['Sunscreen',\n",
       " 'Bath Robe',\n",
       " 'Hair Colour',\n",
       " 'Rain Jacket',\n",
       " 'Swimwear',\n",
       " 'Baby Dolls',\n",
       " 'Jumpsuit',\n",
       " 'Lip Care',\n",
       " 'Waistcoat',\n",
       " 'Mask and Peel',\n",
       " 'Booties',\n",
       " 'Mascara',\n",
       " 'Rompers',\n",
       " 'Concealer',\n",
       " 'Shapewear',\n",
       " 'Tights',\n",
       " 'Blazers',\n",
       " 'Clothing Set',\n",
       " 'Salwar and Dupatta',\n",
       " 'Shrug',\n",
       " 'Nail Essentials',\n",
       " 'Eye Cream',\n",
       " 'Body Lotion',\n",
       " 'Face Scrub and Exfoliator',\n",
       " 'Nehru Jackets',\n",
       " 'Toner',\n",
       " 'Lip Plumper',\n",
       " 'Robe',\n",
       " 'Lehenga Choli',\n",
       " 'Makeup Remover',\n",
       " 'Beauty Accessory',\n",
       " 'Belts',\n",
       " 'Lounge Tshirts',\n",
       " 'Face Serum and Gel',\n",
       " 'Rain Trousers',\n",
       " 'Mens Grooming Kit',\n",
       " 'Body Wash and Scrub']"
      ]
     },
     "execution_count": 75,
     "metadata": {},
     "output_type": "execute_result"
    }
   ],
   "source": [
    "item_list = ['Sunscreen',\n",
    " 'Bath Robe',\n",
    " 'Hair Colour',\n",
    " 'Rain Jacket',\n",
    " 'Swimwear',\n",
    " 'Baby Dolls',\n",
    " 'Jumpsuit',\n",
    " 'Lip Care',\n",
    " 'Waistcoat',\n",
    " 'Mask and Peel',\n",
    " 'Booties',\n",
    " 'Mascara',\n",
    " 'Rompers',\n",
    " 'Concealer',\n",
    " 'Shapewear',\n",
    " 'Tights',\n",
    " 'Blazers',\n",
    " 'Clothing Set',\n",
    " 'Salwar and Dupatta',\n",
    " 'Shrug',\n",
    " 'Nail Essentials',\n",
    " 'Eye Cream',\n",
    " 'Body Lotion',\n",
    " 'Face Scrub and Exfoliator',\n",
    " 'Nehru Jackets',\n",
    " 'Toner',\n",
    " 'Lip Plumper',\n",
    " 'Robe',\n",
    " 'Lehenga Choli',\n",
    " 'Makeup Remover',\n",
    " 'Beauty Accessory',\n",
    " 'Belts',\n",
    " 'Lounge Tshirts',\n",
    " 'Face Serum and Gel',\n",
    " 'Rain Trousers',\n",
    " 'Mens Grooming Kit',\n",
    " 'Body Wash and Scrub']\n",
    "item_list"
   ]
  }
 ],
 "metadata": {
  "kernelspec": {
   "display_name": "Python 3",
   "language": "python",
   "name": "python3"
  },
  "language_info": {
   "codemirror_mode": {
    "name": "ipython",
    "version": 3
   },
   "file_extension": ".py",
   "mimetype": "text/x-python",
   "name": "python",
   "nbconvert_exporter": "python",
   "pygments_lexer": "ipython3",
   "version": "3.7.1"
  }
 },
 "nbformat": 4,
 "nbformat_minor": 2
}
