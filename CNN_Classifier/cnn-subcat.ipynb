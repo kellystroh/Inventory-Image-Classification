{
 "cells": [
  {
   "cell_type": "code",
   "execution_count": 27,
   "metadata": {},
   "outputs": [],
   "source": [
    "# import tensorflow as tf\n",
    "import numpy as np\n",
    "from matplotlib import pyplot as plt\n",
    "import pandas as pd \n",
    "\n",
    "from skimage.io import imshow\n",
    "from skimage.io import imshow, imread\n",
    "from skimage.color import rgb2gray\n",
    "from sklearn.metrics import classification_report\n",
    "\n",
    "from tensorflow.keras.models import Sequential, load_model\n",
    "from tensorflow.keras.layers import Dense, Conv2D, Flatten, Dropout, MaxPooling2D\n",
    "\n",
    "import dill as pickle\n",
    "\n",
    "np.random.seed(33)"
   ]
  },
  {
   "cell_type": "code",
   "execution_count": 5,
   "metadata": {},
   "outputs": [],
   "source": [
    "df_test = pd.read_csv('../data/test_labels.csv')\n",
    "df_train = pd.read_csv('../data/train_labels.csv')\n",
    "\n",
    "bw_loaded = np.load('../data/bw_images.npz')\n",
    "X_train= bw_loaded['a']\n",
    "X_test = bw_loaded['b']\n",
    "\n",
    "X_test = X_test.reshape(-1,80,60,1)\n",
    "X_train = X_train.reshape(-1,80,60,1)"
   ]
  },
  {
   "cell_type": "markdown",
   "metadata": {},
   "source": [
    "# Use this notebook to train 4 separate CNN classifiers. \n",
    "Each model predicts sub-categories with a master-category. The code for each model functions independently, so I have divided the notebook into sections. Also, note that for each model, you have the option of running from the top of the section (to replicate the model-training process) or to skip add and load my saved model. Feel free to pick and choose what to run."
   ]
  },
  {
   "cell_type": "markdown",
   "metadata": {},
   "source": [
    "## Section 1: Predict Sub-Categories for Apparel\n",
    "Skip ahead to view results without training model"
   ]
  },
  {
   "cell_type": "code",
   "execution_count": 8,
   "metadata": {},
   "outputs": [],
   "source": [
    "app_train = df_train[df_train.masterCategory=='Apparel']\n",
    "app_train_idx = list(app_train.index)\n",
    "X_train_app = X_train[app_train_idx]\n",
    "\n",
    "app_test = df_test[df_test.masterCategory=='Apparel']\n",
    "app_test_idx = list(app_test.index)\n",
    "X_test_app = X_test[app_test_idx]\n",
    "\n",
    "y_train_app0 = app_train.subCategory.copy().astype('category').cat.codes\n",
    "y_test_app0 = app_test.subCategory.copy().astype('category').cat.codes"
   ]
  },
  {
   "cell_type": "code",
   "execution_count": 9,
   "metadata": {},
   "outputs": [],
   "source": [
    "from tensorflow.keras.utils import to_categorical\n",
    "y_train_app = to_categorical(y_train_app0)\n",
    "y_test_app = to_categorical(y_test_app0)"
   ]
  },
  {
   "cell_type": "code",
   "execution_count": 11,
   "metadata": {},
   "outputs": [
    {
     "name": "stdout",
     "output_type": "stream",
     "text": [
      "(10394, 6)\n",
      "(2603, 6)\n"
     ]
    }
   ],
   "source": [
    "print(y_train_app.shape)\n",
    "print(y_test_app.shape)"
   ]
  },
  {
   "cell_type": "code",
   "execution_count": 21,
   "metadata": {
    "scrolled": true
   },
   "outputs": [],
   "source": [
    "cnn_app = Sequential()"
   ]
  },
  {
   "cell_type": "code",
   "execution_count": 22,
   "metadata": {},
   "outputs": [],
   "source": [
    "cnn_app.add(Conv2D(32, kernel_size=(3, 3), activation='relu', input_shape=(80,60,1)))\n",
    "cnn_app.add(MaxPooling2D((2, 2)))\n",
    "cnn_app.add(Dropout(0.2))\n",
    "\n",
    "cnn_app.add(Conv2D(64, kernel_size=(3, 3), activation='relu'))\n",
    "cnn_app.add(MaxPooling2D(pool_size=(2, 2)))\n",
    "cnn_app.add(Dropout(0.25))\n",
    "\n",
    "cnn_app.add(Conv2D(128, kernel_size=(3, 3), activation='relu'))\n",
    "cnn_app.add(MaxPooling2D(pool_size=(2, 2)))\n",
    "cnn_app.add(Dropout(0.4))\n",
    "\n",
    "cnn_app.add(Flatten())\n",
    "\n",
    "cnn_app.add(Dense(128, activation='relu'))\n",
    "cnn_app.add(Dropout(0.3))\n",
    "cnn_app.add(Dense(6, activation='softmax'))"
   ]
  },
  {
   "cell_type": "code",
   "execution_count": 23,
   "metadata": {},
   "outputs": [
    {
     "name": "stdout",
     "output_type": "stream",
     "text": [
      "Model: \"sequential_1\"\n",
      "_________________________________________________________________\n",
      "Layer (type)                 Output Shape              Param #   \n",
      "=================================================================\n",
      "conv2d_4 (Conv2D)            (None, 78, 58, 32)        320       \n",
      "_________________________________________________________________\n",
      "max_pooling2d_2 (MaxPooling2 (None, 39, 29, 32)        0         \n",
      "_________________________________________________________________\n",
      "dropout_4 (Dropout)          (None, 39, 29, 32)        0         \n",
      "_________________________________________________________________\n",
      "conv2d_5 (Conv2D)            (None, 37, 27, 64)        18496     \n",
      "_________________________________________________________________\n",
      "max_pooling2d_3 (MaxPooling2 (None, 18, 13, 64)        0         \n",
      "_________________________________________________________________\n",
      "dropout_5 (Dropout)          (None, 18, 13, 64)        0         \n",
      "_________________________________________________________________\n",
      "conv2d_6 (Conv2D)            (None, 16, 11, 128)       73856     \n",
      "_________________________________________________________________\n",
      "max_pooling2d_4 (MaxPooling2 (None, 8, 5, 128)         0         \n",
      "_________________________________________________________________\n",
      "dropout_6 (Dropout)          (None, 8, 5, 128)         0         \n",
      "_________________________________________________________________\n",
      "flatten_1 (Flatten)          (None, 5120)              0         \n",
      "_________________________________________________________________\n",
      "dense_2 (Dense)              (None, 128)               655488    \n",
      "_________________________________________________________________\n",
      "dropout_7 (Dropout)          (None, 128)               0         \n",
      "_________________________________________________________________\n",
      "dense_3 (Dense)              (None, 6)                 774       \n",
      "=================================================================\n",
      "Total params: 748,934\n",
      "Trainable params: 748,934\n",
      "Non-trainable params: 0\n",
      "_________________________________________________________________\n"
     ]
    }
   ],
   "source": [
    "cnn_app.summary()"
   ]
  },
  {
   "cell_type": "code",
   "execution_count": 24,
   "metadata": {},
   "outputs": [],
   "source": [
    "cnn_app.compile(optimizer='adam',\n",
    "              loss='categorical_crossentropy',\n",
    "              metrics=['accuracy'])"
   ]
  },
  {
   "cell_type": "code",
   "execution_count": null,
   "metadata": {},
   "outputs": [],
   "source": [
    "cnn_app.fit(X_train_app, y_train_app, epochs=10, validation_data=(X_test_app, y_test_app), verbose=1)"
   ]
  },
  {
   "cell_type": "code",
   "execution_count": 20,
   "metadata": {},
   "outputs": [],
   "source": [
    "# save the fitted model\n",
    "cnn_app.save('cnn-apparel.h5')"
   ]
  },
  {
   "cell_type": "markdown",
   "metadata": {},
   "source": [
    "### To replicate Apparel results without fitting model, start here : "
   ]
  },
  {
   "cell_type": "code",
   "execution_count": 28,
   "metadata": {},
   "outputs": [],
   "source": [
    "### Skip this cell if you started from beginning of notebook\n",
    "cnn_app = load_model('../Results/json/cnn-apparel.h5')"
   ]
  },
  {
   "cell_type": "code",
   "execution_count": 29,
   "metadata": {},
   "outputs": [],
   "source": [
    "y_true_app = y_test_app0"
   ]
  },
  {
   "cell_type": "code",
   "execution_count": 31,
   "metadata": {},
   "outputs": [
    {
     "name": "stderr",
     "output_type": "stream",
     "text": [
      "/usr/local/lib/python3.5/dist-packages/numpy/core/fromnumeric.py:56: FutureWarning: Series.nonzero() is deprecated and will be removed in a future version.Use Series.to_numpy().nonzero() instead\n",
      "  return getattr(obj, method)(*args, **kwds)\n"
     ]
    }
   ],
   "source": [
    "# get the predictions for the test data\n",
    "predicted_classes = cnn_app.predict_classes(X_test_app)\n",
    "\n",
    "# get the indices to be plotted\n",
    "correct = np.nonzero(predicted_classes==y_true_app)[0]\n",
    "incorrect = np.nonzero(predicted_classes!=y_true_app)[0]"
   ]
  },
  {
   "cell_type": "code",
   "execution_count": 32,
   "metadata": {},
   "outputs": [
    {
     "data": {
      "text/plain": [
       "array([5, 0, 5, ..., 5, 1, 5])"
      ]
     },
     "execution_count": 32,
     "metadata": {},
     "output_type": "execute_result"
    }
   ],
   "source": [
    "predicted_classes"
   ]
  },
  {
   "cell_type": "code",
   "execution_count": 33,
   "metadata": {},
   "outputs": [],
   "source": [
    "app_train.subCategory.value_counts().index\n",
    "app_list = ['Bottomwear', 'Innerwear','Loungewear', 'Socks', 'Saree','Topwear']"
   ]
  },
  {
   "cell_type": "code",
   "execution_count": 36,
   "metadata": {
    "scrolled": true
   },
   "outputs": [
    {
     "name": "stdout",
     "output_type": "stream",
     "text": [
      "                     precision    recall  f1-score   support\n",
      "\n",
      "Class 0: Bottomwear       0.94      0.97      0.95       364\n",
      " Class 1: Innerwear       0.98      0.94      0.96       329\n",
      "Class 2: Loungewear       0.88      0.59      0.70        95\n",
      "     Class 3: Socks       0.98      0.99      0.98        92\n",
      "     Class 4: Saree       0.98      0.92      0.95       134\n",
      "   Class 5: Topwear       0.97      0.99      0.98      1589\n",
      "\n",
      "           accuracy                           0.97      2603\n",
      "          macro avg       0.95      0.90      0.92      2603\n",
      "       weighted avg       0.96      0.97      0.96      2603\n",
      "\n"
     ]
    }
   ],
   "source": [
    "target_names = [\"Class {}: {}\".format(i, ix) for i, ix in enumerate(app_list)]\n",
    "print(classification_report(y_true_app, predicted_classes, target_names=target_names))"
   ]
  },
  {
   "cell_type": "markdown",
   "metadata": {},
   "source": [
    "## Section 2: Predict Sub-Categories for Accessories"
   ]
  },
  {
   "cell_type": "code",
   "execution_count": 9,
   "metadata": {},
   "outputs": [],
   "source": [
    "acc_train = df_train[df_train.masterCategory=='Accessories']\n",
    "acc_train_idx = list(acc_train.index)\n",
    "X_train_acc = X_train[acc_train_idx]\n",
    "\n",
    "acc_test = df_test[df_test.masterCategory=='Accessories']\n",
    "acc_test_idx = list(acc_test.index)\n",
    "X_test_acc = X_test[acc_test_idx]\n",
    "\n",
    "y_train_acc0 = acc_train.subCategory.copy().astype('category').cat.codes\n",
    "y_test_acc0 = acc_test.subCategory.copy().astype('category').cat.codes\n",
    "\n",
    "# from tensorflow.keras.utils import to_categorical\n",
    "# y_train_acc = to_categorical(y_train_acc0)\n",
    "# y_test_acc = to_categorical(y_test_acc0)\n",
    "\n",
    "# print(y_train_acc.shape)\n",
    "# print(y_test_acc.shape)"
   ]
  },
  {
   "cell_type": "code",
   "execution_count": 10,
   "metadata": {},
   "outputs": [
    {
     "data": {
      "text/plain": [
       "Bags         2335\n",
       "Watches      1916\n",
       "Eyewear       834\n",
       "Jewellery     821\n",
       "Headwear      218\n",
       "Ties          204\n",
       "Name: subCategory, dtype: int64"
      ]
     },
     "execution_count": 10,
     "metadata": {},
     "output_type": "execute_result"
    }
   ],
   "source": [
    "acc_train.subCategory.value_counts()"
   ]
  },
  {
   "cell_type": "code",
   "execution_count": 29,
   "metadata": {},
   "outputs": [],
   "source": [
    "cnn_acc = models.Sequential()"
   ]
  },
  {
   "cell_type": "code",
   "execution_count": 30,
   "metadata": {},
   "outputs": [],
   "source": [
    "#MaxPool reduces dimensionality of each feature\n",
    "#Dropout to reduce overfitting\n",
    "\n",
    "cnn_acc.add(Conv2D(32, kernel_size=(3, 3), activation='relu', input_shape=(80,60,1)))\n",
    "cnn_acc.add(layers.MaxPooling2D((2, 2)))\n",
    "cnn_acc.add(Dropout(0.2))\n",
    "\n",
    "cnn_acc.add(Conv2D(64, kernel_size=(3, 3), activation='relu'))\n",
    "cnn_acc.add(MaxPooling2D(pool_size=(2, 2)))\n",
    "cnn_acc.add(Dropout(0.25))\n",
    "\n",
    "cnn_acc.add(Conv2D(128, kernel_size=(3, 3), activation='relu'))\n",
    "cnn_acc.add(Dropout(0.4))\n",
    "\n",
    "\n",
    "cnn_acc.add(Flatten())\n",
    "\n",
    "cnn_acc.add(Dense(128, activation='relu'))\n",
    "cnn_acc.add(Dropout(0.3))\n",
    "cnn_acc.add(Dense(6, activation='softmax'))"
   ]
  },
  {
   "cell_type": "code",
   "execution_count": 31,
   "metadata": {},
   "outputs": [
    {
     "name": "stdout",
     "output_type": "stream",
     "text": [
      "Model: \"sequential_2\"\n",
      "_________________________________________________________________\n",
      "Layer (type)                 Output Shape              Param #   \n",
      "=================================================================\n",
      "conv2d_6 (Conv2D)            (None, 78, 58, 32)        320       \n",
      "_________________________________________________________________\n",
      "max_pooling2d_4 (MaxPooling2 (None, 39, 29, 32)        0         \n",
      "_________________________________________________________________\n",
      "dropout_8 (Dropout)          (None, 39, 29, 32)        0         \n",
      "_________________________________________________________________\n",
      "conv2d_7 (Conv2D)            (None, 37, 27, 64)        18496     \n",
      "_________________________________________________________________\n",
      "max_pooling2d_5 (MaxPooling2 (None, 18, 13, 64)        0         \n",
      "_________________________________________________________________\n",
      "dropout_9 (Dropout)          (None, 18, 13, 64)        0         \n",
      "_________________________________________________________________\n",
      "conv2d_8 (Conv2D)            (None, 16, 11, 128)       73856     \n",
      "_________________________________________________________________\n",
      "dropout_10 (Dropout)         (None, 16, 11, 128)       0         \n",
      "_________________________________________________________________\n",
      "flatten_2 (Flatten)          (None, 22528)             0         \n",
      "_________________________________________________________________\n",
      "dense_4 (Dense)              (None, 128)               2883712   \n",
      "_________________________________________________________________\n",
      "dropout_11 (Dropout)         (None, 128)               0         \n",
      "_________________________________________________________________\n",
      "dense_5 (Dense)              (None, 6)                 774       \n",
      "=================================================================\n",
      "Total params: 2,977,158\n",
      "Trainable params: 2,977,158\n",
      "Non-trainable params: 0\n",
      "_________________________________________________________________\n"
     ]
    }
   ],
   "source": [
    "cnn_acc.summary()"
   ]
  },
  {
   "cell_type": "code",
   "execution_count": 32,
   "metadata": {},
   "outputs": [],
   "source": [
    "cnn_acc.compile(optimizer='adam',\n",
    "              loss='categorical_crossentropy',\n",
    "              metrics=['accuracy'])"
   ]
  },
  {
   "cell_type": "code",
   "execution_count": 33,
   "metadata": {},
   "outputs": [
    {
     "name": "stdout",
     "output_type": "stream",
     "text": [
      "Train on 6328 samples, validate on 1626 samples\n",
      "Epoch 1/10\n",
      "6328/6328 [==============================] - 9s 1ms/sample - loss: 6.9515 - acc: 0.6683 - val_loss: 0.5300 - val_acc: 0.8764\n",
      "Epoch 2/10\n",
      "6328/6328 [==============================] - 9s 1ms/sample - loss: 0.5127 - acc: 0.8360 - val_loss: 0.3220 - val_acc: 0.9090\n",
      "Epoch 3/10\n",
      "6328/6328 [==============================] - 9s 1ms/sample - loss: 0.3491 - acc: 0.8916 - val_loss: 0.3581 - val_acc: 0.8745\n",
      "Epoch 4/10\n",
      "6328/6328 [==============================] - 9s 1ms/sample - loss: 0.2593 - acc: 0.9223 - val_loss: 0.2947 - val_acc: 0.8973\n",
      "Epoch 5/10\n",
      "6328/6328 [==============================] - 9s 1ms/sample - loss: 0.2080 - acc: 0.9377 - val_loss: 0.2836 - val_acc: 0.9194\n",
      "Epoch 6/10\n",
      "6328/6328 [==============================] - 9s 1ms/sample - loss: 0.1978 - acc: 0.9420 - val_loss: 0.2143 - val_acc: 0.9403\n",
      "Epoch 7/10\n",
      "6328/6328 [==============================] - 9s 1ms/sample - loss: 0.1741 - acc: 0.9483 - val_loss: 0.3237 - val_acc: 0.9422\n",
      "Epoch 8/10\n",
      "6328/6328 [==============================] - 9s 1ms/sample - loss: 0.1343 - acc: 0.9603 - val_loss: 0.0824 - val_acc: 0.9822\n",
      "Epoch 9/10\n",
      "6328/6328 [==============================] - 9s 1ms/sample - loss: 0.1322 - acc: 0.9630 - val_loss: 0.3046 - val_acc: 0.8776\n",
      "Epoch 10/10\n",
      "6328/6328 [==============================] - 9s 1ms/sample - loss: 0.1160 - acc: 0.9657 - val_loss: 0.1065 - val_acc: 0.9822\n"
     ]
    },
    {
     "data": {
      "text/plain": [
       "<tensorflow.python.keras.callbacks.History at 0x7f7314161c88>"
      ]
     },
     "execution_count": 33,
     "metadata": {},
     "output_type": "execute_result"
    }
   ],
   "source": [
    "cnn_acc.fit(X_train_acc, y_train_acc, epochs=10, validation_data=(X_test_acc, y_test_acc), verbose=1)"
   ]
  },
  {
   "cell_type": "code",
   "execution_count": 36,
   "metadata": {},
   "outputs": [],
   "source": [
    "cnn_acc.save('cnn-accessories.h5')"
   ]
  },
  {
   "cell_type": "markdown",
   "metadata": {},
   "source": [
    "### To replicate Apparel results without fitting model, start here : "
   ]
  },
  {
   "cell_type": "code",
   "execution_count": 28,
   "metadata": {},
   "outputs": [],
   "source": [
    "### Skip this cell if you started from beginning of notebook\n",
    "cnn_acc = load_model('../Results/json/cnn-accessories.h5')"
   ]
  },
  {
   "cell_type": "code",
   "execution_count": 37,
   "metadata": {},
   "outputs": [],
   "source": [
    "y_true_acc = y_test_acc0"
   ]
  },
  {
   "cell_type": "code",
   "execution_count": 38,
   "metadata": {},
   "outputs": [],
   "source": [
    "# get the predictions for the test data\n",
    "predicted_classes_acc = cnn_acc.predict_classes(X_test_acc)\n",
    "\n",
    "# get the indices to be plotted\n",
    "correct = (predicted_classes_acc ==y_true_acc).to_numpy().nonzero()[0]\n",
    "incorrect = (predicted_classes_acc !=y_true_acc).to_numpy().nonzero()[0]"
   ]
  },
  {
   "cell_type": "code",
   "execution_count": 39,
   "metadata": {},
   "outputs": [
    {
     "name": "stdout",
     "output_type": "stream",
     "text": [
      "              precision    recall  f1-score   support\n",
      "\n",
      "     Class 0       0.97      0.99      0.98       598\n",
      "     Class 1       0.98      1.00      0.99       220\n",
      "     Class 2       0.96      0.92      0.94        51\n",
      "     Class 3       0.99      0.92      0.95       216\n",
      "     Class 4       1.00      1.00      1.00        43\n",
      "     Class 5       0.99      0.99      0.99       498\n",
      "\n",
      "    accuracy                           0.98      1626\n",
      "   macro avg       0.98      0.97      0.98      1626\n",
      "weighted avg       0.98      0.98      0.98      1626\n",
      "\n"
     ]
    }
   ],
   "source": [
    "from sklearn.metrics import classification_report\n",
    "target_names_acc = [\"Class {}\".format(i) for i in range(6)]\n",
    "print(classification_report(y_true_acc, predicted_classes_acc, target_names=target_names_acc))"
   ]
  },
  {
   "cell_type": "markdown",
   "metadata": {},
   "source": [
    "## Section 3: Predict Sub-Categories for Footwear"
   ]
  },
  {
   "cell_type": "code",
   "execution_count": 20,
   "metadata": {},
   "outputs": [
    {
     "name": "stdout",
     "output_type": "stream",
     "text": [
      "(7090, 3)\n",
      "(1826, 3)\n"
     ]
    }
   ],
   "source": [
    "fw_train = df_train[df_train.masterCategory=='Footwear']\n",
    "fw_train_idx = list(fw_train.index)\n",
    "X_train_fw = X_train[fw_train_idx]\n",
    "\n",
    "fw_test = df_test[df_test.masterCategory=='Footwear']\n",
    "fw_test_idx = list(fw_test.index)\n",
    "X_test_fw = X_test[fw_test_idx]\n",
    "\n",
    "y_train_fw0 = fw_train.subCategory.copy().astype('category').cat.codes\n",
    "y_test_fw0 = fw_test.subCategory.copy().astype('category').cat.codes\n",
    "\n",
    "from tensorflow.keras.utils import to_categorical\n",
    "y_train_fw = to_categorical(y_train_fw0)\n",
    "y_test_fw = to_categorical(y_test_fw0)\n",
    "\n",
    "print(y_train_fw.shape)\n",
    "print(y_test_fw.shape)"
   ]
  },
  {
   "cell_type": "code",
   "execution_count": 21,
   "metadata": {},
   "outputs": [],
   "source": [
    "cnn_fw = models.Sequential()"
   ]
  },
  {
   "cell_type": "code",
   "execution_count": 22,
   "metadata": {},
   "outputs": [],
   "source": [
    "#MaxPool reduces dimensionality of each feature\n",
    "#Dropout to reduce overfitting\n",
    "\n",
    "cnn_fw.add(Conv2D(32, kernel_size=(3, 3), activation='relu', input_shape=(80,60,1)))\n",
    "cnn_fw.add(layers.MaxPooling2D((2, 2)))\n",
    "cnn_fw.add(Dropout(0.2))\n",
    "\n",
    "# cnn_fw.add(Conv2D(32, kernel_size=(3, 3), activation='relu'))\n",
    "# cnn_fw.add(MaxPooling2D(pool_size=(2, 2)))\n",
    "# cnn_fw.add(Dropout(0.25))\n",
    "\n",
    "cnn_fw.add(Conv2D(64, kernel_size=(3, 3), activation='relu'))\n",
    "cnn_fw.add(MaxPooling2D(pool_size=(2, 2)))\n",
    "cnn_fw.add(Dropout(0.2))\n",
    "\n",
    "cnn_fw.add(Conv2D(128, kernel_size=(3, 3), activation='relu'))\n",
    "cnn_fw.add(Dropout(0.4))\n",
    "\n",
    "\n",
    "cnn_fw.add(Flatten())\n",
    "# cnn_fw.add(Dense(512, activation='relu'))\n",
    "# cnn_fw.add(Dropout(0.5))\n",
    "cnn_fw.add(Dense(128, activation='relu'))\n",
    "cnn_fw.add(Dropout(0.3))\n",
    "cnn_fw.add(Dense(3, activation='softmax'))"
   ]
  },
  {
   "cell_type": "code",
   "execution_count": 23,
   "metadata": {},
   "outputs": [
    {
     "name": "stdout",
     "output_type": "stream",
     "text": [
      "Model: \"sequential_1\"\n",
      "_________________________________________________________________\n",
      "Layer (type)                 Output Shape              Param #   \n",
      "=================================================================\n",
      "conv2d_3 (Conv2D)            (None, 78, 58, 32)        320       \n",
      "_________________________________________________________________\n",
      "max_pooling2d_2 (MaxPooling2 (None, 39, 29, 32)        0         \n",
      "_________________________________________________________________\n",
      "dropout_4 (Dropout)          (None, 39, 29, 32)        0         \n",
      "_________________________________________________________________\n",
      "conv2d_4 (Conv2D)            (None, 37, 27, 64)        18496     \n",
      "_________________________________________________________________\n",
      "max_pooling2d_3 (MaxPooling2 (None, 18, 13, 64)        0         \n",
      "_________________________________________________________________\n",
      "dropout_5 (Dropout)          (None, 18, 13, 64)        0         \n",
      "_________________________________________________________________\n",
      "conv2d_5 (Conv2D)            (None, 16, 11, 128)       73856     \n",
      "_________________________________________________________________\n",
      "dropout_6 (Dropout)          (None, 16, 11, 128)       0         \n",
      "_________________________________________________________________\n",
      "flatten_1 (Flatten)          (None, 22528)             0         \n",
      "_________________________________________________________________\n",
      "dense_2 (Dense)              (None, 128)               2883712   \n",
      "_________________________________________________________________\n",
      "dropout_7 (Dropout)          (None, 128)               0         \n",
      "_________________________________________________________________\n",
      "dense_3 (Dense)              (None, 3)                 387       \n",
      "=================================================================\n",
      "Total params: 2,976,771\n",
      "Trainable params: 2,976,771\n",
      "Non-trainable params: 0\n",
      "_________________________________________________________________\n"
     ]
    }
   ],
   "source": [
    "cnn_fw.summary()"
   ]
  },
  {
   "cell_type": "code",
   "execution_count": 24,
   "metadata": {},
   "outputs": [],
   "source": [
    "cnn_fw.compile(optimizer='adam',\n",
    "              loss='categorical_crossentropy',\n",
    "              metrics=['accuracy'])"
   ]
  },
  {
   "cell_type": "code",
   "execution_count": 26,
   "metadata": {},
   "outputs": [
    {
     "name": "stdout",
     "output_type": "stream",
     "text": [
      "Train on 7090 samples, validate on 1826 samples\n",
      "Epoch 1/10\n",
      "7090/7090 [==============================] - 10s 1ms/sample - loss: 0.6567 - acc: 0.8023 - val_loss: 0.5542 - val_acc: 0.7990\n",
      "Epoch 2/10\n",
      "7090/7090 [==============================] - 10s 1ms/sample - loss: 0.5384 - acc: 0.8090 - val_loss: 0.4300 - val_acc: 0.8434\n",
      "Epoch 3/10\n",
      "7090/7090 [==============================] - 10s 1ms/sample - loss: 0.4515 - acc: 0.8295 - val_loss: 0.3585 - val_acc: 0.8773\n",
      "Epoch 4/10\n",
      "7090/7090 [==============================] - 10s 1ms/sample - loss: 0.4148 - acc: 0.8501 - val_loss: 0.3179 - val_acc: 0.8872\n",
      "Epoch 5/10\n",
      "7090/7090 [==============================] - 10s 1ms/sample - loss: 0.3598 - acc: 0.8664 - val_loss: 0.3024 - val_acc: 0.8817\n",
      "Epoch 6/10\n",
      "7090/7090 [==============================] - 10s 1ms/sample - loss: 0.3291 - acc: 0.8774 - val_loss: 0.2732 - val_acc: 0.9036\n",
      "Epoch 7/10\n",
      "7090/7090 [==============================] - 10s 1ms/sample - loss: 0.3198 - acc: 0.8832 - val_loss: 0.2496 - val_acc: 0.8987\n",
      "Epoch 8/10\n",
      "7090/7090 [==============================] - 10s 1ms/sample - loss: 0.2927 - acc: 0.8942 - val_loss: 0.2317 - val_acc: 0.9168\n",
      "Epoch 9/10\n",
      "7090/7090 [==============================] - 10s 1ms/sample - loss: 0.2791 - acc: 0.8949 - val_loss: 0.2653 - val_acc: 0.8943\n",
      "Epoch 10/10\n",
      "7090/7090 [==============================] - 10s 1ms/sample - loss: 0.2791 - acc: 0.8962 - val_loss: 0.2170 - val_acc: 0.9211\n"
     ]
    },
    {
     "data": {
      "text/plain": [
       "<tensorflow.python.keras.callbacks.History at 0x7f49803d8e80>"
      ]
     },
     "execution_count": 26,
     "metadata": {},
     "output_type": "execute_result"
    }
   ],
   "source": [
    "cnn_fw.fit(X_train_fw, y_train_fw, epochs=10, validation_data=(X_test_fw, y_test_fw), verbose=1)"
   ]
  },
  {
   "cell_type": "code",
   "execution_count": 46,
   "metadata": {},
   "outputs": [],
   "source": [
    "cnn_fw.save('cnn-fw.h5')"
   ]
  },
  {
   "cell_type": "markdown",
   "metadata": {},
   "source": [
    "### To replicate Apparel results without fitting model, start here : "
   ]
  },
  {
   "cell_type": "code",
   "execution_count": 28,
   "metadata": {},
   "outputs": [],
   "source": [
    "### Skip this cell if you started from beginning of notebook\n",
    "cnn_fw = load_model('../Results/json/cnn-fw.h5')"
   ]
  },
  {
   "cell_type": "code",
   "execution_count": 47,
   "metadata": {},
   "outputs": [],
   "source": [
    "y_true_fw = y_test_fw0"
   ]
  },
  {
   "cell_type": "code",
   "execution_count": 48,
   "metadata": {},
   "outputs": [],
   "source": [
    "# get the predictions for the test data\n",
    "predicted_classes_fw = cnn_fw.predict_classes(X_test_fw)\n",
    "\n",
    "# get the indices to be plotted\n",
    "correct = (predicted_classes_fw ==y_true_fw).to_numpy().nonzero()[0]\n",
    "incorrect = (predicted_classes_fw !=y_true_fw).to_numpy().nonzero()[0]"
   ]
  },
  {
   "cell_type": "code",
   "execution_count": 49,
   "metadata": {},
   "outputs": [
    {
     "name": "stdout",
     "output_type": "stream",
     "text": [
      "              precision    recall  f1-score   support\n",
      "\n",
      "     Class 0       0.80      0.88      0.84       177\n",
      "     Class 1       0.93      0.76      0.84       206\n",
      "     Class 2       0.97      0.99      0.98      1443\n",
      "\n",
      "    accuracy                           0.95      1826\n",
      "   macro avg       0.90      0.87      0.88      1826\n",
      "weighted avg       0.95      0.95      0.95      1826\n",
      "\n"
     ]
    }
   ],
   "source": [
    "from sklearn.metrics import classification_report\n",
    "target_names_fw = [\"Class {}\".format(i) for i in range(3)]\n",
    "print(classification_report(y_true_fw, predicted_classes_fw, target_names=target_names_fw))"
   ]
  },
  {
   "cell_type": "markdown",
   "metadata": {},
   "source": [
    "## Section 4: Predict Sub-Categories for Personal Care"
   ]
  },
  {
   "cell_type": "code",
   "execution_count": 6,
   "metadata": {},
   "outputs": [
    {
     "name": "stdout",
     "output_type": "stream",
     "text": [
      "(1627, 4)\n",
      "(385, 4)\n"
     ]
    }
   ],
   "source": [
    "pc_train = df_train[df_train.masterCategory=='Personal Care']\n",
    "pc_train_idx = list(pc_train.index)\n",
    "X_train_pc = X_train[pc_train_idx]\n",
    "\n",
    "pc_test = df_test[df_test.masterCategory=='Personal Care']\n",
    "pc_test_idx = list(pc_test.index)\n",
    "X_test_pc = X_test[pc_test_idx]\n",
    "\n",
    "y_train_pc0 = pc_train.subCategory.copy().astype('category').cat.codes\n",
    "y_test_pc0 = pc_test.subCategory.copy().astype('category').cat.codes\n",
    "\n",
    "from tensorflow.keras.utils import to_categorical\n",
    "y_train_pc = to_categorical(y_train_pc0)\n",
    "y_test_pc = to_categorical(y_test_pc0)\n",
    "\n",
    "print(y_train_pc.shape)\n",
    "print(y_test_pc.shape)\n"
   ]
  },
  {
   "cell_type": "code",
   "execution_count": 7,
   "metadata": {},
   "outputs": [],
   "source": [
    "cnn_pc = models.Sequential()"
   ]
  },
  {
   "cell_type": "code",
   "execution_count": 8,
   "metadata": {},
   "outputs": [
    {
     "name": "stderr",
     "output_type": "stream",
     "text": [
      "WARNING: Logging before flag parsing goes to stderr.\n",
      "W0731 19:33:05.067403 139957497603904 deprecation.py:506] From /home/ubuntu/anaconda3/lib/python3.7/site-packages/tensorflow/python/ops/init_ops.py:1251: calling VarianceScaling.__init__ (from tensorflow.python.ops.init_ops) with dtype is deprecated and will be removed in a future version.\n",
      "Instructions for updating:\n",
      "Call initializer instance with the dtype argument instead of passing it to the constructor\n"
     ]
    }
   ],
   "source": [
    "#MaxPool reduces dimensionality of each feature\n",
    "#Dropout to reduce overfitting\n",
    "\n",
    "cnn_pc.add(Conv2D(32, kernel_size=(3, 3), activation='relu', input_shape=(80,60,1)))\n",
    "cnn_pc.add(layers.MaxPooling2D((2, 2)))\n",
    "cnn_pc.add(Dropout(0.2))\n",
    "\n",
    "cnn_pc.add(Conv2D(64, kernel_size=(3, 3), activation='relu'))\n",
    "cnn_pc.add(MaxPooling2D(pool_size=(2, 2)))\n",
    "cnn_pc.add(Dropout(0.25))\n",
    "\n",
    "cnn_pc.add(Conv2D(128, kernel_size=(3, 3), activation='relu'))\n",
    "cnn_pc.add(Dropout(0.4))\n",
    "           \n",
    "cnn_pc.add(Flatten())\n",
    "           \n",
    "cnn_pc.add(Dense(128, activation='relu'))\n",
    "cnn_pc.add(Dropout(0.3))\n",
    "cnn_pc.add(Dense(4, activation='softmax'))"
   ]
  },
  {
   "cell_type": "code",
   "execution_count": 9,
   "metadata": {},
   "outputs": [
    {
     "name": "stdout",
     "output_type": "stream",
     "text": [
      "Model: \"sequential\"\n",
      "_________________________________________________________________\n",
      "Layer (type)                 Output Shape              Param #   \n",
      "=================================================================\n",
      "conv2d (Conv2D)              (None, 78, 58, 32)        320       \n",
      "_________________________________________________________________\n",
      "max_pooling2d (MaxPooling2D) (None, 39, 29, 32)        0         \n",
      "_________________________________________________________________\n",
      "dropout (Dropout)            (None, 39, 29, 32)        0         \n",
      "_________________________________________________________________\n",
      "conv2d_1 (Conv2D)            (None, 37, 27, 64)        18496     \n",
      "_________________________________________________________________\n",
      "max_pooling2d_1 (MaxPooling2 (None, 18, 13, 64)        0         \n",
      "_________________________________________________________________\n",
      "dropout_1 (Dropout)          (None, 18, 13, 64)        0         \n",
      "_________________________________________________________________\n",
      "conv2d_2 (Conv2D)            (None, 16, 11, 128)       73856     \n",
      "_________________________________________________________________\n",
      "dropout_2 (Dropout)          (None, 16, 11, 128)       0         \n",
      "_________________________________________________________________\n",
      "flatten (Flatten)            (None, 22528)             0         \n",
      "_________________________________________________________________\n",
      "dense (Dense)                (None, 128)               2883712   \n",
      "_________________________________________________________________\n",
      "dropout_3 (Dropout)          (None, 128)               0         \n",
      "_________________________________________________________________\n",
      "dense_1 (Dense)              (None, 4)                 516       \n",
      "=================================================================\n",
      "Total params: 2,976,900\n",
      "Trainable params: 2,976,900\n",
      "Non-trainable params: 0\n",
      "_________________________________________________________________\n"
     ]
    }
   ],
   "source": [
    "cnn_pc.summary()"
   ]
  },
  {
   "cell_type": "code",
   "execution_count": 10,
   "metadata": {},
   "outputs": [],
   "source": [
    "cnn_pc.compile(optimizer='adam',\n",
    "              loss='categorical_crossentropy',\n",
    "              metrics=['accuracy'])"
   ]
  },
  {
   "cell_type": "code",
   "execution_count": 11,
   "metadata": {},
   "outputs": [
    {
     "name": "stdout",
     "output_type": "stream",
     "text": [
      "Train on 1627 samples, validate on 385 samples\n",
      "Epoch 1/10\n",
      "1627/1627 [==============================] - 5s 3ms/sample - loss: 14.0255 - acc: 0.3669 - val_loss: 1.3457 - val_acc: 0.5013\n",
      "Epoch 2/10\n",
      "1627/1627 [==============================] - 3s 2ms/sample - loss: 1.2396 - acc: 0.4782 - val_loss: 1.2450 - val_acc: 0.5195\n",
      "Epoch 3/10\n",
      "1627/1627 [==============================] - 2s 1ms/sample - loss: 1.1478 - acc: 0.5366 - val_loss: 1.1202 - val_acc: 0.5896\n",
      "Epoch 4/10\n",
      "1627/1627 [==============================] - 2s 1ms/sample - loss: 1.0968 - acc: 0.5587 - val_loss: 0.8545 - val_acc: 0.6779\n",
      "Epoch 5/10\n",
      "1627/1627 [==============================] - 2s 1ms/sample - loss: 0.9752 - acc: 0.6146 - val_loss: 0.8080 - val_acc: 0.7013\n",
      "Epoch 6/10\n",
      "1627/1627 [==============================] - 2s 1ms/sample - loss: 0.9246 - acc: 0.6478 - val_loss: 0.7725 - val_acc: 0.7247\n",
      "Epoch 7/10\n",
      "1627/1627 [==============================] - 2s 1ms/sample - loss: 0.8257 - acc: 0.6699 - val_loss: 0.6095 - val_acc: 0.7870\n",
      "Epoch 8/10\n",
      "1627/1627 [==============================] - 2s 1ms/sample - loss: 0.7651 - acc: 0.7148 - val_loss: 0.5460 - val_acc: 0.8623\n",
      "Epoch 9/10\n",
      "1627/1627 [==============================] - 2s 1ms/sample - loss: 0.6936 - acc: 0.7388 - val_loss: 0.4763 - val_acc: 0.8597\n",
      "Epoch 10/10\n",
      "1627/1627 [==============================] - 2s 1ms/sample - loss: 0.6287 - acc: 0.7738 - val_loss: 0.4648 - val_acc: 0.9065\n"
     ]
    },
    {
     "data": {
      "text/plain": [
       "<tensorflow.python.keras.callbacks.History at 0x7f4a20cd94a8>"
      ]
     },
     "execution_count": 11,
     "metadata": {},
     "output_type": "execute_result"
    }
   ],
   "source": [
    "cnn_pc.fit(X_train_pc, y_train_pc, epochs=10, validation_data=(X_test_pc, y_test_pc), verbose=1)"
   ]
  },
  {
   "cell_type": "code",
   "execution_count": 12,
   "metadata": {},
   "outputs": [],
   "source": [
    "cnn_pc.save('cnn-pc.h5')"
   ]
  },
  {
   "cell_type": "markdown",
   "metadata": {},
   "source": [
    "### To replicate Apparel results without fitting model, start here : "
   ]
  },
  {
   "cell_type": "code",
   "execution_count": 28,
   "metadata": {},
   "outputs": [],
   "source": [
    "### Skip this cell if you started from beginning of notebook\n",
    "cnn_pc = load_model('../Results/json/cnn-pc.h5')"
   ]
  },
  {
   "cell_type": "code",
   "execution_count": 13,
   "metadata": {},
   "outputs": [],
   "source": [
    "y_true_pc = y_test_pc0"
   ]
  },
  {
   "cell_type": "code",
   "execution_count": 14,
   "metadata": {},
   "outputs": [],
   "source": [
    "# get the predictions for the test data\n",
    "predicted_classes_pc = cnn_pc.predict_classes(X_test_pc)\n",
    "\n",
    "# get the indices to be plotted\n",
    "correct = (predicted_classes_pc ==y_true_pc).to_numpy().nonzero()[0]\n",
    "incorrect = (predicted_classes_pc !=y_true_pc).to_numpy().nonzero()[0]"
   ]
  },
  {
   "cell_type": "code",
   "execution_count": 19,
   "metadata": {
    "scrolled": true
   },
   "outputs": [
    {
     "name": "stdout",
     "output_type": "stream",
     "text": [
      "                    precision    recall  f1-score   support\n",
      "\n",
      "Class 0: Fragrance       0.90      0.96      0.93       191\n",
      "     Class 1: Lips       0.89      1.00      0.94        93\n",
      "    Class 2: Nails       1.00      0.34      0.51        35\n",
      "   Class 3: Makeup       0.94      0.92      0.93        66\n",
      "\n",
      "          accuracy                           0.91       385\n",
      "         macro avg       0.93      0.81      0.83       385\n",
      "      weighted avg       0.91      0.91      0.89       385\n",
      "\n"
     ]
    }
   ],
   "source": [
    "pc_list = list(pc_test.subCategory.value_counts().index)\n",
    "from sklearn.metrics import classification_report\n",
    "target_names_pc = [\"Class {}: {}\".format(i, name) for i, name in enumerate(pc_list)]\n",
    "print(classification_report(y_true_pc, predicted_classes_pc, target_names=target_names_pc))"
   ]
  }
 ],
 "metadata": {
  "kernelspec": {
   "display_name": "Python 3",
   "language": "python",
   "name": "python3"
  },
  "language_info": {
   "codemirror_mode": {
    "name": "ipython",
    "version": 3
   },
   "file_extension": ".py",
   "mimetype": "text/x-python",
   "name": "python",
   "nbconvert_exporter": "python",
   "pygments_lexer": "ipython3",
   "version": "3.5.2"
  }
 },
 "nbformat": 4,
 "nbformat_minor": 2
}
