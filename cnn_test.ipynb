{
 "cells": [
  {
   "cell_type": "code",
   "execution_count": null,
   "metadata": {},
   "outputs": [],
   "source": [
    "'''%matplotlib inline\n",
    "import seaborn as sns\n",
    "import matplotlib.pyplot as plt\n",
    "carrier_count = cat_df_flights['carrier'].value_counts()\n",
    "sns.set(style=\"darkgrid\")\n",
    "sns.barplot(carrier_count.index, carrier_count.values, alpha=0.9)\n",
    "plt.title('Frequency Distribution of Carriers')\n",
    "plt.ylabel('Number of Occurrences', fontsize=12)\n",
    "plt.xlabel('Carrier', fontsize=12)\n",
    "plt.show()'''"
   ]
  },
  {
   "cell_type": "code",
   "execution_count": 6,
   "metadata": {},
   "outputs": [
    {
     "name": "stdout",
     "output_type": "stream",
     "text": [
      "Collecting scikit-image\n",
      "\u001b[?25l  Downloading https://files.pythonhosted.org/packages/00/ba/9688afba6ab3714875a8d22284ce0362086e47f3cda60243e5d4de5e5943/scikit_image-0.15.0-cp35-cp35m-manylinux1_x86_64.whl (26.2MB)\n",
      "\u001b[K     |████████████████████████████████| 26.2MB 12.0MB/s eta 0:00:01   |█▊                              | 1.4MB 1.4MB/s eta 0:00:18     |█████▍                          | 4.4MB 1.4MB/s eta 0:00:16     |███████▉                        | 6.4MB 1.4MB/s eta 0:00:14     |████████████▏                   | 9.9MB 9.0MB/s eta 0:00:02     |████████████████                | 13.0MB 9.0MB/s eta 0:00:02     |███████████████████████▏        | 19.0MB 9.0MB/s eta 0:00:01     |█████████████████████████▌      | 20.8MB 12.0MB/s eta 0:00:01     |█████████████████████████▉      | 21.2MB 12.0MB/s eta 0:00:01     |██████████████████████████▎     | 21.5MB 12.0MB/s eta 0:00:01     |██████████████████████████▊     | 21.9MB 12.0MB/s eta 0:00:01     |█████████████████████████████▏  | 23.9MB 12.0MB/s eta 0:00:01\n",
      "\u001b[?25hCollecting networkx>=2.0 (from scikit-image)\n",
      "\u001b[?25l  Downloading https://files.pythonhosted.org/packages/85/08/f20aef11d4c343b557e5de6b9548761811eb16e438cee3d32b1c66c8566b/networkx-2.3.zip (1.7MB)\n",
      "\u001b[K     |████████████████████████████████| 1.8MB 11.0MB/s eta 0:00:01\n",
      "\u001b[?25hCollecting pillow>=4.3.0 (from scikit-image)\n",
      "\u001b[?25l  Downloading https://files.pythonhosted.org/packages/d6/98/0d360dbc087933679398d73187a503533ec0547ba4ffd2115365605559cc/Pillow-6.1.0-cp35-cp35m-manylinux1_x86_64.whl (2.1MB)\n",
      "\u001b[K     |████████████████████████████████| 2.1MB 8.4MB/s eta 0:00:01     |█████                           | 317kB 8.4MB/s eta 0:00:01     |██████████████████████████████▍ | 2.0MB 8.4MB/s eta 0:00:01\n",
      "\u001b[?25hRequirement already satisfied: matplotlib!=3.0.0,>=2.0.0 in /usr/local/lib/python3.5/dist-packages (from scikit-image) (3.0.3)\n",
      "Collecting imageio>=2.0.1 (from scikit-image)\n",
      "\u001b[?25l  Downloading https://files.pythonhosted.org/packages/af/0a/943c965d372dae0b1f1482677d29030ab834351a61a9a632fd62f27f1523/imageio-2.5.0-py3-none-any.whl (3.3MB)\n",
      "\u001b[K     |████████████████████████████████| 3.3MB 18.4MB/s eta 0:00:01\n",
      "\u001b[?25hCollecting scipy>=0.17.0 (from scikit-image)\n",
      "\u001b[?25l  Downloading https://files.pythonhosted.org/packages/14/49/8f13fa215e10a7ab0731cc95b0e9bb66cf83c6a98260b154cfbd0b55fb19/scipy-1.3.0-cp35-cp35m-manylinux1_x86_64.whl (25.1MB)\n",
      "\u001b[K     |████████████████████████████████| 25.1MB 12.3MB/s eta 0:00:01    |████████████▋                   | 9.9MB 974kB/s eta 0:00:16     |███████████████████             | 15.0MB 781kB/s eta 0:00:13     |███████████████████▎            | 15.1MB 781kB/s eta 0:00:13     |████████████████████▏           | 15.8MB 781kB/s eta 0:00:12     |████████████████████▊           | 16.2MB 781kB/s eta 0:00:12     |█████████████████████▍          | 16.8MB 781kB/s eta 0:00:11     |██████████████████████████████▋ | 24.0MB 12.3MB/s eta 0:00:01     |███████████████████████████████▎| 24.5MB 12.3MB/s eta 0:00:01\n",
      "\u001b[?25hCollecting PyWavelets>=0.4.0 (from scikit-image)\n",
      "\u001b[?25l  Downloading https://files.pythonhosted.org/packages/6a/3f/d92fbd9b65f879197620f404c1603bfeaa54560743bb9fb3a6b48b66a707/PyWavelets-1.0.3-cp35-cp35m-manylinux1_x86_64.whl (4.4MB)\n",
      "\u001b[K     |████████████████████████████████| 4.4MB 9.0MB/s eta 0:00:01     |██████████▍                     | 1.4MB 9.0MB/s eta 0:00:01     |███████████████████▋            | 2.7MB 9.0MB/s eta 0:00:01\n",
      "\u001b[?25hRequirement already satisfied: decorator>=4.3.0 in /usr/local/lib/python3.5/dist-packages (from networkx>=2.0->scikit-image) (4.3.2)\n",
      "Requirement already satisfied: kiwisolver>=1.0.1 in /usr/local/lib/python3.5/dist-packages (from matplotlib!=3.0.0,>=2.0.0->scikit-image) (1.0.1)\n",
      "Requirement already satisfied: pyparsing!=2.0.4,!=2.1.2,!=2.1.6,>=2.0.1 in /usr/local/lib/python3.5/dist-packages (from matplotlib!=3.0.0,>=2.0.0->scikit-image) (2.3.1)\n",
      "Requirement already satisfied: python-dateutil>=2.1 in /usr/local/lib/python3.5/dist-packages (from matplotlib!=3.0.0,>=2.0.0->scikit-image) (2.8.0)\n",
      "Requirement already satisfied: numpy>=1.10.0 in /usr/local/lib/python3.5/dist-packages (from matplotlib!=3.0.0,>=2.0.0->scikit-image) (1.16.2)\n",
      "Requirement already satisfied: cycler>=0.10 in /usr/local/lib/python3.5/dist-packages (from matplotlib!=3.0.0,>=2.0.0->scikit-image) (0.10.0)\n",
      "Requirement already satisfied: setuptools in /usr/local/lib/python3.5/dist-packages (from kiwisolver>=1.0.1->matplotlib!=3.0.0,>=2.0.0->scikit-image) (40.8.0)\n",
      "Requirement already satisfied: six>=1.5 in /usr/local/lib/python3.5/dist-packages (from python-dateutil>=2.1->matplotlib!=3.0.0,>=2.0.0->scikit-image) (1.12.0)\n",
      "Building wheels for collected packages: networkx\n",
      "  Building wheel for networkx (setup.py) ... \u001b[?25ldone\n",
      "\u001b[?25h  Stored in directory: /root/.cache/pip/wheels/de/63/64/3699be2a9d0ccdb37c7f16329acf3863fd76eda58c39c737af\n",
      "Successfully built networkx\n",
      "Installing collected packages: networkx, pillow, imageio, scipy, PyWavelets, scikit-image\n",
      "Successfully installed PyWavelets-1.0.3 imageio-2.5.0 networkx-2.3 pillow-6.1.0 scikit-image-0.15.0 scipy-1.3.0\n"
     ]
    }
   ],
   "source": [
    "!pip install scikit-image"
   ]
  },
  {
   "cell_type": "code",
   "execution_count": 1,
   "metadata": {},
   "outputs": [],
   "source": [
    "import pandas as pd\n",
    "import tensorflow as tf\n",
    "import numpy as np\n",
    "from matplotlib import pyplot as plt\n",
    "\n",
    "from tensorflow.keras import datasets, layers, models, regularizers, initializers\n",
    "from skimage.io import imshow\n",
    "from skimage.transform import rotate\n",
    "from skimage.filters.edges import convolve\n",
    "\n",
    "from skimage.io import imshow, imread\n",
    "from skimage.transform import resize\n",
    "from skimage.color import rgb2gray\n",
    "\n",
    "np.random.seed(33)"
   ]
  },
  {
   "cell_type": "code",
   "execution_count": 7,
   "metadata": {},
   "outputs": [],
   "source": [
    "df = pd.read_csv('data/labels_df.csv')"
   ]
  },
  {
   "cell_type": "code",
   "execution_count": 15,
   "metadata": {},
   "outputs": [],
   "source": [
    "loaded = np.load('data/image_array.npz')\n",
    "all_img = loaded['a']\n",
    "bw_img = loaded['b']"
   ]
  },
  {
   "cell_type": "code",
   "execution_count": 8,
   "metadata": {},
   "outputs": [],
   "source": [
    "labels = df.masterCategory.copy()\n",
    "labels = labels.astype('category')\n",
    "labels = labels.cat.codes"
   ]
  },
  {
   "cell_type": "code",
   "execution_count": 18,
   "metadata": {},
   "outputs": [
    {
     "data": {
      "text/plain": [
       "{'Apparel': 1,\n",
       " 'Accessories': 0,\n",
       " 'Footwear': 2,\n",
       " 'Personal Care': 5,\n",
       " 'Free Items': 3,\n",
       " 'Sporting Goods': 6,\n",
       " 'Home': 4}"
      ]
     },
     "execution_count": 18,
     "metadata": {},
     "output_type": "execute_result"
    }
   ],
   "source": [
    "masterCat_dict = {}\n",
    "for i in range(len(labels.value_counts().index)):\n",
    "    s = labels.value_counts().index[i]\n",
    "    t = df.masterCategory.value_counts().index[i]\n",
    "    masterCat_dict[t] = s\n",
    "masterCat_dict    "
   ]
  },
  {
   "cell_type": "code",
   "execution_count": 22,
   "metadata": {},
   "outputs": [],
   "source": [
    "#shuffle images and target var\n",
    "i = np.random.choice( np.arange(len(bw_img)), size=len(bw_img), replace=False)\n",
    "images = [bw_img[ix] for ix in i]\n",
    "X = bw_img[i, :]\n",
    "y = labels.values[i]"
   ]
  },
  {
   "cell_type": "code",
   "execution_count": 25,
   "metadata": {},
   "outputs": [
    {
     "data": {
      "text/plain": [
       "((43987, 4800), (43987,))"
      ]
     },
     "execution_count": 25,
     "metadata": {},
     "output_type": "execute_result"
    }
   ],
   "source": [
    "X.shape, y.shape"
   ]
  },
  {
   "cell_type": "code",
   "execution_count": 39,
   "metadata": {},
   "outputs": [],
   "source": [
    "from sklearn.ensemble import RandomForestClassifier\n",
    "from sklearn.model_selection import train_test_split\n",
    "from sklearn.metrics import accuracy_score, recall_score, precision_recall_curve, roc_curve"
   ]
  },
  {
   "cell_type": "code",
   "execution_count": 27,
   "metadata": {},
   "outputs": [],
   "source": [
    "X_train, X_test, y_train, y_test = train_test_split(X, y)"
   ]
  },
  {
   "cell_type": "code",
   "execution_count": 34,
   "metadata": {},
   "outputs": [],
   "source": [
    "clf = RandomForestClassifier(n_estimators = 100, random_state=33)"
   ]
  },
  {
   "cell_type": "code",
   "execution_count": 35,
   "metadata": {},
   "outputs": [
    {
     "data": {
      "text/plain": [
       "RandomForestClassifier(bootstrap=True, class_weight=None, criterion='gini',\n",
       "            max_depth=None, max_features='auto', max_leaf_nodes=None,\n",
       "            min_impurity_decrease=0.0, min_impurity_split=None,\n",
       "            min_samples_leaf=1, min_samples_split=2,\n",
       "            min_weight_fraction_leaf=0.0, n_estimators=100, n_jobs=None,\n",
       "            oob_score=False, random_state=33, verbose=0, warm_start=False)"
      ]
     },
     "execution_count": 35,
     "metadata": {},
     "output_type": "execute_result"
    }
   ],
   "source": [
    "clf.fit(X_train, y_train)"
   ]
  },
  {
   "cell_type": "code",
   "execution_count": 36,
   "metadata": {},
   "outputs": [
    {
     "name": "stdout",
     "output_type": "stream",
     "text": [
      "0.9785396017095571\n"
     ]
    }
   ],
   "source": [
    "yhat = clf.predict(X_test)\n",
    "print( accuracy_score(y_test, yhat) )"
   ]
  },
  {
   "cell_type": "code",
   "execution_count": 51,
   "metadata": {},
   "outputs": [],
   "source": [
    "yproba = clf.predict_proba(X_test)"
   ]
  },
  {
   "cell_type": "code",
   "execution_count": 49,
   "metadata": {},
   "outputs": [
    {
     "data": {
      "text/plain": [
       "0.9785396017095571"
      ]
     },
     "execution_count": 49,
     "metadata": {},
     "output_type": "execute_result"
    }
   ],
   "source": [
    "recall_score(y_test, yhat, average='weighted')"
   ]
  },
  {
   "cell_type": "code",
   "execution_count": 48,
   "metadata": {},
   "outputs": [
    {
     "data": {
      "text/plain": [
       "0.9785396017095571"
      ]
     },
     "execution_count": 48,
     "metadata": {},
     "output_type": "execute_result"
    }
   ],
   "source": [
    "recall_score(y_test, yhat, average='micro')"
   ]
  },
  {
   "cell_type": "code",
   "execution_count": 89,
   "metadata": {},
   "outputs": [
    {
     "data": {
      "text/plain": [
       "(<10997x184934 sparse matrix of type '<class 'numpy.int64'>'\n",
       " \twith 20554423 stored elements in Compressed Sparse Row format>,\n",
       " array([     0,   1915,   3924,   5799,   7614,   9529,  11432,  13245,\n",
       "         15096,  16837,  18598,  20391,  22116,  24107,  26036,  27899,\n",
       "         29780,  31691,  33490,  35417,  37132,  38925,  40776,  42749,\n",
       "         44504,  46323,  48142,  50053,  51756,  53603,  55518,  57451,\n",
       "         59198,  61095,  62950,  64809,  66702,  68597,  70444,  72313,\n",
       "         74312,  76233,  78080,  79933,  81850,  83681,  85540,  87265,\n",
       "         89198,  90991,  92658,  94487,  96396,  98259, 100114, 101991,\n",
       "        103828, 105603, 107482, 109221, 110972, 112803, 114624, 116451,\n",
       "        118246, 120175, 122090, 123793, 125654, 127601, 129530, 131347,\n",
       "        133144, 134979, 136732, 138605, 140498, 142411, 144300, 146109,\n",
       "        147882, 149569, 151386, 153223, 155034, 156975, 158846, 160767,\n",
       "        162666, 164473, 166300, 168135, 169912, 171869, 173774, 175599,\n",
       "        177456, 179277, 181100, 183013, 184934]))"
      ]
     },
     "execution_count": 89,
     "metadata": {},
     "output_type": "execute_result"
    }
   ],
   "source": [
    "clf.decision_path(X_test)"
   ]
  },
  {
   "cell_type": "code",
   "execution_count": 117,
   "metadata": {},
   "outputs": [
    {
     "data": {
      "text/html": [
       "<div>\n",
       "<style scoped>\n",
       "    .dataframe tbody tr th:only-of-type {\n",
       "        vertical-align: middle;\n",
       "    }\n",
       "\n",
       "    .dataframe tbody tr th {\n",
       "        vertical-align: top;\n",
       "    }\n",
       "\n",
       "    .dataframe thead th {\n",
       "        text-align: right;\n",
       "    }\n",
       "</style>\n",
       "<table border=\"1\" class=\"dataframe\">\n",
       "  <thead>\n",
       "    <tr style=\"text-align: right;\">\n",
       "      <th></th>\n",
       "      <th>predicted</th>\n",
       "      <th>actual</th>\n",
       "    </tr>\n",
       "  </thead>\n",
       "  <tbody>\n",
       "    <tr>\n",
       "      <th>65</th>\n",
       "      <td>1</td>\n",
       "      <td>0</td>\n",
       "    </tr>\n",
       "    <tr>\n",
       "      <th>114</th>\n",
       "      <td>0</td>\n",
       "      <td>5</td>\n",
       "    </tr>\n",
       "    <tr>\n",
       "      <th>264</th>\n",
       "      <td>0</td>\n",
       "      <td>3</td>\n",
       "    </tr>\n",
       "    <tr>\n",
       "      <th>272</th>\n",
       "      <td>1</td>\n",
       "      <td>0</td>\n",
       "    </tr>\n",
       "    <tr>\n",
       "      <th>428</th>\n",
       "      <td>1</td>\n",
       "      <td>0</td>\n",
       "    </tr>\n",
       "  </tbody>\n",
       "</table>\n",
       "</div>"
      ],
      "text/plain": [
       "     predicted  actual\n",
       "65           1       0\n",
       "114          0       5\n",
       "264          0       3\n",
       "272          1       0\n",
       "428          1       0"
      ]
     },
     "execution_count": 117,
     "metadata": {},
     "output_type": "execute_result"
    }
   ],
   "source": [
    "wrong_id_list = []\n",
    "pred_cat_list = []\n",
    "real_cat_list = []\n",
    "for row_idx in range(len(y_test)):\n",
    "    if y_test[row_idx]!=yhat[row_idx]:\n",
    "        wrong_id_list.append(row_idx)\n",
    "        pred_cat_list.append(yhat[row_idx])\n",
    "        real_cat_list.append(y_test[row_idx])\n",
    "\n",
    "arr = np.array([pred_cat_list, real_cat_list])\n",
    "arr = arr.transpose()\n",
    "\n",
    "wrong_df = pd.DataFrame( arr, index= wrong_id_list, columns = ['predicted', 'actual'] )\n",
    "wrong_df.head()"
   ]
  },
  {
   "cell_type": "code",
   "execution_count": 118,
   "metadata": {},
   "outputs": [
    {
     "data": {
      "text/plain": [
       "(236, 2)"
      ]
     },
     "execution_count": 118,
     "metadata": {},
     "output_type": "execute_result"
    }
   ],
   "source": []
  },
  {
   "cell_type": "code",
   "execution_count": 63,
   "metadata": {},
   "outputs": [],
   "source": [
    "precision, recall, thresholds = precision_recall_curve(y_test, yproba[:,1], pos_label=1)"
   ]
  },
  {
   "cell_type": "code",
   "execution_count": 88,
   "metadata": {},
   "outputs": [
    {
     "data": {
      "image/png": "[encoded data removed]",
      "text/plain": [
       "<Figure size 432x288 with 1 Axes>"
      ]
     },
     "metadata": {
      "needs_background": "light"
     },
     "output_type": "display_data"
    }
   ],
   "source": [
    "# Funny looking, but not particularly useful\n",
    "precision_list = []\n",
    "recall_list = []\n",
    "thresh_list = []\n",
    "for i in range(6):\n",
    "    p, r, t = precision_recall_curve(y_test, yproba[:,i], pos_label=i)\n",
    "    precision_list.append(p[:-1])\n",
    "    recall_list.append(r[:-1])\n",
    "    thresh_list.append(t)\n",
    "    #print(p.shape)\n",
    "    #print(t.shape)\n",
    "    plt.plot( thresh_list[i], precision_list[i])\n",
    "    plt.plot( thresh_list[i], precision_list[i])\n"
   ]
  },
  {
   "cell_type": "code",
   "execution_count": null,
   "metadata": {},
   "outputs": [],
   "source": [
    "fig, axs = plt.subplots(3,7, figsize=(16,8))\n",
    "for i, ax in enumerate(axs.flatten()):\n",
    "    ax.imshow( all_img[topwear_idx[i]].reshape(80,60,3)/255 )\n",
    "    #print(topwear_idx[i])\n",
    "    ax.set_xticks([])\n",
    "    ax.set_yticks([])"
   ]
  }
 ],
 "metadata": {
  "kernelspec": {
   "display_name": "Python 3",
   "language": "python",
   "name": "python3"
  },
  "language_info": {
   "codemirror_mode": {
    "name": "ipython",
    "version": 3
   },
   "file_extension": ".py",
   "mimetype": "text/x-python",
   "name": "python",
   "nbconvert_exporter": "python",
   "pygments_lexer": "ipython3",
   "version": "3.7.3"
  }
 },
 "nbformat": 4,
 "nbformat_minor": 2
}
