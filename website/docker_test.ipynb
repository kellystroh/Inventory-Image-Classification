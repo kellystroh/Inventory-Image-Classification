{
 "cells": [
  {
   "cell_type": "code",
   "execution_count": 1,
   "metadata": {},
   "outputs": [],
   "source": [
    "#toggle relevant models\n",
    "# with open('../models_pkl/random_forest.pkl', 'rb') as fit_rf:\n",
    "#     clf = pickle.load(fit_rf)"
   ]
  },
  {
   "cell_type": "code",
   "execution_count": 3,
   "metadata": {},
   "outputs": [],
   "source": [
    "import tensorflow as tf\n",
    "import numpy as np\n",
    "from matplotlib import pyplot as plt\n",
    "import pandas as pd \n",
    "\n",
    "from tensorflow.keras import datasets, layers, models, regularizers, initializers\n",
    "from tensorflow.keras.preprocessing.image import ImageDataGenerator\n",
    "from skimage.io import imshow\n",
    "from skimage.transform import rotate\n",
    "from skimage.filters.edges import convolve\n",
    "\n",
    "from skimage.io import imshow, imread\n",
    "from skimage.transform import resize\n",
    "from skimage.color import rgb2gray\n",
    "\n",
    "import dill as pickle\n",
    "\n",
    "np.random.seed(33)"
   ]
  },
  {
   "cell_type": "code",
   "execution_count": 4,
   "metadata": {},
   "outputs": [],
   "source": [
    "from tensorflow.keras.models import Sequential\n",
    "from tensorflow.keras.layers import Dense, Conv2D, Flatten, Dropout, MaxPooling2D"
   ]
  },
  {
   "cell_type": "code",
   "execution_count": 7,
   "metadata": {},
   "outputs": [],
   "source": []
  },
  {
   "cell_type": "code",
   "execution_count": 24,
   "metadata": {},
   "outputs": [],
   "source": [
    "df_val = pd.read_csv('../data/extra_labels.csv')"
   ]
  },
  {
   "cell_type": "code",
   "execution_count": 25,
   "metadata": {},
   "outputs": [],
   "source": [
    "def pick_ylabels(column):\n",
    "    y_val = df_val[column].copy().astype('category').cat.codes\n",
    "    return (y_val.values)"
   ]
  },
  {
   "cell_type": "code",
   "execution_count": 26,
   "metadata": {},
   "outputs": [],
   "source": [
    "loaded2 = np.load('../data/bw_images.npz')\n",
    "X_val = loaded2['c']"
   ]
  },
  {
   "cell_type": "code",
   "execution_count": 27,
   "metadata": {},
   "outputs": [],
   "source": [
    "val_true = pick_ylabels('masterCategory')[:20]"
   ]
  },
  {
   "cell_type": "code",
   "execution_count": 28,
   "metadata": {},
   "outputs": [],
   "source": [
    "X_val = X_val.reshape(-1,80,60,1)[:20]"
   ]
  },
  {
   "cell_type": "code",
   "execution_count": 29,
   "metadata": {},
   "outputs": [],
   "source": [
    "# get the predictions for the test data\n",
    "predicted_classes = model.predict_classes(X_val)\n",
    "\n",
    "# get the indices to be plotted\n",
    "correct = np.nonzero(predicted_classes==val_true)[0]\n",
    "incorrect = np.nonzero(predicted_classes!=val_true)[0]"
   ]
  },
  {
   "cell_type": "code",
   "execution_count": 30,
   "metadata": {},
   "outputs": [
    {
     "data": {
      "text/html": [
       "<div>\n",
       "<style scoped>\n",
       "    .dataframe tbody tr th:only-of-type {\n",
       "        vertical-align: middle;\n",
       "    }\n",
       "\n",
       "    .dataframe tbody tr th {\n",
       "        vertical-align: top;\n",
       "    }\n",
       "\n",
       "    .dataframe thead th {\n",
       "        text-align: right;\n",
       "    }\n",
       "</style>\n",
       "<table border=\"1\" class=\"dataframe\">\n",
       "  <thead>\n",
       "    <tr style=\"text-align: right;\">\n",
       "      <th></th>\n",
       "      <th>id</th>\n",
       "      <th>gender</th>\n",
       "      <th>masterCategory</th>\n",
       "      <th>subCategory</th>\n",
       "      <th>articleType</th>\n",
       "      <th>baseColour</th>\n",
       "      <th>season</th>\n",
       "      <th>year</th>\n",
       "      <th>usage</th>\n",
       "      <th>productDisplayName</th>\n",
       "    </tr>\n",
       "  </thead>\n",
       "  <tbody>\n",
       "    <tr>\n",
       "      <th>9</th>\n",
       "      <td>55315</td>\n",
       "      <td>Men</td>\n",
       "      <td>Apparel</td>\n",
       "      <td>Socks</td>\n",
       "      <td>Socks</td>\n",
       "      <td>White</td>\n",
       "      <td>Summer</td>\n",
       "      <td>2016.0</td>\n",
       "      <td>Casual</td>\n",
       "      <td>Smartoe Men Pack of 3 Socks</td>\n",
       "    </tr>\n",
       "    <tr>\n",
       "      <th>18</th>\n",
       "      <td>43973</td>\n",
       "      <td>Women</td>\n",
       "      <td>Personal Care</td>\n",
       "      <td>Fragrance</td>\n",
       "      <td>Perfume and Body Mist</td>\n",
       "      <td>White</td>\n",
       "      <td>Spring</td>\n",
       "      <td>2017.0</td>\n",
       "      <td>Casual</td>\n",
       "      <td>DKNY Women Fresh Blossom 50 ml Perfume</td>\n",
       "    </tr>\n",
       "  </tbody>\n",
       "</table>\n",
       "</div>"
      ],
      "text/plain": [
       "       id gender masterCategory subCategory            articleType baseColour  \\\n",
       "9   55315    Men        Apparel       Socks                  Socks      White   \n",
       "18  43973  Women  Personal Care   Fragrance  Perfume and Body Mist      White   \n",
       "\n",
       "    season    year   usage                      productDisplayName  \n",
       "9   Summer  2016.0  Casual             Smartoe Men Pack of 3 Socks  \n",
       "18  Spring  2017.0  Casual  DKNY Women Fresh Blossom 50 ml Perfume  "
      ]
     },
     "execution_count": 30,
     "metadata": {},
     "output_type": "execute_result"
    }
   ],
   "source": [
    "df_val.iloc[incorrect, :]"
   ]
  },
  {
   "cell_type": "markdown",
   "metadata": {},
   "source": [
    "### Test on Non-Sample"
   ]
  },
  {
   "cell_type": "code",
   "execution_count": 5,
   "metadata": {},
   "outputs": [],
   "source": [
    "from tensorflow.keras.models import Sequential, load_model\n",
    "model = load_model('../json/cnn-main.h5')"
   ]
  },
  {
   "cell_type": "code",
   "execution_count": 14,
   "metadata": {},
   "outputs": [],
   "source": [
    "# from PIL import Image\n",
    "# from skimage import transform,io, color\n",
    "# from os import listdir\n",
    "# import numpy as np\n",
    "def process_images(directory):\n",
    "    from PIL import Image\n",
    "    from skimage import transform,io, color\n",
    "    from os import listdir\n",
    "    import numpy as np\n",
    "    upload_array = []\n",
    "    pic_list = [f for f in listdir(directory) if f.endswith('.png')]\n",
    "\n",
    "    for pic in pic_list:\n",
    "        fn = r'{}/{}'.format(directory, pic)\n",
    "        img = io.imread(fn)\n",
    "        img = transform.rescale(img, 3.0 / 4.0, anti_aliasing=False)\n",
    "        if img.shape[2]==4:\n",
    "            img = color.rgba2rgb(img)\n",
    "            \n",
    "        img_new = transform.resize(img, (80,60,3))\n",
    "        upload_array.append(img_new.ravel())\n",
    "\n",
    "    all_uploads = np.stack(upload_array)\n",
    "    bw_uploads = all_uploads.reshape(-1, 80, 60, 3).mean(3).reshape(-1, 80*60).astype('float16') \n",
    "#     all_uploads = all_uploads.reshape(-1,80,60,3)\n",
    "#     bw_uploads = bw_uploads.reshape(-1,80,60,1)\n",
    "    return (all_uploads, bw_uploads)"
   ]
  },
  {
   "cell_type": "code",
   "execution_count": 15,
   "metadata": {},
   "outputs": [],
   "source": [
    "def predict_master_cat(upload_array):\n",
    "    predicted_category = model.predict_classes(upload_array)\n",
    "    probability = np.round(model.predict_proba(upload_array),3)\n",
    "    arr = np.zeros([len(predicted_category), 2])\n",
    "    for i in range(len(predicted_category)):\n",
    "        arr[i,:] = [predicted_category[i], probability[i][predicted_category[i]]]\n",
    "    return arr"
   ]
  },
  {
   "cell_type": "code",
   "execution_count": 16,
   "metadata": {
    "scrolled": true
   },
   "outputs": [],
   "source": [
    "__, bw_new = process_images('image_uploads/')"
   ]
  },
  {
   "cell_type": "code",
   "execution_count": 17,
   "metadata": {},
   "outputs": [],
   "source": [
    "bw_new = bw_new.reshape(-1,80,60,1)"
   ]
  },
  {
   "cell_type": "code",
   "execution_count": 18,
   "metadata": {
    "scrolled": true
   },
   "outputs": [],
   "source": [
    "new_predictions = np.round(predict_master_cat(bw_new),3)"
   ]
  },
  {
   "cell_type": "code",
   "execution_count": 19,
   "metadata": {},
   "outputs": [
    {
     "data": {
      "text/plain": [
       "array([[0.   , 0.765],\n",
       "       [0.   , 0.737],\n",
       "       [0.   , 0.744],\n",
       "       [0.   , 0.718],\n",
       "       [0.   , 0.856],\n",
       "       [0.   , 0.743],\n",
       "       [0.   , 0.728],\n",
       "       [0.   , 0.815],\n",
       "       [0.   , 0.824]])"
      ]
     },
     "execution_count": 19,
     "metadata": {},
     "output_type": "execute_result"
    }
   ],
   "source": [
    "new_predictions"
   ]
  },
  {
   "cell_type": "code",
   "execution_count": 20,
   "metadata": {},
   "outputs": [
    {
     "data": {
      "text/plain": [
       "array([[7.6521778e-01, 2.3324341e-01, 2.2964305e-05, 1.5158394e-03],\n",
       "       [7.3654658e-01, 2.6217195e-01, 1.5020367e-05, 1.2664918e-03],\n",
       "       [7.4411660e-01, 2.5441214e-01, 2.1152398e-05, 1.4502029e-03],\n",
       "       [7.1814048e-01, 2.8026146e-01, 2.8245644e-05, 1.5697915e-03],\n",
       "       [8.5559654e-01, 1.4295562e-01, 1.7161905e-05, 1.4306670e-03],\n",
       "       [7.4342293e-01, 2.5529781e-01, 1.4275909e-05, 1.2649909e-03],\n",
       "       [7.2840315e-01, 2.6993889e-01, 2.0614008e-05, 1.6374001e-03],\n",
       "       [8.1490481e-01, 1.8122782e-01, 2.6256208e-05, 3.8412041e-03],\n",
       "       [8.2375598e-01, 1.7400430e-01, 5.0187627e-05, 2.1895212e-03]],\n",
       "      dtype=float32)"
      ]
     },
     "execution_count": 20,
     "metadata": {},
     "output_type": "execute_result"
    }
   ],
   "source": [
    "model.predict_proba(bw_new)"
   ]
  },
  {
   "cell_type": "code",
   "execution_count": null,
   "metadata": {},
   "outputs": [],
   "source": []
  }
 ],
 "metadata": {
  "kernelspec": {
   "display_name": "Python 3",
   "language": "python",
   "name": "python3"
  },
  "language_info": {
   "codemirror_mode": {
    "name": "ipython",
    "version": 3
   },
   "file_extension": ".py",
   "mimetype": "text/x-python",
   "name": "python",
   "nbconvert_exporter": "python",
   "pygments_lexer": "ipython3",
   "version": "3.5.2"
  }
 },
 "nbformat": 4,
 "nbformat_minor": 2
}
